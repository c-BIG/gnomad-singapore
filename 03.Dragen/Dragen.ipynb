{
 "cells": [
  {
   "cell_type": "markdown",
   "id": "ac659ad2-925b-4930-867b-0a9acee34fc3",
   "metadata": {},
   "source": [
    "# Dragen"
   ]
  },
  {
   "cell_type": "code",
   "execution_count": 1,
   "id": "2f186d3d-b099-49fc-87a2-ee6086953995",
   "metadata": {},
   "outputs": [],
   "source": [
    "%load_ext dotenv"
   ]
  },
  {
   "cell_type": "code",
   "execution_count": 2,
   "id": "688df9e0-69fb-4cc1-a1ec-78f826202a1e",
   "metadata": {
    "tags": []
   },
   "outputs": [],
   "source": [
    "%dotenv"
   ]
  },
  {
   "cell_type": "code",
   "execution_count": 3,
   "id": "d8b79d5e-b9db-403f-ae9f-ba9b8a9b7654",
   "metadata": {
    "tags": []
   },
   "outputs": [],
   "source": [
    "import os\n",
    "import pandas as pd\n",
    "import subprocess"
   ]
  },
  {
   "cell_type": "code",
   "execution_count": 4,
   "id": "b31c2a48-f772-4228-a288-d0a2637c2e6b",
   "metadata": {},
   "outputs": [
    {
     "name": "stdout",
     "output_type": "stream",
     "text": [
      "ICA_API_KEY exists\n"
     ]
    }
   ],
   "source": [
    "# Check ICA_API_KEY\n",
    "print(f\"ICA_API_KEY {'exists' if 'ICA_API_KEY' in os.environ else 'missing'}\")"
   ]
  },
  {
   "cell_type": "code",
   "execution_count": 8,
   "id": "1f365d04-1ad5-4905-bfbe-951fe2dc0aef",
   "metadata": {
    "tags": []
   },
   "outputs": [
    {
     "name": "stdout",
     "output_type": "stream",
     "text": [
      "project: sg10k-dragen-reanalysis [bf47eb3e-868e-4f88-97ac-c2a76c3c6ac4]\n"
     ]
    }
   ],
   "source": [
    "# Get project ID\n",
    "project_name = 'sg10k-dragen-reanalysis'\n",
    "project_id = subprocess.check_output(f\"icav2 -k $ICA_API_KEY projects list | grep {project_name} | cut -f 1 \", shell=True, text=True).strip()\n",
    "print(f\"project: {project_name} [{project_id}]\")"
   ]
  },
  {
   "cell_type": "code",
   "execution_count": 9,
   "id": "6fa06dcc-2134-4332-891a-409d9e0ad57c",
   "metadata": {
    "tags": []
   },
   "outputs": [
    {
     "name": "stdout",
     "output_type": "stream",
     "text": [
      "pipeline: GermlineWithQc378_SG100KpipelineV1 [b9b3cdde-1e0e-4079-830d-385770b86b72]\n"
     ]
    }
   ],
   "source": [
    "# Get pipeline ID\n",
    "pipeline_name = 'GermlineWithQc378_SG100KpipelineV1'\n",
    "pipeline_id = subprocess.check_output(f\"icav2 -k $ICA_API_KEY --project-id {project_id} projectpipelines list | grep {pipeline_name} | cut -f 1 \", shell=True, text=True).strip()\n",
    "print(f\"pipeline: {pipeline_name} [{pipeline_id}]\")"
   ]
  },
  {
   "cell_type": "code",
   "execution_count": 10,
   "id": "4521a696-a945-47bf-ae46-2c45d6f1e267",
   "metadata": {
    "tags": []
   },
   "outputs": [
    {
     "name": "stdout",
     "output_type": "stream",
     "text": [
      "output folder: dragen_378_output [fol.d8ba95e57f51475fc06508dcfe056ca7]\n"
     ]
    }
   ],
   "source": [
    "# Get output folder ID\n",
    "output_name = 'dragen_378_output'\n",
    "output_id = subprocess.check_output(f\"icav2 -k $ICA_API_KEY --project-id {project_id} projectdata list --file-name {output_name} | grep {output_name} | cut -f 4 \", shell=True, text=True).strip()\n",
    "print(f\"output folder: {output_name} [{output_id}]\")"
   ]
  },
  {
   "cell_type": "code",
   "execution_count": 11,
   "id": "2effee8c-e4cb-4ffc-acb5-94202ec80b97",
   "metadata": {
    "tags": []
   },
   "outputs": [
    {
     "name": "stdout",
     "output_type": "stream",
     "text": [
      "ref: hg38_full_analysis_set_graph.tar [fil.f9c8f899de7f4c418b4008db2043fa32]\n"
     ]
    }
   ],
   "source": [
    "# Get ref ID\n",
    "ref_name = 'hg38_full_analysis_set_graph.tar'\n",
    "ref_id = subprocess.check_output(f\"icav2 -k $ICA_API_KEY --project-id {project_id} projectdata list --file-name {ref_name} | grep {ref_name} | cut -f 4 \", shell=True, text=True).strip()\n",
    "print(f\"ref: {ref_name} [{ref_id}]\")"
   ]
  },
  {
   "cell_type": "code",
   "execution_count": 12,
   "id": "76dac103-8e95-442a-bc18-a317ac755caa",
   "metadata": {
    "tags": []
   },
   "outputs": [
    {
     "name": "stdout",
     "output_type": "stream",
     "text": [
      "ref: autosomes.bed [fil.9efff4fe5d9b43a9346508db2043fa32]\n"
     ]
    }
   ],
   "source": [
    "# Get autosomes ID\n",
    "autosomes_name = 'autosomes.bed'\n",
    "autosomes_id = subprocess.check_output(f\"icav2 -k $ICA_API_KEY --project-id {project_id} projectdata list --file-name {autosomes_name} | grep {autosomes_name} | cut -f 4 \", shell=True, text=True).strip()\n",
    "print(f\"ref: {autosomes_name} [{autosomes_id}]\")"
   ]
  },
  {
   "cell_type": "code",
   "execution_count": null,
   "id": "cc70f635-0e48-4766-aaf6-0e6ca875d44d",
   "metadata": {},
   "outputs": [],
   "source": [
    "# Test on 1 sample:\n",
    "sample_name = 'WHH430'\n",
    "# Launch analysis\n",
    "print(f'Launching analysis: ')\n",
    "cmd = f\"icav2 -k $ICA_API_KEY projectpipelines start nextflow {pipeline_id} \\\n",
    "--project-id {project_id} \\\n",
    "--storage-size small \\\n",
    "--user-reference {sample_name} \\\n",
    "--user-tag {sample_name} \\\n",
    "--output-parent-folder {output_id} \\\n",
    "--input fastq_list {fastqlistid} \\\n",
    "--input fastqs {fastqids} \\\n",
    "--input ref_tar {ref_id} \\\n",
    "--input autosome_bed {autosomes_id} \\\n",
    "--parameters cyp2d6_enabled true \\\n",
    "--parameters prefix {sample_name}\n",
    "\"\n",
    "print(cmd)\n",
    "# cmd_out = subprocess.check_output(cmd, shell=True, text=True).strip()\n",
    "print(cmd_out)"
   ]
  }
 ],
 "metadata": {
  "kernelspec": {
   "display_name": "Python 3 (ipykernel)",
   "language": "python",
   "name": "python3"
  },
  "language_info": {
   "codemirror_mode": {
    "name": "ipython",
    "version": 3
   },
   "file_extension": ".py",
   "mimetype": "text/x-python",
   "name": "python",
   "nbconvert_exporter": "python",
   "pygments_lexer": "ipython3",
   "version": "3.7.12"
  }
 },
 "nbformat": 4,
 "nbformat_minor": 5
}
