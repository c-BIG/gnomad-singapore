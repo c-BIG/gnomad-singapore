{
 "cells": [
  {
   "cell_type": "markdown",
   "id": "199f480e-71f1-4ccc-b0be-abe96713beff",
   "metadata": {},
   "source": [
    "# Clean-up"
   ]
  },
  {
   "cell_type": "code",
   "execution_count": 1,
   "id": "9a154651-d8fb-47c3-a00a-e8f41e3d4d71",
   "metadata": {},
   "outputs": [],
   "source": [
    "%load_ext dotenv"
   ]
  },
  {
   "cell_type": "code",
   "execution_count": 2,
   "id": "a5be4d17-a11f-4553-bd10-40c6ad974f7f",
   "metadata": {},
   "outputs": [],
   "source": [
    "%dotenv"
   ]
  },
  {
   "cell_type": "code",
   "execution_count": 3,
   "id": "440347b0-ecea-485b-88c2-71b25d55e104",
   "metadata": {},
   "outputs": [],
   "source": [
    "import os\n",
    "import pandas as pd\n",
    "import subprocess\n",
    "import io"
   ]
  },
  {
   "cell_type": "code",
   "execution_count": 4,
   "id": "6110118b-ff1c-4375-ad2e-d402979a07aa",
   "metadata": {},
   "outputs": [
    {
     "name": "stdout",
     "output_type": "stream",
     "text": [
      "ICA_API_KEY exists\n"
     ]
    }
   ],
   "source": [
    "# Check ICA_API_KEY\n",
    "print(f\"ICA_API_KEY {'exists' if 'ICA_API_KEY' in os.environ else 'missing'}\")"
   ]
  },
  {
   "cell_type": "code",
   "execution_count": 5,
   "id": "ccb13825-8145-4b4a-82e8-9a13ce7ac3d9",
   "metadata": {},
   "outputs": [
    {
     "name": "stdout",
     "output_type": "stream",
     "text": [
      "project: sg10k-dragen-reanalysis [bf47eb3e-868e-4f88-97ac-c2a76c3c6ac4]\n"
     ]
    }
   ],
   "source": [
    "# Get project ID\n",
    "project_name = 'sg10k-dragen-reanalysis'\n",
    "project_id = subprocess.check_output(f\"icav2 -k $ICA_API_KEY projects list | grep {project_name} | cut -f 1 \", shell=True, text=True).strip()\n",
    "print(f\"project: {project_name} [{project_id}]\")"
   ]
  },
  {
   "cell_type": "markdown",
   "id": "199408c1-796c-4ea9-888e-7fbb5cb7938c",
   "metadata": {},
   "source": [
    "## Copy the DRAGEN outputs into archives"
   ]
  },
  {
   "cell_type": "code",
   "execution_count": 6,
   "id": "c092e87f-7f37-4620-b073-7f4f20bf7540",
   "metadata": {},
   "outputs": [
    {
     "name": "stdout",
     "output_type": "stream",
     "text": [
      "n=1,543\n",
      "Index(['ID', 'NAME', 'STATUS', 'DESCRIPTION', 'USER TAGS', 'TECHNICAL TAGS'], dtype='object')\n"
     ]
    }
   ],
   "source": [
    "# List ICA sample objects\n",
    "# os.system(f\"icav2 -k $ICA_API_KEY --project-id {project_id} projectsamples list > projectsamples-list.txt\")\n",
    "# Read projectsamples-list\n",
    "cols = ['ID', 'NAME', 'STATUS', 'DESCRIPTION', 'USER TAGS', 'TECHNICAL TAGS']\n",
    "df_sample = pd.read_csv('projectsamples-list.txt', sep='\\t', header=0, index_col=False, engine='python', skipfooter=1,\n",
    "                 names=cols, converters={col: str.strip for col in cols}\n",
    "                )\n",
    "# Drop NPM1NA# \n",
    "df_sample = df_sample.drop(0)\n",
    "\n",
    "print(f'n={len(df_sample):,}')\n",
    "print(df_sample.columns)\n",
    "# df_sample"
   ]
  },
  {
   "cell_type": "code",
   "execution_count": 11,
   "id": "39e5e297-3fb7-4ca8-9034-25399d994279",
   "metadata": {},
   "outputs": [
    {
     "name": "stdout",
     "output_type": "stream",
     "text": [
      "done\n"
     ]
    }
   ],
   "source": [
    "# For each sample\n",
    "for i, row in df_sample.iterrows():\n",
    "    # Get sample name & sample ID\n",
    "    sample_name = row['NAME']\n",
    "    # sample_id = row['ID']\n",
    "\n",
    "    # List DRAGEN gVCF\n",
    "    file = 'hard-filtered.gvcf.gz'\n",
    "    os.system(f\"icav2 -k $ICA_API_KEY --project-id {project_id} projectdata list --file-name {sample_name}.{file} | grep {sample_name} >> {file}-list.txt\")\n",
    "    \n",
    "print('done')"
   ]
  },
  {
   "cell_type": "code",
   "execution_count": 17,
   "id": "e4b841f9-5044-4aef-b17e-e5fcba25e2ff",
   "metadata": {},
   "outputs": [
    {
     "name": "stdout",
     "output_type": "stream",
     "text": [
      "n=1,542\n",
      "Index(['NAME', 'TYPE', 'STATUS', 'ID', 'PROJECT_NAME', 'PROJECT_ID', 'PATH'], dtype='object')\n"
     ]
    }
   ],
   "source": [
    "# Read vcf list\n",
    "cols = ['NAME', 'TYPE', 'STATUS', 'ID', 'PROJECT_NAME', 'PROJECT_ID', 'PATH']\n",
    "df_vcf = pd.read_csv('hard-filtered.gvcf.gz-list.txt', sep='\\t', header=None, index_col=False, engine='python',\n",
    "                 names=cols, converters={col: str.strip for col in cols}\n",
    "                )\n",
    "\n",
    "print(f'n={len(df_vcf):,}')\n",
    "print(df_vcf.columns)\n",
    "# df_vcf"
   ]
  },
  {
   "cell_type": "code",
   "execution_count": 18,
   "id": "15f17894-00c0-4417-bdf6-3101b7183510",
   "metadata": {},
   "outputs": [
    {
     "data": {
      "text/html": [
       "<div>\n",
       "<style scoped>\n",
       "    .dataframe tbody tr th:only-of-type {\n",
       "        vertical-align: middle;\n",
       "    }\n",
       "\n",
       "    .dataframe tbody tr th {\n",
       "        vertical-align: top;\n",
       "    }\n",
       "\n",
       "    .dataframe thead th {\n",
       "        text-align: right;\n",
       "    }\n",
       "</style>\n",
       "<table border=\"1\" class=\"dataframe\">\n",
       "  <thead>\n",
       "    <tr style=\"text-align: right;\">\n",
       "      <th></th>\n",
       "      <th>NAME</th>\n",
       "      <th>TYPE</th>\n",
       "      <th>STATUS</th>\n",
       "      <th>ID</th>\n",
       "      <th>PROJECT_NAME</th>\n",
       "      <th>PROJECT_ID</th>\n",
       "      <th>PATH</th>\n",
       "    </tr>\n",
       "  </thead>\n",
       "  <tbody>\n",
       "  </tbody>\n",
       "</table>\n",
       "</div>"
      ],
      "text/plain": [
       "Empty DataFrame\n",
       "Columns: [NAME, TYPE, STATUS, ID, PROJECT_NAME, PROJECT_ID, PATH]\n",
       "Index: []"
      ]
     },
     "execution_count": 18,
     "metadata": {},
     "output_type": "execute_result"
    }
   ],
   "source": [
    "# Check for duplicates\n",
    "df_vcf[df_vcf['NAME'].isin(df_vcf['NAME'][df_vcf['NAME'].duplicated()])]"
   ]
  },
  {
   "cell_type": "code",
   "execution_count": 19,
   "id": "f10bb91b-285d-406b-858d-3619f4d5f98a",
   "metadata": {},
   "outputs": [],
   "source": [
    "# Define the S3 prefix\n",
    "source_prefix = \"s3://precise-ica-storage/byob/sg10k-dragen-reanalysis\"\n",
    "target_prefix = \"s3://precise-wgs-databundle/byob/sg10k-wgs-dragen\"\n",
    "\n",
    "# Extract sample ID\n",
    "df_vcf['SAMPLE_ID'] = df_vcf['PATH'].str.extract(r'/dragen_378_output/(.*?)-[a-f0-9\\-]+/output/')\n",
    "df_vcf['UUID'] = df_vcf['PATH'].str.extract(r'/dragen_378_output/.*?-(.*?)/output/')\n",
    "\n",
    "# Reconstruct source path\n",
    "df_vcf['SOURCE_PATH'] = source_prefix + df_vcf['PATH'].str.extract(r'(/dragen_378_output/.+/output/dragen-germline/output/)')\n",
    "# Reconstruct target path\n",
    "df_vcf['TARGET_PATH'] = target_prefix + '/' + df_vcf['SAMPLE_ID'] + '/' + df_vcf['UUID'] + '/output/'\n"
   ]
  },
  {
   "cell_type": "code",
   "execution_count": 22,
   "id": "3f4a575c-6824-41a0-94b2-0ea3e4925690",
   "metadata": {},
   "outputs": [
    {
     "name": "stdout",
     "output_type": "stream",
     "text": [
      "aws s3 sync s3://precise-ica-storage/byob/sg10k-dragen-reanalysis/dragen_378_output/WHH430-ad8eb831-23cb-4ce9-87b3-a333680c4b60/output/dragen-germline/output/ s3://precise-wgs-databundle/byob/sg10k-wgs-dragen/WHH430/ad8eb831-23cb-4ce9-87b3-a333680c4b60/output/ --dryrun\n"
     ]
    }
   ],
   "source": [
    "# For each sample\n",
    "for i, row in df_vcf.iterrows():\n",
    "    # Copy Data bundle\n",
    "    exit = os.system(f\"aws s3 sync {row['SOURCE_PATH']} {row['TARGET_PATH']} --storage-class DEEP_ARCHIVE\")\n",
    "    \n",
    "    log = f\"[{i}] {row['SAMPLE_ID']} done [{exit}]\"\n",
    "    os.system(f\"echo {log} >> databundle_copy.log\")\n",
    "    print(log)"
   ]
  },
  {
   "cell_type": "code",
   "execution_count": null,
   "id": "9b1d2f55-39ae-4ac2-b313-ad0cb290274c",
   "metadata": {},
   "outputs": [],
   "source": []
  }
 ],
 "metadata": {
  "kernelspec": {
   "display_name": "Python 3 (ipykernel)",
   "language": "python",
   "name": "python3"
  },
  "language_info": {
   "codemirror_mode": {
    "name": "ipython",
    "version": 3
   },
   "file_extension": ".py",
   "mimetype": "text/x-python",
   "name": "python",
   "nbconvert_exporter": "python",
   "pygments_lexer": "ipython3",
   "version": "3.9.16"
  }
 },
 "nbformat": 4,
 "nbformat_minor": 5
}
