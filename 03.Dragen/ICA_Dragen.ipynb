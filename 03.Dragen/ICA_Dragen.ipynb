{
 "cells": [
  {
   "cell_type": "markdown",
   "id": "ac659ad2-925b-4930-867b-0a9acee34fc3",
   "metadata": {},
   "source": [
    "# Dragen"
   ]
  },
  {
   "cell_type": "code",
   "execution_count": 1,
   "id": "2f186d3d-b099-49fc-87a2-ee6086953995",
   "metadata": {},
   "outputs": [],
   "source": [
    "%load_ext dotenv"
   ]
  },
  {
   "cell_type": "code",
   "execution_count": 2,
   "id": "688df9e0-69fb-4cc1-a1ec-78f826202a1e",
   "metadata": {
    "tags": []
   },
   "outputs": [],
   "source": [
    "%dotenv"
   ]
  },
  {
   "cell_type": "code",
   "execution_count": 3,
   "id": "d8b79d5e-b9db-403f-ae9f-ba9b8a9b7654",
   "metadata": {
    "tags": []
   },
   "outputs": [],
   "source": [
    "import os\n",
    "import pandas as pd\n",
    "import subprocess\n",
    "import io"
   ]
  },
  {
   "cell_type": "markdown",
   "id": "6da17582-aafc-41e5-ae53-4750ea175f56",
   "metadata": {},
   "source": [
    "## Import global parameters"
   ]
  },
  {
   "cell_type": "code",
   "execution_count": 4,
   "id": "b31c2a48-f772-4228-a288-d0a2637c2e6b",
   "metadata": {},
   "outputs": [
    {
     "name": "stdout",
     "output_type": "stream",
     "text": [
      "ICA_API_KEY exists\n"
     ]
    }
   ],
   "source": [
    "# Check ICA_API_KEY\n",
    "print(f\"ICA_API_KEY {'exists' if 'ICA_API_KEY' in os.environ else 'missing'}\")"
   ]
  },
  {
   "cell_type": "code",
   "execution_count": 5,
   "id": "1f365d04-1ad5-4905-bfbe-951fe2dc0aef",
   "metadata": {
    "tags": []
   },
   "outputs": [
    {
     "name": "stdout",
     "output_type": "stream",
     "text": [
      "project: sg10k-dragen-reanalysis [bf47eb3e-868e-4f88-97ac-c2a76c3c6ac4]\n"
     ]
    }
   ],
   "source": [
    "# Get project ID\n",
    "project_name = 'sg10k-dragen-reanalysis'\n",
    "project_id = subprocess.check_output(f\"icav2 -k $ICA_API_KEY projects list | grep {project_name} | cut -f 1 \", shell=True, text=True).strip()\n",
    "print(f\"project: {project_name} [{project_id}]\")"
   ]
  },
  {
   "cell_type": "code",
   "execution_count": 6,
   "id": "6fa06dcc-2134-4332-891a-409d9e0ad57c",
   "metadata": {
    "tags": []
   },
   "outputs": [
    {
     "name": "stdout",
     "output_type": "stream",
     "text": [
      "pipeline: GermlineWithQc378_SG100KpipelineV1 [b9b3cdde-1e0e-4079-830d-385770b86b72]\n"
     ]
    }
   ],
   "source": [
    "# Get pipeline ID\n",
    "pipeline_name = 'GermlineWithQc378_SG100KpipelineV1'\n",
    "pipeline_id = subprocess.check_output(f\"icav2 -k $ICA_API_KEY --project-id {project_id} projectpipelines list | grep {pipeline_name} | cut -f 1 \", shell=True, text=True).strip()\n",
    "print(f\"pipeline: {pipeline_name} [{pipeline_id}]\")"
   ]
  },
  {
   "cell_type": "code",
   "execution_count": 7,
   "id": "727685a5-9150-4b42-9839-ebe42b9e951e",
   "metadata": {
    "tags": []
   },
   "outputs": [
    {
     "name": "stdout",
     "output_type": "stream",
     "text": [
      "\u001b[1mID      \u001b[0m \t\u001b[1mCODES       \u001b[0m \t\u001b[1mREQUIRED\u001b[0m \t\u001b[1mMULTI VALUE\u001b[0m  \n",
      "32583051\tautosome_bed\ttrue    \tfalse      \t\n",
      "32583048\tcram        \tfalse   \tfalse      \t\n",
      "32583047\tfastq_list  \tfalse   \tfalse      \t\n",
      "32583049\tfastqs      \tfalse   \ttrue       \t\n",
      "32583050\tref_tar     \ttrue    \tfalse      \t\n",
      "No of items :  5\n"
     ]
    }
   ],
   "source": [
    "# Get pipeline parameters\n",
    "pipeline_name = 'GermlineWithQc378_SG100KpipelineV1'\n",
    "params = subprocess.check_output(f\"icav2 -k $ICA_API_KEY --project-id {project_id} projectpipelines input {pipeline_id}\", shell=True, text=True).strip()\n",
    "print(params)"
   ]
  },
  {
   "cell_type": "code",
   "execution_count": 8,
   "id": "4521a696-a945-47bf-ae46-2c45d6f1e267",
   "metadata": {
    "tags": []
   },
   "outputs": [
    {
     "name": "stdout",
     "output_type": "stream",
     "text": [
      "output folder: dragen_378_output [fol.d8ba95e57f51475fc06508dcfe056ca7]\n"
     ]
    }
   ],
   "source": [
    "# Get output folder ID\n",
    "output_name = 'dragen_378_output'\n",
    "output_id = subprocess.check_output(f\"icav2 -k $ICA_API_KEY --project-id {project_id} projectdata list --file-name {output_name} | grep {output_name} | cut -f 4 \", shell=True, text=True).strip()\n",
    "print(f\"output folder: {output_name} [{output_id}]\")"
   ]
  },
  {
   "cell_type": "code",
   "execution_count": 9,
   "id": "2effee8c-e4cb-4ffc-acb5-94202ec80b97",
   "metadata": {
    "tags": []
   },
   "outputs": [
    {
     "name": "stdout",
     "output_type": "stream",
     "text": [
      "ref: hg38_full_analysis_set_graph.tar [fil.f9c8f899de7f4c418b4008db2043fa32]\n"
     ]
    }
   ],
   "source": [
    "# Get ref ID\n",
    "ref_name = 'hg38_full_analysis_set_graph.tar'\n",
    "ref_id = subprocess.check_output(f\"icav2 -k $ICA_API_KEY --project-id {project_id} projectdata list --file-name {ref_name} | grep {ref_name} | cut -f 4 \", shell=True, text=True).strip()\n",
    "print(f\"ref: {ref_name} [{ref_id}]\")"
   ]
  },
  {
   "cell_type": "code",
   "execution_count": 10,
   "id": "76dac103-8e95-442a-bc18-a317ac755caa",
   "metadata": {
    "tags": []
   },
   "outputs": [
    {
     "name": "stdout",
     "output_type": "stream",
     "text": [
      "ref: autosomes.bed [fil.9efff4fe5d9b43a9346508db2043fa32]\n"
     ]
    }
   ],
   "source": [
    "# Get autosomes ID\n",
    "autosomes_name = 'autosomes.bed'\n",
    "autosomes_id = subprocess.check_output(f\"icav2 -k $ICA_API_KEY --project-id {project_id} projectdata list --file-name {autosomes_name} | grep {autosomes_name} | cut -f 4 \", shell=True, text=True).strip()\n",
    "print(f\"ref: {autosomes_name} [{autosomes_id}]\")"
   ]
  },
  {
   "cell_type": "code",
   "execution_count": null,
   "id": "65299695-4d79-4666-8b60-eef19454349f",
   "metadata": {},
   "outputs": [],
   "source": [
    "# List ICA sample objects\n",
    "# Save the sample list in a txt file\n",
    "# One time sample list will be user to loop over all the available samples\n",
    "###\n",
    "# os.system(f\"icav2 -k $ICA_API_KEY --project-id {project_id} projectsamples list > projectsamples-list.txt\")\n",
    "# # Read projectsamples-list\n",
    "# cols = ['ID', 'NAME', 'STATUS', 'DESCRIPTION', 'USER TAGS', 'TECHNICAL TAGS']\n",
    "# df_sample = pd.read_csv('projectsamples-list.txt', sep='\\t', header=0, index_col=False, engine='python', skipfooter=1,\n",
    "#                  names=cols, converters={col: str.strip for col in cols}\n",
    "#                 )\n",
    "# print(f'n={len(df_sample):,}')\n",
    "# print(df_sample.columns)"
   ]
  },
  {
   "cell_type": "markdown",
   "id": "84971aa8-dd3a-4964-afb4-27a1cca55740",
   "metadata": {},
   "source": [
    "## Single sample"
   ]
  },
  {
   "cell_type": "code",
   "execution_count": 67,
   "id": "f04bb29d-f6ac-4a9f-8af6-b8e7d5b215de",
   "metadata": {
    "tags": []
   },
   "outputs": [],
   "source": [
    "# Set sample name & ID\n",
    "sample_name = 'WHH430'\n",
    "sample_id = '59d306d4-fee1-4d3e-8f78-f2e8f3a13b16'\n",
    "# This info will be extracted form projectsamples-list"
   ]
  },
  {
   "cell_type": "code",
   "execution_count": 72,
   "id": "3f5e9f18-94e3-4297-9acc-37778637b28a",
   "metadata": {
    "tags": []
   },
   "outputs": [
    {
     "data": {
      "text/html": [
       "<div>\n",
       "<style scoped>\n",
       "    .dataframe tbody tr th:only-of-type {\n",
       "        vertical-align: middle;\n",
       "    }\n",
       "\n",
       "    .dataframe tbody tr th {\n",
       "        vertical-align: top;\n",
       "    }\n",
       "\n",
       "    .dataframe thead th {\n",
       "        text-align: right;\n",
       "    }\n",
       "</style>\n",
       "<table border=\"1\" class=\"dataframe\">\n",
       "  <thead>\n",
       "    <tr style=\"text-align: right;\">\n",
       "      <th></th>\n",
       "      <th>NAME</th>\n",
       "      <th>TYPE</th>\n",
       "      <th>STATUS</th>\n",
       "      <th>ID</th>\n",
       "      <th>PROJECT_NAME</th>\n",
       "      <th>PROJECT_ID</th>\n",
       "      <th>PATH</th>\n",
       "    </tr>\n",
       "  </thead>\n",
       "  <tbody>\n",
       "    <tr>\n",
       "      <th>1</th>\n",
       "      <td>WHH430_R1.fastq.gz</td>\n",
       "      <td>FILE</td>\n",
       "      <td>AVAILABLE</td>\n",
       "      <td>fil.41ed7fd6b4774feca46508dd0879ac94</td>\n",
       "      <td>sg10k-dragen-reanalysis</td>\n",
       "      <td>bf47eb3e-868e-4f88-97ac-c2a76c3c6ac4</td>\n",
       "      <td>/fastq_output/WHH430-96d4b6f2-6f82-4723-8144-d...</td>\n",
       "    </tr>\n",
       "    <tr>\n",
       "      <th>0</th>\n",
       "      <td>WHH430_R2.fastq.gz</td>\n",
       "      <td>FILE</td>\n",
       "      <td>AVAILABLE</td>\n",
       "      <td>fil.6881278d2cbd4c59a46b08dd0879ac94</td>\n",
       "      <td>sg10k-dragen-reanalysis</td>\n",
       "      <td>bf47eb3e-868e-4f88-97ac-c2a76c3c6ac4</td>\n",
       "      <td>/fastq_output/WHH430-96d4b6f2-6f82-4723-8144-d...</td>\n",
       "    </tr>\n",
       "  </tbody>\n",
       "</table>\n",
       "</div>"
      ],
      "text/plain": [
       "                 NAME  TYPE     STATUS                                    ID  \\\n",
       "1  WHH430_R1.fastq.gz  FILE  AVAILABLE  fil.41ed7fd6b4774feca46508dd0879ac94   \n",
       "0  WHH430_R2.fastq.gz  FILE  AVAILABLE  fil.6881278d2cbd4c59a46b08dd0879ac94   \n",
       "\n",
       "              PROJECT_NAME                            PROJECT_ID  \\\n",
       "1  sg10k-dragen-reanalysis  bf47eb3e-868e-4f88-97ac-c2a76c3c6ac4   \n",
       "0  sg10k-dragen-reanalysis  bf47eb3e-868e-4f88-97ac-c2a76c3c6ac4   \n",
       "\n",
       "                                                PATH  \n",
       "1  /fastq_output/WHH430-96d4b6f2-6f82-4723-8144-d...  \n",
       "0  /fastq_output/WHH430-96d4b6f2-6f82-4723-8144-d...  "
      ]
     },
     "execution_count": 72,
     "metadata": {},
     "output_type": "execute_result"
    }
   ],
   "source": [
    "# List fastq files linked to the sample\n",
    "fastqs = subprocess.check_output(f\"icav2 -k $ICA_API_KEY --project-id {project_id} projectsamples listdata {sample_id} --file-name fastq.gz --match-mode FUZZY | grep '/fastq_output/' \", shell=True, text=True).strip()\n",
    "# parse list\n",
    "cols = ['NAME', 'TYPE', 'STATUS', 'ID', 'PROJECT_NAME', 'PROJECT_ID', 'PATH']\n",
    "df_fq = pd.read_csv(io.StringIO(fastqs), sep='\\t', index_col=False, engine='python', names=cols, converters={col: str.strip for col in cols})\n",
    "# header=0, skipfooter=1\n",
    "# Sort R1, R2\n",
    "df_fq.sort_values(by='NAME', inplace=True)\n",
    "\n",
    "df_fq"
   ]
  },
  {
   "cell_type": "code",
   "execution_count": 73,
   "id": "da7ec5b7-9147-4c8f-833d-543514a0092d",
   "metadata": {},
   "outputs": [
    {
     "name": "stdout",
     "output_type": "stream",
     "text": [
      "Sample WHH430 - input fastq_ids fil.41ed7fd6b4774feca46508dd0879ac94,fil.6881278d2cbd4c59a46b08dd0879ac94\n"
     ]
    }
   ],
   "source": [
    "# Get fastq IDs\n",
    "fastq_ids = \",\".join(df_fq[\"ID\"])  # Reverse the order\n",
    "print(f\"Sample {sample_name} - input fastq_ids {fastq_ids}\")"
   ]
  },
  {
   "cell_type": "code",
   "execution_count": 74,
   "id": "d039f634-4637-43ef-8ce2-a2cc091dea07",
   "metadata": {},
   "outputs": [
    {
     "name": "stdout",
     "output_type": "stream",
     "text": [
      "\n",
      "RGID,RGSM,RGLB,Lane,Read1File,Read2File\n",
      "WHH430_FC1,WHH430,WHH430_LB1,1,WHH430_R1.fastq.gz,WHH430_R2.fastq.gz\n",
      "\n",
      "[Manifest saved to 03.Dragen/fastq_lists/WHH430_fastq_list.csv]\n"
     ]
    }
   ],
   "source": [
    "# Create FASTQ list file\n",
    "###\n",
    "# Create manifest\n",
    "manifest = f\"\"\"\n",
    "RGID,RGSM,RGLB,Lane,Read1File,Read2File\n",
    "{sample_name}_FC1,{sample_name},{sample_name}_LB1,1,{','.join(df_fq['NAME'])}\n",
    "\"\"\"\n",
    "\n",
    "print(manifest)\n",
    "\n",
    "# Save manifest into a CSV file\n",
    "###\n",
    "# Required to create folder fastq_lists before runin the cell\n",
    "###\n",
    "manifest_path = f\"03.Dragen/fastq_lists/{sample_name}_fastq_list.csv\"\n",
    "with open(manifest_path, \"w\") as f:\n",
    "    f.write(manifest.strip())\n",
    "print(f\"[Manifest saved to {manifest_path}]\")"
   ]
  },
  {
   "cell_type": "code",
   "execution_count": 75,
   "id": "9c8a8743-e6d1-4fcf-baad-ae1d944aa97b",
   "metadata": {
    "tags": []
   },
   "outputs": [
    {
     "name": "stdout",
     "output_type": "stream",
     "text": [
      "fastq list: WHH430_fastq_list.csv [fil.594ecbd863b34cfac12908dcfe056ca7] - linked [0]\n"
     ]
    }
   ],
   "source": [
    "# Upload FASTQ list file into ICA\n",
    "upload = subprocess.check_output(f\"icav2 -k $ICA_API_KEY --project-id {project_id} projectdata upload {manifest_path} /fastq_list/\", shell=True, text=True).strip()\n",
    "# Get file id\n",
    "fastq_list_id = subprocess.check_output(f\"icav2 -k $ICA_API_KEY --project-id {project_id} projectdata list --file-name {sample_name}_fastq_list.csv | grep fastq_list.csv | cut -f 4\", shell=True, text=True).strip()\n",
    "# Link fastq list to the sample\n",
    "link = os.system(f\"icav2 -k $ICA_API_KEY --project-id {project_id} projectsamples link {sample_id} --data-id {fastq_list_id}\")\n",
    "\n",
    "print(f\"fastq list: {sample_name}_fastq_list.csv [{fastq_list_id}] - linked [{link}]\")"
   ]
  },
  {
   "cell_type": "code",
   "execution_count": 76,
   "id": "cc70f635-0e48-4766-aaf6-0e6ca875d44d",
   "metadata": {},
   "outputs": [
    {
     "name": "stdout",
     "output_type": "stream",
     "text": [
      "Launching analysis: \n",
      "icav2 -k $ICA_API_KEY projectpipelines start nextflow b9b3cdde-1e0e-4079-830d-385770b86b72 --project-id bf47eb3e-868e-4f88-97ac-c2a76c3c6ac4 --storage-size small --user-reference WHH430 --user-tag WHH430 --output-parent-folder fol.d8ba95e57f51475fc06508dcfe056ca7 --input fastq_list:fil.594ecbd863b34cfac12908dcfe056ca7 --input fastqs:fil.41ed7fd6b4774feca46508dd0879ac94,fil.6881278d2cbd4c59a46b08dd0879ac94 --input ref_tar:fil.f9c8f899de7f4c418b4008db2043fa32 --input autosome_bed:fil.9efff4fe5d9b43a9346508db2043fa32 --parameters cyp2d6_enabled:true --parameters prefix:WHH430 \n",
      "sample WHH430 launched\n"
     ]
    }
   ],
   "source": [
    "# Launch analysis\n",
    "print(f'Launching analysis: ')\n",
    "cmd = f\"icav2 -k $ICA_API_KEY projectpipelines start nextflow {pipeline_id} \\\n",
    "--project-id {project_id} \\\n",
    "--storage-size small \\\n",
    "--user-reference {sample_name} \\\n",
    "--user-tag {sample_name} \\\n",
    "--output-parent-folder {output_id} \\\n",
    "--input fastq_list:{fastq_list_id} \\\n",
    "--input fastqs:{fastq_ids} \\\n",
    "--input ref_tar:{ref_id} \\\n",
    "--input autosome_bed:{autosomes_id} \\\n",
    "--parameters cyp2d6_enabled:true \\\n",
    "--parameters prefix:{sample_name} \\\n",
    "\"\n",
    "print(cmd)\n",
    "cmd_out = subprocess.check_output(cmd, shell=True, text=True).strip()\n",
    "# print(cmd_out)\n",
    "print(f\"sample {sample_name} launched\")"
   ]
  },
  {
   "cell_type": "markdown",
   "id": "23ec397f-ba8f-40c8-a3e9-975988f88391",
   "metadata": {},
   "source": [
    "## Batch of samples"
   ]
  },
  {
   "cell_type": "code",
   "execution_count": null,
   "id": "581b1aed-d836-4fab-89e9-4d0057f7a982",
   "metadata": {
    "tags": []
   },
   "outputs": [],
   "source": [
    "# List ICA sample objects\n",
    "# os.system(f\"icav2 -k $ICA_API_KEY --project-id {project_id} projectsamples list > projectsamples-list.txt\")\n",
    "# Read projectsamples-list\n",
    "cols = ['ID', 'NAME', 'STATUS', 'DESCRIPTION', 'USER TAGS', 'TECHNICAL TAGS']\n",
    "df_sample = pd.read_csv('projectsamples-list.txt', sep='\\t', header=0, index_col=False, engine='python', skipfooter=1,\n",
    "                 names=cols, converters={col: str.strip for col in cols}\n",
    "                )\n",
    "# Drop NPM1NA# \n",
    "df_sample = df_sample.drop(0)\n",
    "print(f'n={len(df_sample):,}')\n",
    "print(df_sample.columns)\n",
    "df_sample"
   ]
  },
  {
   "cell_type": "code",
   "execution_count": null,
   "id": "94eebd06-dc85-4b4c-85dc-a4725c46c37d",
   "metadata": {},
   "outputs": [],
   "source": [
    "# df_sample.iloc[0]: # launched using single sample\n",
    "# df_sample.iloc[1:5]: # done\n",
    "# df_sample.iloc[5:200]:\n",
    "\n",
    "# WHB7277 CYP2D6 error"
   ]
  },
  {
   "cell_type": "code",
   "execution_count": null,
   "id": "42791ce1-a3d8-41ad-9990-c56efe9c489d",
   "metadata": {
    "tags": []
   },
   "outputs": [],
   "source": [
    "# For each sample\n",
    "for i, row in df_sample.iloc[5:200].iterrows():\n",
    "    # Get sample name & sample ID\n",
    "    sample_name = row['NAME']\n",
    "    sample_id = row['ID']\n",
    "    \n",
    "    # List fastq files linked to the sample\n",
    "    fastqs = subprocess.check_output(f\"icav2 -k $ICA_API_KEY --project-id {project_id} projectsamples listdata {sample_id} --file-name fastq.gz --match-mode FUZZY | grep '/fastq_output/' \", shell=True, text=True).strip()\n",
    "    # parse list\n",
    "    cols = ['NAME', 'TYPE', 'STATUS', 'ID', 'PROJECT_NAME', 'PROJECT_ID', 'PATH']\n",
    "    df_fq = pd.read_csv(io.StringIO(fastqs), sep='\\t', index_col=False, engine='python', names=cols, converters={col: str.strip for col in cols})\n",
    "    # Sort R1, R2\n",
    "    df_fq.sort_values(by='NAME', inplace=True)\n",
    "    # Get fastq IDs\n",
    "    fastq_ids = \",\".join(df_fq[\"ID\"])  # Reverse the order\n",
    "    # print(f\"Sample {sample_name} - input fastq_ids {fastq_ids}\")\n",
    "    \n",
    "    # Create FASTQ list file\n",
    "    manifest = f\"\"\"\n",
    "RGID,RGSM,RGLB,Lane,Read1File,Read2File\n",
    "{sample_name}_FC1,{sample_name},{sample_name}_LB1,1,{','.join(df_fq['NAME'])}\n",
    "\"\"\"\n",
    "    # Save manifest into a CSV file\n",
    "    manifest_path = f\"03.Dragen/fastq_lists/{sample_name}_fastq_list.csv\"\n",
    "    with open(manifest_path, \"w\") as f:\n",
    "        f.write(manifest.strip())\n",
    "    # print(f\"[Manifest saved to {manifest_path}]\")\n",
    "    \n",
    "    # Upload FASTQ list file into ICA\n",
    "    upload = subprocess.check_output(f\"icav2 -k $ICA_API_KEY --project-id {project_id} projectdata upload {manifest_path} /fastq_list/\", shell=True, text=True).strip()\n",
    "    # Get file id\n",
    "    fastq_list_id = subprocess.check_output(f\"icav2 -k $ICA_API_KEY --project-id {project_id} projectdata list --file-name {sample_name}_fastq_list.csv | grep fastq_list.csv | cut -f 4\", shell=True, text=True).strip()\n",
    "    # Link fastq list to the sample\n",
    "    link = os.system(f\"icav2 -k $ICA_API_KEY --project-id {project_id} projectsamples link {sample_id} --data-id {fastq_list_id}\")\n",
    "    # print(f\"fastq list: {sample_name}_fastq_list.csv [{fastq_list_id}] - linked [{link}]\")\n",
    "\n",
    "    # Set ICA command\n",
    "    cmd = f\"icav2 -k $ICA_API_KEY projectpipelines start nextflow {pipeline_id} \\\n",
    "    --project-id {project_id} \\\n",
    "    --storage-size small \\\n",
    "    --user-reference {sample_name} \\\n",
    "    --user-tag {sample_name} \\\n",
    "    --output-parent-folder {output_id} \\\n",
    "    --input fastq_list:{fastq_list_id} \\\n",
    "    --input fastqs:{fastq_ids} \\\n",
    "    --input ref_tar:{ref_id} \\\n",
    "    --input autosome_bed:{autosomes_id} \\\n",
    "    --parameters cyp2d6_enabled:true \\\n",
    "    --parameters prefix:{sample_name} \\\n",
    "    >> ica.log\"\n",
    "    # Launch analysis\n",
    "    exit = os.system(cmd)\n",
    "    # Log string\n",
    "    log = f\"[{i}] {sample_name} :{exit}: {cmd}\"\n",
    "    os.system(f\"echo {log} >> cram_to_fastq.log\")\n",
    "    print(log)"
   ]
  },
  {
   "cell_type": "markdown",
   "id": "5a6c0f34-8927-4eaf-a58e-2a38d39f92b1",
   "metadata": {},
   "source": [
    "## CYP2D6 disabled"
   ]
  },
  {
   "cell_type": "code",
   "execution_count": 12,
   "id": "1592c6bf-d503-42d5-8885-011c3d1fe439",
   "metadata": {
    "tags": []
   },
   "outputs": [
    {
     "name": "stdout",
     "output_type": "stream",
     "text": [
      "WHH461 :0: icav2 -k $ICA_API_KEY projectpipelines start nextflow b9b3cdde-1e0e-4079-830d-385770b86b72 --project-id bf47eb3e-868e-4f88-97ac-c2a76c3c6ac4 --storage-size small --user-reference WHH461 --user-tag WHH461 --output-parent-folder fol.d8ba95e57f51475fc06508dcfe056ca7 --input fastq_list:fil.2696a9e0b86c4ca61a3408dd0d1862d1 --input fastqs:fil.d696135cd1c24dd25d5308dcfe048f15,fil.e0438a43437f40b15d6b08dcfe048f15 --input ref_tar:fil.f9c8f899de7f4c418b4008db2043fa32 --input autosome_bed:fil.9efff4fe5d9b43a9346508db2043fa32 --parameters cyp2d6_enabled:false --parameters prefix:WHH461 >> ica.log\n"
     ]
    }
   ],
   "source": [
    "# Set sample name & sample ID\n",
    "sample_name = 'WHH461'\n",
    "sample_id = 'b552191f-2eef-489b-9b4e-f62ac230a84f'\n",
    "    \n",
    "# List fastq files linked to the sample\n",
    "fastqs = subprocess.check_output(f\"icav2 -k $ICA_API_KEY --project-id {project_id} projectsamples listdata {sample_id} --file-name fastq.gz --match-mode FUZZY | grep '/fastq_output/' \", shell=True, text=True).strip()\n",
    "# parse list\n",
    "cols = ['NAME', 'TYPE', 'STATUS', 'ID', 'PROJECT_NAME', 'PROJECT_ID', 'PATH']\n",
    "df_fq = pd.read_csv(io.StringIO(fastqs), sep='\\t', index_col=False, engine='python', names=cols, converters={col: str.strip for col in cols})\n",
    "# Sort R1, R2\n",
    "df_fq.sort_values(by='NAME', inplace=True)\n",
    "# Get fastq IDs\n",
    "fastq_ids = \",\".join(df_fq[\"ID\"])  # Reverse the order\n",
    "# print(f\"Sample {sample_name} - input fastq_ids {fastq_ids}\")\n",
    "    \n",
    "# Create FASTQ list file\n",
    "manifest = f\"\"\"\n",
    "RGID,RGSM,RGLB,Lane,Read1File,Read2File\n",
    "{sample_name}_FC1,{sample_name},{sample_name}_LB1,1,{','.join(df_fq['NAME'])}\n",
    "\"\"\"\n",
    "# Save manifest into a CSV file\n",
    "manifest_path = f\"03.Dragen/fastq_lists/{sample_name}_fastq_list.csv\"\n",
    "with open(manifest_path, \"w\") as f:\n",
    "    f.write(manifest.strip())\n",
    "# print(f\"[Manifest saved to {manifest_path}]\")\n",
    "    \n",
    "# Upload FASTQ list file into ICA\n",
    "upload = subprocess.check_output(f\"icav2 -k $ICA_API_KEY --project-id {project_id} projectdata upload {manifest_path} /fastq_list/\", shell=True, text=True).strip()\n",
    "# Get file id\n",
    "fastq_list_id = subprocess.check_output(f\"icav2 -k $ICA_API_KEY --project-id {project_id} projectdata list --file-name {sample_name}_fastq_list.csv | grep fastq_list.csv | cut -f 4\", shell=True, text=True).strip()\n",
    "# Link fastq list to the sample\n",
    "link = os.system(f\"icav2 -k $ICA_API_KEY --project-id {project_id} projectsamples link {sample_id} --data-id {fastq_list_id}\")\n",
    "# print(f\"fastq list: {sample_name}_fastq_list.csv [{fastq_list_id}] - linked [{link}]\")\n",
    "\n",
    "# Set ICA command\n",
    "cmd = f\"icav2 -k $ICA_API_KEY projectpipelines start nextflow {pipeline_id} \\\n",
    "--project-id {project_id} \\\n",
    "--storage-size small \\\n",
    "--user-reference {sample_name} \\\n",
    "--user-tag {sample_name} \\\n",
    "--output-parent-folder {output_id} \\\n",
    "--input fastq_list:{fastq_list_id} \\\n",
    "--input fastqs:{fastq_ids} \\\n",
    "--input ref_tar:{ref_id} \\\n",
    "--input autosome_bed:{autosomes_id} \\\n",
    "--parameters cyp2d6_enabled:false \\\n",
    "--parameters prefix:{sample_name} \\\n",
    ">> ica.log\"\n",
    "# Launch analysis\n",
    "exit = os.system(cmd)\n",
    "# Log string\n",
    "log = f\"{sample_name} :{exit}: {cmd}\"\n",
    "os.system(f\"echo {log} >> cram_to_fastq.log\")\n",
    "print(log)"
   ]
  },
  {
   "cell_type": "code",
   "execution_count": null,
   "id": "01332076-1e0c-4db7-9167-affbd2021f5b",
   "metadata": {},
   "outputs": [],
   "source": []
  }
 ],
 "metadata": {
  "kernelspec": {
   "display_name": "Python 3 (ipykernel)",
   "language": "python",
   "name": "python3"
  },
  "language_info": {
   "codemirror_mode": {
    "name": "ipython",
    "version": 3
   },
   "file_extension": ".py",
   "mimetype": "text/x-python",
   "name": "python",
   "nbconvert_exporter": "python",
   "pygments_lexer": "ipython3",
   "version": "3.7.12"
  }
 },
 "nbformat": 4,
 "nbformat_minor": 5
}
