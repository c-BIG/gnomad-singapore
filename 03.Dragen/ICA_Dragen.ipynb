{
 "cells": [
  {
   "cell_type": "markdown",
   "id": "ac659ad2-925b-4930-867b-0a9acee34fc3",
   "metadata": {},
   "source": [
    "# Dragen"
   ]
  },
  {
   "cell_type": "code",
   "execution_count": 1,
   "id": "2f186d3d-b099-49fc-87a2-ee6086953995",
   "metadata": {},
   "outputs": [],
   "source": [
    "%load_ext dotenv"
   ]
  },
  {
   "cell_type": "code",
   "execution_count": 2,
   "id": "688df9e0-69fb-4cc1-a1ec-78f826202a1e",
   "metadata": {
    "tags": []
   },
   "outputs": [],
   "source": [
    "%dotenv"
   ]
  },
  {
   "cell_type": "code",
   "execution_count": 3,
   "id": "d8b79d5e-b9db-403f-ae9f-ba9b8a9b7654",
   "metadata": {
    "tags": []
   },
   "outputs": [],
   "source": [
    "import os\n",
    "import pandas as pd\n",
    "import subprocess\n",
    "import io"
   ]
  },
  {
   "cell_type": "markdown",
   "id": "6da17582-aafc-41e5-ae53-4750ea175f56",
   "metadata": {},
   "source": [
    "## Import global parameters"
   ]
  },
  {
   "cell_type": "code",
   "execution_count": 4,
   "id": "b31c2a48-f772-4228-a288-d0a2637c2e6b",
   "metadata": {},
   "outputs": [
    {
     "name": "stdout",
     "output_type": "stream",
     "text": [
      "ICA_API_KEY exists\n"
     ]
    }
   ],
   "source": [
    "# Check ICA_API_KEY\n",
    "print(f\"ICA_API_KEY {'exists' if 'ICA_API_KEY' in os.environ else 'missing'}\")"
   ]
  },
  {
   "cell_type": "code",
   "execution_count": 5,
   "id": "1f365d04-1ad5-4905-bfbe-951fe2dc0aef",
   "metadata": {
    "tags": []
   },
   "outputs": [
    {
     "name": "stdout",
     "output_type": "stream",
     "text": [
      "project: sg10k-dragen-reanalysis [bf47eb3e-868e-4f88-97ac-c2a76c3c6ac4]\n"
     ]
    }
   ],
   "source": [
    "# Get project ID\n",
    "project_name = 'sg10k-dragen-reanalysis'\n",
    "project_id = subprocess.check_output(f\"icav2 -k $ICA_API_KEY projects list | grep {project_name} | cut -f 1 \", shell=True, text=True).strip()\n",
    "print(f\"project: {project_name} [{project_id}]\")"
   ]
  },
  {
   "cell_type": "code",
   "execution_count": 6,
   "id": "6fa06dcc-2134-4332-891a-409d9e0ad57c",
   "metadata": {
    "tags": []
   },
   "outputs": [
    {
     "name": "stdout",
     "output_type": "stream",
     "text": [
      "pipeline: GermlineWithQc378_SG100KpipelineV1 [b9b3cdde-1e0e-4079-830d-385770b86b72]\n"
     ]
    }
   ],
   "source": [
    "# Get pipeline ID\n",
    "pipeline_name = 'GermlineWithQc378_SG100KpipelineV1'\n",
    "pipeline_id = subprocess.check_output(f\"icav2 -k $ICA_API_KEY --project-id {project_id} projectpipelines list | grep {pipeline_name} | cut -f 1 \", shell=True, text=True).strip()\n",
    "print(f\"pipeline: {pipeline_name} [{pipeline_id}]\")"
   ]
  },
  {
   "cell_type": "code",
   "execution_count": 7,
   "id": "727685a5-9150-4b42-9839-ebe42b9e951e",
   "metadata": {
    "tags": []
   },
   "outputs": [
    {
     "name": "stdout",
     "output_type": "stream",
     "text": [
      "\u001b[1mID      \u001b[0m \t\u001b[1mCODES       \u001b[0m \t\u001b[1mREQUIRED\u001b[0m \t\u001b[1mMULTI VALUE\u001b[0m  \n",
      "32583051\tautosome_bed\ttrue    \tfalse      \t\n",
      "32583048\tcram        \tfalse   \tfalse      \t\n",
      "32583047\tfastq_list  \tfalse   \tfalse      \t\n",
      "32583049\tfastqs      \tfalse   \ttrue       \t\n",
      "32583050\tref_tar     \ttrue    \tfalse      \t\n",
      "No of items :  5\n"
     ]
    }
   ],
   "source": [
    "# Get pipeline parameters\n",
    "pipeline_name = 'GermlineWithQc378_SG100KpipelineV1'\n",
    "params = subprocess.check_output(f\"icav2 -k $ICA_API_KEY --project-id {project_id} projectpipelines input {pipeline_id}\", shell=True, text=True).strip()\n",
    "print(params)"
   ]
  },
  {
   "cell_type": "code",
   "execution_count": 8,
   "id": "4521a696-a945-47bf-ae46-2c45d6f1e267",
   "metadata": {
    "tags": []
   },
   "outputs": [
    {
     "name": "stdout",
     "output_type": "stream",
     "text": [
      "output folder: dragen_378_output [fol.d8ba95e57f51475fc06508dcfe056ca7]\n"
     ]
    }
   ],
   "source": [
    "# Get output folder ID\n",
    "output_name = 'dragen_378_output'\n",
    "output_id = subprocess.check_output(f\"icav2 -k $ICA_API_KEY --project-id {project_id} projectdata list --file-name {output_name} | grep {output_name} | cut -f 4 \", shell=True, text=True).strip()\n",
    "print(f\"output folder: {output_name} [{output_id}]\")"
   ]
  },
  {
   "cell_type": "code",
   "execution_count": 9,
   "id": "2effee8c-e4cb-4ffc-acb5-94202ec80b97",
   "metadata": {
    "tags": []
   },
   "outputs": [
    {
     "name": "stdout",
     "output_type": "stream",
     "text": [
      "ref: hg38_full_analysis_set_graph.tar [fil.f9c8f899de7f4c418b4008db2043fa32]\n"
     ]
    }
   ],
   "source": [
    "# Get ref ID\n",
    "ref_name = 'hg38_full_analysis_set_graph.tar'\n",
    "ref_id = subprocess.check_output(f\"icav2 -k $ICA_API_KEY --project-id {project_id} projectdata list --file-name {ref_name} | grep {ref_name} | cut -f 4 \", shell=True, text=True).strip()\n",
    "print(f\"ref: {ref_name} [{ref_id}]\")"
   ]
  },
  {
   "cell_type": "code",
   "execution_count": 10,
   "id": "76dac103-8e95-442a-bc18-a317ac755caa",
   "metadata": {
    "tags": []
   },
   "outputs": [
    {
     "name": "stdout",
     "output_type": "stream",
     "text": [
      "ref: autosomes.bed [fil.9efff4fe5d9b43a9346508db2043fa32]\n"
     ]
    }
   ],
   "source": [
    "# Get autosomes ID\n",
    "autosomes_name = 'autosomes.bed'\n",
    "autosomes_id = subprocess.check_output(f\"icav2 -k $ICA_API_KEY --project-id {project_id} projectdata list --file-name {autosomes_name} | grep {autosomes_name} | cut -f 4 \", shell=True, text=True).strip()\n",
    "print(f\"ref: {autosomes_name} [{autosomes_id}]\")"
   ]
  },
  {
   "cell_type": "code",
   "execution_count": null,
   "id": "65299695-4d79-4666-8b60-eef19454349f",
   "metadata": {},
   "outputs": [],
   "source": [
    "# List ICA sample objects\n",
    "# Save the sample list in a txt file\n",
    "# One time sample list will be user to loop over all the available samples\n",
    "###\n",
    "# os.system(f\"icav2 -k $ICA_API_KEY --project-id {project_id} projectsamples list > projectsamples-list.txt\")\n",
    "# # Read projectsamples-list\n",
    "# cols = ['ID', 'NAME', 'STATUS', 'DESCRIPTION', 'USER TAGS', 'TECHNICAL TAGS']\n",
    "# df_sample = pd.read_csv('projectsamples-list.txt', sep='\\t', header=0, index_col=False, engine='python', skipfooter=1,\n",
    "#                  names=cols, converters={col: str.strip for col in cols}\n",
    "#                 )\n",
    "# print(f'n={len(df_sample):,}')\n",
    "# print(df_sample.columns)"
   ]
  },
  {
   "cell_type": "markdown",
   "id": "84971aa8-dd3a-4964-afb4-27a1cca55740",
   "metadata": {},
   "source": [
    "## Single sample"
   ]
  },
  {
   "cell_type": "code",
   "execution_count": 67,
   "id": "f04bb29d-f6ac-4a9f-8af6-b8e7d5b215de",
   "metadata": {
    "tags": []
   },
   "outputs": [],
   "source": [
    "# Set sample name & ID\n",
    "sample_name = 'WHH430'\n",
    "sample_id = '59d306d4-fee1-4d3e-8f78-f2e8f3a13b16'\n",
    "# This info will be extracted form projectsamples-list"
   ]
  },
  {
   "cell_type": "code",
   "execution_count": 72,
   "id": "3f5e9f18-94e3-4297-9acc-37778637b28a",
   "metadata": {
    "tags": []
   },
   "outputs": [
    {
     "data": {
      "text/html": [
       "<div>\n",
       "<style scoped>\n",
       "    .dataframe tbody tr th:only-of-type {\n",
       "        vertical-align: middle;\n",
       "    }\n",
       "\n",
       "    .dataframe tbody tr th {\n",
       "        vertical-align: top;\n",
       "    }\n",
       "\n",
       "    .dataframe thead th {\n",
       "        text-align: right;\n",
       "    }\n",
       "</style>\n",
       "<table border=\"1\" class=\"dataframe\">\n",
       "  <thead>\n",
       "    <tr style=\"text-align: right;\">\n",
       "      <th></th>\n",
       "      <th>NAME</th>\n",
       "      <th>TYPE</th>\n",
       "      <th>STATUS</th>\n",
       "      <th>ID</th>\n",
       "      <th>PROJECT_NAME</th>\n",
       "      <th>PROJECT_ID</th>\n",
       "      <th>PATH</th>\n",
       "    </tr>\n",
       "  </thead>\n",
       "  <tbody>\n",
       "    <tr>\n",
       "      <th>1</th>\n",
       "      <td>WHH430_R1.fastq.gz</td>\n",
       "      <td>FILE</td>\n",
       "      <td>AVAILABLE</td>\n",
       "      <td>fil.41ed7fd6b4774feca46508dd0879ac94</td>\n",
       "      <td>sg10k-dragen-reanalysis</td>\n",
       "      <td>bf47eb3e-868e-4f88-97ac-c2a76c3c6ac4</td>\n",
       "      <td>/fastq_output/WHH430-96d4b6f2-6f82-4723-8144-d...</td>\n",
       "    </tr>\n",
       "    <tr>\n",
       "      <th>0</th>\n",
       "      <td>WHH430_R2.fastq.gz</td>\n",
       "      <td>FILE</td>\n",
       "      <td>AVAILABLE</td>\n",
       "      <td>fil.6881278d2cbd4c59a46b08dd0879ac94</td>\n",
       "      <td>sg10k-dragen-reanalysis</td>\n",
       "      <td>bf47eb3e-868e-4f88-97ac-c2a76c3c6ac4</td>\n",
       "      <td>/fastq_output/WHH430-96d4b6f2-6f82-4723-8144-d...</td>\n",
       "    </tr>\n",
       "  </tbody>\n",
       "</table>\n",
       "</div>"
      ],
      "text/plain": [
       "                 NAME  TYPE     STATUS                                    ID  \\\n",
       "1  WHH430_R1.fastq.gz  FILE  AVAILABLE  fil.41ed7fd6b4774feca46508dd0879ac94   \n",
       "0  WHH430_R2.fastq.gz  FILE  AVAILABLE  fil.6881278d2cbd4c59a46b08dd0879ac94   \n",
       "\n",
       "              PROJECT_NAME                            PROJECT_ID  \\\n",
       "1  sg10k-dragen-reanalysis  bf47eb3e-868e-4f88-97ac-c2a76c3c6ac4   \n",
       "0  sg10k-dragen-reanalysis  bf47eb3e-868e-4f88-97ac-c2a76c3c6ac4   \n",
       "\n",
       "                                                PATH  \n",
       "1  /fastq_output/WHH430-96d4b6f2-6f82-4723-8144-d...  \n",
       "0  /fastq_output/WHH430-96d4b6f2-6f82-4723-8144-d...  "
      ]
     },
     "execution_count": 72,
     "metadata": {},
     "output_type": "execute_result"
    }
   ],
   "source": [
    "# List fastq files linked to the sample\n",
    "fastqs = subprocess.check_output(f\"icav2 -k $ICA_API_KEY --project-id {project_id} projectsamples listdata {sample_id} --file-name fastq.gz --match-mode FUZZY | grep '/fastq_output/' \", shell=True, text=True).strip()\n",
    "# parse list\n",
    "cols = ['NAME', 'TYPE', 'STATUS', 'ID', 'PROJECT_NAME', 'PROJECT_ID', 'PATH']\n",
    "df_fq = pd.read_csv(io.StringIO(fastqs), sep='\\t', index_col=False, engine='python', names=cols, converters={col: str.strip for col in cols})\n",
    "# header=0, skipfooter=1\n",
    "# Sort R1, R2\n",
    "df_fq.sort_values(by='NAME', inplace=True)\n",
    "\n",
    "df_fq"
   ]
  },
  {
   "cell_type": "code",
   "execution_count": 73,
   "id": "da7ec5b7-9147-4c8f-833d-543514a0092d",
   "metadata": {},
   "outputs": [
    {
     "name": "stdout",
     "output_type": "stream",
     "text": [
      "Sample WHH430 - input fastq_ids fil.41ed7fd6b4774feca46508dd0879ac94,fil.6881278d2cbd4c59a46b08dd0879ac94\n"
     ]
    }
   ],
   "source": [
    "# Get fastq IDs\n",
    "fastq_ids = \",\".join(df_fq[\"ID\"])  # Reverse the order\n",
    "print(f\"Sample {sample_name} - input fastq_ids {fastq_ids}\")"
   ]
  },
  {
   "cell_type": "code",
   "execution_count": 74,
   "id": "d039f634-4637-43ef-8ce2-a2cc091dea07",
   "metadata": {},
   "outputs": [
    {
     "name": "stdout",
     "output_type": "stream",
     "text": [
      "\n",
      "RGID,RGSM,RGLB,Lane,Read1File,Read2File\n",
      "WHH430_FC1,WHH430,WHH430_LB1,1,WHH430_R1.fastq.gz,WHH430_R2.fastq.gz\n",
      "\n",
      "[Manifest saved to 03.Dragen/fastq_lists/WHH430_fastq_list.csv]\n"
     ]
    }
   ],
   "source": [
    "# Create FASTQ list file\n",
    "###\n",
    "# Create manifest\n",
    "manifest = f\"\"\"\n",
    "RGID,RGSM,RGLB,Lane,Read1File,Read2File\n",
    "{sample_name}_FC1,{sample_name},{sample_name}_LB1,1,{','.join(df_fq['NAME'])}\n",
    "\"\"\"\n",
    "\n",
    "print(manifest)\n",
    "\n",
    "# Save manifest into a CSV file\n",
    "###\n",
    "# Required to create folder fastq_lists before runin the cell\n",
    "###\n",
    "manifest_path = f\"03.Dragen/fastq_lists/{sample_name}_fastq_list.csv\"\n",
    "with open(manifest_path, \"w\") as f:\n",
    "    f.write(manifest.strip())\n",
    "print(f\"[Manifest saved to {manifest_path}]\")"
   ]
  },
  {
   "cell_type": "code",
   "execution_count": 75,
   "id": "9c8a8743-e6d1-4fcf-baad-ae1d944aa97b",
   "metadata": {
    "tags": []
   },
   "outputs": [
    {
     "name": "stdout",
     "output_type": "stream",
     "text": [
      "fastq list: WHH430_fastq_list.csv [fil.594ecbd863b34cfac12908dcfe056ca7] - linked [0]\n"
     ]
    }
   ],
   "source": [
    "# Upload FASTQ list file into ICA\n",
    "upload = subprocess.check_output(f\"icav2 -k $ICA_API_KEY --project-id {project_id} projectdata upload {manifest_path} /fastq_list/\", shell=True, text=True).strip()\n",
    "# Get file id\n",
    "fastq_list_id = subprocess.check_output(f\"icav2 -k $ICA_API_KEY --project-id {project_id} projectdata list --file-name {sample_name}_fastq_list.csv | grep fastq_list.csv | cut -f 4\", shell=True, text=True).strip()\n",
    "# Link fastq list to the sample\n",
    "link = os.system(f\"icav2 -k $ICA_API_KEY --project-id {project_id} projectsamples link {sample_id} --data-id {fastq_list_id}\")\n",
    "\n",
    "print(f\"fastq list: {sample_name}_fastq_list.csv [{fastq_list_id}] - linked [{link}]\")"
   ]
  },
  {
   "cell_type": "code",
   "execution_count": 76,
   "id": "cc70f635-0e48-4766-aaf6-0e6ca875d44d",
   "metadata": {},
   "outputs": [
    {
     "name": "stdout",
     "output_type": "stream",
     "text": [
      "Launching analysis: \n",
      "icav2 -k $ICA_API_KEY projectpipelines start nextflow b9b3cdde-1e0e-4079-830d-385770b86b72 --project-id bf47eb3e-868e-4f88-97ac-c2a76c3c6ac4 --storage-size small --user-reference WHH430 --user-tag WHH430 --output-parent-folder fol.d8ba95e57f51475fc06508dcfe056ca7 --input fastq_list:fil.594ecbd863b34cfac12908dcfe056ca7 --input fastqs:fil.41ed7fd6b4774feca46508dd0879ac94,fil.6881278d2cbd4c59a46b08dd0879ac94 --input ref_tar:fil.f9c8f899de7f4c418b4008db2043fa32 --input autosome_bed:fil.9efff4fe5d9b43a9346508db2043fa32 --parameters cyp2d6_enabled:true --parameters prefix:WHH430 \n",
      "sample WHH430 launched\n"
     ]
    }
   ],
   "source": [
    "# Launch analysis\n",
    "print(f'Launching analysis: ')\n",
    "cmd = f\"icav2 -k $ICA_API_KEY projectpipelines start nextflow {pipeline_id} \\\n",
    "--project-id {project_id} \\\n",
    "--storage-size small \\\n",
    "--user-reference {sample_name} \\\n",
    "--user-tag {sample_name} \\\n",
    "--output-parent-folder {output_id} \\\n",
    "--input fastq_list:{fastq_list_id} \\\n",
    "--input fastqs:{fastq_ids} \\\n",
    "--input ref_tar:{ref_id} \\\n",
    "--input autosome_bed:{autosomes_id} \\\n",
    "--parameters cyp2d6_enabled:true \\\n",
    "--parameters prefix:{sample_name} \\\n",
    "\"\n",
    "print(cmd)\n",
    "cmd_out = subprocess.check_output(cmd, shell=True, text=True).strip()\n",
    "# print(cmd_out)\n",
    "print(f\"sample {sample_name} launched\")"
   ]
  },
  {
   "cell_type": "markdown",
   "id": "23ec397f-ba8f-40c8-a3e9-975988f88391",
   "metadata": {},
   "source": [
    "## Batch of samples"
   ]
  },
  {
   "cell_type": "code",
   "execution_count": 11,
   "id": "581b1aed-d836-4fab-89e9-4d0057f7a982",
   "metadata": {
    "tags": []
   },
   "outputs": [
    {
     "name": "stdout",
     "output_type": "stream",
     "text": [
      "n=1,543\n",
      "Index(['ID', 'NAME', 'STATUS', 'DESCRIPTION', 'USER TAGS', 'TECHNICAL TAGS'], dtype='object')\n"
     ]
    }
   ],
   "source": [
    "# List ICA sample objects\n",
    "# os.system(f\"icav2 -k $ICA_API_KEY --project-id {project_id} projectsamples list > projectsamples-list.txt\")\n",
    "# Read projectsamples-list\n",
    "cols = ['ID', 'NAME', 'STATUS', 'DESCRIPTION', 'USER TAGS', 'TECHNICAL TAGS']\n",
    "df_sample = pd.read_csv('projectsamples-list.txt', sep='\\t', header=0, index_col=False, engine='python', skipfooter=1,\n",
    "                 names=cols, converters={col: str.strip for col in cols}\n",
    "                )\n",
    "# Drop NPM1NA# \n",
    "df_sample = df_sample.drop(0)\n",
    "print(f'n={len(df_sample):,}')\n",
    "print(df_sample.columns)\n",
    "# df_sample"
   ]
  },
  {
   "cell_type": "code",
   "execution_count": null,
   "id": "94eebd06-dc85-4b4c-85dc-a4725c46c37d",
   "metadata": {},
   "outputs": [],
   "source": [
    "# df_sample.iloc[0]: # launched using single sample\n",
    "# df_sample.iloc[1:5]: # done\n",
    "# df_sample.iloc[5:200]: # done\n",
    "# df_sample.iloc[200:400]: # 3 rerun\n",
    "# df_sample.iloc[400:600]: \n",
    "\n",
    "# WHB7277 CYP2D6 error"
   ]
  },
  {
   "cell_type": "code",
   "execution_count": 12,
   "id": "42791ce1-a3d8-41ad-9990-c56efe9c489d",
   "metadata": {
    "tags": []
   },
   "outputs": [
    {
     "name": "stdout",
     "output_type": "stream",
     "text": [
      "[201] WHH629 :0: icav2 -k $ICA_API_KEY projectpipelines start nextflow b9b3cdde-1e0e-4079-830d-385770b86b72     --project-id bf47eb3e-868e-4f88-97ac-c2a76c3c6ac4     --storage-size small     --user-reference WHH629     --user-tag WHH629     --output-parent-folder fol.d8ba95e57f51475fc06508dcfe056ca7     --input fastq_list:fil.ab1261a6927e4f08af3008dd10fde41e     --input fastqs:fil.c1aae17a796a453b5b1608dd0a8ab0a2,fil.2913d40ecbc641455b3508dd0a8ab0a2     --input ref_tar:fil.f9c8f899de7f4c418b4008db2043fa32     --input autosome_bed:fil.9efff4fe5d9b43a9346508db2043fa32     --parameters cyp2d6_enabled:true     --parameters prefix:WHH629     >> ica.log\n",
      "[202] WHH630 :0: icav2 -k $ICA_API_KEY projectpipelines start nextflow b9b3cdde-1e0e-4079-830d-385770b86b72     --project-id bf47eb3e-868e-4f88-97ac-c2a76c3c6ac4     --storage-size small     --user-reference WHH630     --user-tag WHH630     --output-parent-folder fol.d8ba95e57f51475fc06508dcfe056ca7     --input fastq_list:fil.26f6fe464d6442212fad08dd10fce137     --input fastqs:fil.09f965190505451a5d9808dd0a8ab0a2,fil.2c3ebd46993443fb5d9908dd0a8ab0a2     --input ref_tar:fil.f9c8f899de7f4c418b4008db2043fa32     --input autosome_bed:fil.9efff4fe5d9b43a9346508db2043fa32     --parameters cyp2d6_enabled:true     --parameters prefix:WHH630     >> ica.log\n",
      "[203] WHH631 :0: icav2 -k $ICA_API_KEY projectpipelines start nextflow b9b3cdde-1e0e-4079-830d-385770b86b72     --project-id bf47eb3e-868e-4f88-97ac-c2a76c3c6ac4     --storage-size small     --user-reference WHH631     --user-tag WHH631     --output-parent-folder fol.d8ba95e57f51475fc06508dcfe056ca7     --input fastq_list:fil.9d5bce20183b491baf3108dd10fde41e     --input fastqs:fil.047e5a8a85434f2f5b8108dd0a8ab0a2,fil.515a87cfdae24ffc5b8208dd0a8ab0a2     --input ref_tar:fil.f9c8f899de7f4c418b4008db2043fa32     --input autosome_bed:fil.9efff4fe5d9b43a9346508db2043fa32     --parameters cyp2d6_enabled:true     --parameters prefix:WHH631     >> ica.log\n",
      "[204] WHH632 :0: icav2 -k $ICA_API_KEY projectpipelines start nextflow b9b3cdde-1e0e-4079-830d-385770b86b72     --project-id bf47eb3e-868e-4f88-97ac-c2a76c3c6ac4     --storage-size small     --user-reference WHH632     --user-tag WHH632     --output-parent-folder fol.d8ba95e57f51475fc06508dcfe056ca7     --input fastq_list:fil.ad6f7775e6144138c98608dcfe056ca7     --input fastqs:fil.2734b7e3f8ee411db99608dcfe048f15,fil.d724af72a52349ab5c3908dd0a8ab0a2     --input ref_tar:fil.f9c8f899de7f4c418b4008db2043fa32     --input autosome_bed:fil.9efff4fe5d9b43a9346508db2043fa32     --parameters cyp2d6_enabled:true     --parameters prefix:WHH632     >> ica.log\n",
      "[205] WHH633 :0: icav2 -k $ICA_API_KEY projectpipelines start nextflow b9b3cdde-1e0e-4079-830d-385770b86b72     --project-id bf47eb3e-868e-4f88-97ac-c2a76c3c6ac4     --storage-size small     --user-reference WHH633     --user-tag WHH633     --output-parent-folder fol.d8ba95e57f51475fc06508dcfe056ca7     --input fastq_list:fil.14ee6f35a627488dd10008dd12801ad0     --input fastqs:fil.73613885044641beb8c308dcfe048f15,fil.0cf36185cf454741b8cc08dcfe048f15     --input ref_tar:fil.f9c8f899de7f4c418b4008db2043fa32     --input autosome_bed:fil.9efff4fe5d9b43a9346508db2043fa32     --parameters cyp2d6_enabled:true     --parameters prefix:WHH633     >> ica.log\n",
      "[206] WHH634 :0: icav2 -k $ICA_API_KEY projectpipelines start nextflow b9b3cdde-1e0e-4079-830d-385770b86b72     --project-id bf47eb3e-868e-4f88-97ac-c2a76c3c6ac4     --storage-size small     --user-reference WHH634     --user-tag WHH634     --output-parent-folder fol.d8ba95e57f51475fc06508dcfe056ca7     --input fastq_list:fil.a01b3799b662432aaf3208dd10fde41e     --input fastqs:fil.d26aec8a7c6e4f535a4908dd0a8ab0a2,fil.0aafaf0ec785445db77d08dcfe048f15     --input ref_tar:fil.f9c8f899de7f4c418b4008db2043fa32     --input autosome_bed:fil.9efff4fe5d9b43a9346508db2043fa32     --parameters cyp2d6_enabled:true     --parameters prefix:WHH634     >> ica.log\n",
      "[207] WHH635 :0: icav2 -k $ICA_API_KEY projectpipelines start nextflow b9b3cdde-1e0e-4079-830d-385770b86b72     --project-id bf47eb3e-868e-4f88-97ac-c2a76c3c6ac4     --storage-size small     --user-reference WHH635     --user-tag WHH635     --output-parent-folder fol.d8ba95e57f51475fc06508dcfe056ca7     --input fastq_list:fil.1a72029ad21e4c6d0a3808dd1287949f     --input fastqs:fil.d8f084d746c44687b8ba08dcfe048f15,fil.5199ecc187dd4ffdb8bb08dcfe048f15     --input ref_tar:fil.f9c8f899de7f4c418b4008db2043fa32     --input autosome_bed:fil.9efff4fe5d9b43a9346508db2043fa32     --parameters cyp2d6_enabled:true     --parameters prefix:WHH635     >> ica.log\n",
      "[208] WHH636 :0: icav2 -k $ICA_API_KEY projectpipelines start nextflow b9b3cdde-1e0e-4079-830d-385770b86b72     --project-id bf47eb3e-868e-4f88-97ac-c2a76c3c6ac4     --storage-size small     --user-reference WHH636     --user-tag WHH636     --output-parent-folder fol.d8ba95e57f51475fc06508dcfe056ca7     --input fastq_list:fil.bf035cba739643fc2fb008dd10fce137     --input fastqs:fil.566ae19fda024e46b80908dcfe048f15,fil.413fad38456646155af708dd0a8ab0a2     --input ref_tar:fil.f9c8f899de7f4c418b4008db2043fa32     --input autosome_bed:fil.9efff4fe5d9b43a9346508db2043fa32     --parameters cyp2d6_enabled:true     --parameters prefix:WHH636     >> ica.log\n",
      "[209] WHH637 :0: icav2 -k $ICA_API_KEY projectpipelines start nextflow b9b3cdde-1e0e-4079-830d-385770b86b72     --project-id bf47eb3e-868e-4f88-97ac-c2a76c3c6ac4     --storage-size small     --user-reference WHH637     --user-tag WHH637     --output-parent-folder fol.d8ba95e57f51475fc06508dcfe056ca7     --input fastq_list:fil.4290f9fbd4c44e6eaf3608dd10fde41e     --input fastqs:fil.81f26a38bfce4ed55f6c08dd0a8ab0a2,fil.f189e844bc644e3d5f6d08dd0a8ab0a2     --input ref_tar:fil.f9c8f899de7f4c418b4008db2043fa32     --input autosome_bed:fil.9efff4fe5d9b43a9346508db2043fa32     --parameters cyp2d6_enabled:true     --parameters prefix:WHH637     >> ica.log\n",
      "[210] WHH638 :0: icav2 -k $ICA_API_KEY projectpipelines start nextflow b9b3cdde-1e0e-4079-830d-385770b86b72     --project-id bf47eb3e-868e-4f88-97ac-c2a76c3c6ac4     --storage-size small     --user-reference WHH638     --user-tag WHH638     --output-parent-folder fol.d8ba95e57f51475fc06508dcfe056ca7     --input fastq_list:fil.4934761aeae642ffd10308dd12801ad0     --input fastqs:fil.7b584a5ee6b447eb61d208dd0a8ab0a2,fil.9f4b2d4ea1d5496ebf0708dcfe048f15     --input ref_tar:fil.f9c8f899de7f4c418b4008db2043fa32     --input autosome_bed:fil.9efff4fe5d9b43a9346508db2043fa32     --parameters cyp2d6_enabled:true     --parameters prefix:WHH638     >> ica.log\n",
      "[211] WHH639 :0: icav2 -k $ICA_API_KEY projectpipelines start nextflow b9b3cdde-1e0e-4079-830d-385770b86b72     --project-id bf47eb3e-868e-4f88-97ac-c2a76c3c6ac4     --storage-size small     --user-reference WHH639     --user-tag WHH639     --output-parent-folder fol.d8ba95e57f51475fc06508dcfe056ca7     --input fastq_list:fil.87598a47d74443bbaf3708dd10fde41e     --input fastqs:fil.eabb704bba89452d5f4c08dd0a8ab0a2,fil.b8e2035c2c1c4d495f4e08dd0a8ab0a2     --input ref_tar:fil.f9c8f899de7f4c418b4008db2043fa32     --input autosome_bed:fil.9efff4fe5d9b43a9346508db2043fa32     --parameters cyp2d6_enabled:true     --parameters prefix:WHH639     >> ica.log\n",
      "[212] WHH640 :0: icav2 -k $ICA_API_KEY projectpipelines start nextflow b9b3cdde-1e0e-4079-830d-385770b86b72     --project-id bf47eb3e-868e-4f88-97ac-c2a76c3c6ac4     --storage-size small     --user-reference WHH640     --user-tag WHH640     --output-parent-folder fol.d8ba95e57f51475fc06508dcfe056ca7     --input fastq_list:fil.0f58de1df78c4e0e0a3908dd1287949f     --input fastqs:fil.54c5e8644e434a0bbca308dcfe048f15,fil.e77ff3eddf4f438bbca508dcfe048f15     --input ref_tar:fil.f9c8f899de7f4c418b4008db2043fa32     --input autosome_bed:fil.9efff4fe5d9b43a9346508db2043fa32     --parameters cyp2d6_enabled:true     --parameters prefix:WHH640     >> ica.log\n",
      "[213] WHH641 :0: icav2 -k $ICA_API_KEY projectpipelines start nextflow b9b3cdde-1e0e-4079-830d-385770b86b72     --project-id bf47eb3e-868e-4f88-97ac-c2a76c3c6ac4     --storage-size small     --user-reference WHH641     --user-tag WHH641     --output-parent-folder fol.d8ba95e57f51475fc06508dcfe056ca7     --input fastq_list:fil.3dc5a2ec054140ce2fb308dd10fce137     --input fastqs:fil.6844d9b2e4634d495e6108dd0a8ab0a2,fil.a8e069b67efe4342bb9608dcfe048f15     --input ref_tar:fil.f9c8f899de7f4c418b4008db2043fa32     --input autosome_bed:fil.9efff4fe5d9b43a9346508db2043fa32     --parameters cyp2d6_enabled:true     --parameters prefix:WHH641     >> ica.log\n",
      "[214] WHH642 :0: icav2 -k $ICA_API_KEY projectpipelines start nextflow b9b3cdde-1e0e-4079-830d-385770b86b72     --project-id bf47eb3e-868e-4f88-97ac-c2a76c3c6ac4     --storage-size small     --user-reference WHH642     --user-tag WHH642     --output-parent-folder fol.d8ba95e57f51475fc06508dcfe056ca7     --input fastq_list:fil.aa02bf3d68744db82fb408dd10fce137     --input fastqs:fil.258f4e8a22e5486561d608dd0a8ab0a2,fil.773db945287347c8bf1008dcfe048f15     --input ref_tar:fil.f9c8f899de7f4c418b4008db2043fa32     --input autosome_bed:fil.9efff4fe5d9b43a9346508db2043fa32     --parameters cyp2d6_enabled:true     --parameters prefix:WHH642     >> ica.log\n",
      "[215] WHH643 :0: icav2 -k $ICA_API_KEY projectpipelines start nextflow b9b3cdde-1e0e-4079-830d-385770b86b72     --project-id bf47eb3e-868e-4f88-97ac-c2a76c3c6ac4     --storage-size small     --user-reference WHH643     --user-tag WHH643     --output-parent-folder fol.d8ba95e57f51475fc06508dcfe056ca7     --input fastq_list:fil.d185a2e692fa4cf00a3b08dd1287949f     --input fastqs:fil.0533c51104324dadbf1908dcfe048f15,fil.a5a7ce66f57f43e161da08dd0a8ab0a2     --input ref_tar:fil.f9c8f899de7f4c418b4008db2043fa32     --input autosome_bed:fil.9efff4fe5d9b43a9346508db2043fa32     --parameters cyp2d6_enabled:true     --parameters prefix:WHH643     >> ica.log\n",
      "[216] WHH644 :0: icav2 -k $ICA_API_KEY projectpipelines start nextflow b9b3cdde-1e0e-4079-830d-385770b86b72     --project-id bf47eb3e-868e-4f88-97ac-c2a76c3c6ac4     --storage-size small     --user-reference WHH644     --user-tag WHH644     --output-parent-folder fol.d8ba95e57f51475fc06508dcfe056ca7     --input fastq_list:fil.ea81a29660e9465bd10708dd12801ad0     --input fastqs:fil.9c7460ec1d7b49b25f9808dd0a8ab0a2,fil.83c64d8bb41d49ccbce608dcfe048f15     --input ref_tar:fil.f9c8f899de7f4c418b4008db2043fa32     --input autosome_bed:fil.9efff4fe5d9b43a9346508db2043fa32     --parameters cyp2d6_enabled:true     --parameters prefix:WHH644     >> ica.log\n",
      "[217] WHH645 :0: icav2 -k $ICA_API_KEY projectpipelines start nextflow b9b3cdde-1e0e-4079-830d-385770b86b72     --project-id bf47eb3e-868e-4f88-97ac-c2a76c3c6ac4     --storage-size small     --user-reference WHH645     --user-tag WHH645     --output-parent-folder fol.d8ba95e57f51475fc06508dcfe056ca7     --input fastq_list:fil.5a491dfe12f64169c98c08dcfe056ca7     --input fastqs:fil.096142fcf14a4a25bcc508dcfe048f15,fil.e2e2bff7fd1141215f9308dd0a8ab0a2     --input ref_tar:fil.f9c8f899de7f4c418b4008db2043fa32     --input autosome_bed:fil.9efff4fe5d9b43a9346508db2043fa32     --parameters cyp2d6_enabled:true     --parameters prefix:WHH645     >> ica.log\n",
      "[218] WHH646 :0: icav2 -k $ICA_API_KEY projectpipelines start nextflow b9b3cdde-1e0e-4079-830d-385770b86b72     --project-id bf47eb3e-868e-4f88-97ac-c2a76c3c6ac4     --storage-size small     --user-reference WHH646     --user-tag WHH646     --output-parent-folder fol.d8ba95e57f51475fc06508dcfe056ca7     --input fastq_list:fil.cb25d2e8462d4a1e0a3c08dd1287949f     --input fastqs:fil.17e6b6cf89c7421e5f4b08dd0a8ab0a2,fil.1a00e68b1b0941445f5208dd0a8ab0a2     --input ref_tar:fil.f9c8f899de7f4c418b4008db2043fa32     --input autosome_bed:fil.9efff4fe5d9b43a9346508db2043fa32     --parameters cyp2d6_enabled:true     --parameters prefix:WHH646     >> ica.log\n",
      "[219] WHH647 :0: icav2 -k $ICA_API_KEY projectpipelines start nextflow b9b3cdde-1e0e-4079-830d-385770b86b72     --project-id bf47eb3e-868e-4f88-97ac-c2a76c3c6ac4     --storage-size small     --user-reference WHH647     --user-tag WHH647     --output-parent-folder fol.d8ba95e57f51475fc06508dcfe056ca7     --input fastq_list:fil.669451b77c3a487c110b08dd127e3b30     --input fastqs:fil.8349e8ca35d04bc462e008dd0a8ab0a2,fil.cfae939080634f17630008dd0a8ab0a2     --input ref_tar:fil.f9c8f899de7f4c418b4008db2043fa32     --input autosome_bed:fil.9efff4fe5d9b43a9346508db2043fa32     --parameters cyp2d6_enabled:true     --parameters prefix:WHH647     >> ica.log\n",
      "[220] WHH648 :0: icav2 -k $ICA_API_KEY projectpipelines start nextflow b9b3cdde-1e0e-4079-830d-385770b86b72     --project-id bf47eb3e-868e-4f88-97ac-c2a76c3c6ac4     --storage-size small     --user-reference WHH648     --user-tag WHH648     --output-parent-folder fol.d8ba95e57f51475fc06508dcfe056ca7     --input fastq_list:fil.3c5c941a0b5445890a3d08dd1287949f     --input fastqs:fil.ab3a98766d904cf562ba08dd0a8ab0a2,fil.e0dc8863149c47a5c03a08dcfe048f15     --input ref_tar:fil.f9c8f899de7f4c418b4008db2043fa32     --input autosome_bed:fil.9efff4fe5d9b43a9346508db2043fa32     --parameters cyp2d6_enabled:true     --parameters prefix:WHH648     >> ica.log\n",
      "[221] WHH649 :0: icav2 -k $ICA_API_KEY projectpipelines start nextflow b9b3cdde-1e0e-4079-830d-385770b86b72     --project-id bf47eb3e-868e-4f88-97ac-c2a76c3c6ac4     --storage-size small     --user-reference WHH649     --user-tag WHH649     --output-parent-folder fol.d8ba95e57f51475fc06508dcfe056ca7     --input fastq_list:fil.63b6ad5cc57d4a09d10c08dd12801ad0     --input fastqs:fil.e6e19779619044dac00208dcfe048f15,fil.45dac31e397a4815c00408dcfe048f15     --input ref_tar:fil.f9c8f899de7f4c418b4008db2043fa32     --input autosome_bed:fil.9efff4fe5d9b43a9346508db2043fa32     --parameters cyp2d6_enabled:true     --parameters prefix:WHH649     >> ica.log\n",
      "[222] WHH650 :0: icav2 -k $ICA_API_KEY projectpipelines start nextflow b9b3cdde-1e0e-4079-830d-385770b86b72     --project-id bf47eb3e-868e-4f88-97ac-c2a76c3c6ac4     --storage-size small     --user-reference WHH650     --user-tag WHH650     --output-parent-folder fol.d8ba95e57f51475fc06508dcfe056ca7     --input fastq_list:fil.ae2f886a740c4f4a110c08dd127e3b30     --input fastqs:fil.7082b4dc31ed4f6465fb08dd0a8ab0a2,fil.9200833c48824f5fc33908dcfe048f15     --input ref_tar:fil.f9c8f899de7f4c418b4008db2043fa32     --input autosome_bed:fil.9efff4fe5d9b43a9346508db2043fa32     --parameters cyp2d6_enabled:true     --parameters prefix:WHH650     >> ica.log\n",
      "[223] WHH651 :0: icav2 -k $ICA_API_KEY projectpipelines start nextflow b9b3cdde-1e0e-4079-830d-385770b86b72     --project-id bf47eb3e-868e-4f88-97ac-c2a76c3c6ac4     --storage-size small     --user-reference WHH651     --user-tag WHH651     --output-parent-folder fol.d8ba95e57f51475fc06508dcfe056ca7     --input fastq_list:fil.e193bfb558f945282fb808dd10fce137     --input fastqs:fil.bb45f7f931334281633808dd0a8ab0a2,fil.e31f1df44fb5426ac0bf08dcfe048f15     --input ref_tar:fil.f9c8f899de7f4c418b4008db2043fa32     --input autosome_bed:fil.9efff4fe5d9b43a9346508db2043fa32     --parameters cyp2d6_enabled:true     --parameters prefix:WHH651     >> ica.log\n",
      "[224] WHH652 :0: icav2 -k $ICA_API_KEY projectpipelines start nextflow b9b3cdde-1e0e-4079-830d-385770b86b72     --project-id bf47eb3e-868e-4f88-97ac-c2a76c3c6ac4     --storage-size small     --user-reference WHH652     --user-tag WHH652     --output-parent-folder fol.d8ba95e57f51475fc06508dcfe056ca7     --input fastq_list:fil.3d1f5ecbce154062af3b08dd10fde41e     --input fastqs:fil.93eb9848aa5c49d9c2a008dcfe048f15,fil.48afdde3d1cc445c657808dd0a8ab0a2     --input ref_tar:fil.f9c8f899de7f4c418b4008db2043fa32     --input autosome_bed:fil.9efff4fe5d9b43a9346508db2043fa32     --parameters cyp2d6_enabled:true     --parameters prefix:WHH652     >> ica.log\n",
      "[225] WHH653 :0: icav2 -k $ICA_API_KEY projectpipelines start nextflow b9b3cdde-1e0e-4079-830d-385770b86b72     --project-id bf47eb3e-868e-4f88-97ac-c2a76c3c6ac4     --storage-size small     --user-reference WHH653     --user-tag WHH653     --output-parent-folder fol.d8ba95e57f51475fc06508dcfe056ca7     --input fastq_list:fil.06280e6f0e3849a5af3c08dd10fde41e     --input fastqs:fil.44b88be53fa84235c0bb08dcfe048f15,fil.3474bc4c753d4c21633008dd0a8ab0a2     --input ref_tar:fil.f9c8f899de7f4c418b4008db2043fa32     --input autosome_bed:fil.9efff4fe5d9b43a9346508db2043fa32     --parameters cyp2d6_enabled:true     --parameters prefix:WHH653     >> ica.log\n",
      "[226] WHH654 :0: icav2 -k $ICA_API_KEY projectpipelines start nextflow b9b3cdde-1e0e-4079-830d-385770b86b72     --project-id bf47eb3e-868e-4f88-97ac-c2a76c3c6ac4     --storage-size small     --user-reference WHH654     --user-tag WHH654     --output-parent-folder fol.d8ba95e57f51475fc06508dcfe056ca7     --input fastq_list:fil.693cc2cdd65541770a4008dd1287949f     --input fastqs:fil.04cb33670adb4e6a62e108dd0a8ab0a2,fil.62b0a2475b344dbdc06e08dcfe048f15     --input ref_tar:fil.f9c8f899de7f4c418b4008db2043fa32     --input autosome_bed:fil.9efff4fe5d9b43a9346508db2043fa32     --parameters cyp2d6_enabled:true     --parameters prefix:WHH654     >> ica.log\n",
      "[227] WHH655 :0: icav2 -k $ICA_API_KEY projectpipelines start nextflow b9b3cdde-1e0e-4079-830d-385770b86b72     --project-id bf47eb3e-868e-4f88-97ac-c2a76c3c6ac4     --storage-size small     --user-reference WHH655     --user-tag WHH655     --output-parent-folder fol.d8ba95e57f51475fc06508dcfe056ca7     --input fastq_list:fil.5820404be5cc470e111008dd127e3b30     --input fastqs:fil.1cc7cc5409a8429ec0c208dcfe048f15,fil.0d719954569f41c9634408dd0a8ab0a2     --input ref_tar:fil.f9c8f899de7f4c418b4008db2043fa32     --input autosome_bed:fil.9efff4fe5d9b43a9346508db2043fa32     --parameters cyp2d6_enabled:true     --parameters prefix:WHH655     >> ica.log\n",
      "[228] WHH656 :0: icav2 -k $ICA_API_KEY projectpipelines start nextflow b9b3cdde-1e0e-4079-830d-385770b86b72     --project-id bf47eb3e-868e-4f88-97ac-c2a76c3c6ac4     --storage-size small     --user-reference WHH656     --user-tag WHH656     --output-parent-folder fol.d8ba95e57f51475fc06508dcfe056ca7     --input fastq_list:fil.a9ea1586d66040f7d10e08dd12801ad0     --input fastqs:fil.d2c6b028403a4d8ed01c08dcfe048f1a,fil.a2cf52b600394addd01d08dcfe048f1a     --input ref_tar:fil.f9c8f899de7f4c418b4008db2043fa32     --input autosome_bed:fil.9efff4fe5d9b43a9346508db2043fa32     --parameters cyp2d6_enabled:true     --parameters prefix:WHH656     >> ica.log\n",
      "[229] WHH657 :0: icav2 -k $ICA_API_KEY projectpipelines start nextflow b9b3cdde-1e0e-4079-830d-385770b86b72     --project-id bf47eb3e-868e-4f88-97ac-c2a76c3c6ac4     --storage-size small     --user-reference WHH657     --user-tag WHH657     --output-parent-folder fol.d8ba95e57f51475fc06508dcfe056ca7     --input fastq_list:fil.ebc19fbcc62a4637d11008dd12801ad0     --input fastqs:fil.d26f750e0e2744a0634308dd0a8ab0a2,fil.adc4c8f532794c0bc0e008dcfe048f15     --input ref_tar:fil.f9c8f899de7f4c418b4008db2043fa32     --input autosome_bed:fil.9efff4fe5d9b43a9346508db2043fa32     --parameters cyp2d6_enabled:true     --parameters prefix:WHH657     >> ica.log\n",
      "[230] WHH658 :0: icav2 -k $ICA_API_KEY projectpipelines start nextflow b9b3cdde-1e0e-4079-830d-385770b86b72     --project-id bf47eb3e-868e-4f88-97ac-c2a76c3c6ac4     --storage-size small     --user-reference WHH658     --user-tag WHH658     --output-parent-folder fol.d8ba95e57f51475fc06508dcfe056ca7     --input fastq_list:fil.17b224c69e44476bc99108dcfe056ca7     --input fastqs:fil.38c456496d7d4a6f679008dd0a8ab0a2,fil.9d74bb2a1781460b679308dd0a8ab0a2     --input ref_tar:fil.f9c8f899de7f4c418b4008db2043fa32     --input autosome_bed:fil.9efff4fe5d9b43a9346508db2043fa32     --parameters cyp2d6_enabled:true     --parameters prefix:WHH658     >> ica.log\n",
      "[231] WHH659 :0: icav2 -k $ICA_API_KEY projectpipelines start nextflow b9b3cdde-1e0e-4079-830d-385770b86b72     --project-id bf47eb3e-868e-4f88-97ac-c2a76c3c6ac4     --storage-size small     --user-reference WHH659     --user-tag WHH659     --output-parent-folder fol.d8ba95e57f51475fc06508dcfe056ca7     --input fastq_list:fil.6521332a39e94a2ec99208dcfe056ca7     --input fastqs:fil.d9969a988a624b0a679108dd0a8ab0a2,fil.ab75b90734b745e7679c08dd0a8ab0a2     --input ref_tar:fil.f9c8f899de7f4c418b4008db2043fa32     --input autosome_bed:fil.9efff4fe5d9b43a9346508db2043fa32     --parameters cyp2d6_enabled:true     --parameters prefix:WHH659     >> ica.log\n",
      "[232] WHH660 :0: icav2 -k $ICA_API_KEY projectpipelines start nextflow b9b3cdde-1e0e-4079-830d-385770b86b72     --project-id bf47eb3e-868e-4f88-97ac-c2a76c3c6ac4     --storage-size small     --user-reference WHH660     --user-tag WHH660     --output-parent-folder fol.d8ba95e57f51475fc06508dcfe056ca7     --input fastq_list:fil.7a38fb35c7714354d11308dd12801ad0     --input fastqs:fil.e855daac82e54159677508dd0a8ab0a2,fil.f83c54fadfb547af677f08dd0a8ab0a2     --input ref_tar:fil.f9c8f899de7f4c418b4008db2043fa32     --input autosome_bed:fil.9efff4fe5d9b43a9346508db2043fa32     --parameters cyp2d6_enabled:true     --parameters prefix:WHH660     >> ica.log\n",
      "[233] WHH661 :0: icav2 -k $ICA_API_KEY projectpipelines start nextflow b9b3cdde-1e0e-4079-830d-385770b86b72     --project-id bf47eb3e-868e-4f88-97ac-c2a76c3c6ac4     --storage-size small     --user-reference WHH661     --user-tag WHH661     --output-parent-folder fol.d8ba95e57f51475fc06508dcfe056ca7     --input fastq_list:fil.c2f7205d5ff44a9f0a4408dd1287949f     --input fastqs:fil.c202f6a573fb4278c45408dcfe048f15,fil.9c32648d56b946d8676e08dd0a8ab0a2     --input ref_tar:fil.f9c8f899de7f4c418b4008db2043fa32     --input autosome_bed:fil.9efff4fe5d9b43a9346508db2043fa32     --parameters cyp2d6_enabled:true     --parameters prefix:WHH661     >> ica.log\n",
      "[234] WHH662 :0: icav2 -k $ICA_API_KEY projectpipelines start nextflow b9b3cdde-1e0e-4079-830d-385770b86b72     --project-id bf47eb3e-868e-4f88-97ac-c2a76c3c6ac4     --storage-size small     --user-reference WHH662     --user-tag WHH662     --output-parent-folder fol.d8ba95e57f51475fc06508dcfe056ca7     --input fastq_list:fil.b299199ea2f74a4c111308dd127e3b30     --input fastqs:fil.0355b218e6a34e35662c08dd0a8ab0a2,fil.5d4fbc759c7742b8c36b08dcfe048f15     --input ref_tar:fil.f9c8f899de7f4c418b4008db2043fa32     --input autosome_bed:fil.9efff4fe5d9b43a9346508db2043fa32     --parameters cyp2d6_enabled:true     --parameters prefix:WHH662     >> ica.log\n",
      "[235] WHH663 :0: icav2 -k $ICA_API_KEY projectpipelines start nextflow b9b3cdde-1e0e-4079-830d-385770b86b72     --project-id bf47eb3e-868e-4f88-97ac-c2a76c3c6ac4     --storage-size small     --user-reference WHH663     --user-tag WHH663     --output-parent-folder fol.d8ba95e57f51475fc06508dcfe056ca7     --input fastq_list:fil.dfae19ff6adb446a2fbc08dd10fce137     --input fastqs:fil.1cdae59abcc3447ac46008dcfe048f15,fil.af001e7cc1b44084677608dd0a8ab0a2     --input ref_tar:fil.f9c8f899de7f4c418b4008db2043fa32     --input autosome_bed:fil.9efff4fe5d9b43a9346508db2043fa32     --parameters cyp2d6_enabled:true     --parameters prefix:WHH663     >> ica.log\n",
      "[236] WHH664 :0: icav2 -k $ICA_API_KEY projectpipelines start nextflow b9b3cdde-1e0e-4079-830d-385770b86b72     --project-id bf47eb3e-868e-4f88-97ac-c2a76c3c6ac4     --storage-size small     --user-reference WHH664     --user-tag WHH664     --output-parent-folder fol.d8ba95e57f51475fc06508dcfe056ca7     --input fastq_list:fil.16e856e50263450ad11808dd12801ad0     --input fastqs:fil.4ca751cf77ff403c680608dd0a8ab0a2,fil.5e881e608a224b5ec4a308dcfe048f15     --input ref_tar:fil.f9c8f899de7f4c418b4008db2043fa32     --input autosome_bed:fil.9efff4fe5d9b43a9346508db2043fa32     --parameters cyp2d6_enabled:true     --parameters prefix:WHH664     >> ica.log\n",
      "[237] WHH665 :0: icav2 -k $ICA_API_KEY projectpipelines start nextflow b9b3cdde-1e0e-4079-830d-385770b86b72     --project-id bf47eb3e-868e-4f88-97ac-c2a76c3c6ac4     --storage-size small     --user-reference WHH665     --user-tag WHH665     --output-parent-folder fol.d8ba95e57f51475fc06508dcfe056ca7     --input fastq_list:fil.552f63d276c44942af3f08dd10fde41e     --input fastqs:fil.dfc9742552c749ea678808dd0a8ab0a2,fil.b5a083fbb8e24835678908dd0a8ab0a2     --input ref_tar:fil.f9c8f899de7f4c418b4008db2043fa32     --input autosome_bed:fil.9efff4fe5d9b43a9346508db2043fa32     --parameters cyp2d6_enabled:true     --parameters prefix:WHH665     >> ica.log\n",
      "[238] WHH666 :0: icav2 -k $ICA_API_KEY projectpipelines start nextflow b9b3cdde-1e0e-4079-830d-385770b86b72     --project-id bf47eb3e-868e-4f88-97ac-c2a76c3c6ac4     --storage-size small     --user-reference WHH666     --user-tag WHH666     --output-parent-folder fol.d8ba95e57f51475fc06508dcfe056ca7     --input fastq_list:fil.f98bb2cef2c544eac99508dcfe056ca7     --input fastqs:fil.c91a320990eb4e976a6e08dd0a8ab0a2,fil.3ecff36e85644a7ac76408dcfe048f15     --input ref_tar:fil.f9c8f899de7f4c418b4008db2043fa32     --input autosome_bed:fil.9efff4fe5d9b43a9346508db2043fa32     --parameters cyp2d6_enabled:true     --parameters prefix:WHH666     >> ica.log\n",
      "[239] WHH667 :0: icav2 -k $ICA_API_KEY projectpipelines start nextflow b9b3cdde-1e0e-4079-830d-385770b86b72     --project-id bf47eb3e-868e-4f88-97ac-c2a76c3c6ac4     --storage-size small     --user-reference WHH667     --user-tag WHH667     --output-parent-folder fol.d8ba95e57f51475fc06508dcfe056ca7     --input fastq_list:fil.c5901dea7f70401e111608dd127e3b30     --input fastqs:fil.77096e9e03014c06682608dd0a8ab0a2,fil.52a9dedcd3724c4bc4cb08dcfe048f15     --input ref_tar:fil.f9c8f899de7f4c418b4008db2043fa32     --input autosome_bed:fil.9efff4fe5d9b43a9346508db2043fa32     --parameters cyp2d6_enabled:true     --parameters prefix:WHH667     >> ica.log\n",
      "[240] WHH668 :0: icav2 -k $ICA_API_KEY projectpipelines start nextflow b9b3cdde-1e0e-4079-830d-385770b86b72     --project-id bf47eb3e-868e-4f88-97ac-c2a76c3c6ac4     --storage-size small     --user-reference WHH668     --user-tag WHH668     --output-parent-folder fol.d8ba95e57f51475fc06508dcfe056ca7     --input fastq_list:fil.81c3e97485334afec99808dcfe056ca7     --input fastqs:fil.01154ac9665e4b00c8e608dcfe048f15,fil.d46330f59d7741d2c8e708dcfe048f15     --input ref_tar:fil.f9c8f899de7f4c418b4008db2043fa32     --input autosome_bed:fil.9efff4fe5d9b43a9346508db2043fa32     --parameters cyp2d6_enabled:true     --parameters prefix:WHH668     >> ica.log\n",
      "[241] WHH669 :0: icav2 -k $ICA_API_KEY projectpipelines start nextflow b9b3cdde-1e0e-4079-830d-385770b86b72     --project-id bf47eb3e-868e-4f88-97ac-c2a76c3c6ac4     --storage-size small     --user-reference WHH669     --user-tag WHH669     --output-parent-folder fol.d8ba95e57f51475fc06508dcfe056ca7     --input fastq_list:fil.7aad89760cb842f9111708dd127e3b30     --input fastqs:fil.afaf040227184dc1c7fe08dcfe048f15,fil.cb8fa1c736a948aac80b08dcfe048f15     --input ref_tar:fil.f9c8f899de7f4c418b4008db2043fa32     --input autosome_bed:fil.9efff4fe5d9b43a9346508db2043fa32     --parameters cyp2d6_enabled:true     --parameters prefix:WHH669     >> ica.log\n",
      "[242] WHH670 :0: icav2 -k $ICA_API_KEY projectpipelines start nextflow b9b3cdde-1e0e-4079-830d-385770b86b72     --project-id bf47eb3e-868e-4f88-97ac-c2a76c3c6ac4     --storage-size small     --user-reference WHH670     --user-tag WHH670     --output-parent-folder fol.d8ba95e57f51475fc06508dcfe056ca7     --input fastq_list:fil.4ee5cefd30d946f00a4908dd1287949f     --input fastqs:fil.c71eee127a8b4fc6c7bd08dcfe048f15,fil.ce6930bc06744a05c7be08dcfe048f15     --input ref_tar:fil.f9c8f899de7f4c418b4008db2043fa32     --input autosome_bed:fil.9efff4fe5d9b43a9346508db2043fa32     --parameters cyp2d6_enabled:true     --parameters prefix:WHH670     >> ica.log\n",
      "[243] WHH671 :0: icav2 -k $ICA_API_KEY projectpipelines start nextflow b9b3cdde-1e0e-4079-830d-385770b86b72     --project-id bf47eb3e-868e-4f88-97ac-c2a76c3c6ac4     --storage-size small     --user-reference WHH671     --user-tag WHH671     --output-parent-folder fol.d8ba95e57f51475fc06508dcfe056ca7     --input fastq_list:fil.b9e58065b2e4414d2fbf08dd10fce137     --input fastqs:fil.8f6c1cc67e3e4a3a6b7b08dd0a8ab0a2,fil.110100bf9ae94994c82a08dcfe048f15     --input ref_tar:fil.f9c8f899de7f4c418b4008db2043fa32     --input autosome_bed:fil.9efff4fe5d9b43a9346508db2043fa32     --parameters cyp2d6_enabled:true     --parameters prefix:WHH671     >> ica.log\n",
      "[244] WHH672 :0: icav2 -k $ICA_API_KEY projectpipelines start nextflow b9b3cdde-1e0e-4079-830d-385770b86b72     --project-id bf47eb3e-868e-4f88-97ac-c2a76c3c6ac4     --storage-size small     --user-reference WHH672     --user-tag WHH672     --output-parent-folder fol.d8ba95e57f51475fc06508dcfe056ca7     --input fastq_list:fil.247682997a1747842fc008dd10fce137     --input fastqs:fil.c3078e62d37e48c46ab608dd0a8ab0a2,fil.73986eb43e154d386ab708dd0a8ab0a2     --input ref_tar:fil.f9c8f899de7f4c418b4008db2043fa32     --input autosome_bed:fil.9efff4fe5d9b43a9346508db2043fa32     --parameters cyp2d6_enabled:true     --parameters prefix:WHH672     >> ica.log\n",
      "[245] WHH673 :0: icav2 -k $ICA_API_KEY projectpipelines start nextflow b9b3cdde-1e0e-4079-830d-385770b86b72     --project-id bf47eb3e-868e-4f88-97ac-c2a76c3c6ac4     --storage-size small     --user-reference WHH673     --user-tag WHH673     --output-parent-folder fol.d8ba95e57f51475fc06508dcfe056ca7     --input fastq_list:fil.1738780314d24332111808dd127e3b30     --input fastqs:fil.2f2bcdbec0884b436b1d08dd0a8ab0a2,fil.89094afbbde2477f6b1f08dd0a8ab0a2     --input ref_tar:fil.f9c8f899de7f4c418b4008db2043fa32     --input autosome_bed:fil.9efff4fe5d9b43a9346508db2043fa32     --parameters cyp2d6_enabled:true     --parameters prefix:WHH673     >> ica.log\n",
      "[246] WHH674 :0: icav2 -k $ICA_API_KEY projectpipelines start nextflow b9b3cdde-1e0e-4079-830d-385770b86b72     --project-id bf47eb3e-868e-4f88-97ac-c2a76c3c6ac4     --storage-size small     --user-reference WHH674     --user-tag WHH674     --output-parent-folder fol.d8ba95e57f51475fc06508dcfe056ca7     --input fastq_list:fil.12c4f66380e94a7fc99b08dcfe056ca7     --input fastqs:fil.dd8fb168a42e4974c68508dcfe048f15,fil.0b6981c42baf45bdc68808dcfe048f15     --input ref_tar:fil.f9c8f899de7f4c418b4008db2043fa32     --input autosome_bed:fil.9efff4fe5d9b43a9346508db2043fa32     --parameters cyp2d6_enabled:true     --parameters prefix:WHH674     >> ica.log\n",
      "[247] WHH675 :0: icav2 -k $ICA_API_KEY projectpipelines start nextflow b9b3cdde-1e0e-4079-830d-385770b86b72     --project-id bf47eb3e-868e-4f88-97ac-c2a76c3c6ac4     --storage-size small     --user-reference WHH675     --user-tag WHH675     --output-parent-folder fol.d8ba95e57f51475fc06508dcfe056ca7     --input fastq_list:fil.7d09432f433b4c0dc99d08dcfe056ca7     --input fastqs:fil.ff76a0133e2144fb6b5808dd0a8ab0a2,fil.473a92f9848148b86b5b08dd0a8ab0a2     --input ref_tar:fil.f9c8f899de7f4c418b4008db2043fa32     --input autosome_bed:fil.9efff4fe5d9b43a9346508db2043fa32     --parameters cyp2d6_enabled:true     --parameters prefix:WHH675     >> ica.log\n",
      "[248] WHH676 :0: icav2 -k $ICA_API_KEY projectpipelines start nextflow b9b3cdde-1e0e-4079-830d-385770b86b72     --project-id bf47eb3e-868e-4f88-97ac-c2a76c3c6ac4     --storage-size small     --user-reference WHH676     --user-tag WHH676     --output-parent-folder fol.d8ba95e57f51475fc06508dcfe056ca7     --input fastq_list:fil.8fae0c5a583f4727c99e08dcfe056ca7     --input fastqs:fil.08b3b8770b654dfb6b5908dd0a8ab0a2,fil.01d77edb23f246216b5a08dd0a8ab0a2     --input ref_tar:fil.f9c8f899de7f4c418b4008db2043fa32     --input autosome_bed:fil.9efff4fe5d9b43a9346508db2043fa32     --parameters cyp2d6_enabled:true     --parameters prefix:WHH676     >> ica.log\n",
      "[249] WHH677 :0: icav2 -k $ICA_API_KEY projectpipelines start nextflow b9b3cdde-1e0e-4079-830d-385770b86b72     --project-id bf47eb3e-868e-4f88-97ac-c2a76c3c6ac4     --storage-size small     --user-reference WHH677     --user-tag WHH677     --output-parent-folder fol.d8ba95e57f51475fc06508dcfe056ca7     --input fastq_list:fil.a2919d28b78e43522fc108dd10fce137     --input fastqs:fil.d78250a073914accc80f08dcfe048f15,fil.b68b035c758a49216b6f08dd0a8ab0a2     --input ref_tar:fil.f9c8f899de7f4c418b4008db2043fa32     --input autosome_bed:fil.9efff4fe5d9b43a9346508db2043fa32     --parameters cyp2d6_enabled:true     --parameters prefix:WHH677     >> ica.log\n",
      "[250] WHH678 :0: icav2 -k $ICA_API_KEY projectpipelines start nextflow b9b3cdde-1e0e-4079-830d-385770b86b72     --project-id bf47eb3e-868e-4f88-97ac-c2a76c3c6ac4     --storage-size small     --user-reference WHH678     --user-tag WHH678     --output-parent-folder fol.d8ba95e57f51475fc06508dcfe056ca7     --input fastq_list:fil.90bf0e93604041f1c9a108dcfe056ca7     --input fastqs:fil.d6b02d54d8b7436a6f4308dd0a8ab0a2,fil.99b7ebd9c8d941ea6f5708dd0a8ab0a2     --input ref_tar:fil.f9c8f899de7f4c418b4008db2043fa32     --input autosome_bed:fil.9efff4fe5d9b43a9346508db2043fa32     --parameters cyp2d6_enabled:true     --parameters prefix:WHH678     >> ica.log\n",
      "[251] WHH679 :0: icav2 -k $ICA_API_KEY projectpipelines start nextflow b9b3cdde-1e0e-4079-830d-385770b86b72     --project-id bf47eb3e-868e-4f88-97ac-c2a76c3c6ac4     --storage-size small     --user-reference WHH679     --user-tag WHH679     --output-parent-folder fol.d8ba95e57f51475fc06508dcfe056ca7     --input fastq_list:fil.bd9904a8a059466f111c08dd127e3b30     --input fastqs:fil.3ca31ee91ff74236cc6c08dcfe048f15,fil.977f113887424c1d6fa308dd0a8ab0a2     --input ref_tar:fil.f9c8f899de7f4c418b4008db2043fa32     --input autosome_bed:fil.9efff4fe5d9b43a9346508db2043fa32     --parameters cyp2d6_enabled:true     --parameters prefix:WHH679     >> ica.log\n",
      "[252] WHH680 :0: icav2 -k $ICA_API_KEY projectpipelines start nextflow b9b3cdde-1e0e-4079-830d-385770b86b72     --project-id bf47eb3e-868e-4f88-97ac-c2a76c3c6ac4     --storage-size small     --user-reference WHH680     --user-tag WHH680     --output-parent-folder fol.d8ba95e57f51475fc06508dcfe056ca7     --input fastq_list:fil.831ec356a09448f42fc208dd10fce137     --input fastqs:fil.31afd08737aa4739728208dd0a8ab0a2,fil.f549b31caee84f36728808dd0a8ab0a2     --input ref_tar:fil.f9c8f899de7f4c418b4008db2043fa32     --input autosome_bed:fil.9efff4fe5d9b43a9346508db2043fa32     --parameters cyp2d6_enabled:true     --parameters prefix:WHH680     >> ica.log\n",
      "[253] WHH681 :0: icav2 -k $ICA_API_KEY projectpipelines start nextflow b9b3cdde-1e0e-4079-830d-385770b86b72     --project-id bf47eb3e-868e-4f88-97ac-c2a76c3c6ac4     --storage-size small     --user-reference WHH681     --user-tag WHH681     --output-parent-folder fol.d8ba95e57f51475fc06508dcfe056ca7     --input fastq_list:fil.9299fde53c7d416b111e08dd127e3b30     --input fastqs:fil.1fbbde861070496fcc9408dcfe048f15,fil.a57f8faf401a4d2b6fab08dd0a8ab0a2     --input ref_tar:fil.f9c8f899de7f4c418b4008db2043fa32     --input autosome_bed:fil.9efff4fe5d9b43a9346508db2043fa32     --parameters cyp2d6_enabled:true     --parameters prefix:WHH681     >> ica.log\n",
      "[254] WHH682 :0: icav2 -k $ICA_API_KEY projectpipelines start nextflow b9b3cdde-1e0e-4079-830d-385770b86b72     --project-id bf47eb3e-868e-4f88-97ac-c2a76c3c6ac4     --storage-size small     --user-reference WHH682     --user-tag WHH682     --output-parent-folder fol.d8ba95e57f51475fc06508dcfe056ca7     --input fastq_list:fil.eabd8a306a254ff4112008dd127e3b30     --input fastqs:fil.b5aac98adb4744cbcb8c08dcfe048f15,fil.8ea0259e9dc244ddcb9108dcfe048f15     --input ref_tar:fil.f9c8f899de7f4c418b4008db2043fa32     --input autosome_bed:fil.9efff4fe5d9b43a9346508db2043fa32     --parameters cyp2d6_enabled:true     --parameters prefix:WHH682     >> ica.log\n",
      "[255] WHH683 :0: icav2 -k $ICA_API_KEY projectpipelines start nextflow b9b3cdde-1e0e-4079-830d-385770b86b72     --project-id bf47eb3e-868e-4f88-97ac-c2a76c3c6ac4     --storage-size small     --user-reference WHH683     --user-tag WHH683     --output-parent-folder fol.d8ba95e57f51475fc06508dcfe056ca7     --input fastq_list:fil.f2698963507a42750a4f08dd1287949f     --input fastqs:fil.e9785fb89b9b4d076eb008dd0a8ab0a2,fil.01fa7c01c30f42b3cb8b08dcfe048f15     --input ref_tar:fil.f9c8f899de7f4c418b4008db2043fa32     --input autosome_bed:fil.9efff4fe5d9b43a9346508db2043fa32     --parameters cyp2d6_enabled:true     --parameters prefix:WHH683     >> ica.log\n",
      "[256] WHH684 :0: icav2 -k $ICA_API_KEY projectpipelines start nextflow b9b3cdde-1e0e-4079-830d-385770b86b72     --project-id bf47eb3e-868e-4f88-97ac-c2a76c3c6ac4     --storage-size small     --user-reference WHH684     --user-tag WHH684     --output-parent-folder fol.d8ba95e57f51475fc06508dcfe056ca7     --input fastq_list:fil.87dbfbaa546f42e00a5008dd1287949f     --input fastqs:fil.bff194e754ab4c106e6608dd0a8ab0a2,fil.8e7fa60e7d844273cb2708dcfe048f15     --input ref_tar:fil.f9c8f899de7f4c418b4008db2043fa32     --input autosome_bed:fil.9efff4fe5d9b43a9346508db2043fa32     --parameters cyp2d6_enabled:true     --parameters prefix:WHH684     >> ica.log\n",
      "[257] WHH685 :0: icav2 -k $ICA_API_KEY projectpipelines start nextflow b9b3cdde-1e0e-4079-830d-385770b86b72     --project-id bf47eb3e-868e-4f88-97ac-c2a76c3c6ac4     --storage-size small     --user-reference WHH685     --user-tag WHH685     --output-parent-folder fol.d8ba95e57f51475fc06508dcfe056ca7     --input fastq_list:fil.e882e74c826547caaf4708dd10fde41e     --input fastqs:fil.2cbdb8eb5bde4b13ce7c08dcfe048f15,fil.6850a151538f4d6071b208dd0a8ab0a2     --input ref_tar:fil.f9c8f899de7f4c418b4008db2043fa32     --input autosome_bed:fil.9efff4fe5d9b43a9346508db2043fa32     --parameters cyp2d6_enabled:true     --parameters prefix:WHH685     >> ica.log\n",
      "[258] WHH686 :0: icav2 -k $ICA_API_KEY projectpipelines start nextflow b9b3cdde-1e0e-4079-830d-385770b86b72     --project-id bf47eb3e-868e-4f88-97ac-c2a76c3c6ac4     --storage-size small     --user-reference WHH686     --user-tag WHH686     --output-parent-folder fol.d8ba95e57f51475fc06508dcfe056ca7     --input fastq_list:fil.3f081b802ee343e0112408dd127e3b30     --input fastqs:fil.3ede156a35824237caba08dcfe048f15,fil.31ea08bd90ee4110cadf08dcfe048f15     --input ref_tar:fil.f9c8f899de7f4c418b4008db2043fa32     --input autosome_bed:fil.9efff4fe5d9b43a9346508db2043fa32     --parameters cyp2d6_enabled:true     --parameters prefix:WHH686     >> ica.log\n",
      "[259] WHH687 :0: icav2 -k $ICA_API_KEY projectpipelines start nextflow b9b3cdde-1e0e-4079-830d-385770b86b72     --project-id bf47eb3e-868e-4f88-97ac-c2a76c3c6ac4     --storage-size small     --user-reference WHH687     --user-tag WHH687     --output-parent-folder fol.d8ba95e57f51475fc06508dcfe056ca7     --input fastq_list:fil.4d6abbc636b84263112508dd127e3b30     --input fastqs:fil.e59472c6c21a4c016f0708dd0a8ab0a2,fil.d1dde11f374e4c966f1b08dd0a8ab0a2     --input ref_tar:fil.f9c8f899de7f4c418b4008db2043fa32     --input autosome_bed:fil.9efff4fe5d9b43a9346508db2043fa32     --parameters cyp2d6_enabled:true     --parameters prefix:WHH687     >> ica.log\n",
      "[260] WHH688 :0: icav2 -k $ICA_API_KEY projectpipelines start nextflow b9b3cdde-1e0e-4079-830d-385770b86b72     --project-id bf47eb3e-868e-4f88-97ac-c2a76c3c6ac4     --storage-size small     --user-reference WHH688     --user-tag WHH688     --output-parent-folder fol.d8ba95e57f51475fc06508dcfe056ca7     --input fastq_list:fil.66f8aae8b0e14a6ac9a408dcfe056ca7     --input fastqs:fil.ea6a84e2b0fc4728737108dd0a8ab0a2,fil.00005556be82497ad03908dcfe048f15     --input ref_tar:fil.f9c8f899de7f4c418b4008db2043fa32     --input autosome_bed:fil.9efff4fe5d9b43a9346508db2043fa32     --parameters cyp2d6_enabled:true     --parameters prefix:WHH688     >> ica.log\n",
      "[261] WHH689 :0: icav2 -k $ICA_API_KEY projectpipelines start nextflow b9b3cdde-1e0e-4079-830d-385770b86b72     --project-id bf47eb3e-868e-4f88-97ac-c2a76c3c6ac4     --storage-size small     --user-reference WHH689     --user-tag WHH689     --output-parent-folder fol.d8ba95e57f51475fc06508dcfe056ca7     --input fastq_list:fil.30b2e718850e4f300a5308dd1287949f     --input fastqs:fil.49178e9dd60b435ecf8c08dcfe048f15,fil.7b73c629debc49f772e108dd0a8ab0a2     --input ref_tar:fil.f9c8f899de7f4c418b4008db2043fa32     --input autosome_bed:fil.9efff4fe5d9b43a9346508db2043fa32     --parameters cyp2d6_enabled:true     --parameters prefix:WHH689     >> ica.log\n",
      "[262] WHH690 :0: icav2 -k $ICA_API_KEY projectpipelines start nextflow b9b3cdde-1e0e-4079-830d-385770b86b72     --project-id bf47eb3e-868e-4f88-97ac-c2a76c3c6ac4     --storage-size small     --user-reference WHH690     --user-tag WHH690     --output-parent-folder fol.d8ba95e57f51475fc06508dcfe056ca7     --input fastq_list:fil.ef9486c675f843ae2fc408dd10fce137     --input fastqs:fil.fe5d096fa1bd4a3772c708dd0a8ab0a2,fil.1ed6183462314ba472c808dd0a8ab0a2     --input ref_tar:fil.f9c8f899de7f4c418b4008db2043fa32     --input autosome_bed:fil.9efff4fe5d9b43a9346508db2043fa32     --parameters cyp2d6_enabled:true     --parameters prefix:WHH690     >> ica.log\n",
      "[263] WHH691 :0: icav2 -k $ICA_API_KEY projectpipelines start nextflow b9b3cdde-1e0e-4079-830d-385770b86b72     --project-id bf47eb3e-868e-4f88-97ac-c2a76c3c6ac4     --storage-size small     --user-reference WHH691     --user-tag WHH691     --output-parent-folder fol.d8ba95e57f51475fc06508dcfe056ca7     --input fastq_list:fil.4b6250ee3d2e430a2fc608dd10fce137     --input fastqs:fil.bf1a61a67bf94419cfaa08dcfe048f15,fil.677ba2cbe89f4392730108dd0a8ab0a2     --input ref_tar:fil.f9c8f899de7f4c418b4008db2043fa32     --input autosome_bed:fil.9efff4fe5d9b43a9346508db2043fa32     --parameters cyp2d6_enabled:true     --parameters prefix:WHH691     >> ica.log\n",
      "[264] WHH692 :0: icav2 -k $ICA_API_KEY projectpipelines start nextflow b9b3cdde-1e0e-4079-830d-385770b86b72     --project-id bf47eb3e-868e-4f88-97ac-c2a76c3c6ac4     --storage-size small     --user-reference WHH692     --user-tag WHH692     --output-parent-folder fol.d8ba95e57f51475fc06508dcfe056ca7     --input fastq_list:fil.9f7de33df9224a2b112808dd127e3b30     --input fastqs:fil.7ae941535ba44d87d02408dcfe048f15,fil.31a256cfa587407b736908dd0a8ab0a2     --input ref_tar:fil.f9c8f899de7f4c418b4008db2043fa32     --input autosome_bed:fil.9efff4fe5d9b43a9346508db2043fa32     --parameters cyp2d6_enabled:true     --parameters prefix:WHH692     >> ica.log\n",
      "[265] WHH693 :0: icav2 -k $ICA_API_KEY projectpipelines start nextflow b9b3cdde-1e0e-4079-830d-385770b86b72     --project-id bf47eb3e-868e-4f88-97ac-c2a76c3c6ac4     --storage-size small     --user-reference WHH693     --user-tag WHH693     --output-parent-folder fol.d8ba95e57f51475fc06508dcfe056ca7     --input fastq_list:fil.dfb46262595241592fc808dd10fce137     --input fastqs:fil.f4fe578e210342b4cfcd08dcfe048f15,fil.40786e2558e64b8e732708dd0a8ab0a2     --input ref_tar:fil.f9c8f899de7f4c418b4008db2043fa32     --input autosome_bed:fil.9efff4fe5d9b43a9346508db2043fa32     --parameters cyp2d6_enabled:true     --parameters prefix:WHH693     >> ica.log\n",
      "[266] WHH694 :0: icav2 -k $ICA_API_KEY projectpipelines start nextflow b9b3cdde-1e0e-4079-830d-385770b86b72     --project-id bf47eb3e-868e-4f88-97ac-c2a76c3c6ac4     --storage-size small     --user-reference WHH694     --user-tag WHH694     --output-parent-folder fol.d8ba95e57f51475fc06508dcfe056ca7     --input fastq_list:fil.73f971804f9c4a302fca08dd10fce137     --input fastqs:fil.46d0f5adea7540cc734508dd0a8ab0a2,fil.472d5da327f74ef1d00008dcfe048f15     --input ref_tar:fil.f9c8f899de7f4c418b4008db2043fa32     --input autosome_bed:fil.9efff4fe5d9b43a9346508db2043fa32     --parameters cyp2d6_enabled:true     --parameters prefix:WHH694     >> ica.log\n",
      "[267] WHH695 :0: icav2 -k $ICA_API_KEY projectpipelines start nextflow b9b3cdde-1e0e-4079-830d-385770b86b72     --project-id bf47eb3e-868e-4f88-97ac-c2a76c3c6ac4     --storage-size small     --user-reference WHH695     --user-tag WHH695     --output-parent-folder fol.d8ba95e57f51475fc06508dcfe056ca7     --input fastq_list:fil.8c5311056ddf4319c9a508dcfe056ca7     --input fastqs:fil.fffc0b54c5654d69d02d08dcfe048f15,fil.b86cb3b9553d424ad04a08dcfe048f15     --input ref_tar:fil.f9c8f899de7f4c418b4008db2043fa32     --input autosome_bed:fil.9efff4fe5d9b43a9346508db2043fa32     --parameters cyp2d6_enabled:true     --parameters prefix:WHH695     >> ica.log\n",
      "[268] WHH696 :0: icav2 -k $ICA_API_KEY projectpipelines start nextflow b9b3cdde-1e0e-4079-830d-385770b86b72     --project-id bf47eb3e-868e-4f88-97ac-c2a76c3c6ac4     --storage-size small     --user-reference WHH696     --user-tag WHH696     --output-parent-folder fol.d8ba95e57f51475fc06508dcfe056ca7     --input fastq_list:fil.41588aeb96d345bc2fcc08dd10fce137     --input fastqs:fil.355d7662325f482a72aa08dd0a8ab0a2,fil.9ac64591541048fd72c108dd0a8ab0a2     --input ref_tar:fil.f9c8f899de7f4c418b4008db2043fa32     --input autosome_bed:fil.9efff4fe5d9b43a9346508db2043fa32     --parameters cyp2d6_enabled:true     --parameters prefix:WHH696     >> ica.log\n",
      "[269] WHH697 :0: icav2 -k $ICA_API_KEY projectpipelines start nextflow b9b3cdde-1e0e-4079-830d-385770b86b72     --project-id bf47eb3e-868e-4f88-97ac-c2a76c3c6ac4     --storage-size small     --user-reference WHH697     --user-tag WHH697     --output-parent-folder fol.d8ba95e57f51475fc06508dcfe056ca7     --input fastq_list:fil.f69f355136624c84c9a708dcfe056ca7     --input fastqs:fil.907761b64a26468cd05308dcfe048f15,fil.5571522bbf854ee2d05508dcfe048f15     --input ref_tar:fil.f9c8f899de7f4c418b4008db2043fa32     --input autosome_bed:fil.9efff4fe5d9b43a9346508db2043fa32     --parameters cyp2d6_enabled:true     --parameters prefix:WHH697     >> ica.log\n",
      "[270] WHH698 :0: icav2 -k $ICA_API_KEY projectpipelines start nextflow b9b3cdde-1e0e-4079-830d-385770b86b72     --project-id bf47eb3e-868e-4f88-97ac-c2a76c3c6ac4     --storage-size small     --user-reference WHH698     --user-tag WHH698     --output-parent-folder fol.d8ba95e57f51475fc06508dcfe056ca7     --input fastq_list:fil.5feb99a2776d47f70a5508dd1287949f     --input fastqs:fil.7eb7ccf28dfa4282d30f08dcfe048f15,fil.da67d233ad5042b8d31108dcfe048f15     --input ref_tar:fil.f9c8f899de7f4c418b4008db2043fa32     --input autosome_bed:fil.9efff4fe5d9b43a9346508db2043fa32     --parameters cyp2d6_enabled:true     --parameters prefix:WHH698     >> ica.log\n",
      "[271] WHH699 :0: icav2 -k $ICA_API_KEY projectpipelines start nextflow b9b3cdde-1e0e-4079-830d-385770b86b72     --project-id bf47eb3e-868e-4f88-97ac-c2a76c3c6ac4     --storage-size small     --user-reference WHH699     --user-tag WHH699     --output-parent-folder fol.d8ba95e57f51475fc06508dcfe056ca7     --input fastq_list:fil.f8eb5f3c591445ab112c08dd127e3b30     --input fastqs:fil.aba951bcd0a345f9766808dd0a8ab0a2,fil.4f77d3c1be4243d1768608dd0a8ab0a2     --input ref_tar:fil.f9c8f899de7f4c418b4008db2043fa32     --input autosome_bed:fil.9efff4fe5d9b43a9346508db2043fa32     --parameters cyp2d6_enabled:true     --parameters prefix:WHH699     >> ica.log\n",
      "[272] WHH700 :0: icav2 -k $ICA_API_KEY projectpipelines start nextflow b9b3cdde-1e0e-4079-830d-385770b86b72     --project-id bf47eb3e-868e-4f88-97ac-c2a76c3c6ac4     --storage-size small     --user-reference WHH700     --user-tag WHH700     --output-parent-folder fol.d8ba95e57f51475fc06508dcfe056ca7     --input fastq_list:fil.ecdbfde918ff428c2fcd08dd10fce137     --input fastqs:fil.bc8cf5f39abc4aac777608dd0a8ab0a2,fil.6cfa027743304b74d41008dcfe048f15     --input ref_tar:fil.f9c8f899de7f4c418b4008db2043fa32     --input autosome_bed:fil.9efff4fe5d9b43a9346508db2043fa32     --parameters cyp2d6_enabled:true     --parameters prefix:WHH700     >> ica.log\n",
      "[273] WHH701 :0: icav2 -k $ICA_API_KEY projectpipelines start nextflow b9b3cdde-1e0e-4079-830d-385770b86b72     --project-id bf47eb3e-868e-4f88-97ac-c2a76c3c6ac4     --storage-size small     --user-reference WHH701     --user-tag WHH701     --output-parent-folder fol.d8ba95e57f51475fc06508dcfe056ca7     --input fastq_list:fil.d2c28354e5a84e580a5708dd1287949f     --input fastqs:fil.ced54aae1fa34133d2e808dcfe048f15,fil.cc7bc4896f57456a766308dd0a8ab0a2     --input ref_tar:fil.f9c8f899de7f4c418b4008db2043fa32     --input autosome_bed:fil.9efff4fe5d9b43a9346508db2043fa32     --parameters cyp2d6_enabled:true     --parameters prefix:WHH701     >> ica.log\n",
      "[274] WHH702 :0: icav2 -k $ICA_API_KEY projectpipelines start nextflow b9b3cdde-1e0e-4079-830d-385770b86b72     --project-id bf47eb3e-868e-4f88-97ac-c2a76c3c6ac4     --storage-size small     --user-reference WHH702     --user-tag WHH702     --output-parent-folder fol.d8ba95e57f51475fc06508dcfe056ca7     --input fastq_list:fil.ce057de77dbd493faf4f08dd10fde41e     --input fastqs:fil.11a7866894ee4b57765c08dd0a8ab0a2,fil.91f4648973e64c1a765d08dd0a8ab0a2     --input ref_tar:fil.f9c8f899de7f4c418b4008db2043fa32     --input autosome_bed:fil.9efff4fe5d9b43a9346508db2043fa32     --parameters cyp2d6_enabled:true     --parameters prefix:WHH702     >> ica.log\n",
      "[275] WHH703 :0: icav2 -k $ICA_API_KEY projectpipelines start nextflow b9b3cdde-1e0e-4079-830d-385770b86b72     --project-id bf47eb3e-868e-4f88-97ac-c2a76c3c6ac4     --storage-size small     --user-reference WHH703     --user-tag WHH703     --output-parent-folder fol.d8ba95e57f51475fc06508dcfe056ca7     --input fastq_list:fil.388370d9b5e34e64d12808dd12801ad0     --input fastqs:fil.7622c2b41c63442f778b08dd0a8ab0a2,fil.5d8cd07bfae841ed778c08dd0a8ab0a2     --input ref_tar:fil.f9c8f899de7f4c418b4008db2043fa32     --input autosome_bed:fil.9efff4fe5d9b43a9346508db2043fa32     --parameters cyp2d6_enabled:true     --parameters prefix:WHH703     >> ica.log\n",
      "[276] WHH704 :0: icav2 -k $ICA_API_KEY projectpipelines start nextflow b9b3cdde-1e0e-4079-830d-385770b86b72     --project-id bf47eb3e-868e-4f88-97ac-c2a76c3c6ac4     --storage-size small     --user-reference WHH704     --user-tag WHH704     --output-parent-folder fol.d8ba95e57f51475fc06508dcfe056ca7     --input fastq_list:fil.c0f6d770277e4a32112f08dd127e3b30     --input fastqs:fil.c52582ae9eaf48b8d40908dcfe048f15,fil.b948fc4083fb49f9d40e08dcfe048f15     --input ref_tar:fil.f9c8f899de7f4c418b4008db2043fa32     --input autosome_bed:fil.9efff4fe5d9b43a9346508db2043fa32     --parameters cyp2d6_enabled:true     --parameters prefix:WHH704     >> ica.log\n",
      "[277] WHH705 :0: icav2 -k $ICA_API_KEY projectpipelines start nextflow b9b3cdde-1e0e-4079-830d-385770b86b72     --project-id bf47eb3e-868e-4f88-97ac-c2a76c3c6ac4     --storage-size small     --user-reference WHH705     --user-tag WHH705     --output-parent-folder fol.d8ba95e57f51475fc06508dcfe056ca7     --input fastq_list:fil.4ed66ca822b94c652fce08dd10fce137     --input fastqs:fil.ca67a1bb34bc4a24777508dd0a8ab0a2,fil.d274a1ad169e484a777708dd0a8ab0a2     --input ref_tar:fil.f9c8f899de7f4c418b4008db2043fa32     --input autosome_bed:fil.9efff4fe5d9b43a9346508db2043fa32     --parameters cyp2d6_enabled:true     --parameters prefix:WHH705     >> ica.log\n",
      "[278] WHH706 :0: icav2 -k $ICA_API_KEY projectpipelines start nextflow b9b3cdde-1e0e-4079-830d-385770b86b72     --project-id bf47eb3e-868e-4f88-97ac-c2a76c3c6ac4     --storage-size small     --user-reference WHH706     --user-tag WHH706     --output-parent-folder fol.d8ba95e57f51475fc06508dcfe056ca7     --input fastq_list:fil.a6a3be3928c44130d12a08dd12801ad0     --input fastqs:fil.926ba735db13474a77e808dd0a8ab0a2,fil.ae1c845e55a1438177e908dd0a8ab0a2     --input ref_tar:fil.f9c8f899de7f4c418b4008db2043fa32     --input autosome_bed:fil.9efff4fe5d9b43a9346508db2043fa32     --parameters cyp2d6_enabled:true     --parameters prefix:WHH706     >> ica.log\n",
      "[279] WHH707 :0: icav2 -k $ICA_API_KEY projectpipelines start nextflow b9b3cdde-1e0e-4079-830d-385770b86b72     --project-id bf47eb3e-868e-4f88-97ac-c2a76c3c6ac4     --storage-size small     --user-reference WHH707     --user-tag WHH707     --output-parent-folder fol.d8ba95e57f51475fc06508dcfe056ca7     --input fastq_list:fil.5a412187d8404ff0d12b08dd12801ad0     --input fastqs:fil.5d183036c7e745ec77dd08dd0a8ab0a2,fil.b922c7faf0cb4a7c77de08dd0a8ab0a2     --input ref_tar:fil.f9c8f899de7f4c418b4008db2043fa32     --input autosome_bed:fil.9efff4fe5d9b43a9346508db2043fa32     --parameters cyp2d6_enabled:true     --parameters prefix:WHH707     >> ica.log\n",
      "[280] WHH708 :0: icav2 -k $ICA_API_KEY projectpipelines start nextflow b9b3cdde-1e0e-4079-830d-385770b86b72     --project-id bf47eb3e-868e-4f88-97ac-c2a76c3c6ac4     --storage-size small     --user-reference WHH708     --user-tag WHH708     --output-parent-folder fol.d8ba95e57f51475fc06508dcfe056ca7     --input fastq_list:fil.688b4ffa497a43a7d12c08dd12801ad0     --input fastqs:fil.e177c7d1290341ccd7ba08dcfe048f15,fil.998eab30cb184d39d7cc08dcfe048f15     --input ref_tar:fil.f9c8f899de7f4c418b4008db2043fa32     --input autosome_bed:fil.9efff4fe5d9b43a9346508db2043fa32     --parameters cyp2d6_enabled:true     --parameters prefix:WHH708     >> ica.log\n",
      "[281] WHH709 :0: icav2 -k $ICA_API_KEY projectpipelines start nextflow b9b3cdde-1e0e-4079-830d-385770b86b72     --project-id bf47eb3e-868e-4f88-97ac-c2a76c3c6ac4     --storage-size small     --user-reference WHH709     --user-tag WHH709     --output-parent-folder fol.d8ba95e57f51475fc06508dcfe056ca7     --input fastq_list:fil.d2fe5bfa42404904d12d08dd12801ad0     --input fastqs:fil.9c60c12a82d8470c7b4c08dd0a8ab0a2,fil.acfd2861af1741aad7d308dcfe048f15     --input ref_tar:fil.f9c8f899de7f4c418b4008db2043fa32     --input autosome_bed:fil.9efff4fe5d9b43a9346508db2043fa32     --parameters cyp2d6_enabled:true     --parameters prefix:WHH709     >> ica.log\n",
      "[282] WHH710 :0: icav2 -k $ICA_API_KEY projectpipelines start nextflow b9b3cdde-1e0e-4079-830d-385770b86b72     --project-id bf47eb3e-868e-4f88-97ac-c2a76c3c6ac4     --storage-size small     --user-reference WHH710     --user-tag WHH710     --output-parent-folder fol.d8ba95e57f51475fc06508dcfe056ca7     --input fastq_list:fil.83519feb1ee948d1af5308dd10fde41e     --input fastqs:fil.2d2469f1f3f9410b7b9a08dd0a8ab0a2,fil.4a58a8d208354982d81608dcfe048f15     --input ref_tar:fil.f9c8f899de7f4c418b4008db2043fa32     --input autosome_bed:fil.9efff4fe5d9b43a9346508db2043fa32     --parameters cyp2d6_enabled:true     --parameters prefix:WHH710     >> ica.log\n",
      "[283] WHH711 :0: icav2 -k $ICA_API_KEY projectpipelines start nextflow b9b3cdde-1e0e-4079-830d-385770b86b72     --project-id bf47eb3e-868e-4f88-97ac-c2a76c3c6ac4     --storage-size small     --user-reference WHH711     --user-tag WHH711     --output-parent-folder fol.d8ba95e57f51475fc06508dcfe056ca7     --input fastq_list:fil.a7017d1b1f6942cdd12e08dd12801ad0     --input fastqs:fil.0f88397ae6fc49c47ac908dd0a8ab0a2,fil.9365b17549004720d77108dcfe048f15     --input ref_tar:fil.f9c8f899de7f4c418b4008db2043fa32     --input autosome_bed:fil.9efff4fe5d9b43a9346508db2043fa32     --parameters cyp2d6_enabled:true     --parameters prefix:WHH711     >> ica.log\n",
      "[284] WHH712 :0: icav2 -k $ICA_API_KEY projectpipelines start nextflow b9b3cdde-1e0e-4079-830d-385770b86b72     --project-id bf47eb3e-868e-4f88-97ac-c2a76c3c6ac4     --storage-size small     --user-reference WHH712     --user-tag WHH712     --output-parent-folder fol.d8ba95e57f51475fc06508dcfe056ca7     --input fastq_list:fil.288ae854c34b451ac9ab08dcfe056ca7     --input fastqs:fil.740a3ea6a35e4a9a7b7d08dd0a8ab0a2,fil.7e7d8888268645897b9608dd0a8ab0a2     --input ref_tar:fil.f9c8f899de7f4c418b4008db2043fa32     --input autosome_bed:fil.9efff4fe5d9b43a9346508db2043fa32     --parameters cyp2d6_enabled:true     --parameters prefix:WHH712     >> ica.log\n",
      "[285] WHH713 :0: icav2 -k $ICA_API_KEY projectpipelines start nextflow b9b3cdde-1e0e-4079-830d-385770b86b72     --project-id bf47eb3e-868e-4f88-97ac-c2a76c3c6ac4     --storage-size small     --user-reference WHH713     --user-tag WHH713     --output-parent-folder fol.d8ba95e57f51475fc06508dcfe056ca7     --input fastq_list:fil.38047132751540d9c9ac08dcfe056ca7     --input fastqs:fil.95c6f81ebf914ef2d71e08dcfe048f15,fil.07663f8a99ca4e7b7aa708dd0a8ab0a2     --input ref_tar:fil.f9c8f899de7f4c418b4008db2043fa32     --input autosome_bed:fil.9efff4fe5d9b43a9346508db2043fa32     --parameters cyp2d6_enabled:true     --parameters prefix:WHH713     >> ica.log\n",
      "[286] WHH714 :0: icav2 -k $ICA_API_KEY projectpipelines start nextflow b9b3cdde-1e0e-4079-830d-385770b86b72     --project-id bf47eb3e-868e-4f88-97ac-c2a76c3c6ac4     --storage-size small     --user-reference WHH714     --user-tag WHH714     --output-parent-folder fol.d8ba95e57f51475fc06508dcfe056ca7     --input fastq_list:fil.364cf4a778094cb6af5608dd10fde41e     --input fastqs:fil.1c70b9e7cae743b979e308dd0a8ab0a2,fil.920b27244e24445179e408dd0a8ab0a2     --input ref_tar:fil.f9c8f899de7f4c418b4008db2043fa32     --input autosome_bed:fil.9efff4fe5d9b43a9346508db2043fa32     --parameters cyp2d6_enabled:true     --parameters prefix:WHH714     >> ica.log\n",
      "[287] WHH715 :0: icav2 -k $ICA_API_KEY projectpipelines start nextflow b9b3cdde-1e0e-4079-830d-385770b86b72     --project-id bf47eb3e-868e-4f88-97ac-c2a76c3c6ac4     --storage-size small     --user-reference WHH715     --user-tag WHH715     --output-parent-folder fol.d8ba95e57f51475fc06508dcfe056ca7     --input fastq_list:fil.5ccd732274d84eb5d13108dd12801ad0     --input fastqs:fil.d01e3aff7f60425a7bd108dd0a8ab0a2,fil.bfe1dfc5fb8349b7d84d08dcfe048f15     --input ref_tar:fil.f9c8f899de7f4c418b4008db2043fa32     --input autosome_bed:fil.9efff4fe5d9b43a9346508db2043fa32     --parameters cyp2d6_enabled:true     --parameters prefix:WHH715     >> ica.log\n",
      "[288] WHH716 :0: icav2 -k $ICA_API_KEY projectpipelines start nextflow b9b3cdde-1e0e-4079-830d-385770b86b72     --project-id bf47eb3e-868e-4f88-97ac-c2a76c3c6ac4     --storage-size small     --user-reference WHH716     --user-tag WHH716     --output-parent-folder fol.d8ba95e57f51475fc06508dcfe056ca7     --input fastq_list:fil.98e525d003154ec1113408dd127e3b30     --input fastqs:fil.b28c3b8c662147ea7b7c08dd0a8ab0a2,fil.46fe49abed4746ab7b8708dd0a8ab0a2     --input ref_tar:fil.f9c8f899de7f4c418b4008db2043fa32     --input autosome_bed:fil.9efff4fe5d9b43a9346508db2043fa32     --parameters cyp2d6_enabled:true     --parameters prefix:WHH716     >> ica.log\n",
      "[289] WHH717 :0: icav2 -k $ICA_API_KEY projectpipelines start nextflow b9b3cdde-1e0e-4079-830d-385770b86b72     --project-id bf47eb3e-868e-4f88-97ac-c2a76c3c6ac4     --storage-size small     --user-reference WHH717     --user-tag WHH717     --output-parent-folder fol.d8ba95e57f51475fc06508dcfe056ca7     --input fastq_list:fil.a996dc308896462cd13308dd12801ad0     --input fastqs:fil.4bbecab90192451f7b1108dd0a8ab0a2,fil.54e33dff0ca4480e7b2d08dd0a8ab0a2     --input ref_tar:fil.f9c8f899de7f4c418b4008db2043fa32     --input autosome_bed:fil.9efff4fe5d9b43a9346508db2043fa32     --parameters cyp2d6_enabled:true     --parameters prefix:WHH717     >> ica.log\n",
      "[290] WHH718 :0: icav2 -k $ICA_API_KEY projectpipelines start nextflow b9b3cdde-1e0e-4079-830d-385770b86b72     --project-id bf47eb3e-868e-4f88-97ac-c2a76c3c6ac4     --storage-size small     --user-reference WHH718     --user-tag WHH718     --output-parent-folder fol.d8ba95e57f51475fc06508dcfe056ca7     --input fastq_list:fil.0a81adc0b1394fa72fd608dd10fce137     --input fastqs:fil.672f9d90d04847c37da708dd0a8ab0a2,fil.6c0e6aad0a374daada0308dcfe048f15     --input ref_tar:fil.f9c8f899de7f4c418b4008db2043fa32     --input autosome_bed:fil.9efff4fe5d9b43a9346508db2043fa32     --parameters cyp2d6_enabled:true     --parameters prefix:WHH718     >> ica.log\n",
      "[291] WHH719 :0: icav2 -k $ICA_API_KEY projectpipelines start nextflow b9b3cdde-1e0e-4079-830d-385770b86b72     --project-id bf47eb3e-868e-4f88-97ac-c2a76c3c6ac4     --storage-size small     --user-reference WHH719     --user-tag WHH719     --output-parent-folder fol.d8ba95e57f51475fc06508dcfe056ca7     --input fastq_list:fil.2121af69bd574020113508dd127e3b30     --input fastqs:fil.c92328f51004486e7e9808dd0a8ab0a2,fil.52d7c5b8a88c460e7e9b08dd0a8ab0a2     --input ref_tar:fil.f9c8f899de7f4c418b4008db2043fa32     --input autosome_bed:fil.9efff4fe5d9b43a9346508db2043fa32     --parameters cyp2d6_enabled:true     --parameters prefix:WHH719     >> ica.log\n",
      "[292] WHH720 :0: icav2 -k $ICA_API_KEY projectpipelines start nextflow b9b3cdde-1e0e-4079-830d-385770b86b72     --project-id bf47eb3e-868e-4f88-97ac-c2a76c3c6ac4     --storage-size small     --user-reference WHH720     --user-tag WHH720     --output-parent-folder fol.d8ba95e57f51475fc06508dcfe056ca7     --input fastq_list:fil.365ba5281b304adf113608dd127e3b30     --input fastqs:fil.2d09f196fa524dbcdaf308dcfe048f15,fil.e05961cae75542ec7e9908dd0a8ab0a2     --input ref_tar:fil.f9c8f899de7f4c418b4008db2043fa32     --input autosome_bed:fil.9efff4fe5d9b43a9346508db2043fa32     --parameters cyp2d6_enabled:true     --parameters prefix:WHH720     >> ica.log\n",
      "[293] WHH721 :0: icav2 -k $ICA_API_KEY projectpipelines start nextflow b9b3cdde-1e0e-4079-830d-385770b86b72     --project-id bf47eb3e-868e-4f88-97ac-c2a76c3c6ac4     --storage-size small     --user-reference WHH721     --user-tag WHH721     --output-parent-folder fol.d8ba95e57f51475fc06508dcfe056ca7     --input fastq_list:fil.a297cc2ad01842d6113808dd127e3b30     --input fastqs:fil.b7d2b492c337413d803708dd0a8ab0a2,fil.21e217a2627d41ef803808dd0a8ab0a2     --input ref_tar:fil.f9c8f899de7f4c418b4008db2043fa32     --input autosome_bed:fil.9efff4fe5d9b43a9346508db2043fa32     --parameters cyp2d6_enabled:true     --parameters prefix:WHH721     >> ica.log\n",
      "[294] WHH722 :0: icav2 -k $ICA_API_KEY projectpipelines start nextflow b9b3cdde-1e0e-4079-830d-385770b86b72     --project-id bf47eb3e-868e-4f88-97ac-c2a76c3c6ac4     --storage-size small     --user-reference WHH722     --user-tag WHH722     --output-parent-folder fol.d8ba95e57f51475fc06508dcfe056ca7     --input fastq_list:fil.b4069753e8e64b772fdb08dd10fce137     --input fastqs:fil.99d6b8fd8be14ec9db0208dcfe048f15,fil.f216fdeaf9c04adcdb0408dcfe048f15     --input ref_tar:fil.f9c8f899de7f4c418b4008db2043fa32     --input autosome_bed:fil.9efff4fe5d9b43a9346508db2043fa32     --parameters cyp2d6_enabled:true     --parameters prefix:WHH722     >> ica.log\n",
      "[295] WHH723 :0: icav2 -k $ICA_API_KEY projectpipelines start nextflow b9b3cdde-1e0e-4079-830d-385770b86b72     --project-id bf47eb3e-868e-4f88-97ac-c2a76c3c6ac4     --storage-size small     --user-reference WHH723     --user-tag WHH723     --output-parent-folder fol.d8ba95e57f51475fc06508dcfe056ca7     --input fastq_list:fil.d2455c98c43c4a42113b08dd127e3b30     --input fastqs:fil.e7cee8252c6542c6db5b08dcfe048f15,fil.17850b5ecd834fbcdb5c08dcfe048f15     --input ref_tar:fil.f9c8f899de7f4c418b4008db2043fa32     --input autosome_bed:fil.9efff4fe5d9b43a9346508db2043fa32     --parameters cyp2d6_enabled:true     --parameters prefix:WHH723     >> ica.log\n",
      "[296] WHH724 :0: icav2 -k $ICA_API_KEY projectpipelines start nextflow b9b3cdde-1e0e-4079-830d-385770b86b72     --project-id bf47eb3e-868e-4f88-97ac-c2a76c3c6ac4     --storage-size small     --user-reference WHH724     --user-tag WHH724     --output-parent-folder fol.d8ba95e57f51475fc06508dcfe056ca7     --input fastq_list:fil.ab324d2bdf8648252fdd08dd10fce137     --input fastqs:fil.223372b9d4444281db2908dcfe048f15,fil.19755c5711c74dc9db2a08dcfe048f15     --input ref_tar:fil.f9c8f899de7f4c418b4008db2043fa32     --input autosome_bed:fil.9efff4fe5d9b43a9346508db2043fa32     --parameters cyp2d6_enabled:true     --parameters prefix:WHH724     >> ica.log\n",
      "[297] WHH725 :0: icav2 -k $ICA_API_KEY projectpipelines start nextflow b9b3cdde-1e0e-4079-830d-385770b86b72     --project-id bf47eb3e-868e-4f88-97ac-c2a76c3c6ac4     --storage-size small     --user-reference WHH725     --user-tag WHH725     --output-parent-folder fol.d8ba95e57f51475fc06508dcfe056ca7     --input fastq_list:fil.5d3d653be2dc46eac9ae08dcfe056ca7     --input fastqs:fil.6d2e72df1fde44147e7f08dd0a8ab0a2,fil.fed081b2026245087e8c08dd0a8ab0a2     --input ref_tar:fil.f9c8f899de7f4c418b4008db2043fa32     --input autosome_bed:fil.9efff4fe5d9b43a9346508db2043fa32     --parameters cyp2d6_enabled:true     --parameters prefix:WHH725     >> ica.log\n",
      "[298] WHH726 :0: icav2 -k $ICA_API_KEY projectpipelines start nextflow b9b3cdde-1e0e-4079-830d-385770b86b72     --project-id bf47eb3e-868e-4f88-97ac-c2a76c3c6ac4     --storage-size small     --user-reference WHH726     --user-tag WHH726     --output-parent-folder fol.d8ba95e57f51475fc06508dcfe056ca7     --input fastq_list:fil.59c9837c4f4641e2d13708dd12801ad0     --input fastqs:fil.019171424806401b7d7508dd0a8ab0a2,fil.061d6ea47ece4d30d9d108dcfe048f15     --input ref_tar:fil.f9c8f899de7f4c418b4008db2043fa32     --input autosome_bed:fil.9efff4fe5d9b43a9346508db2043fa32     --parameters cyp2d6_enabled:true     --parameters prefix:WHH726     >> ica.log\n",
      "[299] WHH727 :0: icav2 -k $ICA_API_KEY projectpipelines start nextflow b9b3cdde-1e0e-4079-830d-385770b86b72     --project-id bf47eb3e-868e-4f88-97ac-c2a76c3c6ac4     --storage-size small     --user-reference WHH727     --user-tag WHH727     --output-parent-folder fol.d8ba95e57f51475fc06508dcfe056ca7     --input fastq_list:fil.7f6b9db8162b48f22fdf08dd10fce137     --input fastqs:fil.871efe30ff644a227ee708dd0a8ab0a2,fil.d7ee06cabdb94864db5f08dcfe048f15     --input ref_tar:fil.f9c8f899de7f4c418b4008db2043fa32     --input autosome_bed:fil.9efff4fe5d9b43a9346508db2043fa32     --parameters cyp2d6_enabled:true     --parameters prefix:WHH727     >> ica.log\n",
      "[300] WHH728 :0: icav2 -k $ICA_API_KEY projectpipelines start nextflow b9b3cdde-1e0e-4079-830d-385770b86b72     --project-id bf47eb3e-868e-4f88-97ac-c2a76c3c6ac4     --storage-size small     --user-reference WHH728     --user-tag WHH728     --output-parent-folder fol.d8ba95e57f51475fc06508dcfe056ca7     --input fastq_list:fil.0e4b6a390b4b4661c9b008dcfe056ca7     --input fastqs:fil.b2e0f2d9964c49f3dd4a08dcfe048f15,fil.438a3dc7ba664363dd4b08dcfe048f15     --input ref_tar:fil.f9c8f899de7f4c418b4008db2043fa32     --input autosome_bed:fil.9efff4fe5d9b43a9346508db2043fa32     --parameters cyp2d6_enabled:true     --parameters prefix:WHH728     >> ica.log\n",
      "[301] WHH729 :0: icav2 -k $ICA_API_KEY projectpipelines start nextflow b9b3cdde-1e0e-4079-830d-385770b86b72     --project-id bf47eb3e-868e-4f88-97ac-c2a76c3c6ac4     --storage-size small     --user-reference WHH729     --user-tag WHH729     --output-parent-folder fol.d8ba95e57f51475fc06508dcfe056ca7     --input fastq_list:fil.a08dfdc9b69140810a6308dd1287949f     --input fastqs:fil.284c85934f6a4c501e0308dcfe048f16,fil.4502673f7e9a4ccb1e0508dcfe048f16     --input ref_tar:fil.f9c8f899de7f4c418b4008db2043fa32     --input autosome_bed:fil.9efff4fe5d9b43a9346508db2043fa32     --parameters cyp2d6_enabled:true     --parameters prefix:WHH729     >> ica.log\n",
      "[302] WHH730 :0: icav2 -k $ICA_API_KEY projectpipelines start nextflow b9b3cdde-1e0e-4079-830d-385770b86b72     --project-id bf47eb3e-868e-4f88-97ac-c2a76c3c6ac4     --storage-size small     --user-reference WHH730     --user-tag WHH730     --output-parent-folder fol.d8ba95e57f51475fc06508dcfe056ca7     --input fastq_list:fil.894196cac9c640c0af5d08dd10fde41e     --input fastqs:fil.aee51c3495334cebc11808dd0a8ab0a2,fil.3218a99900154e881bc308dcfe048f16     --input ref_tar:fil.f9c8f899de7f4c418b4008db2043fa32     --input autosome_bed:fil.9efff4fe5d9b43a9346508db2043fa32     --parameters cyp2d6_enabled:true     --parameters prefix:WHH730     >> ica.log\n",
      "[303] WHH731 :0: icav2 -k $ICA_API_KEY projectpipelines start nextflow b9b3cdde-1e0e-4079-830d-385770b86b72     --project-id bf47eb3e-868e-4f88-97ac-c2a76c3c6ac4     --storage-size small     --user-reference WHH731     --user-tag WHH731     --output-parent-folder fol.d8ba95e57f51475fc06508dcfe056ca7     --input fastq_list:fil.c96b0c605ceb4e54d13908dd12801ad0     --input fastqs:fil.4ec62bcd594948f4badb08dd0a8ab0a2,fil.8051fc090ba044ebbb1f08dd0a8ab0a2     --input ref_tar:fil.f9c8f899de7f4c418b4008db2043fa32     --input autosome_bed:fil.9efff4fe5d9b43a9346508db2043fa32     --parameters cyp2d6_enabled:true     --parameters prefix:WHH731     >> ica.log\n",
      "[304] WHH732 :0: icav2 -k $ICA_API_KEY projectpipelines start nextflow b9b3cdde-1e0e-4079-830d-385770b86b72     --project-id bf47eb3e-868e-4f88-97ac-c2a76c3c6ac4     --storage-size small     --user-reference WHH732     --user-tag WHH732     --output-parent-folder fol.d8ba95e57f51475fc06508dcfe056ca7     --input fastq_list:fil.a5357d5a16274bedaf5e08dd10fde41e     --input fastqs:fil.6225f51bbb5a48560ecb08dcfe048f16,fil.761a9357963e43800ed408dcfe048f16     --input ref_tar:fil.f9c8f899de7f4c418b4008db2043fa32     --input autosome_bed:fil.9efff4fe5d9b43a9346508db2043fa32     --parameters cyp2d6_enabled:true     --parameters prefix:WHH732     >> ica.log\n",
      "[305] WHH733 :0: icav2 -k $ICA_API_KEY projectpipelines start nextflow b9b3cdde-1e0e-4079-830d-385770b86b72     --project-id bf47eb3e-868e-4f88-97ac-c2a76c3c6ac4     --storage-size small     --user-reference WHH733     --user-tag WHH733     --output-parent-folder fol.d8ba95e57f51475fc06508dcfe056ca7     --input fastq_list:fil.4ffc967acfd94bb8113f08dd127e3b30     --input fastqs:fil.65e6cc220363496ab20308dd0a8ab0a2,fil.0c9fd47e3edb4066b20508dd0a8ab0a2     --input ref_tar:fil.f9c8f899de7f4c418b4008db2043fa32     --input autosome_bed:fil.9efff4fe5d9b43a9346508db2043fa32     --parameters cyp2d6_enabled:true     --parameters prefix:WHH733     >> ica.log\n",
      "[306] WHH734 :0: icav2 -k $ICA_API_KEY projectpipelines start nextflow b9b3cdde-1e0e-4079-830d-385770b86b72     --project-id bf47eb3e-868e-4f88-97ac-c2a76c3c6ac4     --storage-size small     --user-reference WHH734     --user-tag WHH734     --output-parent-folder fol.d8ba95e57f51475fc06508dcfe056ca7     --input fastq_list:fil.eea08e960b744ef8d13b08dd12801ad0     --input fastqs:fil.f1e23642d2f64a1f0f1f08dcfe048f16,fil.10d747f020364132b47408dd0a8ab0a2     --input ref_tar:fil.f9c8f899de7f4c418b4008db2043fa32     --input autosome_bed:fil.9efff4fe5d9b43a9346508db2043fa32     --parameters cyp2d6_enabled:true     --parameters prefix:WHH734     >> ica.log\n",
      "[307] WHH735 :0: icav2 -k $ICA_API_KEY projectpipelines start nextflow b9b3cdde-1e0e-4079-830d-385770b86b72     --project-id bf47eb3e-868e-4f88-97ac-c2a76c3c6ac4     --storage-size small     --user-reference WHH735     --user-tag WHH735     --output-parent-folder fol.d8ba95e57f51475fc06508dcfe056ca7     --input fastq_list:fil.be942d14c6a34c19d13c08dd12801ad0     --input fastqs:fil.4ba47340b1dd4fbebbad08dd0a8ab0a2,fil.f5b1f42ed48c46e4bc8e08dd0a8ab0a2     --input ref_tar:fil.f9c8f899de7f4c418b4008db2043fa32     --input autosome_bed:fil.9efff4fe5d9b43a9346508db2043fa32     --parameters cyp2d6_enabled:true     --parameters prefix:WHH735     >> ica.log\n",
      "[308] WHH736 :0: icav2 -k $ICA_API_KEY projectpipelines start nextflow b9b3cdde-1e0e-4079-830d-385770b86b72     --project-id bf47eb3e-868e-4f88-97ac-c2a76c3c6ac4     --storage-size small     --user-reference WHH736     --user-tag WHH736     --output-parent-folder fol.d8ba95e57f51475fc06508dcfe056ca7     --input fastq_list:fil.e1163d2f16ff41422fe308dd10fce137     --input fastqs:fil.3a66fc8d08da4f64b59608dd0a8ab0a2,fil.6c3f1065c69e4901b59a08dd0a8ab0a2     --input ref_tar:fil.f9c8f899de7f4c418b4008db2043fa32     --input autosome_bed:fil.9efff4fe5d9b43a9346508db2043fa32     --parameters cyp2d6_enabled:true     --parameters prefix:WHH736     >> ica.log\n",
      "[309] WHH737 :0: icav2 -k $ICA_API_KEY projectpipelines start nextflow b9b3cdde-1e0e-4079-830d-385770b86b72     --project-id bf47eb3e-868e-4f88-97ac-c2a76c3c6ac4     --storage-size small     --user-reference WHH737     --user-tag WHH737     --output-parent-folder fol.d8ba95e57f51475fc06508dcfe056ca7     --input fastq_list:fil.c7e3f7e08f264e89d14008dd12801ad0     --input fastqs:fil.341b41a63ba44a8bbdcb08dd0a8ab0a2,fil.fbab4724d26147d5be2c08dd0a8ab0a2     --input ref_tar:fil.f9c8f899de7f4c418b4008db2043fa32     --input autosome_bed:fil.9efff4fe5d9b43a9346508db2043fa32     --parameters cyp2d6_enabled:true     --parameters prefix:WHH737     >> ica.log\n",
      "[310] WHH738 :0: icav2 -k $ICA_API_KEY projectpipelines start nextflow b9b3cdde-1e0e-4079-830d-385770b86b72     --project-id bf47eb3e-868e-4f88-97ac-c2a76c3c6ac4     --storage-size small     --user-reference WHH738     --user-tag WHH738     --output-parent-folder fol.d8ba95e57f51475fc06508dcfe056ca7     --input fastq_list:fil.78efa6aae923482d114208dd127e3b30     --input fastqs:fil.7dc41ab0701a4f480eaa08dcfe048f16,fil.80bad24da3e7443a0ecc08dcfe048f16     --input ref_tar:fil.f9c8f899de7f4c418b4008db2043fa32     --input autosome_bed:fil.9efff4fe5d9b43a9346508db2043fa32     --parameters cyp2d6_enabled:true     --parameters prefix:WHH738     >> ica.log\n",
      "[311] WHH739 :0: icav2 -k $ICA_API_KEY projectpipelines start nextflow b9b3cdde-1e0e-4079-830d-385770b86b72     --project-id bf47eb3e-868e-4f88-97ac-c2a76c3c6ac4     --storage-size small     --user-reference WHH739     --user-tag WHH739     --output-parent-folder fol.d8ba95e57f51475fc06508dcfe056ca7     --input fastq_list:fil.9b47d495ed204062d14108dd12801ad0     --input fastqs:fil.db662c8fdde7451919ec08dcfe048f16,fil.39485243aa6b4ff81a7e08dcfe048f16     --input ref_tar:fil.f9c8f899de7f4c418b4008db2043fa32     --input autosome_bed:fil.9efff4fe5d9b43a9346508db2043fa32     --parameters cyp2d6_enabled:true     --parameters prefix:WHH739     >> ica.log\n",
      "[312] WHH740 :0: icav2 -k $ICA_API_KEY projectpipelines start nextflow b9b3cdde-1e0e-4079-830d-385770b86b72     --project-id bf47eb3e-868e-4f88-97ac-c2a76c3c6ac4     --storage-size small     --user-reference WHH740     --user-tag WHH740     --output-parent-folder fol.d8ba95e57f51475fc06508dcfe056ca7     --input fastq_list:fil.519b89b9e8354061c9b308dcfe056ca7     --input fastqs:fil.1596613c16b6461eb57608dd0a8ab0a2,fil.f72b5244515c4514b59008dd0a8ab0a2     --input ref_tar:fil.f9c8f899de7f4c418b4008db2043fa32     --input autosome_bed:fil.9efff4fe5d9b43a9346508db2043fa32     --parameters cyp2d6_enabled:true     --parameters prefix:WHH740     >> ica.log\n",
      "[313] WHH741 :0: icav2 -k $ICA_API_KEY projectpipelines start nextflow b9b3cdde-1e0e-4079-830d-385770b86b72     --project-id bf47eb3e-868e-4f88-97ac-c2a76c3c6ac4     --storage-size small     --user-reference WHH741     --user-tag WHH741     --output-parent-folder fol.d8ba95e57f51475fc06508dcfe056ca7     --input fastq_list:fil.6038a04915e447ab0a6808dd1287949f     --input fastqs:fil.cb22e1735e584e160cf708dcfe048f16,fil.0157f5058dd54ea10d1908dcfe048f16     --input ref_tar:fil.f9c8f899de7f4c418b4008db2043fa32     --input autosome_bed:fil.9efff4fe5d9b43a9346508db2043fa32     --parameters cyp2d6_enabled:true     --parameters prefix:WHH741     >> ica.log\n",
      "[314] WHH742 :0: icav2 -k $ICA_API_KEY projectpipelines start nextflow b9b3cdde-1e0e-4079-830d-385770b86b72     --project-id bf47eb3e-868e-4f88-97ac-c2a76c3c6ac4     --storage-size small     --user-reference WHH742     --user-tag WHH742     --output-parent-folder fol.d8ba95e57f51475fc06508dcfe056ca7     --input fastq_list:fil.340ca9f0554947430a6a08dd1287949f     --input fastqs:fil.99630f5b968747aa0ef408dcfe048f16,fil.bd483a62d1e846d6b46b08dd0a8ab0a2     --input ref_tar:fil.f9c8f899de7f4c418b4008db2043fa32     --input autosome_bed:fil.9efff4fe5d9b43a9346508db2043fa32     --parameters cyp2d6_enabled:true     --parameters prefix:WHH742     >> ica.log\n",
      "[315] WHH743 :0: icav2 -k $ICA_API_KEY projectpipelines start nextflow b9b3cdde-1e0e-4079-830d-385770b86b72     --project-id bf47eb3e-868e-4f88-97ac-c2a76c3c6ac4     --storage-size small     --user-reference WHH743     --user-tag WHH743     --output-parent-folder fol.d8ba95e57f51475fc06508dcfe056ca7     --input fastq_list:fil.8dbdd124de6f4c16af6308dd10fde41e     --input fastqs:fil.4b0ad32360dc46e9bad808dd0a8ab0a2,fil.bc272a88ecc7435815ac08dcfe048f16     --input ref_tar:fil.f9c8f899de7f4c418b4008db2043fa32     --input autosome_bed:fil.9efff4fe5d9b43a9346508db2043fa32     --parameters cyp2d6_enabled:true     --parameters prefix:WHH743     >> ica.log\n",
      "[316] WHH744 :0: icav2 -k $ICA_API_KEY projectpipelines start nextflow b9b3cdde-1e0e-4079-830d-385770b86b72     --project-id bf47eb3e-868e-4f88-97ac-c2a76c3c6ac4     --storage-size small     --user-reference WHH744     --user-tag WHH744     --output-parent-folder fol.d8ba95e57f51475fc06508dcfe056ca7     --input fastq_list:fil.127c6dfbb7e847090a6c08dd1287949f     --input fastqs:fil.328df8b3d27c4c5211de08dcfe048f16,fil.b394dfff9d6a408511e508dcfe048f16     --input ref_tar:fil.f9c8f899de7f4c418b4008db2043fa32     --input autosome_bed:fil.9efff4fe5d9b43a9346508db2043fa32     --parameters cyp2d6_enabled:true     --parameters prefix:WHH744     >> ica.log\n",
      "[317] WHH745 :0: icav2 -k $ICA_API_KEY projectpipelines start nextflow b9b3cdde-1e0e-4079-830d-385770b86b72     --project-id bf47eb3e-868e-4f88-97ac-c2a76c3c6ac4     --storage-size small     --user-reference WHH745     --user-tag WHH745     --output-parent-folder fol.d8ba95e57f51475fc06508dcfe056ca7     --input fastq_list:fil.20cb7025528c41fdd14508dd12801ad0     --input fastqs:fil.6fc1429e3a3243d8172608dcfe048f16,fil.8d445b9322b84d32bca908dd0a8ab0a2     --input ref_tar:fil.f9c8f899de7f4c418b4008db2043fa32     --input autosome_bed:fil.9efff4fe5d9b43a9346508db2043fa32     --parameters cyp2d6_enabled:true     --parameters prefix:WHH745     >> ica.log\n",
      "[318] WHH746 :0: icav2 -k $ICA_API_KEY projectpipelines start nextflow b9b3cdde-1e0e-4079-830d-385770b86b72     --project-id bf47eb3e-868e-4f88-97ac-c2a76c3c6ac4     --storage-size small     --user-reference WHH746     --user-tag WHH746     --output-parent-folder fol.d8ba95e57f51475fc06508dcfe056ca7     --input fastq_list:fil.15bdb061ba5f4825c9b508dcfe056ca7     --input fastqs:fil.523abfdf98374eccb62d08dd0a8ab0a2,fil.0bc5eb3b44cd4897b63008dd0a8ab0a2     --input ref_tar:fil.f9c8f899de7f4c418b4008db2043fa32     --input autosome_bed:fil.9efff4fe5d9b43a9346508db2043fa32     --parameters cyp2d6_enabled:true     --parameters prefix:WHH746     >> ica.log\n",
      "[319] WHH747 :0: icav2 -k $ICA_API_KEY projectpipelines start nextflow b9b3cdde-1e0e-4079-830d-385770b86b72     --project-id bf47eb3e-868e-4f88-97ac-c2a76c3c6ac4     --storage-size small     --user-reference WHH747     --user-tag WHH747     --output-parent-folder fol.d8ba95e57f51475fc06508dcfe056ca7     --input fastq_list:fil.b757cd6cf2d54ec9114408dd127e3b30     --input fastqs:fil.6826ff59c8ed475ab57508dd0a8ab0a2,fil.e494d0d86d2543b5b57a08dd0a8ab0a2     --input ref_tar:fil.f9c8f899de7f4c418b4008db2043fa32     --input autosome_bed:fil.9efff4fe5d9b43a9346508db2043fa32     --parameters cyp2d6_enabled:true     --parameters prefix:WHH747     >> ica.log\n",
      "[320] WHH748 :0: icav2 -k $ICA_API_KEY projectpipelines start nextflow b9b3cdde-1e0e-4079-830d-385770b86b72     --project-id bf47eb3e-868e-4f88-97ac-c2a76c3c6ac4     --storage-size small     --user-reference WHH748     --user-tag WHH748     --output-parent-folder fol.d8ba95e57f51475fc06508dcfe056ca7     --input fastq_list:fil.a72551d0158246e3114508dd127e3b30     --input fastqs:fil.88ff525b22c84773b48e08dd0a8ab0a2,fil.5c81973c609e4581b4be08dd0a8ab0a2     --input ref_tar:fil.f9c8f899de7f4c418b4008db2043fa32     --input autosome_bed:fil.9efff4fe5d9b43a9346508db2043fa32     --parameters cyp2d6_enabled:true     --parameters prefix:WHH748     >> ica.log\n",
      "[321] WHH749 :0: icav2 -k $ICA_API_KEY projectpipelines start nextflow b9b3cdde-1e0e-4079-830d-385770b86b72     --project-id bf47eb3e-868e-4f88-97ac-c2a76c3c6ac4     --storage-size small     --user-reference WHH749     --user-tag WHH749     --output-parent-folder fol.d8ba95e57f51475fc06508dcfe056ca7     --input fastq_list:fil.b318a58b18d049af2fe908dd10fce137     --input fastqs:fil.5ef392d151d04c28baa208dd0a8ab0a2,fil.6140b0cc5cd84541158308dcfe048f16     --input ref_tar:fil.f9c8f899de7f4c418b4008db2043fa32     --input autosome_bed:fil.9efff4fe5d9b43a9346508db2043fa32     --parameters cyp2d6_enabled:true     --parameters prefix:WHH749     >> ica.log\n",
      "[322] WHH750 :0: icav2 -k $ICA_API_KEY projectpipelines start nextflow b9b3cdde-1e0e-4079-830d-385770b86b72     --project-id bf47eb3e-868e-4f88-97ac-c2a76c3c6ac4     --storage-size small     --user-reference WHH750     --user-tag WHH750     --output-parent-folder fol.d8ba95e57f51475fc06508dcfe056ca7     --input fastq_list:fil.845352923e8b401dc9b808dcfe056ca7     --input fastqs:fil.4f9cf5ffb9d541abbf3708dd0a8ab0a2,fil.c57236baff9d4b4bbfe308dd0a8ab0a2     --input ref_tar:fil.f9c8f899de7f4c418b4008db2043fa32     --input autosome_bed:fil.9efff4fe5d9b43a9346508db2043fa32     --parameters cyp2d6_enabled:true     --parameters prefix:WHH750     >> ica.log\n",
      "[323] WHH751 :0: icav2 -k $ICA_API_KEY projectpipelines start nextflow b9b3cdde-1e0e-4079-830d-385770b86b72     --project-id bf47eb3e-868e-4f88-97ac-c2a76c3c6ac4     --storage-size small     --user-reference WHH751     --user-tag WHH751     --output-parent-folder fol.d8ba95e57f51475fc06508dcfe056ca7     --input fastq_list:fil.111878fe7db64a24af6608dd10fde41e     --input fastqs:fil.304586c8cfec4637b3ea08dd0a8ab0a2,fil.a7f3352e3e8d44cf0f1708dcfe048f16     --input ref_tar:fil.f9c8f899de7f4c418b4008db2043fa32     --input autosome_bed:fil.9efff4fe5d9b43a9346508db2043fa32     --parameters cyp2d6_enabled:true     --parameters prefix:WHH751     >> ica.log\n",
      "[324] WHH752 :0: icav2 -k $ICA_API_KEY projectpipelines start nextflow b9b3cdde-1e0e-4079-830d-385770b86b72     --project-id bf47eb3e-868e-4f88-97ac-c2a76c3c6ac4     --storage-size small     --user-reference WHH752     --user-tag WHH752     --output-parent-folder fol.d8ba95e57f51475fc06508dcfe056ca7     --input fastq_list:fil.a66967f8990f4139114708dd127e3b30     --input fastqs:fil.51fa114fd66745f1c3a908dd0a8ab0a2,fil.8a59a029974f43a01e4f08dcfe048f16     --input ref_tar:fil.f9c8f899de7f4c418b4008db2043fa32     --input autosome_bed:fil.9efff4fe5d9b43a9346508db2043fa32     --parameters cyp2d6_enabled:true     --parameters prefix:WHH752     >> ica.log\n",
      "[325] WHH753 :0: icav2 -k $ICA_API_KEY projectpipelines start nextflow b9b3cdde-1e0e-4079-830d-385770b86b72     --project-id bf47eb3e-868e-4f88-97ac-c2a76c3c6ac4     --storage-size small     --user-reference WHH753     --user-tag WHH753     --output-parent-folder fol.d8ba95e57f51475fc06508dcfe056ca7     --input fastq_list:fil.7e05c75accb44c0a2fec08dd10fce137     --input fastqs:fil.f1882c0d26ca40170d5508dcfe048f16,fil.dfdcfb91775440ad0d5608dcfe048f16     --input ref_tar:fil.f9c8f899de7f4c418b4008db2043fa32     --input autosome_bed:fil.9efff4fe5d9b43a9346508db2043fa32     --parameters cyp2d6_enabled:true     --parameters prefix:WHH753     >> ica.log\n",
      "[326] WHH754 :0: icav2 -k $ICA_API_KEY projectpipelines start nextflow b9b3cdde-1e0e-4079-830d-385770b86b72     --project-id bf47eb3e-868e-4f88-97ac-c2a76c3c6ac4     --storage-size small     --user-reference WHH754     --user-tag WHH754     --output-parent-folder fol.d8ba95e57f51475fc06508dcfe056ca7     --input fastq_list:fil.e2a6721ab7214af70a7108dd1287949f     --input fastqs:fil.423389f683cb47a71e5608dcfe048f16,fil.a4099085882347071e5708dcfe048f16     --input ref_tar:fil.f9c8f899de7f4c418b4008db2043fa32     --input autosome_bed:fil.9efff4fe5d9b43a9346508db2043fa32     --parameters cyp2d6_enabled:true     --parameters prefix:WHH754     >> ica.log\n",
      "[327] WHH755 :0: icav2 -k $ICA_API_KEY projectpipelines start nextflow b9b3cdde-1e0e-4079-830d-385770b86b72     --project-id bf47eb3e-868e-4f88-97ac-c2a76c3c6ac4     --storage-size small     --user-reference WHH755     --user-tag WHH755     --output-parent-folder fol.d8ba95e57f51475fc06508dcfe056ca7     --input fastq_list:fil.ad347b9e24e0417ac9ba08dcfe056ca7     --input fastqs:fil.3a290a2bf6d8407a1b8808dcfe048f16,fil.7dba7e1273af4142c10608dd0a8ab0a2     --input ref_tar:fil.f9c8f899de7f4c418b4008db2043fa32     --input autosome_bed:fil.9efff4fe5d9b43a9346508db2043fa32     --parameters cyp2d6_enabled:true     --parameters prefix:WHH755     >> ica.log\n",
      "[328] WHH756 :0: icav2 -k $ICA_API_KEY projectpipelines start nextflow b9b3cdde-1e0e-4079-830d-385770b86b72     --project-id bf47eb3e-868e-4f88-97ac-c2a76c3c6ac4     --storage-size small     --user-reference WHH756     --user-tag WHH756     --output-parent-folder fol.d8ba95e57f51475fc06508dcfe056ca7     --input fastq_list:fil.46d2f4c68f6445f9af6808dd10fde41e     --input fastqs:fil.d91c8583ce75484017cb08dcfe048f16,fil.828fa549313446ea181608dcfe048f16     --input ref_tar:fil.f9c8f899de7f4c418b4008db2043fa32     --input autosome_bed:fil.9efff4fe5d9b43a9346508db2043fa32     --parameters cyp2d6_enabled:true     --parameters prefix:WHH756     >> ica.log\n",
      "[329] WHH757 :0: icav2 -k $ICA_API_KEY projectpipelines start nextflow b9b3cdde-1e0e-4079-830d-385770b86b72     --project-id bf47eb3e-868e-4f88-97ac-c2a76c3c6ac4     --storage-size small     --user-reference WHH757     --user-tag WHH757     --output-parent-folder fol.d8ba95e57f51475fc06508dcfe056ca7     --input fastq_list:fil.ac671a94cb1449d22fed08dd10fce137     --input fastqs:fil.b20df5a1352f4fa40f5208dcfe048f16,fil.a86ff600c841424ab48608dd0a8ab0a2     --input ref_tar:fil.f9c8f899de7f4c418b4008db2043fa32     --input autosome_bed:fil.9efff4fe5d9b43a9346508db2043fa32     --parameters cyp2d6_enabled:true     --parameters prefix:WHH757     >> ica.log\n",
      "[330] WHH758 :0: icav2 -k $ICA_API_KEY projectpipelines start nextflow b9b3cdde-1e0e-4079-830d-385770b86b72     --project-id bf47eb3e-868e-4f88-97ac-c2a76c3c6ac4     --storage-size small     --user-reference WHH758     --user-tag WHH758     --output-parent-folder fol.d8ba95e57f51475fc06508dcfe056ca7     --input fastq_list:fil.5d700dc9d4a04cf1d14b08dd12801ad0     --input fastqs:fil.c8580ddc964342bcbb5608dd0a8ab0a2,fil.a441ab0bda7c43a1161708dcfe048f16     --input ref_tar:fil.f9c8f899de7f4c418b4008db2043fa32     --input autosome_bed:fil.9efff4fe5d9b43a9346508db2043fa32     --parameters cyp2d6_enabled:true     --parameters prefix:WHH758     >> ica.log\n",
      "[331] WHH759 :0: icav2 -k $ICA_API_KEY projectpipelines start nextflow b9b3cdde-1e0e-4079-830d-385770b86b72     --project-id bf47eb3e-868e-4f88-97ac-c2a76c3c6ac4     --storage-size small     --user-reference WHH759     --user-tag WHH759     --output-parent-folder fol.d8ba95e57f51475fc06508dcfe056ca7     --input fastq_list:fil.bd165d1f1f864fecaf6b08dd10fde41e     --input fastqs:fil.b6db3cfcc1214854158908dcfe048f16,fil.d933964a45c74aa3bb1208dd0a8ab0a2     --input ref_tar:fil.f9c8f899de7f4c418b4008db2043fa32     --input autosome_bed:fil.9efff4fe5d9b43a9346508db2043fa32     --parameters cyp2d6_enabled:true     --parameters prefix:WHH759     >> ica.log\n",
      "[332] WHH760 :0: icav2 -k $ICA_API_KEY projectpipelines start nextflow b9b3cdde-1e0e-4079-830d-385770b86b72     --project-id bf47eb3e-868e-4f88-97ac-c2a76c3c6ac4     --storage-size small     --user-reference WHH760     --user-tag WHH760     --output-parent-folder fol.d8ba95e57f51475fc06508dcfe056ca7     --input fastq_list:fil.4916e6d5674f4cf0c9be08dcfe056ca7     --input fastqs:fil.e07c04b56a9f48061a6d08dcfe048f16,fil.93aee5e95d7a4e9ec02208dd0a8ab0a2     --input ref_tar:fil.f9c8f899de7f4c418b4008db2043fa32     --input autosome_bed:fil.9efff4fe5d9b43a9346508db2043fa32     --parameters cyp2d6_enabled:true     --parameters prefix:WHH760     >> ica.log\n",
      "[333] WHH761 :0: icav2 -k $ICA_API_KEY projectpipelines start nextflow b9b3cdde-1e0e-4079-830d-385770b86b72     --project-id bf47eb3e-868e-4f88-97ac-c2a76c3c6ac4     --storage-size small     --user-reference WHH761     --user-tag WHH761     --output-parent-folder fol.d8ba95e57f51475fc06508dcfe056ca7     --input fastq_list:fil.4950ddded52f4377c9c008dcfe056ca7     --input fastqs:fil.822073c94a6f4200bef108dd0a8ab0a2,fil.199e9de8b77244f119e608dcfe048f16     --input ref_tar:fil.f9c8f899de7f4c418b4008db2043fa32     --input autosome_bed:fil.9efff4fe5d9b43a9346508db2043fa32     --parameters cyp2d6_enabled:true     --parameters prefix:WHH761     >> ica.log\n",
      "[334] WHH762 :0: icav2 -k $ICA_API_KEY projectpipelines start nextflow b9b3cdde-1e0e-4079-830d-385770b86b72     --project-id bf47eb3e-868e-4f88-97ac-c2a76c3c6ac4     --storage-size small     --user-reference WHH762     --user-tag WHH762     --output-parent-folder fol.d8ba95e57f51475fc06508dcfe056ca7     --input fastq_list:fil.d614c4a1c0c8441b2ff008dd10fce137     --input fastqs:fil.998eda20a2814a440f2008dcfe048f16,fil.e247ca413113454db47208dd0a8ab0a2     --input ref_tar:fil.f9c8f899de7f4c418b4008db2043fa32     --input autosome_bed:fil.9efff4fe5d9b43a9346508db2043fa32     --parameters cyp2d6_enabled:true     --parameters prefix:WHH762     >> ica.log\n",
      "[335] WHH763 :0: icav2 -k $ICA_API_KEY projectpipelines start nextflow b9b3cdde-1e0e-4079-830d-385770b86b72     --project-id bf47eb3e-868e-4f88-97ac-c2a76c3c6ac4     --storage-size small     --user-reference WHH763     --user-tag WHH763     --output-parent-folder fol.d8ba95e57f51475fc06508dcfe056ca7     --input fastq_list:fil.f3ad77777bca4e2b0a7408dd1287949f     --input fastqs:fil.3154b5e370b24ee4b4e008dd0a8ab0a2,fil.27cd5be2013c4b02b50b08dd0a8ab0a2     --input ref_tar:fil.f9c8f899de7f4c418b4008db2043fa32     --input autosome_bed:fil.9efff4fe5d9b43a9346508db2043fa32     --parameters cyp2d6_enabled:true     --parameters prefix:WHH763     >> ica.log\n",
      "[336] WHH764 :0: icav2 -k $ICA_API_KEY projectpipelines start nextflow b9b3cdde-1e0e-4079-830d-385770b86b72     --project-id bf47eb3e-868e-4f88-97ac-c2a76c3c6ac4     --storage-size small     --user-reference WHH764     --user-tag WHH764     --output-parent-folder fol.d8ba95e57f51475fc06508dcfe056ca7     --input fastq_list:fil.8bc02319b0b148b4af6c08dd10fde41e     --input fastqs:fil.83a1d36c3b1c4b4ab4df08dd0a8ab0a2,fil.f3560a32178145480fe908dcfe048f16     --input ref_tar:fil.f9c8f899de7f4c418b4008db2043fa32     --input autosome_bed:fil.9efff4fe5d9b43a9346508db2043fa32     --parameters cyp2d6_enabled:true     --parameters prefix:WHH764     >> ica.log\n",
      "[337] WHH765 :0: icav2 -k $ICA_API_KEY projectpipelines start nextflow b9b3cdde-1e0e-4079-830d-385770b86b72     --project-id bf47eb3e-868e-4f88-97ac-c2a76c3c6ac4     --storage-size small     --user-reference WHH765     --user-tag WHH765     --output-parent-folder fol.d8ba95e57f51475fc06508dcfe056ca7     --input fastq_list:fil.060ccbc972c34232d14c08dd12801ad0     --input fastqs:fil.0b541defbb42471bb62f08dd0a8ab0a2,fil.44701a2e8531435c118208dcfe048f16     --input ref_tar:fil.f9c8f899de7f4c418b4008db2043fa32     --input autosome_bed:fil.9efff4fe5d9b43a9346508db2043fa32     --parameters cyp2d6_enabled:true     --parameters prefix:WHH765     >> ica.log\n",
      "[338] WHH766 :0: icav2 -k $ICA_API_KEY projectpipelines start nextflow b9b3cdde-1e0e-4079-830d-385770b86b72     --project-id bf47eb3e-868e-4f88-97ac-c2a76c3c6ac4     --storage-size small     --user-reference WHH766     --user-tag WHH766     --output-parent-folder fol.d8ba95e57f51475fc06508dcfe056ca7     --input fastq_list:fil.21de6f454ec549d1114e08dd127e3b30     --input fastqs:fil.e126b8ce3be84373156908dcfe048f16,fil.784c74a15c404adf158c08dcfe048f16     --input ref_tar:fil.f9c8f899de7f4c418b4008db2043fa32     --input autosome_bed:fil.9efff4fe5d9b43a9346508db2043fa32     --parameters cyp2d6_enabled:true     --parameters prefix:WHH766     >> ica.log\n",
      "[339] WHH767 :0: icav2 -k $ICA_API_KEY projectpipelines start nextflow b9b3cdde-1e0e-4079-830d-385770b86b72     --project-id bf47eb3e-868e-4f88-97ac-c2a76c3c6ac4     --storage-size small     --user-reference WHH767     --user-tag WHH767     --output-parent-folder fol.d8ba95e57f51475fc06508dcfe056ca7     --input fastq_list:fil.f9362c7f3d9942e92ff408dd10fce137     --input fastqs:fil.f9ee3ff6a1714a74b2c208dd0a8ab0a2,fil.d7ce1bea7e9e40be0d9408dcfe048f16     --input ref_tar:fil.f9c8f899de7f4c418b4008db2043fa32     --input autosome_bed:fil.9efff4fe5d9b43a9346508db2043fa32     --parameters cyp2d6_enabled:true     --parameters prefix:WHH767     >> ica.log\n",
      "[340] WHH768 :0: icav2 -k $ICA_API_KEY projectpipelines start nextflow b9b3cdde-1e0e-4079-830d-385770b86b72     --project-id bf47eb3e-868e-4f88-97ac-c2a76c3c6ac4     --storage-size small     --user-reference WHH768     --user-tag WHH768     --output-parent-folder fol.d8ba95e57f51475fc06508dcfe056ca7     --input fastq_list:fil.832f26d2a0c44e9b2ff508dd10fce137     --input fastqs:fil.664b588c9c774245bfe808dd0a8ab0a2,fil.b1d8e601a25c43a9c00c08dd0a8ab0a2     --input ref_tar:fil.f9c8f899de7f4c418b4008db2043fa32     --input autosome_bed:fil.9efff4fe5d9b43a9346508db2043fa32     --parameters cyp2d6_enabled:true     --parameters prefix:WHH768     >> ica.log\n",
      "[341] WHH769 :0: icav2 -k $ICA_API_KEY projectpipelines start nextflow b9b3cdde-1e0e-4079-830d-385770b86b72     --project-id bf47eb3e-868e-4f88-97ac-c2a76c3c6ac4     --storage-size small     --user-reference WHH769     --user-tag WHH769     --output-parent-folder fol.d8ba95e57f51475fc06508dcfe056ca7     --input fastq_list:fil.fbf50c04c8d34a10d14e08dd12801ad0     --input fastqs:fil.edbc888d6f6b41bbb77a08dd0a8ab0a2,fil.c0b0834626ee4856124e08dcfe048f16     --input ref_tar:fil.f9c8f899de7f4c418b4008db2043fa32     --input autosome_bed:fil.9efff4fe5d9b43a9346508db2043fa32     --parameters cyp2d6_enabled:true     --parameters prefix:WHH769     >> ica.log\n",
      "[342] WHH770 :0: icav2 -k $ICA_API_KEY projectpipelines start nextflow b9b3cdde-1e0e-4079-830d-385770b86b72     --project-id bf47eb3e-868e-4f88-97ac-c2a76c3c6ac4     --storage-size small     --user-reference WHH770     --user-tag WHH770     --output-parent-folder fol.d8ba95e57f51475fc06508dcfe056ca7     --input fastq_list:fil.fe3d6f8e1bae4335af7008dd10fde41e     --input fastqs:fil.17d6e04070344f13158a08dcfe048f16,fil.006bdd2916f9426a15c308dcfe048f16     --input ref_tar:fil.f9c8f899de7f4c418b4008db2043fa32     --input autosome_bed:fil.9efff4fe5d9b43a9346508db2043fa32     --parameters cyp2d6_enabled:true     --parameters prefix:WHH770     >> ica.log\n",
      "[343] WHH771 :0: icav2 -k $ICA_API_KEY projectpipelines start nextflow b9b3cdde-1e0e-4079-830d-385770b86b72     --project-id bf47eb3e-868e-4f88-97ac-c2a76c3c6ac4     --storage-size small     --user-reference WHH771     --user-tag WHH771     --output-parent-folder fol.d8ba95e57f51475fc06508dcfe056ca7     --input fastq_list:fil.ce2d9b207b244abb0a7608dd1287949f     --input fastqs:fil.ff8aaa098da64a01bef208dd0a8ab0a2,fil.2a923c0dbd4b4f39bf3508dd0a8ab0a2     --input ref_tar:fil.f9c8f899de7f4c418b4008db2043fa32     --input autosome_bed:fil.9efff4fe5d9b43a9346508db2043fa32     --parameters cyp2d6_enabled:true     --parameters prefix:WHH771     >> ica.log\n",
      "[344] WHH772 :0: icav2 -k $ICA_API_KEY projectpipelines start nextflow b9b3cdde-1e0e-4079-830d-385770b86b72     --project-id bf47eb3e-868e-4f88-97ac-c2a76c3c6ac4     --storage-size small     --user-reference WHH772     --user-tag WHH772     --output-parent-folder fol.d8ba95e57f51475fc06508dcfe056ca7     --input fastq_list:fil.08a90cad80a748e5d14f08dd12801ad0     --input fastqs:fil.00bf0f51cd4942ac1c7908dcfe048f16,fil.694588016f4f4457c1df08dd0a8ab0a2     --input ref_tar:fil.f9c8f899de7f4c418b4008db2043fa32     --input autosome_bed:fil.9efff4fe5d9b43a9346508db2043fa32     --parameters cyp2d6_enabled:true     --parameters prefix:WHH772     >> ica.log\n",
      "[345] WHH773 :0: icav2 -k $ICA_API_KEY projectpipelines start nextflow b9b3cdde-1e0e-4079-830d-385770b86b72     --project-id bf47eb3e-868e-4f88-97ac-c2a76c3c6ac4     --storage-size small     --user-reference WHH773     --user-tag WHH773     --output-parent-folder fol.d8ba95e57f51475fc06508dcfe056ca7     --input fastq_list:fil.e5e9842e8df74562d15108dd12801ad0     --input fastqs:fil.667fe6cc15814e7bc2c308dd0a8ab0a2,fil.d0335d0d46514a301d6d08dcfe048f16     --input ref_tar:fil.f9c8f899de7f4c418b4008db2043fa32     --input autosome_bed:fil.9efff4fe5d9b43a9346508db2043fa32     --parameters cyp2d6_enabled:true     --parameters prefix:WHH773     >> ica.log\n",
      "[346] WHH774 :0: icav2 -k $ICA_API_KEY projectpipelines start nextflow b9b3cdde-1e0e-4079-830d-385770b86b72     --project-id bf47eb3e-868e-4f88-97ac-c2a76c3c6ac4     --storage-size small     --user-reference WHH774     --user-tag WHH774     --output-parent-folder fol.d8ba95e57f51475fc06508dcfe056ca7     --input fastq_list:fil.cbcf101ca9b6429e2ff708dd10fce137     --input fastqs:fil.8e673080daac4b80b94108dd0a8ab0a2,fil.6a91b1a851ca42efb95f08dd0a8ab0a2     --input ref_tar:fil.f9c8f899de7f4c418b4008db2043fa32     --input autosome_bed:fil.9efff4fe5d9b43a9346508db2043fa32     --parameters cyp2d6_enabled:true     --parameters prefix:WHH774     >> ica.log\n",
      "[347] WHH775 :0: icav2 -k $ICA_API_KEY projectpipelines start nextflow b9b3cdde-1e0e-4079-830d-385770b86b72     --project-id bf47eb3e-868e-4f88-97ac-c2a76c3c6ac4     --storage-size small     --user-reference WHH775     --user-tag WHH775     --output-parent-folder fol.d8ba95e57f51475fc06508dcfe056ca7     --input fastq_list:fil.2368f2c2605a4831af7408dd10fde41e     --input fastqs:fil.16d24b1b47f143d0b9e908dd0a8ab0a2,fil.209bcb646f604084ba4d08dd0a8ab0a2     --input ref_tar:fil.f9c8f899de7f4c418b4008db2043fa32     --input autosome_bed:fil.9efff4fe5d9b43a9346508db2043fa32     --parameters cyp2d6_enabled:true     --parameters prefix:WHH775     >> ica.log\n",
      "[348] WHH776 :0: icav2 -k $ICA_API_KEY projectpipelines start nextflow b9b3cdde-1e0e-4079-830d-385770b86b72     --project-id bf47eb3e-868e-4f88-97ac-c2a76c3c6ac4     --storage-size small     --user-reference WHH776     --user-tag WHH776     --output-parent-folder fol.d8ba95e57f51475fc06508dcfe056ca7     --input fastq_list:fil.f4be055e1e8a440b0a7708dd1287949f     --input fastqs:fil.8a50e8756723446d1a0008dcfe048f16,fil.ee8daf1b00b34d391a7c08dcfe048f16     --input ref_tar:fil.f9c8f899de7f4c418b4008db2043fa32     --input autosome_bed:fil.9efff4fe5d9b43a9346508db2043fa32     --parameters cyp2d6_enabled:true     --parameters prefix:WHH776     >> ica.log\n",
      "[349] WHH777 :0: icav2 -k $ICA_API_KEY projectpipelines start nextflow b9b3cdde-1e0e-4079-830d-385770b86b72     --project-id bf47eb3e-868e-4f88-97ac-c2a76c3c6ac4     --storage-size small     --user-reference WHH777     --user-tag WHH777     --output-parent-folder fol.d8ba95e57f51475fc06508dcfe056ca7     --input fastq_list:fil.cf8a24a3d739488cc9c708dcfe056ca7     --input fastqs:fil.b7ff5fc6f0fc4c670f9c08dcfe048f16,fil.2abaad3a48e14747b50108dd0a8ab0a2     --input ref_tar:fil.f9c8f899de7f4c418b4008db2043fa32     --input autosome_bed:fil.9efff4fe5d9b43a9346508db2043fa32     --parameters cyp2d6_enabled:true     --parameters prefix:WHH777     >> ica.log\n",
      "[350] WHH778 :0: icav2 -k $ICA_API_KEY projectpipelines start nextflow b9b3cdde-1e0e-4079-830d-385770b86b72     --project-id bf47eb3e-868e-4f88-97ac-c2a76c3c6ac4     --storage-size small     --user-reference WHH778     --user-tag WHH778     --output-parent-folder fol.d8ba95e57f51475fc06508dcfe056ca7     --input fastq_list:fil.134f35a5a0e34a37c9c808dcfe056ca7     --input fastqs:fil.4ad8b2cd795844721be708dcfe048f16,fil.812f064e9f7340f7c13d08dd0a8ab0a2     --input ref_tar:fil.f9c8f899de7f4c418b4008db2043fa32     --input autosome_bed:fil.9efff4fe5d9b43a9346508db2043fa32     --parameters cyp2d6_enabled:true     --parameters prefix:WHH778     >> ica.log\n",
      "[351] WHH779 :0: icav2 -k $ICA_API_KEY projectpipelines start nextflow b9b3cdde-1e0e-4079-830d-385770b86b72     --project-id bf47eb3e-868e-4f88-97ac-c2a76c3c6ac4     --storage-size small     --user-reference WHH779     --user-tag WHH779     --output-parent-folder fol.d8ba95e57f51475fc06508dcfe056ca7     --input fastq_list:fil.c63730d1a60348680a7a08dd1287949f     --input fastqs:fil.d7c67af4895c45bd192308dcfe048f16,fil.6f7cfe7491354eaf199608dcfe048f16     --input ref_tar:fil.f9c8f899de7f4c418b4008db2043fa32     --input autosome_bed:fil.9efff4fe5d9b43a9346508db2043fa32     --parameters cyp2d6_enabled:true     --parameters prefix:WHH779     >> ica.log\n",
      "[352] WHH780 :0: icav2 -k $ICA_API_KEY projectpipelines start nextflow b9b3cdde-1e0e-4079-830d-385770b86b72     --project-id bf47eb3e-868e-4f88-97ac-c2a76c3c6ac4     --storage-size small     --user-reference WHH780     --user-tag WHH780     --output-parent-folder fol.d8ba95e57f51475fc06508dcfe056ca7     --input fastq_list:fil.2038765265d2473ac9c908dcfe056ca7     --input fastqs:fil.8c526f23630647acb94208dd0a8ab0a2,fil.e9074b42f64a44ddb96708dd0a8ab0a2     --input ref_tar:fil.f9c8f899de7f4c418b4008db2043fa32     --input autosome_bed:fil.9efff4fe5d9b43a9346508db2043fa32     --parameters cyp2d6_enabled:true     --parameters prefix:WHH780     >> ica.log\n",
      "[353] WHH781 :0: icav2 -k $ICA_API_KEY projectpipelines start nextflow b9b3cdde-1e0e-4079-830d-385770b86b72     --project-id bf47eb3e-868e-4f88-97ac-c2a76c3c6ac4     --storage-size small     --user-reference WHH781     --user-tag WHH781     --output-parent-folder fol.d8ba95e57f51475fc06508dcfe056ca7     --input fastq_list:fil.91f6b8f0f263486f0a7c08dd1287949f     --input fastqs:fil.4707babb14fc4dd5b7c408dd0a8ab0a2,fil.44a9faf0299e4bf8127b08dcfe048f16     --input ref_tar:fil.f9c8f899de7f4c418b4008db2043fa32     --input autosome_bed:fil.9efff4fe5d9b43a9346508db2043fa32     --parameters cyp2d6_enabled:true     --parameters prefix:WHH781     >> ica.log\n",
      "[354] WHH782 :0: icav2 -k $ICA_API_KEY projectpipelines start nextflow b9b3cdde-1e0e-4079-830d-385770b86b72     --project-id bf47eb3e-868e-4f88-97ac-c2a76c3c6ac4     --storage-size small     --user-reference WHH782     --user-tag WHH782     --output-parent-folder fol.d8ba95e57f51475fc06508dcfe056ca7     --input fastq_list:fil.78506d4b2a25408a2ffa08dd10fce137     --input fastqs:fil.f561b501692e4870c09b08dd0a8ab0a2,fil.cc39fa2908244bcd1b5508dcfe048f16     --input ref_tar:fil.f9c8f899de7f4c418b4008db2043fa32     --input autosome_bed:fil.9efff4fe5d9b43a9346508db2043fa32     --parameters cyp2d6_enabled:true     --parameters prefix:WHH782     >> ica.log\n",
      "[355] WHH783 :0: icav2 -k $ICA_API_KEY projectpipelines start nextflow b9b3cdde-1e0e-4079-830d-385770b86b72     --project-id bf47eb3e-868e-4f88-97ac-c2a76c3c6ac4     --storage-size small     --user-reference WHH783     --user-tag WHH783     --output-parent-folder fol.d8ba95e57f51475fc06508dcfe056ca7     --input fastq_list:fil.ebc3e2f2c4cd44452ffb08dd10fce137     --input fastqs:fil.3b7c14d62b7e4c3219a308dcfe048f16,fil.a8717bfdb3624b0abf3b08dd0a8ab0a2     --input ref_tar:fil.f9c8f899de7f4c418b4008db2043fa32     --input autosome_bed:fil.9efff4fe5d9b43a9346508db2043fa32     --parameters cyp2d6_enabled:true     --parameters prefix:WHH783     >> ica.log\n",
      "[356] WHH784 :0: icav2 -k $ICA_API_KEY projectpipelines start nextflow b9b3cdde-1e0e-4079-830d-385770b86b72     --project-id bf47eb3e-868e-4f88-97ac-c2a76c3c6ac4     --storage-size small     --user-reference WHH784     --user-tag WHH784     --output-parent-folder fol.d8ba95e57f51475fc06508dcfe056ca7     --input fastq_list:fil.5a22d11a9d2d4f00115708dd127e3b30     --input fastqs:fil.fdf505c71b47497dbab708dd0a8ab0a2,fil.95d2cf64e9574750158b08dcfe048f16     --input ref_tar:fil.f9c8f899de7f4c418b4008db2043fa32     --input autosome_bed:fil.9efff4fe5d9b43a9346508db2043fa32     --parameters cyp2d6_enabled:true     --parameters prefix:WHH784     >> ica.log\n",
      "[357] WHH785 :0: icav2 -k $ICA_API_KEY projectpipelines start nextflow b9b3cdde-1e0e-4079-830d-385770b86b72     --project-id bf47eb3e-868e-4f88-97ac-c2a76c3c6ac4     --storage-size small     --user-reference WHH785     --user-tag WHH785     --output-parent-folder fol.d8ba95e57f51475fc06508dcfe056ca7     --input fastq_list:fil.697c152e5dd54c3d0a7e08dd1287949f     --input fastqs:fil.8ecc4f7699254022167e08dcfe048f16,fil.31be5f8b3e1a4bf9172f08dcfe048f16     --input ref_tar:fil.f9c8f899de7f4c418b4008db2043fa32     --input autosome_bed:fil.9efff4fe5d9b43a9346508db2043fa32     --parameters cyp2d6_enabled:true     --parameters prefix:WHH785     >> ica.log\n",
      "[358] WHH786 :0: icav2 -k $ICA_API_KEY projectpipelines start nextflow b9b3cdde-1e0e-4079-830d-385770b86b72     --project-id bf47eb3e-868e-4f88-97ac-c2a76c3c6ac4     --storage-size small     --user-reference WHH786     --user-tag WHH786     --output-parent-folder fol.d8ba95e57f51475fc06508dcfe056ca7     --input fastq_list:fil.620217404a0144430a8008dd1287949f     --input fastqs:fil.a2bf8409200746ff120708dcfe048f16,fil.1d6ac554c7274604124308dcfe048f16     --input ref_tar:fil.f9c8f899de7f4c418b4008db2043fa32     --input autosome_bed:fil.9efff4fe5d9b43a9346508db2043fa32     --parameters cyp2d6_enabled:true     --parameters prefix:WHH786     >> ica.log\n",
      "[359] WHH787 :0: icav2 -k $ICA_API_KEY projectpipelines start nextflow b9b3cdde-1e0e-4079-830d-385770b86b72     --project-id bf47eb3e-868e-4f88-97ac-c2a76c3c6ac4     --storage-size small     --user-reference WHH787     --user-tag WHH787     --output-parent-folder fol.d8ba95e57f51475fc06508dcfe056ca7     --input fastq_list:fil.bc42ba92d5fc4339d15908dd12801ad0     --input fastqs:fil.816428bedf3c4868b36408dd0a8ab0a2,fil.7533e3c1d9b946c30e5a08dcfe048f16     --input ref_tar:fil.f9c8f899de7f4c418b4008db2043fa32     --input autosome_bed:fil.9efff4fe5d9b43a9346508db2043fa32     --parameters cyp2d6_enabled:true     --parameters prefix:WHH787     >> ica.log\n",
      "[360] WHH788 :0: icav2 -k $ICA_API_KEY projectpipelines start nextflow b9b3cdde-1e0e-4079-830d-385770b86b72     --project-id bf47eb3e-868e-4f88-97ac-c2a76c3c6ac4     --storage-size small     --user-reference WHH788     --user-tag WHH788     --output-parent-folder fol.d8ba95e57f51475fc06508dcfe056ca7     --input fastq_list:fil.999ee729d2a94349d15a08dd12801ad0     --input fastqs:fil.e48d649ce02e4370b24108dd0a8ab0a2,fil.148152700f4c4366b24308dd0a8ab0a2     --input ref_tar:fil.f9c8f899de7f4c418b4008db2043fa32     --input autosome_bed:fil.9efff4fe5d9b43a9346508db2043fa32     --parameters cyp2d6_enabled:true     --parameters prefix:WHH788     >> ica.log\n",
      "[361] WHH789 :0: icav2 -k $ICA_API_KEY projectpipelines start nextflow b9b3cdde-1e0e-4079-830d-385770b86b72     --project-id bf47eb3e-868e-4f88-97ac-c2a76c3c6ac4     --storage-size small     --user-reference WHH789     --user-tag WHH789     --output-parent-folder fol.d8ba95e57f51475fc06508dcfe056ca7     --input fastq_list:fil.a849f17339a04700115a08dd127e3b30     --input fastqs:fil.956af3837dac404d1a6408dcfe048f16,fil.c26230e1cca9440fbff308dd0a8ab0a2     --input ref_tar:fil.f9c8f899de7f4c418b4008db2043fa32     --input autosome_bed:fil.9efff4fe5d9b43a9346508db2043fa32     --parameters cyp2d6_enabled:true     --parameters prefix:WHH789     >> ica.log\n",
      "[362] WHH790 :0: icav2 -k $ICA_API_KEY projectpipelines start nextflow b9b3cdde-1e0e-4079-830d-385770b86b72     --project-id bf47eb3e-868e-4f88-97ac-c2a76c3c6ac4     --storage-size small     --user-reference WHH790     --user-tag WHH790     --output-parent-folder fol.d8ba95e57f51475fc06508dcfe056ca7     --input fastq_list:fil.b375a8c430d5491a2ffc08dd10fce137     --input fastqs:fil.bec6d1eb42994f03ba6508dd0a8ab0a2,fil.7f5d5e84d27643f5155908dcfe048f16     --input ref_tar:fil.f9c8f899de7f4c418b4008db2043fa32     --input autosome_bed:fil.9efff4fe5d9b43a9346508db2043fa32     --parameters cyp2d6_enabled:true     --parameters prefix:WHH790     >> ica.log\n",
      "[363] WHH791 :0: icav2 -k $ICA_API_KEY projectpipelines start nextflow b9b3cdde-1e0e-4079-830d-385770b86b72     --project-id bf47eb3e-868e-4f88-97ac-c2a76c3c6ac4     --storage-size small     --user-reference WHH791     --user-tag WHH791     --output-parent-folder fol.d8ba95e57f51475fc06508dcfe056ca7     --input fastq_list:fil.22583d8b18364e18af7a08dd10fde41e     --input fastqs:fil.97a471e9a5354d251bbe08dcfe048f16,fil.1fbf244237324b7e1be808dcfe048f16     --input ref_tar:fil.f9c8f899de7f4c418b4008db2043fa32     --input autosome_bed:fil.9efff4fe5d9b43a9346508db2043fa32     --parameters cyp2d6_enabled:true     --parameters prefix:WHH791     >> ica.log\n",
      "[364] WHH792 :0: icav2 -k $ICA_API_KEY projectpipelines start nextflow b9b3cdde-1e0e-4079-830d-385770b86b72     --project-id bf47eb3e-868e-4f88-97ac-c2a76c3c6ac4     --storage-size small     --user-reference WHH792     --user-tag WHH792     --output-parent-folder fol.d8ba95e57f51475fc06508dcfe056ca7     --input fastq_list:fil.8bdd213d3cab4a32d15f08dd12801ad0     --input fastqs:fil.47a090519ad64545137d08dcfe048f16,fil.7a3cbbb89371421613e208dcfe048f16     --input ref_tar:fil.f9c8f899de7f4c418b4008db2043fa32     --input autosome_bed:fil.9efff4fe5d9b43a9346508db2043fa32     --parameters cyp2d6_enabled:true     --parameters prefix:WHH792     >> ica.log\n",
      "[365] WHH793 :0: icav2 -k $ICA_API_KEY projectpipelines start nextflow b9b3cdde-1e0e-4079-830d-385770b86b72     --project-id bf47eb3e-868e-4f88-97ac-c2a76c3c6ac4     --storage-size small     --user-reference WHH793     --user-tag WHH793     --output-parent-folder fol.d8ba95e57f51475fc06508dcfe056ca7     --input fastq_list:fil.981971d1c43f4873af7b08dd10fde41e     --input fastqs:fil.1460045ebade434c119b08dcfe048f16,fil.f67abb796eb944f7b71f08dd0a8ab0a2     --input ref_tar:fil.f9c8f899de7f4c418b4008db2043fa32     --input autosome_bed:fil.9efff4fe5d9b43a9346508db2043fa32     --parameters cyp2d6_enabled:true     --parameters prefix:WHH793     >> ica.log\n",
      "[366] WHH794 :0: icav2 -k $ICA_API_KEY projectpipelines start nextflow b9b3cdde-1e0e-4079-830d-385770b86b72     --project-id bf47eb3e-868e-4f88-97ac-c2a76c3c6ac4     --storage-size small     --user-reference WHH794     --user-tag WHH794     --output-parent-folder fol.d8ba95e57f51475fc06508dcfe056ca7     --input fastq_list:fil.9acff38379114a2b2ffe08dd10fce137     --input fastqs:fil.64439e3d1aff47bdbcfe08dd0a8ab0a2,fil.a6f7bd0da92046cd17f708dcfe048f16     --input ref_tar:fil.f9c8f899de7f4c418b4008db2043fa32     --input autosome_bed:fil.9efff4fe5d9b43a9346508db2043fa32     --parameters cyp2d6_enabled:true     --parameters prefix:WHH794     >> ica.log\n",
      "[367] WHH795 :0: icav2 -k $ICA_API_KEY projectpipelines start nextflow b9b3cdde-1e0e-4079-830d-385770b86b72     --project-id bf47eb3e-868e-4f88-97ac-c2a76c3c6ac4     --storage-size small     --user-reference WHH795     --user-tag WHH795     --output-parent-folder fol.d8ba95e57f51475fc06508dcfe056ca7     --input fastq_list:fil.b5dca2eeab334330af7c08dd10fde41e     --input fastqs:fil.0bb708f80fb2425e173c08dcfe048f16,fil.19a11981135b48f517f208dcfe048f16     --input ref_tar:fil.f9c8f899de7f4c418b4008db2043fa32     --input autosome_bed:fil.9efff4fe5d9b43a9346508db2043fa32     --parameters cyp2d6_enabled:true     --parameters prefix:WHH795     >> ica.log\n",
      "[368] WHH796 :0: icav2 -k $ICA_API_KEY projectpipelines start nextflow b9b3cdde-1e0e-4079-830d-385770b86b72     --project-id bf47eb3e-868e-4f88-97ac-c2a76c3c6ac4     --storage-size small     --user-reference WHH796     --user-tag WHH796     --output-parent-folder fol.d8ba95e57f51475fc06508dcfe056ca7     --input fastq_list:fil.05933485a75b4d38d16108dd12801ad0     --input fastqs:fil.1b34f90feec741e91bbf08dcfe048f16,fil.00b438e5479a4b201bed08dcfe048f16     --input ref_tar:fil.f9c8f899de7f4c418b4008db2043fa32     --input autosome_bed:fil.9efff4fe5d9b43a9346508db2043fa32     --parameters cyp2d6_enabled:true     --parameters prefix:WHH796     >> ica.log\n",
      "[369] WHH797 :0: icav2 -k $ICA_API_KEY projectpipelines start nextflow b9b3cdde-1e0e-4079-830d-385770b86b72     --project-id bf47eb3e-868e-4f88-97ac-c2a76c3c6ac4     --storage-size small     --user-reference WHH797     --user-tag WHH797     --output-parent-folder fol.d8ba95e57f51475fc06508dcfe056ca7     --input fastq_list:fil.ca038bc6e97347f7af7d08dd10fde41e     --input fastqs:fil.1d3819d341d04b9fbf3a08dd0a8ab0a2,fil.616129a733894cabbfe108dd0a8ab0a2     --input ref_tar:fil.f9c8f899de7f4c418b4008db2043fa32     --input autosome_bed:fil.9efff4fe5d9b43a9346508db2043fa32     --parameters cyp2d6_enabled:true     --parameters prefix:WHH797     >> ica.log\n",
      "[370] WHH798 :0: icav2 -k $ICA_API_KEY projectpipelines start nextflow b9b3cdde-1e0e-4079-830d-385770b86b72     --project-id bf47eb3e-868e-4f88-97ac-c2a76c3c6ac4     --storage-size small     --user-reference WHH798     --user-tag WHH798     --output-parent-folder fol.d8ba95e57f51475fc06508dcfe056ca7     --input fastq_list:fil.e448c6d074ad4755af7e08dd10fde41e     --input fastqs:fil.ce034e12b6164083c04608dd0a8ab0a2,fil.5bdf3e37172b4f431aeb08dcfe048f16     --input ref_tar:fil.f9c8f899de7f4c418b4008db2043fa32     --input autosome_bed:fil.9efff4fe5d9b43a9346508db2043fa32     --parameters cyp2d6_enabled:true     --parameters prefix:WHH798     >> ica.log\n",
      "[371] WHH799 :0: icav2 -k $ICA_API_KEY projectpipelines start nextflow b9b3cdde-1e0e-4079-830d-385770b86b72     --project-id bf47eb3e-868e-4f88-97ac-c2a76c3c6ac4     --storage-size small     --user-reference WHH799     --user-tag WHH799     --output-parent-folder fol.d8ba95e57f51475fc06508dcfe056ca7     --input fastq_list:fil.d3c23dd85a8f44380a8708dd1287949f     --input fastqs:fil.ad98d04a10ce47cdb52d08dd0a8ab0a2,fil.fc8ef2fbccc34f6a103d08dcfe048f16     --input ref_tar:fil.f9c8f899de7f4c418b4008db2043fa32     --input autosome_bed:fil.9efff4fe5d9b43a9346508db2043fa32     --parameters cyp2d6_enabled:true     --parameters prefix:WHH799     >> ica.log\n",
      "[372] WHH800 :0: icav2 -k $ICA_API_KEY projectpipelines start nextflow b9b3cdde-1e0e-4079-830d-385770b86b72     --project-id bf47eb3e-868e-4f88-97ac-c2a76c3c6ac4     --storage-size small     --user-reference WHH800     --user-tag WHH800     --output-parent-folder fol.d8ba95e57f51475fc06508dcfe056ca7     --input fastq_list:fil.5848f7a0ca7a4542af7f08dd10fde41e     --input fastqs:fil.1424a2613fa5432dc03d08dd0a8ab0a2,fil.5cb007d8475d48251ae108dcfe048f16     --input ref_tar:fil.f9c8f899de7f4c418b4008db2043fa32     --input autosome_bed:fil.9efff4fe5d9b43a9346508db2043fa32     --parameters cyp2d6_enabled:true     --parameters prefix:WHH800     >> ica.log\n",
      "[373] WHH801 :0: icav2 -k $ICA_API_KEY projectpipelines start nextflow b9b3cdde-1e0e-4079-830d-385770b86b72     --project-id bf47eb3e-868e-4f88-97ac-c2a76c3c6ac4     --storage-size small     --user-reference WHH801     --user-tag WHH801     --output-parent-folder fol.d8ba95e57f51475fc06508dcfe056ca7     --input fastq_list:fil.b72c1bca0a0f4f942fff08dd10fce137     --input fastqs:fil.c92cf8794b224ba9b60808dd0a8ab0a2,fil.09dfe29953e941d9113508dcfe048f16     --input ref_tar:fil.f9c8f899de7f4c418b4008db2043fa32     --input autosome_bed:fil.9efff4fe5d9b43a9346508db2043fa32     --parameters cyp2d6_enabled:true     --parameters prefix:WHH801     >> ica.log\n",
      "[374] WHH802 :0: icav2 -k $ICA_API_KEY projectpipelines start nextflow b9b3cdde-1e0e-4079-830d-385770b86b72     --project-id bf47eb3e-868e-4f88-97ac-c2a76c3c6ac4     --storage-size small     --user-reference WHH802     --user-tag WHH802     --output-parent-folder fol.d8ba95e57f51475fc06508dcfe056ca7     --input fastq_list:fil.46b2b4dfce3e49310a8908dd1287949f     --input fastqs:fil.01e59ddb683b4015bef508dd0a8ab0a2,fil.f86cf91e119e4149bf3808dd0a8ab0a2     --input ref_tar:fil.f9c8f899de7f4c418b4008db2043fa32     --input autosome_bed:fil.9efff4fe5d9b43a9346508db2043fa32     --parameters cyp2d6_enabled:true     --parameters prefix:WHH802     >> ica.log\n",
      "[375] WHH803 :0: icav2 -k $ICA_API_KEY projectpipelines start nextflow b9b3cdde-1e0e-4079-830d-385770b86b72     --project-id bf47eb3e-868e-4f88-97ac-c2a76c3c6ac4     --storage-size small     --user-reference WHH803     --user-tag WHH803     --output-parent-folder fol.d8ba95e57f51475fc06508dcfe056ca7     --input fastq_list:fil.61083f848c8e4c590a8a08dd1287949f     --input fastqs:fil.4adb0b293c2040c519e508dcfe048f16,fil.72fa942e0eef4cbdbfef08dd0a8ab0a2     --input ref_tar:fil.f9c8f899de7f4c418b4008db2043fa32     --input autosome_bed:fil.9efff4fe5d9b43a9346508db2043fa32     --parameters cyp2d6_enabled:true     --parameters prefix:WHH803     >> ica.log\n",
      "[376] WHH804 :0: icav2 -k $ICA_API_KEY projectpipelines start nextflow b9b3cdde-1e0e-4079-830d-385770b86b72     --project-id bf47eb3e-868e-4f88-97ac-c2a76c3c6ac4     --storage-size small     --user-reference WHH804     --user-tag WHH804     --output-parent-folder fol.d8ba95e57f51475fc06508dcfe056ca7     --input fastq_list:fil.74becdcad31148e4300108dd10fce137     --input fastqs:fil.73a5c3c4ec304e82bef708dd0a8ab0a2,fil.519b00efcd45479bbf5408dd0a8ab0a2     --input ref_tar:fil.f9c8f899de7f4c418b4008db2043fa32     --input autosome_bed:fil.9efff4fe5d9b43a9346508db2043fa32     --parameters cyp2d6_enabled:true     --parameters prefix:WHH804     >> ica.log\n",
      "[377] WHH805 :0: icav2 -k $ICA_API_KEY projectpipelines start nextflow b9b3cdde-1e0e-4079-830d-385770b86b72     --project-id bf47eb3e-868e-4f88-97ac-c2a76c3c6ac4     --storage-size small     --user-reference WHH805     --user-tag WHH805     --output-parent-folder fol.d8ba95e57f51475fc06508dcfe056ca7     --input fastq_list:fil.dee1bd34f92a42c5c9d008dcfe056ca7     --input fastqs:fil.c656c87ae28946d518f808dcfe048f16,fil.9a2313dceac4441c190908dcfe048f16     --input ref_tar:fil.f9c8f899de7f4c418b4008db2043fa32     --input autosome_bed:fil.9efff4fe5d9b43a9346508db2043fa32     --parameters cyp2d6_enabled:true     --parameters prefix:WHH805     >> ica.log\n",
      "[378] WHH806 :0: icav2 -k $ICA_API_KEY projectpipelines start nextflow b9b3cdde-1e0e-4079-830d-385770b86b72     --project-id bf47eb3e-868e-4f88-97ac-c2a76c3c6ac4     --storage-size small     --user-reference WHH806     --user-tag WHH806     --output-parent-folder fol.d8ba95e57f51475fc06508dcfe056ca7     --input fastq_list:fil.c29398c9e7374221d16608dd12801ad0     --input fastqs:fil.9c2696432c654efcc21f08dd0a8ab0a2,fil.f9ff87f299124e43c22008dd0a8ab0a2     --input ref_tar:fil.f9c8f899de7f4c418b4008db2043fa32     --input autosome_bed:fil.9efff4fe5d9b43a9346508db2043fa32     --parameters cyp2d6_enabled:true     --parameters prefix:WHH806     >> ica.log\n",
      "[379] WHH807 :0: icav2 -k $ICA_API_KEY projectpipelines start nextflow b9b3cdde-1e0e-4079-830d-385770b86b72     --project-id bf47eb3e-868e-4f88-97ac-c2a76c3c6ac4     --storage-size small     --user-reference WHH807     --user-tag WHH807     --output-parent-folder fol.d8ba95e57f51475fc06508dcfe056ca7     --input fastq_list:fil.71be06bdc1834865300408dd10fce137     --input fastqs:fil.193be0c629a2457c1da908dcfe048f16,fil.e0ecf0da15cc47b81dca08dcfe048f16     --input ref_tar:fil.f9c8f899de7f4c418b4008db2043fa32     --input autosome_bed:fil.9efff4fe5d9b43a9346508db2043fa32     --parameters cyp2d6_enabled:true     --parameters prefix:WHH807     >> ica.log\n",
      "[380] WHH808 :0: icav2 -k $ICA_API_KEY projectpipelines start nextflow b9b3cdde-1e0e-4079-830d-385770b86b72     --project-id bf47eb3e-868e-4f88-97ac-c2a76c3c6ac4     --storage-size small     --user-reference WHH808     --user-tag WHH808     --output-parent-folder fol.d8ba95e57f51475fc06508dcfe056ca7     --input fastq_list:fil.fed0e2a808654dda0a8c08dd1287949f     --input fastqs:fil.b3ef05c4e19146951fb908dcfe048f16,fil.ec00575f692b4ce7c53108dd0a8ab0a2     --input ref_tar:fil.f9c8f899de7f4c418b4008db2043fa32     --input autosome_bed:fil.9efff4fe5d9b43a9346508db2043fa32     --parameters cyp2d6_enabled:true     --parameters prefix:WHH808     >> ica.log\n",
      "[381] WHH809 :0: icav2 -k $ICA_API_KEY projectpipelines start nextflow b9b3cdde-1e0e-4079-830d-385770b86b72     --project-id bf47eb3e-868e-4f88-97ac-c2a76c3c6ac4     --storage-size small     --user-reference WHH809     --user-tag WHH809     --output-parent-folder fol.d8ba95e57f51475fc06508dcfe056ca7     --input fastq_list:fil.13465fa01e924cb5d16b08dd12801ad0     --input fastqs:fil.39c1f1d748014c2bc06208dd0a8ab0a2,fil.2e44d08e5dc64cc81b3508dcfe048f16     --input ref_tar:fil.f9c8f899de7f4c418b4008db2043fa32     --input autosome_bed:fil.9efff4fe5d9b43a9346508db2043fa32     --parameters cyp2d6_enabled:true     --parameters prefix:WHH809     >> ica.log\n",
      "[382] WHH810 :0: icav2 -k $ICA_API_KEY projectpipelines start nextflow b9b3cdde-1e0e-4079-830d-385770b86b72     --project-id bf47eb3e-868e-4f88-97ac-c2a76c3c6ac4     --storage-size small     --user-reference WHH810     --user-tag WHH810     --output-parent-folder fol.d8ba95e57f51475fc06508dcfe056ca7     --input fastq_list:fil.348379caa22846fe0a8d08dd1287949f     --input fastqs:fil.02d132f453444d4cb75608dd0a8ab0a2,fil.34d5a7e489db4881124508dcfe048f16     --input ref_tar:fil.f9c8f899de7f4c418b4008db2043fa32     --input autosome_bed:fil.9efff4fe5d9b43a9346508db2043fa32     --parameters cyp2d6_enabled:true     --parameters prefix:WHH810     >> ica.log\n",
      "[383] WHH811 :0: icav2 -k $ICA_API_KEY projectpipelines start nextflow b9b3cdde-1e0e-4079-830d-385770b86b72     --project-id bf47eb3e-868e-4f88-97ac-c2a76c3c6ac4     --storage-size small     --user-reference WHH811     --user-tag WHH811     --output-parent-folder fol.d8ba95e57f51475fc06508dcfe056ca7     --input fastq_list:fil.e6bbf74903a04ae0300708dd10fce137     --input fastqs:fil.ae8422dc535b450fba5908dd0a8ab0a2,fil.992de51c8fb1414dbaa808dd0a8ab0a2     --input ref_tar:fil.f9c8f899de7f4c418b4008db2043fa32     --input autosome_bed:fil.9efff4fe5d9b43a9346508db2043fa32     --parameters cyp2d6_enabled:true     --parameters prefix:WHH811     >> ica.log\n",
      "[384] WHH812 :0: icav2 -k $ICA_API_KEY projectpipelines start nextflow b9b3cdde-1e0e-4079-830d-385770b86b72     --project-id bf47eb3e-868e-4f88-97ac-c2a76c3c6ac4     --storage-size small     --user-reference WHH812     --user-tag WHH812     --output-parent-folder fol.d8ba95e57f51475fc06508dcfe056ca7     --input fastq_list:fil.94525ff427504a89d16e08dd12801ad0     --input fastqs:fil.34eeb2f81bbe4c6fc11708dd0a8ab0a2,fil.639bfb48f2494cf9c11908dd0a8ab0a2     --input ref_tar:fil.f9c8f899de7f4c418b4008db2043fa32     --input autosome_bed:fil.9efff4fe5d9b43a9346508db2043fa32     --parameters cyp2d6_enabled:true     --parameters prefix:WHH812     >> ica.log\n",
      "[385] WHH813 :0: icav2 -k $ICA_API_KEY projectpipelines start nextflow b9b3cdde-1e0e-4079-830d-385770b86b72     --project-id bf47eb3e-868e-4f88-97ac-c2a76c3c6ac4     --storage-size small     --user-reference WHH813     --user-tag WHH813     --output-parent-folder fol.d8ba95e57f51475fc06508dcfe056ca7     --input fastq_list:fil.8b510e2bf3df4386300808dd10fce137     --input fastqs:fil.baaf34db630e49f7b9a208dd0a8ab0a2,fil.236792b6be13492014a808dcfe048f16     --input ref_tar:fil.f9c8f899de7f4c418b4008db2043fa32     --input autosome_bed:fil.9efff4fe5d9b43a9346508db2043fa32     --parameters cyp2d6_enabled:true     --parameters prefix:WHH813     >> ica.log\n",
      "[386] WHH814 :0: icav2 -k $ICA_API_KEY projectpipelines start nextflow b9b3cdde-1e0e-4079-830d-385770b86b72     --project-id bf47eb3e-868e-4f88-97ac-c2a76c3c6ac4     --storage-size small     --user-reference WHH814     --user-tag WHH814     --output-parent-folder fol.d8ba95e57f51475fc06508dcfe056ca7     --input fastq_list:fil.f0050463189d48e5116408dd127e3b30     --input fastqs:fil.34abb120aff640c5108308dcfe048f16,fil.c1212ce463724f3eb5bf08dd0a8ab0a2     --input ref_tar:fil.f9c8f899de7f4c418b4008db2043fa32     --input autosome_bed:fil.9efff4fe5d9b43a9346508db2043fa32     --parameters cyp2d6_enabled:true     --parameters prefix:WHH814     >> ica.log\n",
      "[387] WHH815 :0: icav2 -k $ICA_API_KEY projectpipelines start nextflow b9b3cdde-1e0e-4079-830d-385770b86b72     --project-id bf47eb3e-868e-4f88-97ac-c2a76c3c6ac4     --storage-size small     --user-reference WHH815     --user-tag WHH815     --output-parent-folder fol.d8ba95e57f51475fc06508dcfe056ca7     --input fastq_list:fil.574fb6c56b874bed300908dd10fce137     --input fastqs:fil.b639c095a6874ec41a9608dcfe048f16,fil.b5396c3156b842fe1ac708dcfe048f16     --input ref_tar:fil.f9c8f899de7f4c418b4008db2043fa32     --input autosome_bed:fil.9efff4fe5d9b43a9346508db2043fa32     --parameters cyp2d6_enabled:true     --parameters prefix:WHH815     >> ica.log\n",
      "[388] WHH816 :0: icav2 -k $ICA_API_KEY projectpipelines start nextflow b9b3cdde-1e0e-4079-830d-385770b86b72     --project-id bf47eb3e-868e-4f88-97ac-c2a76c3c6ac4     --storage-size small     --user-reference WHH816     --user-tag WHH816     --output-parent-folder fol.d8ba95e57f51475fc06508dcfe056ca7     --input fastq_list:fil.1f4790e8904f47aac9d308dcfe056ca7     --input fastqs:fil.79eba3685c5d47a3bada08dd0a8ab0a2,fil.cc020cbf567943c115b208dcfe048f16     --input ref_tar:fil.f9c8f899de7f4c418b4008db2043fa32     --input autosome_bed:fil.9efff4fe5d9b43a9346508db2043fa32     --parameters cyp2d6_enabled:true     --parameters prefix:WHH816     >> ica.log\n",
      "[389] WHH817 :0: icav2 -k $ICA_API_KEY projectpipelines start nextflow b9b3cdde-1e0e-4079-830d-385770b86b72     --project-id bf47eb3e-868e-4f88-97ac-c2a76c3c6ac4     --storage-size small     --user-reference WHH817     --user-tag WHH817     --output-parent-folder fol.d8ba95e57f51475fc06508dcfe056ca7     --input fastq_list:fil.9f5ad94d95d14351300c08dd10fce137     --input fastqs:fil.79d8793027024d310f6308dcfe048f16,fil.ffba1c37a1134c2e0f7d08dcfe048f16     --input ref_tar:fil.f9c8f899de7f4c418b4008db2043fa32     --input autosome_bed:fil.9efff4fe5d9b43a9346508db2043fa32     --parameters cyp2d6_enabled:true     --parameters prefix:WHH817     >> ica.log\n",
      "[390] WHH818 :0: icav2 -k $ICA_API_KEY projectpipelines start nextflow b9b3cdde-1e0e-4079-830d-385770b86b72     --project-id bf47eb3e-868e-4f88-97ac-c2a76c3c6ac4     --storage-size small     --user-reference WHH818     --user-tag WHH818     --output-parent-folder fol.d8ba95e57f51475fc06508dcfe056ca7     --input fastq_list:fil.ef4ae38a9cc545e3af8708dd10fde41e     --input fastqs:fil.21f0945737764d5e17be08dcfe048f16,fil.af5e9d0f6025426dbdaa08dd0a8ab0a2     --input ref_tar:fil.f9c8f899de7f4c418b4008db2043fa32     --input autosome_bed:fil.9efff4fe5d9b43a9346508db2043fa32     --parameters cyp2d6_enabled:true     --parameters prefix:WHH818     >> ica.log\n",
      "[391] WHH819 :0: icav2 -k $ICA_API_KEY projectpipelines start nextflow b9b3cdde-1e0e-4079-830d-385770b86b72     --project-id bf47eb3e-868e-4f88-97ac-c2a76c3c6ac4     --storage-size small     --user-reference WHH819     --user-tag WHH819     --output-parent-folder fol.d8ba95e57f51475fc06508dcfe056ca7     --input fastq_list:fil.e01db4e3e3fa429f116508dd127e3b30     --input fastqs:fil.7cd4bea184cc40fbb48d08dd0a8ab0a2,fil.8681930f00454d470f6508dcfe048f16     --input ref_tar:fil.f9c8f899de7f4c418b4008db2043fa32     --input autosome_bed:fil.9efff4fe5d9b43a9346508db2043fa32     --parameters cyp2d6_enabled:true     --parameters prefix:WHH819     >> ica.log\n",
      "[392] WHH820 :0: icav2 -k $ICA_API_KEY projectpipelines start nextflow b9b3cdde-1e0e-4079-830d-385770b86b72     --project-id bf47eb3e-868e-4f88-97ac-c2a76c3c6ac4     --storage-size small     --user-reference WHH820     --user-tag WHH820     --output-parent-folder fol.d8ba95e57f51475fc06508dcfe056ca7     --input fastq_list:fil.0a0df5970d8c4977c9d508dcfe056ca7     --input fastqs:fil.52a377538fe04843bbb908dd0a8ab0a2,fil.1f50130bd0bc48ff172308dcfe048f16     --input ref_tar:fil.f9c8f899de7f4c418b4008db2043fa32     --input autosome_bed:fil.9efff4fe5d9b43a9346508db2043fa32     --parameters cyp2d6_enabled:true     --parameters prefix:WHH820     >> ica.log\n",
      "[393] WHH821 :0: icav2 -k $ICA_API_KEY projectpipelines start nextflow b9b3cdde-1e0e-4079-830d-385770b86b72     --project-id bf47eb3e-868e-4f88-97ac-c2a76c3c6ac4     --storage-size small     --user-reference WHH821     --user-tag WHH821     --output-parent-folder fol.d8ba95e57f51475fc06508dcfe056ca7     --input fastq_list:fil.7bba430d32d64178300f08dd10fce137     --input fastqs:fil.a57c130d6339425f1b5c08dcfe048f16,fil.1f765777b57d451d1b8908dcfe048f16     --input ref_tar:fil.f9c8f899de7f4c418b4008db2043fa32     --input autosome_bed:fil.9efff4fe5d9b43a9346508db2043fa32     --parameters cyp2d6_enabled:true     --parameters prefix:WHH821     >> ica.log\n",
      "[394] WHH822 :0: icav2 -k $ICA_API_KEY projectpipelines start nextflow b9b3cdde-1e0e-4079-830d-385770b86b72     --project-id bf47eb3e-868e-4f88-97ac-c2a76c3c6ac4     --storage-size small     --user-reference WHH822     --user-tag WHH822     --output-parent-folder fol.d8ba95e57f51475fc06508dcfe056ca7     --input fastq_list:fil.5086741f2bbf417caf8a08dd10fde41e     --input fastqs:fil.684ffde6a7964869b93c08dd0a8ab0a2,fil.7074c4fbb1424b9113eb08dcfe048f16     --input ref_tar:fil.f9c8f899de7f4c418b4008db2043fa32     --input autosome_bed:fil.9efff4fe5d9b43a9346508db2043fa32     --parameters cyp2d6_enabled:true     --parameters prefix:WHH822     >> ica.log\n",
      "[395] WHH823 :0: icav2 -k $ICA_API_KEY projectpipelines start nextflow b9b3cdde-1e0e-4079-830d-385770b86b72     --project-id bf47eb3e-868e-4f88-97ac-c2a76c3c6ac4     --storage-size small     --user-reference WHH823     --user-tag WHH823     --output-parent-folder fol.d8ba95e57f51475fc06508dcfe056ca7     --input fastq_list:fil.61ee28dc899b4f30116708dd127e3b30     --input fastqs:fil.e88c80b4db1e4467c06108dd0a8ab0a2,fil.1d56d5dc4eff4c4c1b3308dcfe048f16     --input ref_tar:fil.f9c8f899de7f4c418b4008db2043fa32     --input autosome_bed:fil.9efff4fe5d9b43a9346508db2043fa32     --parameters cyp2d6_enabled:true     --parameters prefix:WHH823     >> ica.log\n",
      "[396] WHH824 :0: icav2 -k $ICA_API_KEY projectpipelines start nextflow b9b3cdde-1e0e-4079-830d-385770b86b72     --project-id bf47eb3e-868e-4f88-97ac-c2a76c3c6ac4     --storage-size small     --user-reference WHH824     --user-tag WHH824     --output-parent-folder fol.d8ba95e57f51475fc06508dcfe056ca7     --input fastq_list:fil.918342053cf14006d17608dd12801ad0     --input fastqs:fil.d21acba9666d4e07c1af08dd0a8ab0a2,fil.2087a4f7a0a849b8c1b808dd0a8ab0a2     --input ref_tar:fil.f9c8f899de7f4c418b4008db2043fa32     --input autosome_bed:fil.9efff4fe5d9b43a9346508db2043fa32     --parameters cyp2d6_enabled:true     --parameters prefix:WHH824     >> ica.log\n",
      "[397] WHH825 :0: icav2 -k $ICA_API_KEY projectpipelines start nextflow b9b3cdde-1e0e-4079-830d-385770b86b72     --project-id bf47eb3e-868e-4f88-97ac-c2a76c3c6ac4     --storage-size small     --user-reference WHH825     --user-tag WHH825     --output-parent-folder fol.d8ba95e57f51475fc06508dcfe056ca7     --input fastq_list:fil.8935a15a4bac472d0a9108dd1287949f     --input fastqs:fil.3f2a0cf093b6486fb96d08dd0a8ab0a2,fil.3925de212d3c4730b9a108dd0a8ab0a2     --input ref_tar:fil.f9c8f899de7f4c418b4008db2043fa32     --input autosome_bed:fil.9efff4fe5d9b43a9346508db2043fa32     --parameters cyp2d6_enabled:true     --parameters prefix:WHH825     >> ica.log\n",
      "[398] WHH826 :0: icav2 -k $ICA_API_KEY projectpipelines start nextflow b9b3cdde-1e0e-4079-830d-385770b86b72     --project-id bf47eb3e-868e-4f88-97ac-c2a76c3c6ac4     --storage-size small     --user-reference WHH826     --user-tag WHH826     --output-parent-folder fol.d8ba95e57f51475fc06508dcfe056ca7     --input fastq_list:fil.90e00b5bbe8d488dc9d908dcfe056ca7     --input fastqs:fil.84a25bcf813b44f7b89408dd0a8ab0a2,fil.41eb374f3efe441ab8e308dd0a8ab0a2     --input ref_tar:fil.f9c8f899de7f4c418b4008db2043fa32     --input autosome_bed:fil.9efff4fe5d9b43a9346508db2043fa32     --parameters cyp2d6_enabled:true     --parameters prefix:WHH826     >> ica.log\n",
      "[399] WHH827 :0: icav2 -k $ICA_API_KEY projectpipelines start nextflow b9b3cdde-1e0e-4079-830d-385770b86b72     --project-id bf47eb3e-868e-4f88-97ac-c2a76c3c6ac4     --storage-size small     --user-reference WHH827     --user-tag WHH827     --output-parent-folder fol.d8ba95e57f51475fc06508dcfe056ca7     --input fastq_list:fil.975be06a6800488d116908dd127e3b30     --input fastqs:fil.d3ea00ab7a314031c4c008dd0a8ab0a2,fil.3664ed7fb2ba432b1f7908dcfe048f16     --input ref_tar:fil.f9c8f899de7f4c418b4008db2043fa32     --input autosome_bed:fil.9efff4fe5d9b43a9346508db2043fa32     --parameters cyp2d6_enabled:true     --parameters prefix:WHH827     >> ica.log\n",
      "[400] WHH828 :0: icav2 -k $ICA_API_KEY projectpipelines start nextflow b9b3cdde-1e0e-4079-830d-385770b86b72     --project-id bf47eb3e-868e-4f88-97ac-c2a76c3c6ac4     --storage-size small     --user-reference WHH828     --user-tag WHH828     --output-parent-folder fol.d8ba95e57f51475fc06508dcfe056ca7     --input fastq_list:fil.588ccc03650c4af50a9508dd1287949f     --input fastqs:fil.21a88488cc6e46eaba5508dd0a8ab0a2,fil.3f7809155812495d154d08dcfe048f16     --input ref_tar:fil.f9c8f899de7f4c418b4008db2043fa32     --input autosome_bed:fil.9efff4fe5d9b43a9346508db2043fa32     --parameters cyp2d6_enabled:true     --parameters prefix:WHH828     >> ica.log\n"
     ]
    }
   ],
   "source": [
    "# For each sample\n",
    "for i, row in df_sample.iloc[400:600].iterrows():\n",
    "    # Get sample name & sample ID\n",
    "    sample_name = row['NAME']\n",
    "    sample_id = row['ID']\n",
    "    \n",
    "    # List fastq files linked to the sample\n",
    "    fastqs = subprocess.check_output(f\"icav2 -k $ICA_API_KEY --project-id {project_id} projectsamples listdata {sample_id} --file-name fastq.gz --match-mode FUZZY | grep '/fastq_output/' \", shell=True, text=True).strip()\n",
    "    # parse list\n",
    "    cols = ['NAME', 'TYPE', 'STATUS', 'ID', 'PROJECT_NAME', 'PROJECT_ID', 'PATH']\n",
    "    df_fq = pd.read_csv(io.StringIO(fastqs), sep='\\t', index_col=False, engine='python', names=cols, converters={col: str.strip for col in cols})\n",
    "    # Sort R1, R2\n",
    "    df_fq.sort_values(by='NAME', inplace=True)\n",
    "    # Get fastq IDs\n",
    "    fastq_ids = \",\".join(df_fq[\"ID\"])  # Reverse the order\n",
    "    # print(f\"Sample {sample_name} - input fastq_ids {fastq_ids}\")\n",
    "    \n",
    "    # Create FASTQ list file\n",
    "    manifest = f\"\"\"\n",
    "RGID,RGSM,RGLB,Lane,Read1File,Read2File\n",
    "{sample_name}_FC1,{sample_name},{sample_name}_LB1,1,{','.join(df_fq['NAME'])}\n",
    "\"\"\"\n",
    "    # Save manifest into a CSV file\n",
    "    manifest_path = f\"03.Dragen/fastq_lists/{sample_name}_fastq_list.csv\"\n",
    "    with open(manifest_path, \"w\") as f:\n",
    "        f.write(manifest.strip())\n",
    "    # print(f\"[Manifest saved to {manifest_path}]\")\n",
    "    \n",
    "    # Upload FASTQ list file into ICA\n",
    "    upload = subprocess.check_output(f\"icav2 -k $ICA_API_KEY --project-id {project_id} projectdata upload {manifest_path} /fastq_list/\", shell=True, text=True).strip()\n",
    "    # Get file id\n",
    "    fastq_list_id = subprocess.check_output(f\"icav2 -k $ICA_API_KEY --project-id {project_id} projectdata list --file-name {sample_name}_fastq_list.csv | grep fastq_list.csv | cut -f 4\", shell=True, text=True).strip()\n",
    "    # Link fastq list to the sample\n",
    "    link = os.system(f\"icav2 -k $ICA_API_KEY --project-id {project_id} projectsamples link {sample_id} --data-id {fastq_list_id}\")\n",
    "    # print(f\"fastq list: {sample_name}_fastq_list.csv [{fastq_list_id}] - linked [{link}]\")\n",
    "\n",
    "    # Set ICA command\n",
    "    cmd = f\"icav2 -k $ICA_API_KEY projectpipelines start nextflow {pipeline_id} \\\n",
    "    --project-id {project_id} \\\n",
    "    --storage-size small \\\n",
    "    --user-reference {sample_name} \\\n",
    "    --user-tag {sample_name} \\\n",
    "    --output-parent-folder {output_id} \\\n",
    "    --input fastq_list:{fastq_list_id} \\\n",
    "    --input fastqs:{fastq_ids} \\\n",
    "    --input ref_tar:{ref_id} \\\n",
    "    --input autosome_bed:{autosomes_id} \\\n",
    "    --parameters cyp2d6_enabled:true \\\n",
    "    --parameters prefix:{sample_name} \\\n",
    "    >> ica.log\"\n",
    "    # Launch analysis\n",
    "    exit = os.system(cmd)\n",
    "    # Log string\n",
    "    log = f\"[{i}] {sample_name} :{exit}: {cmd}\"\n",
    "    os.system(f\"echo {log} >> cram_to_fastq.log\")\n",
    "    print(log)"
   ]
  },
  {
   "cell_type": "markdown",
   "id": "5a6c0f34-8927-4eaf-a58e-2a38d39f92b1",
   "metadata": {},
   "source": [
    "## CYP2D6 disabled"
   ]
  },
  {
   "cell_type": "code",
   "execution_count": 37,
   "id": "1592c6bf-d503-42d5-8885-011c3d1fe439",
   "metadata": {
    "tags": []
   },
   "outputs": [
    {
     "name": "stdout",
     "output_type": "stream",
     "text": [
      "WHH619 :0: icav2 -k $ICA_API_KEY projectpipelines start nextflow b9b3cdde-1e0e-4079-830d-385770b86b72 --project-id bf47eb3e-868e-4f88-97ac-c2a76c3c6ac4 --storage-size small --user-reference WHH619 --user-tag WHH619 --output-parent-folder fol.d8ba95e57f51475fc06508dcfe056ca7 --input fastq_list:fil.a939dde176bf4c131a8108dd0d1862d1 --input fastqs:fil.da5ebe96a1a74a3e569c08dd0a8ab0a2,fil.eb81f0be87f442dab41008dcfe048f15 --input ref_tar:fil.f9c8f899de7f4c418b4008db2043fa32 --input autosome_bed:fil.9efff4fe5d9b43a9346508db2043fa32 --parameters cyp2d6_enabled:false --parameters prefix:WHH619 >> ica.log\n"
     ]
    }
   ],
   "source": [
    "# Set sample name & sample ID\n",
    "sample_name = 'WHH619'\n",
    "sample_id = '2e298d3c-525e-4b97-a7d9-de9571dff188'\n",
    "    \n",
    "# List fastq files linked to the sample\n",
    "fastqs = subprocess.check_output(f\"icav2 -k $ICA_API_KEY --project-id {project_id} projectsamples listdata {sample_id} --file-name fastq.gz --match-mode FUZZY | grep '/fastq_output/' \", shell=True, text=True).strip()\n",
    "# parse list\n",
    "cols = ['NAME', 'TYPE', 'STATUS', 'ID', 'PROJECT_NAME', 'PROJECT_ID', 'PATH']\n",
    "df_fq = pd.read_csv(io.StringIO(fastqs), sep='\\t', index_col=False, engine='python', names=cols, converters={col: str.strip for col in cols})\n",
    "# Sort R1, R2\n",
    "df_fq.sort_values(by='NAME', inplace=True)\n",
    "# Get fastq IDs\n",
    "fastq_ids = \",\".join(df_fq[\"ID\"])  # Reverse the order\n",
    "# print(f\"Sample {sample_name} - input fastq_ids {fastq_ids}\")\n",
    "    \n",
    "# Create FASTQ list file\n",
    "manifest = f\"\"\"\n",
    "RGID,RGSM,RGLB,Lane,Read1File,Read2File\n",
    "{sample_name}_FC1,{sample_name},{sample_name}_LB1,1,{','.join(df_fq['NAME'])}\n",
    "\"\"\"\n",
    "# Save manifest into a CSV file\n",
    "manifest_path = f\"03.Dragen/fastq_lists/{sample_name}_fastq_list.csv\"\n",
    "with open(manifest_path, \"w\") as f:\n",
    "    f.write(manifest.strip())\n",
    "# print(f\"[Manifest saved to {manifest_path}]\")\n",
    "    \n",
    "# Upload FASTQ list file into ICA\n",
    "upload = subprocess.check_output(f\"icav2 -k $ICA_API_KEY --project-id {project_id} projectdata upload {manifest_path} /fastq_list/\", shell=True, text=True).strip()\n",
    "# Get file id\n",
    "fastq_list_id = subprocess.check_output(f\"icav2 -k $ICA_API_KEY --project-id {project_id} projectdata list --file-name {sample_name}_fastq_list.csv | grep fastq_list.csv | cut -f 4\", shell=True, text=True).strip()\n",
    "# Link fastq list to the sample\n",
    "link = os.system(f\"icav2 -k $ICA_API_KEY --project-id {project_id} projectsamples link {sample_id} --data-id {fastq_list_id}\")\n",
    "# print(f\"fastq list: {sample_name}_fastq_list.csv [{fastq_list_id}] - linked [{link}]\")\n",
    "\n",
    "# Set ICA command\n",
    "cmd = f\"icav2 -k $ICA_API_KEY projectpipelines start nextflow {pipeline_id} \\\n",
    "--project-id {project_id} \\\n",
    "--storage-size small \\\n",
    "--user-reference {sample_name} \\\n",
    "--user-tag {sample_name} \\\n",
    "--user-tag 'CYP2D6-OFF' \\\n",
    "--output-parent-folder {output_id} \\\n",
    "--input fastq_list:{fastq_list_id} \\\n",
    "--input fastqs:{fastq_ids} \\\n",
    "--input ref_tar:{ref_id} \\\n",
    "--input autosome_bed:{autosomes_id} \\\n",
    "--parameters cyp2d6_enabled:false \\\n",
    "--parameters prefix:{sample_name} \\\n",
    ">> ica.log\"\n",
    "# Launch analysis\n",
    "exit = os.system(cmd)\n",
    "# Log string\n",
    "log = f\"{sample_name} :{exit}: {cmd}\"\n",
    "os.system(f\"echo {log} >> cram_to_fastq.log\")\n",
    "print(log)"
   ]
  },
  {
   "cell_type": "code",
   "execution_count": null,
   "id": "01332076-1e0c-4db7-9167-affbd2021f5b",
   "metadata": {},
   "outputs": [],
   "source": []
  }
 ],
 "metadata": {
  "kernelspec": {
   "display_name": "Python 3 (ipykernel)",
   "language": "python",
   "name": "python3"
  },
  "language_info": {
   "codemirror_mode": {
    "name": "ipython",
    "version": 3
   },
   "file_extension": ".py",
   "mimetype": "text/x-python",
   "name": "python",
   "nbconvert_exporter": "python",
   "pygments_lexer": "ipython3",
   "version": "3.7.12"
  }
 },
 "nbformat": 4,
 "nbformat_minor": 5
}
