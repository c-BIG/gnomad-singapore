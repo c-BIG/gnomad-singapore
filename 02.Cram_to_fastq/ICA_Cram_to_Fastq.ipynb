{
 "cells": [
  {
   "cell_type": "markdown",
   "id": "faadfa85-d801-4faf-bbf4-856dcf08ab34",
   "metadata": {},
   "source": [
    "# CRAM to FASTQ"
   ]
  },
  {
   "cell_type": "markdown",
   "id": "4c844f33-9a84-4126-8017-553a31411b21",
   "metadata": {},
   "source": [
    "## Prepare environment"
   ]
  },
  {
   "cell_type": "code",
   "execution_count": 2,
   "id": "66834ee8-8917-4a8e-9584-2be62cb0068f",
   "metadata": {
    "tags": []
   },
   "outputs": [
    {
     "name": "stdout",
     "output_type": "stream",
     "text": [
      "Defaulting to user installation because normal site-packages is not writeable\n",
      "Collecting python-dotenv\n",
      "  Downloading python_dotenv-0.21.1-py3-none-any.whl.metadata (21 kB)\n",
      "Downloading python_dotenv-0.21.1-py3-none-any.whl (19 kB)\n",
      "Installing collected packages: python-dotenv\n",
      "\u001b[33m  WARNING: The script dotenv is installed in '/data/.local/bin' which is not on PATH.\n",
      "  Consider adding this directory to PATH or, if you prefer to suppress this warning, use --no-warn-script-location.\u001b[0m\u001b[33m\n",
      "\u001b[0mSuccessfully installed python-dotenv-0.21.1\n"
     ]
    }
   ],
   "source": [
    "!pip install python-dotenv"
   ]
  },
  {
   "cell_type": "code",
   "execution_count": 56,
   "id": "827d39c6-a680-46de-b4e0-6a29d130c620",
   "metadata": {
    "tags": []
   },
   "outputs": [
    {
     "name": "stdout",
     "output_type": "stream",
     "text": [
      "The dotenv extension is already loaded. To reload it, use:\n",
      "  %reload_ext dotenv\n"
     ]
    }
   ],
   "source": [
    "%load_ext dotenv"
   ]
  },
  {
   "cell_type": "code",
   "execution_count": 71,
   "id": "22c6ef59-cbcd-42f7-867c-4df4dc12f6f9",
   "metadata": {
    "tags": []
   },
   "outputs": [],
   "source": [
    "%dotenv"
   ]
  },
  {
   "cell_type": "code",
   "execution_count": 72,
   "id": "291d8fe8-b621-4796-8113-1c35947e960b",
   "metadata": {
    "tags": []
   },
   "outputs": [],
   "source": [
    "import os\n",
    "import pandas as pd\n",
    "import subprocess"
   ]
  },
  {
   "cell_type": "code",
   "execution_count": 73,
   "id": "eb943a0d-f9e3-4d77-9398-37b4d32a02aa",
   "metadata": {
    "tags": []
   },
   "outputs": [
    {
     "name": "stdout",
     "output_type": "stream",
     "text": [
      "ICA_API_KEY exists\n"
     ]
    }
   ],
   "source": [
    "# Check ICA_API_KEY\n",
    "print(f\"ICA_API_KEY {'exists' if 'ICA_API_KEY' in os.environ else 'missing'}\")"
   ]
  },
  {
   "cell_type": "code",
   "execution_count": 74,
   "id": "952954ba-317b-4841-b6e8-b3d79a8b614b",
   "metadata": {
    "tags": []
   },
   "outputs": [
    {
     "name": "stdout",
     "output_type": "stream",
     "text": [
      "project: sg10k-dragen-reanalysis [bf47eb3e-868e-4f88-97ac-c2a76c3c6ac4]\n"
     ]
    }
   ],
   "source": [
    "# Get project ID\n",
    "project_name = 'sg10k-dragen-reanalysis'\n",
    "project_id = subprocess.check_output(f\"icav2 -k $ICA_API_KEY projects list | grep {project_name} | cut -f 1 \", shell=True, text=True).strip()\n",
    "print(f\"project: {project_name} [{project_id}]\")"
   ]
  },
  {
   "cell_type": "code",
   "execution_count": 75,
   "id": "5936d316-b08b-422b-88cb-9a0b357c15ce",
   "metadata": {
    "tags": []
   },
   "outputs": [
    {
     "name": "stdout",
     "output_type": "stream",
     "text": [
      "pipeline: cram_to_fastq_v2 [9b0b0046-aea7-4927-ae6d-4b995de871a5]\n"
     ]
    }
   ],
   "source": [
    "# Get pipeline ID\n",
    "pipeline_name = 'cram_to_fastq_v2'\n",
    "pipeline_id = subprocess.check_output(f\"icav2 -k $ICA_API_KEY --project-id {project_id} projectpipelines list | grep {pipeline_name} | cut -f 1 \", shell=True, text=True).strip()\n",
    "print(f\"pipeline: {pipeline_name} [{pipeline_id}]\")"
   ]
  },
  {
   "cell_type": "code",
   "execution_count": 76,
   "id": "391e8eb0-cc0d-403c-817d-8f608bc6ecd6",
   "metadata": {
    "tags": []
   },
   "outputs": [
    {
     "name": "stdout",
     "output_type": "stream",
     "text": [
      "output folder: fastq_output [fol.ec79bbbe048542cca97f08dd076b3d42]\n"
     ]
    }
   ],
   "source": [
    "# Get output folder ID\n",
    "output_name = 'fastq_output'\n",
    "output_id = subprocess.check_output(f\"icav2 -k $ICA_API_KEY --project-id {project_id} projectdata list --file-name {output_name} | grep {output_name} | cut -f 4 \", shell=True, text=True).strip()\n",
    "print(f\"output folder: {output_name} [{output_id}]\")"
   ]
  },
  {
   "cell_type": "code",
   "execution_count": 77,
   "id": "4edb1d0f-f54d-4862-bd36-d19fb8c1d7a2",
   "metadata": {
    "tags": []
   },
   "outputs": [
    {
     "name": "stdout",
     "output_type": "stream",
     "text": [
      "ref: hg38.fa [fil.b353222e04a44a69ad5308dc227c4360]\n"
     ]
    }
   ],
   "source": [
    "# Get ref ID\n",
    "ref_name = 'hg38.fa'\n",
    "ref_id = subprocess.check_output(f\"icav2 -k $ICA_API_KEY --project-id {project_id} projectdata list --file-name {ref_name} | grep {ref_name} | cut -f 4 \", shell=True, text=True).strip()\n",
    "print(f\"ref: {ref_name} [{ref_id}]\")"
   ]
  },
  {
   "cell_type": "markdown",
   "id": "b8baa405-f7d1-4508-b0f4-dfa4d3496524",
   "metadata": {},
   "source": [
    "## Launch one sample"
   ]
  },
  {
   "cell_type": "code",
   "execution_count": 69,
   "id": "9e8579d4-d34d-4d74-8da6-62e1da045c68",
   "metadata": {
    "tags": []
   },
   "outputs": [
    {
     "name": "stdout",
     "output_type": "stream",
     "text": [
      "sample: WHH430 - cram_id: fil.1bd99f3c419640a1582808dce7f6b5a3\n"
     ]
    }
   ],
   "source": [
    "sample_name = 'WHH430'\n",
    "# Get CRAM file ID\n",
    "cram_id = subprocess.check_output(f\"icav2 -k $ICA_API_KEY --project-id {project_id} projectdata list --file-name {sample_name}.bqsr.cram | grep {sample_name} | cut -f 4\", shell=True, text=True).strip()\n",
    "\n",
    "print(f\"sample: {sample_name} - cram_id: {cram_id}\")"
   ]
  },
  {
   "cell_type": "code",
   "execution_count": 70,
   "id": "3c007314-1571-4aff-9470-49f2a31f7ab3",
   "metadata": {
    "tags": []
   },
   "outputs": [
    {
     "name": "stdout",
     "output_type": "stream",
     "text": [
      "cmd: icav2 -k $ICA_API_KEY projectpipelines start nextflow 9b0b0046-aea7-4927-ae6d-4b995de871a5 --project-id bf47eb3e-868e-4f88-97ac-c2a76c3c6ac4 --storage-size small --user-reference WHH430 --user-tag WHH430 --output-parent-folder fol.ec79bbbe048542cca97f08dd076b3d42 --input ref_fasta:fil.b353222e04a44a69ad5308dc227c4360 --input input_cram:fil.1bd99f3c419640a1582808dce7f6b5a3 \n",
      "Analysis cram_to_fastq_v2 launched on sample WHH430\n"
     ]
    }
   ],
   "source": [
    "# Launch analysis\n",
    "cmd = f\"icav2 -k $ICA_API_KEY projectpipelines start nextflow {pipeline_id} \\\n",
    "--project-id {project_id} \\\n",
    "--storage-size small \\\n",
    "--user-reference {sample_name} \\\n",
    "--user-tag {sample_name} \\\n",
    "--output-parent-folder {output_id} \\\n",
    "--input ref_fasta:{ref_id} \\\n",
    "--input input_cram:{cram_id} \\\n",
    "\"\n",
    "print(f\"cmd: {cmd}\")\n",
    "cmd_out = subprocess.check_output(cmd, shell=True, text=True).strip()\n",
    "# print(cmd_out)\n",
    "print(f\"Analysis {pipeline_name} launched on sample {sample_name}\")"
   ]
  },
  {
   "cell_type": "markdown",
   "id": "8ace8e43-b2a9-4a5f-b649-90768b478b2e",
   "metadata": {},
   "source": [
    "## Launch batch of samples"
   ]
  },
  {
   "cell_type": "code",
   "execution_count": 78,
   "id": "59851166-fe9c-4792-9db9-cbb11de96fa0",
   "metadata": {
    "tags": []
   },
   "outputs": [
    {
     "name": "stdout",
     "output_type": "stream",
     "text": [
      "n=1,543\n",
      "Index(['ID', 'NAME', 'STATUS', 'DESCRIPTION', 'USER TAGS', 'TECHNICAL TAGS'], dtype='object')\n"
     ]
    }
   ],
   "source": [
    "# List ICA sample objects\n",
    "# os.system(f\"icav2 -k $ICA_API_KEY --project-id {project_id} projectsamples list > projectsamples-list.txt\")\n",
    "# Read projectsamples-list\n",
    "cols = ['ID', 'NAME', 'STATUS', 'DESCRIPTION', 'USER TAGS', 'TECHNICAL TAGS']\n",
    "df_sample = pd.read_csv('projectsamples-list.txt', sep='\\t', header=0, index_col=False, engine='python', skipfooter=1,\n",
    "                 names=cols, converters={col: str.strip for col in cols}\n",
    "                )\n",
    "print(f'n={len(df_sample):,}')\n",
    "print(df_sample.columns)"
   ]
  },
  {
   "cell_type": "code",
   "execution_count": null,
   "id": "43a07b54-c349-44a8-b1e3-4ef82e028ba4",
   "metadata": {},
   "outputs": [],
   "source": [
    "# df_sample.iloc[0]:\n",
    "# df_sample.iloc[1:300]:\n",
    "# df_sample.iloc[300:600]:\n",
    "# df_sample.iloc[600:900]:"
   ]
  },
  {
   "cell_type": "code",
   "execution_count": null,
   "id": "987f844e-3b0f-4edd-acca-51e3b38ba165",
   "metadata": {
    "tags": []
   },
   "outputs": [
    {
     "name": "stdout",
     "output_type": "stream",
     "text": [
      "[300] WHH729 :0: icav2 -k $ICA_API_KEY projectpipelines start nextflow 9b0b0046-aea7-4927-ae6d-4b995de871a5     --project-id bf47eb3e-868e-4f88-97ac-c2a76c3c6ac4     --storage-size small     --user-reference WHH729     --user-tag WHH729     --output-parent-folder fol.ec79bbbe048542cca97f08dd076b3d42     --input ref_fasta:fil.b353222e04a44a69ad5308dc227c4360     --input input_cram:fil.73c8322e6cb247d393aa08dce7f6b5a4     >> ica.log\n",
      "[301] WHH730 :0: icav2 -k $ICA_API_KEY projectpipelines start nextflow 9b0b0046-aea7-4927-ae6d-4b995de871a5     --project-id bf47eb3e-868e-4f88-97ac-c2a76c3c6ac4     --storage-size small     --user-reference WHH730     --user-tag WHH730     --output-parent-folder fol.ec79bbbe048542cca97f08dd076b3d42     --input ref_fasta:fil.b353222e04a44a69ad5308dc227c4360     --input input_cram:fil.4afd22b8d3254b0b947808dce7f6b5a4     >> ica.log\n",
      "[302] WHH731 :0: icav2 -k $ICA_API_KEY projectpipelines start nextflow 9b0b0046-aea7-4927-ae6d-4b995de871a5     --project-id bf47eb3e-868e-4f88-97ac-c2a76c3c6ac4     --storage-size small     --user-reference WHH731     --user-tag WHH731     --output-parent-folder fol.ec79bbbe048542cca97f08dd076b3d42     --input ref_fasta:fil.b353222e04a44a69ad5308dc227c4360     --input input_cram:fil.0d58aa24632c4c2995a808dce7f6b5a4     >> ica.log\n",
      "[303] WHH732 :0: icav2 -k $ICA_API_KEY projectpipelines start nextflow 9b0b0046-aea7-4927-ae6d-4b995de871a5     --project-id bf47eb3e-868e-4f88-97ac-c2a76c3c6ac4     --storage-size small     --user-reference WHH732     --user-tag WHH732     --output-parent-folder fol.ec79bbbe048542cca97f08dd076b3d42     --input ref_fasta:fil.b353222e04a44a69ad5308dc227c4360     --input input_cram:fil.c02774228d034527a56d08dce689ffeb     >> ica.log\n",
      "[304] WHH733 :0: icav2 -k $ICA_API_KEY projectpipelines start nextflow 9b0b0046-aea7-4927-ae6d-4b995de871a5     --project-id bf47eb3e-868e-4f88-97ac-c2a76c3c6ac4     --storage-size small     --user-reference WHH733     --user-tag WHH733     --output-parent-folder fol.ec79bbbe048542cca97f08dd076b3d42     --input ref_fasta:fil.b353222e04a44a69ad5308dc227c4360     --input input_cram:fil.17a3ff71f6d34a01a90108dce689ffeb     >> ica.log\n",
      "[305] WHH734 :0: icav2 -k $ICA_API_KEY projectpipelines start nextflow 9b0b0046-aea7-4927-ae6d-4b995de871a5     --project-id bf47eb3e-868e-4f88-97ac-c2a76c3c6ac4     --storage-size small     --user-reference WHH734     --user-tag WHH734     --output-parent-folder fol.ec79bbbe048542cca97f08dd076b3d42     --input ref_fasta:fil.b353222e04a44a69ad5308dc227c4360     --input input_cram:fil.c15a812c87b440eeaaa508dce689ffeb     >> ica.log\n",
      "[306] WHH735 :0: icav2 -k $ICA_API_KEY projectpipelines start nextflow 9b0b0046-aea7-4927-ae6d-4b995de871a5     --project-id bf47eb3e-868e-4f88-97ac-c2a76c3c6ac4     --storage-size small     --user-reference WHH735     --user-tag WHH735     --output-parent-folder fol.ec79bbbe048542cca97f08dd076b3d42     --input ref_fasta:fil.b353222e04a44a69ad5308dc227c4360     --input input_cram:fil.d644fea6784e4c219e2308dce7f6b5a4     >> ica.log\n",
      "[307] WHH736 :0: icav2 -k $ICA_API_KEY projectpipelines start nextflow 9b0b0046-aea7-4927-ae6d-4b995de871a5     --project-id bf47eb3e-868e-4f88-97ac-c2a76c3c6ac4     --storage-size small     --user-reference WHH736     --user-tag WHH736     --output-parent-folder fol.ec79bbbe048542cca97f08dd076b3d42     --input ref_fasta:fil.b353222e04a44a69ad5308dc227c4360     --input input_cram:fil.02ebdcbaae2e462e9fa008dce7f6b5a4     >> ica.log\n",
      "[308] WHH737 :0: icav2 -k $ICA_API_KEY projectpipelines start nextflow 9b0b0046-aea7-4927-ae6d-4b995de871a5     --project-id bf47eb3e-868e-4f88-97ac-c2a76c3c6ac4     --storage-size small     --user-reference WHH737     --user-tag WHH737     --output-parent-folder fol.ec79bbbe048542cca97f08dd076b3d42     --input ref_fasta:fil.b353222e04a44a69ad5308dc227c4360     --input input_cram:fil.a0aad19144854a1cb09508dce689ffeb     >> ica.log\n",
      "[309] WHH738 :0: icav2 -k $ICA_API_KEY projectpipelines start nextflow 9b0b0046-aea7-4927-ae6d-4b995de871a5     --project-id bf47eb3e-868e-4f88-97ac-c2a76c3c6ac4     --storage-size small     --user-reference WHH738     --user-tag WHH738     --output-parent-folder fol.ec79bbbe048542cca97f08dd076b3d42     --input ref_fasta:fil.b353222e04a44a69ad5308dc227c4360     --input input_cram:fil.b26fd7e761ad4638b1e708dce689ffeb     >> ica.log\n",
      "[310] WHH739 :0: icav2 -k $ICA_API_KEY projectpipelines start nextflow 9b0b0046-aea7-4927-ae6d-4b995de871a5     --project-id bf47eb3e-868e-4f88-97ac-c2a76c3c6ac4     --storage-size small     --user-reference WHH739     --user-tag WHH739     --output-parent-folder fol.ec79bbbe048542cca97f08dd076b3d42     --input ref_fasta:fil.b353222e04a44a69ad5308dc227c4360     --input input_cram:fil.18b47edd57d1402da65408dce7f6b5a4     >> ica.log\n",
      "[311] WHH740 :0: icav2 -k $ICA_API_KEY projectpipelines start nextflow 9b0b0046-aea7-4927-ae6d-4b995de871a5     --project-id bf47eb3e-868e-4f88-97ac-c2a76c3c6ac4     --storage-size small     --user-reference WHH740     --user-tag WHH740     --output-parent-folder fol.ec79bbbe048542cca97f08dd076b3d42     --input ref_fasta:fil.b353222e04a44a69ad5308dc227c4360     --input input_cram:fil.6d1207cb8f5b4971b5c908dce689ffeb     >> ica.log\n",
      "[312] WHH741 :0: icav2 -k $ICA_API_KEY projectpipelines start nextflow 9b0b0046-aea7-4927-ae6d-4b995de871a5     --project-id bf47eb3e-868e-4f88-97ac-c2a76c3c6ac4     --storage-size small     --user-reference WHH741     --user-tag WHH741     --output-parent-folder fol.ec79bbbe048542cca97f08dd076b3d42     --input ref_fasta:fil.b353222e04a44a69ad5308dc227c4360     --input input_cram:fil.7ac6567c8dd74370aaa008dce7f6b5a4     >> ica.log\n",
      "[313] WHH742 :0: icav2 -k $ICA_API_KEY projectpipelines start nextflow 9b0b0046-aea7-4927-ae6d-4b995de871a5     --project-id bf47eb3e-868e-4f88-97ac-c2a76c3c6ac4     --storage-size small     --user-reference WHH742     --user-tag WHH742     --output-parent-folder fol.ec79bbbe048542cca97f08dd076b3d42     --input ref_fasta:fil.b353222e04a44a69ad5308dc227c4360     --input input_cram:fil.c1fd9b8142d64cb0ad9108dce7f6b5a4     >> ica.log\n",
      "[314] WHH743 :0: icav2 -k $ICA_API_KEY projectpipelines start nextflow 9b0b0046-aea7-4927-ae6d-4b995de871a5     --project-id bf47eb3e-868e-4f88-97ac-c2a76c3c6ac4     --storage-size small     --user-reference WHH743     --user-tag WHH743     --output-parent-folder fol.ec79bbbe048542cca97f08dd076b3d42     --input ref_fasta:fil.b353222e04a44a69ad5308dc227c4360     --input input_cram:fil.c8d59b62576441a4aef108dce7f6b5a4     >> ica.log\n",
      "[315] WHH744 :0: icav2 -k $ICA_API_KEY projectpipelines start nextflow 9b0b0046-aea7-4927-ae6d-4b995de871a5     --project-id bf47eb3e-868e-4f88-97ac-c2a76c3c6ac4     --storage-size small     --user-reference WHH744     --user-tag WHH744     --output-parent-folder fol.ec79bbbe048542cca97f08dd076b3d42     --input ref_fasta:fil.b353222e04a44a69ad5308dc227c4360     --input input_cram:fil.acc42093975e4c53afe708dce7f6b5a4     >> ica.log\n",
      "[316] WHH745 :0: icav2 -k $ICA_API_KEY projectpipelines start nextflow 9b0b0046-aea7-4927-ae6d-4b995de871a5     --project-id bf47eb3e-868e-4f88-97ac-c2a76c3c6ac4     --storage-size small     --user-reference WHH745     --user-tag WHH745     --output-parent-folder fol.ec79bbbe048542cca97f08dd076b3d42     --input ref_fasta:fil.b353222e04a44a69ad5308dc227c4360     --input input_cram:fil.127e36ee532249b6c21908dce689ffeb     >> ica.log\n",
      "[317] WHH746 :0: icav2 -k $ICA_API_KEY projectpipelines start nextflow 9b0b0046-aea7-4927-ae6d-4b995de871a5     --project-id bf47eb3e-868e-4f88-97ac-c2a76c3c6ac4     --storage-size small     --user-reference WHH746     --user-tag WHH746     --output-parent-folder fol.ec79bbbe048542cca97f08dd076b3d42     --input ref_fasta:fil.b353222e04a44a69ad5308dc227c4360     --input input_cram:fil.4fb4afd7263e4a41c3f808dce689ffeb     >> ica.log\n",
      "[318] WHH747 :0: icav2 -k $ICA_API_KEY projectpipelines start nextflow 9b0b0046-aea7-4927-ae6d-4b995de871a5     --project-id bf47eb3e-868e-4f88-97ac-c2a76c3c6ac4     --storage-size small     --user-reference WHH747     --user-tag WHH747     --output-parent-folder fol.ec79bbbe048542cca97f08dd076b3d42     --input ref_fasta:fil.b353222e04a44a69ad5308dc227c4360     --input input_cram:fil.150a04ebdd574cc4c6a208dce689ffeb     >> ica.log\n",
      "[319] WHH748 :0: icav2 -k $ICA_API_KEY projectpipelines start nextflow 9b0b0046-aea7-4927-ae6d-4b995de871a5     --project-id bf47eb3e-868e-4f88-97ac-c2a76c3c6ac4     --storage-size small     --user-reference WHH748     --user-tag WHH748     --output-parent-folder fol.ec79bbbe048542cca97f08dd076b3d42     --input ref_fasta:fil.b353222e04a44a69ad5308dc227c4360     --input input_cram:fil.4f842f9b2ee648eac90108dce689ffeb     >> ica.log\n",
      "[320] WHH749 :0: icav2 -k $ICA_API_KEY projectpipelines start nextflow 9b0b0046-aea7-4927-ae6d-4b995de871a5     --project-id bf47eb3e-868e-4f88-97ac-c2a76c3c6ac4     --storage-size small     --user-reference WHH749     --user-tag WHH749     --output-parent-folder fol.ec79bbbe048542cca97f08dd076b3d42     --input ref_fasta:fil.b353222e04a44a69ad5308dc227c4360     --input input_cram:fil.a045ab0fd2034cb8ca6608dce689ffeb     >> ica.log\n",
      "[321] WHH750 :0: icav2 -k $ICA_API_KEY projectpipelines start nextflow 9b0b0046-aea7-4927-ae6d-4b995de871a5     --project-id bf47eb3e-868e-4f88-97ac-c2a76c3c6ac4     --storage-size small     --user-reference WHH750     --user-tag WHH750     --output-parent-folder fol.ec79bbbe048542cca97f08dd076b3d42     --input ref_fasta:fil.b353222e04a44a69ad5308dc227c4360     --input input_cram:fil.b65545f24dfa4442ba9108dce7f6b5a4     >> ica.log\n",
      "[322] WHH751 :0: icav2 -k $ICA_API_KEY projectpipelines start nextflow 9b0b0046-aea7-4927-ae6d-4b995de871a5     --project-id bf47eb3e-868e-4f88-97ac-c2a76c3c6ac4     --storage-size small     --user-reference WHH751     --user-tag WHH751     --output-parent-folder fol.ec79bbbe048542cca97f08dd076b3d42     --input ref_fasta:fil.b353222e04a44a69ad5308dc227c4360     --input input_cram:fil.11dec1ef89404e5acabd08dce689ffeb     >> ica.log\n",
      "[323] WHH752 :0: icav2 -k $ICA_API_KEY projectpipelines start nextflow 9b0b0046-aea7-4927-ae6d-4b995de871a5     --project-id bf47eb3e-868e-4f88-97ac-c2a76c3c6ac4     --storage-size small     --user-reference WHH752     --user-tag WHH752     --output-parent-folder fol.ec79bbbe048542cca97f08dd076b3d42     --input ref_fasta:fil.b353222e04a44a69ad5308dc227c4360     --input input_cram:fil.0c768259c08244e0cabf08dce689ffeb     >> ica.log\n",
      "[324] WHH753 :0: icav2 -k $ICA_API_KEY projectpipelines start nextflow 9b0b0046-aea7-4927-ae6d-4b995de871a5     --project-id bf47eb3e-868e-4f88-97ac-c2a76c3c6ac4     --storage-size small     --user-reference WHH753     --user-tag WHH753     --output-parent-folder fol.ec79bbbe048542cca97f08dd076b3d42     --input ref_fasta:fil.b353222e04a44a69ad5308dc227c4360     --input input_cram:fil.aaa98f5585344f36caf808dce689ffeb     >> ica.log\n",
      "[325] WHH754 :0: icav2 -k $ICA_API_KEY projectpipelines start nextflow 9b0b0046-aea7-4927-ae6d-4b995de871a5     --project-id bf47eb3e-868e-4f88-97ac-c2a76c3c6ac4     --storage-size small     --user-reference WHH754     --user-tag WHH754     --output-parent-folder fol.ec79bbbe048542cca97f08dd076b3d42     --input ref_fasta:fil.b353222e04a44a69ad5308dc227c4360     --input input_cram:fil.3559daf8a1054638cb8008dce689ffeb     >> ica.log\n",
      "[326] WHH755 :0: icav2 -k $ICA_API_KEY projectpipelines start nextflow 9b0b0046-aea7-4927-ae6d-4b995de871a5     --project-id bf47eb3e-868e-4f88-97ac-c2a76c3c6ac4     --storage-size small     --user-reference WHH755     --user-tag WHH755     --output-parent-folder fol.ec79bbbe048542cca97f08dd076b3d42     --input ref_fasta:fil.b353222e04a44a69ad5308dc227c4360     --input input_cram:fil.3a59383ef91e46f7cb8208dce689ffeb     >> ica.log\n",
      "[327] WHH756 :0: icav2 -k $ICA_API_KEY projectpipelines start nextflow 9b0b0046-aea7-4927-ae6d-4b995de871a5     --project-id bf47eb3e-868e-4f88-97ac-c2a76c3c6ac4     --storage-size small     --user-reference WHH756     --user-tag WHH756     --output-parent-folder fol.ec79bbbe048542cca97f08dd076b3d42     --input ref_fasta:fil.b353222e04a44a69ad5308dc227c4360     --input input_cram:fil.79f7a8e4f5214986bb3708dce7f6b5a4     >> ica.log\n",
      "[328] WHH757 :0: icav2 -k $ICA_API_KEY projectpipelines start nextflow 9b0b0046-aea7-4927-ae6d-4b995de871a5     --project-id bf47eb3e-868e-4f88-97ac-c2a76c3c6ac4     --storage-size small     --user-reference WHH757     --user-tag WHH757     --output-parent-folder fol.ec79bbbe048542cca97f08dd076b3d42     --input ref_fasta:fil.b353222e04a44a69ad5308dc227c4360     --input input_cram:fil.7f6ef588842d4c72cbdb08dce689ffeb     >> ica.log\n",
      "[329] WHH758 :0: icav2 -k $ICA_API_KEY projectpipelines start nextflow 9b0b0046-aea7-4927-ae6d-4b995de871a5     --project-id bf47eb3e-868e-4f88-97ac-c2a76c3c6ac4     --storage-size small     --user-reference WHH758     --user-tag WHH758     --output-parent-folder fol.ec79bbbe048542cca97f08dd076b3d42     --input ref_fasta:fil.b353222e04a44a69ad5308dc227c4360     --input input_cram:fil.fcdb2330751240aacc3f08dce689ffeb     >> ica.log\n",
      "[330] WHH759 :0: icav2 -k $ICA_API_KEY projectpipelines start nextflow 9b0b0046-aea7-4927-ae6d-4b995de871a5     --project-id bf47eb3e-868e-4f88-97ac-c2a76c3c6ac4     --storage-size small     --user-reference WHH759     --user-tag WHH759     --output-parent-folder fol.ec79bbbe048542cca97f08dd076b3d42     --input ref_fasta:fil.b353222e04a44a69ad5308dc227c4360     --input input_cram:fil.435c5c9665814786bbea08dce7f6b5a4     >> ica.log\n",
      "[331] WHH760 :0: icav2 -k $ICA_API_KEY projectpipelines start nextflow 9b0b0046-aea7-4927-ae6d-4b995de871a5     --project-id bf47eb3e-868e-4f88-97ac-c2a76c3c6ac4     --storage-size small     --user-reference WHH760     --user-tag WHH760     --output-parent-folder fol.ec79bbbe048542cca97f08dd076b3d42     --input ref_fasta:fil.b353222e04a44a69ad5308dc227c4360     --input input_cram:fil.e653718693ea4017cc4008dce689ffeb     >> ica.log\n",
      "[332] WHH761 :0: icav2 -k $ICA_API_KEY projectpipelines start nextflow 9b0b0046-aea7-4927-ae6d-4b995de871a5     --project-id bf47eb3e-868e-4f88-97ac-c2a76c3c6ac4     --storage-size small     --user-reference WHH761     --user-tag WHH761     --output-parent-folder fol.ec79bbbe048542cca97f08dd076b3d42     --input ref_fasta:fil.b353222e04a44a69ad5308dc227c4360     --input input_cram:fil.b261840ba61c4884bc6008dce7f6b5a4     >> ica.log\n",
      "[333] WHH762 :0: icav2 -k $ICA_API_KEY projectpipelines start nextflow 9b0b0046-aea7-4927-ae6d-4b995de871a5     --project-id bf47eb3e-868e-4f88-97ac-c2a76c3c6ac4     --storage-size small     --user-reference WHH762     --user-tag WHH762     --output-parent-folder fol.ec79bbbe048542cca97f08dd076b3d42     --input ref_fasta:fil.b353222e04a44a69ad5308dc227c4360     --input input_cram:fil.25b1ded57cb248ebcceb08dce689ffeb     >> ica.log\n",
      "[334] WHH763 :0: icav2 -k $ICA_API_KEY projectpipelines start nextflow 9b0b0046-aea7-4927-ae6d-4b995de871a5     --project-id bf47eb3e-868e-4f88-97ac-c2a76c3c6ac4     --storage-size small     --user-reference WHH763     --user-tag WHH763     --output-parent-folder fol.ec79bbbe048542cca97f08dd076b3d42     --input ref_fasta:fil.b353222e04a44a69ad5308dc227c4360     --input input_cram:fil.1a9ccc555db04f90bc9a08dce7f6b5a4     >> ica.log\n",
      "[335] WHH764 :0: icav2 -k $ICA_API_KEY projectpipelines start nextflow 9b0b0046-aea7-4927-ae6d-4b995de871a5     --project-id bf47eb3e-868e-4f88-97ac-c2a76c3c6ac4     --storage-size small     --user-reference WHH764     --user-tag WHH764     --output-parent-folder fol.ec79bbbe048542cca97f08dd076b3d42     --input ref_fasta:fil.b353222e04a44a69ad5308dc227c4360     --input input_cram:fil.c22b837141354315ccef08dce689ffeb     >> ica.log\n",
      "[336] WHH765 :0: icav2 -k $ICA_API_KEY projectpipelines start nextflow 9b0b0046-aea7-4927-ae6d-4b995de871a5     --project-id bf47eb3e-868e-4f88-97ac-c2a76c3c6ac4     --storage-size small     --user-reference WHH765     --user-tag WHH765     --output-parent-folder fol.ec79bbbe048542cca97f08dd076b3d42     --input ref_fasta:fil.b353222e04a44a69ad5308dc227c4360     --input input_cram:fil.34af855cedc54755bd3208dce7f6b5a4     >> ica.log\n",
      "[337] WHH766 :0: icav2 -k $ICA_API_KEY projectpipelines start nextflow 9b0b0046-aea7-4927-ae6d-4b995de871a5     --project-id bf47eb3e-868e-4f88-97ac-c2a76c3c6ac4     --storage-size small     --user-reference WHH766     --user-tag WHH766     --output-parent-folder fol.ec79bbbe048542cca97f08dd076b3d42     --input ref_fasta:fil.b353222e04a44a69ad5308dc227c4360     --input input_cram:fil.9c30387585184003bd5a08dce7f6b5a4     >> ica.log\n",
      "[338] WHH767 :0: icav2 -k $ICA_API_KEY projectpipelines start nextflow 9b0b0046-aea7-4927-ae6d-4b995de871a5     --project-id bf47eb3e-868e-4f88-97ac-c2a76c3c6ac4     --storage-size small     --user-reference WHH767     --user-tag WHH767     --output-parent-folder fol.ec79bbbe048542cca97f08dd076b3d42     --input ref_fasta:fil.b353222e04a44a69ad5308dc227c4360     --input input_cram:fil.875aba2d4aca46aabd5b08dce7f6b5a4     >> ica.log\n",
      "[339] WHH768 :0: icav2 -k $ICA_API_KEY projectpipelines start nextflow 9b0b0046-aea7-4927-ae6d-4b995de871a5     --project-id bf47eb3e-868e-4f88-97ac-c2a76c3c6ac4     --storage-size small     --user-reference WHH768     --user-tag WHH768     --output-parent-folder fol.ec79bbbe048542cca97f08dd076b3d42     --input ref_fasta:fil.b353222e04a44a69ad5308dc227c4360     --input input_cram:fil.c49cd5f457014992cdcf08dce689ffeb     >> ica.log\n",
      "[340] WHH769 :0: icav2 -k $ICA_API_KEY projectpipelines start nextflow 9b0b0046-aea7-4927-ae6d-4b995de871a5     --project-id bf47eb3e-868e-4f88-97ac-c2a76c3c6ac4     --storage-size small     --user-reference WHH769     --user-tag WHH769     --output-parent-folder fol.ec79bbbe048542cca97f08dd076b3d42     --input ref_fasta:fil.b353222e04a44a69ad5308dc227c4360     --input input_cram:fil.7dc15b2df3214860ce3708dce689ffeb     >> ica.log\n",
      "[341] WHH770 :0: icav2 -k $ICA_API_KEY projectpipelines start nextflow 9b0b0046-aea7-4927-ae6d-4b995de871a5     --project-id bf47eb3e-868e-4f88-97ac-c2a76c3c6ac4     --storage-size small     --user-reference WHH770     --user-tag WHH770     --output-parent-folder fol.ec79bbbe048542cca97f08dd076b3d42     --input ref_fasta:fil.b353222e04a44a69ad5308dc227c4360     --input input_cram:fil.d82ea58265c64160ce3808dce689ffeb     >> ica.log\n",
      "[342] WHH771 :0: icav2 -k $ICA_API_KEY projectpipelines start nextflow 9b0b0046-aea7-4927-ae6d-4b995de871a5     --project-id bf47eb3e-868e-4f88-97ac-c2a76c3c6ac4     --storage-size small     --user-reference WHH771     --user-tag WHH771     --output-parent-folder fol.ec79bbbe048542cca97f08dd076b3d42     --input ref_fasta:fil.b353222e04a44a69ad5308dc227c4360     --input input_cram:fil.a2a864bd0e484237be1e08dce7f6b5a4     >> ica.log\n",
      "[343] WHH772 :0: icav2 -k $ICA_API_KEY projectpipelines start nextflow 9b0b0046-aea7-4927-ae6d-4b995de871a5     --project-id bf47eb3e-868e-4f88-97ac-c2a76c3c6ac4     --storage-size small     --user-reference WHH772     --user-tag WHH772     --output-parent-folder fol.ec79bbbe048542cca97f08dd076b3d42     --input ref_fasta:fil.b353222e04a44a69ad5308dc227c4360     --input input_cram:fil.5c596fe7b37f439dbeb708dce7f6b5a4     >> ica.log\n",
      "[344] WHH773 :0: icav2 -k $ICA_API_KEY projectpipelines start nextflow 9b0b0046-aea7-4927-ae6d-4b995de871a5     --project-id bf47eb3e-868e-4f88-97ac-c2a76c3c6ac4     --storage-size small     --user-reference WHH773     --user-tag WHH773     --output-parent-folder fol.ec79bbbe048542cca97f08dd076b3d42     --input ref_fasta:fil.b353222e04a44a69ad5308dc227c4360     --input input_cram:fil.3ad2e76b559a4475cefb08dce689ffeb     >> ica.log\n",
      "[345] WHH774 :0: icav2 -k $ICA_API_KEY projectpipelines start nextflow 9b0b0046-aea7-4927-ae6d-4b995de871a5     --project-id bf47eb3e-868e-4f88-97ac-c2a76c3c6ac4     --storage-size small     --user-reference WHH774     --user-tag WHH774     --output-parent-folder fol.ec79bbbe048542cca97f08dd076b3d42     --input ref_fasta:fil.b353222e04a44a69ad5308dc227c4360     --input input_cram:fil.1aefb08b32b344dfcf1308dce689ffeb     >> ica.log\n",
      "[346] WHH775 :0: icav2 -k $ICA_API_KEY projectpipelines start nextflow 9b0b0046-aea7-4927-ae6d-4b995de871a5     --project-id bf47eb3e-868e-4f88-97ac-c2a76c3c6ac4     --storage-size small     --user-reference WHH775     --user-tag WHH775     --output-parent-folder fol.ec79bbbe048542cca97f08dd076b3d42     --input ref_fasta:fil.b353222e04a44a69ad5308dc227c4360     --input input_cram:fil.d2953ad5b7d149bbbf7308dce7f6b5a4     >> ica.log\n",
      "[347] WHH776 :0: icav2 -k $ICA_API_KEY projectpipelines start nextflow 9b0b0046-aea7-4927-ae6d-4b995de871a5     --project-id bf47eb3e-868e-4f88-97ac-c2a76c3c6ac4     --storage-size small     --user-reference WHH776     --user-tag WHH776     --output-parent-folder fol.ec79bbbe048542cca97f08dd076b3d42     --input ref_fasta:fil.b353222e04a44a69ad5308dc227c4360     --input input_cram:fil.cd88c2e9bc1f4cc3cf9808dce689ffeb     >> ica.log\n",
      "[348] WHH777 :0: icav2 -k $ICA_API_KEY projectpipelines start nextflow 9b0b0046-aea7-4927-ae6d-4b995de871a5     --project-id bf47eb3e-868e-4f88-97ac-c2a76c3c6ac4     --storage-size small     --user-reference WHH777     --user-tag WHH777     --output-parent-folder fol.ec79bbbe048542cca97f08dd076b3d42     --input ref_fasta:fil.b353222e04a44a69ad5308dc227c4360     --input input_cram:fil.b7db11fa38a04a80bf8e08dce7f6b5a4     >> ica.log\n",
      "[349] WHH778 :0: icav2 -k $ICA_API_KEY projectpipelines start nextflow 9b0b0046-aea7-4927-ae6d-4b995de871a5     --project-id bf47eb3e-868e-4f88-97ac-c2a76c3c6ac4     --storage-size small     --user-reference WHH778     --user-tag WHH778     --output-parent-folder fol.ec79bbbe048542cca97f08dd076b3d42     --input ref_fasta:fil.b353222e04a44a69ad5308dc227c4360     --input input_cram:fil.de92a5dce85d4f01c01608dce7f6b5a4     >> ica.log\n",
      "[350] WHH779 :0: icav2 -k $ICA_API_KEY projectpipelines start nextflow 9b0b0046-aea7-4927-ae6d-4b995de871a5     --project-id bf47eb3e-868e-4f88-97ac-c2a76c3c6ac4     --storage-size small     --user-reference WHH779     --user-tag WHH779     --output-parent-folder fol.ec79bbbe048542cca97f08dd076b3d42     --input ref_fasta:fil.b353222e04a44a69ad5308dc227c4360     --input input_cram:fil.3c9b4faf20bc4b63d05e08dce689ffeb     >> ica.log\n",
      "[351] WHH780 :0: icav2 -k $ICA_API_KEY projectpipelines start nextflow 9b0b0046-aea7-4927-ae6d-4b995de871a5     --project-id bf47eb3e-868e-4f88-97ac-c2a76c3c6ac4     --storage-size small     --user-reference WHH780     --user-tag WHH780     --output-parent-folder fol.ec79bbbe048542cca97f08dd076b3d42     --input ref_fasta:fil.b353222e04a44a69ad5308dc227c4360     --input input_cram:fil.be14383386bc4c7dc01c08dce7f6b5a4     >> ica.log\n",
      "[352] WHH781 :0: icav2 -k $ICA_API_KEY projectpipelines start nextflow 9b0b0046-aea7-4927-ae6d-4b995de871a5     --project-id bf47eb3e-868e-4f88-97ac-c2a76c3c6ac4     --storage-size small     --user-reference WHH781     --user-tag WHH781     --output-parent-folder fol.ec79bbbe048542cca97f08dd076b3d42     --input ref_fasta:fil.b353222e04a44a69ad5308dc227c4360     --input input_cram:fil.34f8d1ba16a44ab3c08f08dce7f6b5a4     >> ica.log\n",
      "[353] WHH782 :0: icav2 -k $ICA_API_KEY projectpipelines start nextflow 9b0b0046-aea7-4927-ae6d-4b995de871a5     --project-id bf47eb3e-868e-4f88-97ac-c2a76c3c6ac4     --storage-size small     --user-reference WHH782     --user-tag WHH782     --output-parent-folder fol.ec79bbbe048542cca97f08dd076b3d42     --input ref_fasta:fil.b353222e04a44a69ad5308dc227c4360     --input input_cram:fil.a221238e45234eafc0b308dce7f6b5a4     >> ica.log\n",
      "[354] WHH783 :0: icav2 -k $ICA_API_KEY projectpipelines start nextflow 9b0b0046-aea7-4927-ae6d-4b995de871a5     --project-id bf47eb3e-868e-4f88-97ac-c2a76c3c6ac4     --storage-size small     --user-reference WHH783     --user-tag WHH783     --output-parent-folder fol.ec79bbbe048542cca97f08dd076b3d42     --input ref_fasta:fil.b353222e04a44a69ad5308dc227c4360     --input input_cram:fil.da8467f678ac4715c0b508dce7f6b5a4     >> ica.log\n",
      "[355] WHH784 :0: icav2 -k $ICA_API_KEY projectpipelines start nextflow 9b0b0046-aea7-4927-ae6d-4b995de871a5     --project-id bf47eb3e-868e-4f88-97ac-c2a76c3c6ac4     --storage-size small     --user-reference WHH784     --user-tag WHH784     --output-parent-folder fol.ec79bbbe048542cca97f08dd076b3d42     --input ref_fasta:fil.b353222e04a44a69ad5308dc227c4360     --input input_cram:fil.0be1ae3eac5c4703d14808dce689ffeb     >> ica.log\n",
      "[356] WHH785 :0: icav2 -k $ICA_API_KEY projectpipelines start nextflow 9b0b0046-aea7-4927-ae6d-4b995de871a5     --project-id bf47eb3e-868e-4f88-97ac-c2a76c3c6ac4     --storage-size small     --user-reference WHH785     --user-tag WHH785     --output-parent-folder fol.ec79bbbe048542cca97f08dd076b3d42     --input ref_fasta:fil.b353222e04a44a69ad5308dc227c4360     --input input_cram:fil.1a006e9fd9c240e3c17008dce7f6b5a4     >> ica.log\n",
      "[357] WHH786 :0: icav2 -k $ICA_API_KEY projectpipelines start nextflow 9b0b0046-aea7-4927-ae6d-4b995de871a5     --project-id bf47eb3e-868e-4f88-97ac-c2a76c3c6ac4     --storage-size small     --user-reference WHH786     --user-tag WHH786     --output-parent-folder fol.ec79bbbe048542cca97f08dd076b3d42     --input ref_fasta:fil.b353222e04a44a69ad5308dc227c4360     --input input_cram:fil.274aea0d0b9b4524d1cc08dce689ffeb     >> ica.log\n",
      "[358] WHH787 :0: icav2 -k $ICA_API_KEY projectpipelines start nextflow 9b0b0046-aea7-4927-ae6d-4b995de871a5     --project-id bf47eb3e-868e-4f88-97ac-c2a76c3c6ac4     --storage-size small     --user-reference WHH787     --user-tag WHH787     --output-parent-folder fol.ec79bbbe048542cca97f08dd076b3d42     --input ref_fasta:fil.b353222e04a44a69ad5308dc227c4360     --input input_cram:fil.9f9d684c61ff4a2ad1cd08dce689ffeb     >> ica.log\n",
      "[359] WHH788 :0: icav2 -k $ICA_API_KEY projectpipelines start nextflow 9b0b0046-aea7-4927-ae6d-4b995de871a5     --project-id bf47eb3e-868e-4f88-97ac-c2a76c3c6ac4     --storage-size small     --user-reference WHH788     --user-tag WHH788     --output-parent-folder fol.ec79bbbe048542cca97f08dd076b3d42     --input ref_fasta:fil.b353222e04a44a69ad5308dc227c4360     --input input_cram:fil.1be89ae85e5f4dc4c1aa08dce7f6b5a4     >> ica.log\n",
      "[360] WHH789 :0: icav2 -k $ICA_API_KEY projectpipelines start nextflow 9b0b0046-aea7-4927-ae6d-4b995de871a5     --project-id bf47eb3e-868e-4f88-97ac-c2a76c3c6ac4     --storage-size small     --user-reference WHH789     --user-tag WHH789     --output-parent-folder fol.ec79bbbe048542cca97f08dd076b3d42     --input ref_fasta:fil.b353222e04a44a69ad5308dc227c4360     --input input_cram:fil.6f3eecf4b4dd4cc5c21408dce7f6b5a4     >> ica.log\n",
      "[361] WHH790 :0: icav2 -k $ICA_API_KEY projectpipelines start nextflow 9b0b0046-aea7-4927-ae6d-4b995de871a5     --project-id bf47eb3e-868e-4f88-97ac-c2a76c3c6ac4     --storage-size small     --user-reference WHH790     --user-tag WHH790     --output-parent-folder fol.ec79bbbe048542cca97f08dd076b3d42     --input ref_fasta:fil.b353222e04a44a69ad5308dc227c4360     --input input_cram:fil.25e5a21644cb4da2d27d08dce689ffeb     >> ica.log\n",
      "[362] WHH791 :0: icav2 -k $ICA_API_KEY projectpipelines start nextflow 9b0b0046-aea7-4927-ae6d-4b995de871a5     --project-id bf47eb3e-868e-4f88-97ac-c2a76c3c6ac4     --storage-size small     --user-reference WHH791     --user-tag WHH791     --output-parent-folder fol.ec79bbbe048542cca97f08dd076b3d42     --input ref_fasta:fil.b353222e04a44a69ad5308dc227c4360     --input input_cram:fil.8f294d6060bd421cd28a08dce689ffeb     >> ica.log\n",
      "[363] WHH792 :0: icav2 -k $ICA_API_KEY projectpipelines start nextflow 9b0b0046-aea7-4927-ae6d-4b995de871a5     --project-id bf47eb3e-868e-4f88-97ac-c2a76c3c6ac4     --storage-size small     --user-reference WHH792     --user-tag WHH792     --output-parent-folder fol.ec79bbbe048542cca97f08dd076b3d42     --input ref_fasta:fil.b353222e04a44a69ad5308dc227c4360     --input input_cram:fil.2642f8f382bb4c81d31308dce689ffeb     >> ica.log\n",
      "[364] WHH793 :0: icav2 -k $ICA_API_KEY projectpipelines start nextflow 9b0b0046-aea7-4927-ae6d-4b995de871a5     --project-id bf47eb3e-868e-4f88-97ac-c2a76c3c6ac4     --storage-size small     --user-reference WHH793     --user-tag WHH793     --output-parent-folder fol.ec79bbbe048542cca97f08dd076b3d42     --input ref_fasta:fil.b353222e04a44a69ad5308dc227c4360     --input input_cram:fil.c3796d92da0b461ec2d908dce7f6b5a4     >> ica.log\n",
      "[365] WHH794 :0: icav2 -k $ICA_API_KEY projectpipelines start nextflow 9b0b0046-aea7-4927-ae6d-4b995de871a5     --project-id bf47eb3e-868e-4f88-97ac-c2a76c3c6ac4     --storage-size small     --user-reference WHH794     --user-tag WHH794     --output-parent-folder fol.ec79bbbe048542cca97f08dd076b3d42     --input ref_fasta:fil.b353222e04a44a69ad5308dc227c4360     --input input_cram:fil.4440ebbcf3254e88c2da08dce7f6b5a4     >> ica.log\n",
      "[366] WHH795 :0: icav2 -k $ICA_API_KEY projectpipelines start nextflow 9b0b0046-aea7-4927-ae6d-4b995de871a5     --project-id bf47eb3e-868e-4f88-97ac-c2a76c3c6ac4     --storage-size small     --user-reference WHH795     --user-tag WHH795     --output-parent-folder fol.ec79bbbe048542cca97f08dd076b3d42     --input ref_fasta:fil.b353222e04a44a69ad5308dc227c4360     --input input_cram:fil.d9b63d0cc8c343bac34c08dce7f6b5a4     >> ica.log\n",
      "[367] WHH796 :0: icav2 -k $ICA_API_KEY projectpipelines start nextflow 9b0b0046-aea7-4927-ae6d-4b995de871a5     --project-id bf47eb3e-868e-4f88-97ac-c2a76c3c6ac4     --storage-size small     --user-reference WHH796     --user-tag WHH796     --output-parent-folder fol.ec79bbbe048542cca97f08dd076b3d42     --input ref_fasta:fil.b353222e04a44a69ad5308dc227c4360     --input input_cram:fil.22d3bba8779a45d3c39f08dce7f6b5a4     >> ica.log\n",
      "[368] WHH797 :0: icav2 -k $ICA_API_KEY projectpipelines start nextflow 9b0b0046-aea7-4927-ae6d-4b995de871a5     --project-id bf47eb3e-868e-4f88-97ac-c2a76c3c6ac4     --storage-size small     --user-reference WHH797     --user-tag WHH797     --output-parent-folder fol.ec79bbbe048542cca97f08dd076b3d42     --input ref_fasta:fil.b353222e04a44a69ad5308dc227c4360     --input input_cram:fil.06f2d9d815484941c3a008dce7f6b5a4     >> ica.log\n",
      "[369] WHH798 :0: icav2 -k $ICA_API_KEY projectpipelines start nextflow 9b0b0046-aea7-4927-ae6d-4b995de871a5     --project-id bf47eb3e-868e-4f88-97ac-c2a76c3c6ac4     --storage-size small     --user-reference WHH798     --user-tag WHH798     --output-parent-folder fol.ec79bbbe048542cca97f08dd076b3d42     --input ref_fasta:fil.b353222e04a44a69ad5308dc227c4360     --input input_cram:fil.3586ecc58c374b26c3bb08dce7f6b5a4     >> ica.log\n",
      "[370] WHH799 :0: icav2 -k $ICA_API_KEY projectpipelines start nextflow 9b0b0046-aea7-4927-ae6d-4b995de871a5     --project-id bf47eb3e-868e-4f88-97ac-c2a76c3c6ac4     --storage-size small     --user-reference WHH799     --user-tag WHH799     --output-parent-folder fol.ec79bbbe048542cca97f08dd076b3d42     --input ref_fasta:fil.b353222e04a44a69ad5308dc227c4360     --input input_cram:fil.beed973c26c54c4fc46708dce7f6b5a4     >> ica.log\n",
      "[371] WHH800 :0: icav2 -k $ICA_API_KEY projectpipelines start nextflow 9b0b0046-aea7-4927-ae6d-4b995de871a5     --project-id bf47eb3e-868e-4f88-97ac-c2a76c3c6ac4     --storage-size small     --user-reference WHH800     --user-tag WHH800     --output-parent-folder fol.ec79bbbe048542cca97f08dd076b3d42     --input ref_fasta:fil.b353222e04a44a69ad5308dc227c4360     --input input_cram:fil.7c3e9e37c7324396c46f08dce7f6b5a4     >> ica.log\n",
      "[372] WHH801 :0: icav2 -k $ICA_API_KEY projectpipelines start nextflow 9b0b0046-aea7-4927-ae6d-4b995de871a5     --project-id bf47eb3e-868e-4f88-97ac-c2a76c3c6ac4     --storage-size small     --user-reference WHH801     --user-tag WHH801     --output-parent-folder fol.ec79bbbe048542cca97f08dd076b3d42     --input ref_fasta:fil.b353222e04a44a69ad5308dc227c4360     --input input_cram:fil.4262267d8abf431ed46b08dce689ffeb     >> ica.log\n",
      "[373] WHH802 :0: icav2 -k $ICA_API_KEY projectpipelines start nextflow 9b0b0046-aea7-4927-ae6d-4b995de871a5     --project-id bf47eb3e-868e-4f88-97ac-c2a76c3c6ac4     --storage-size small     --user-reference WHH802     --user-tag WHH802     --output-parent-folder fol.ec79bbbe048542cca97f08dd076b3d42     --input ref_fasta:fil.b353222e04a44a69ad5308dc227c4360     --input input_cram:fil.40214f3968ad46ffd49108dce689ffeb     >> ica.log\n",
      "[374] WHH803 :0: icav2 -k $ICA_API_KEY projectpipelines start nextflow 9b0b0046-aea7-4927-ae6d-4b995de871a5     --project-id bf47eb3e-868e-4f88-97ac-c2a76c3c6ac4     --storage-size small     --user-reference WHH803     --user-tag WHH803     --output-parent-folder fol.ec79bbbe048542cca97f08dd076b3d42     --input ref_fasta:fil.b353222e04a44a69ad5308dc227c4360     --input input_cram:fil.a525959865674e7ad50c08dce689ffeb     >> ica.log\n",
      "[375] WHH804 :0: icav2 -k $ICA_API_KEY projectpipelines start nextflow 9b0b0046-aea7-4927-ae6d-4b995de871a5     --project-id bf47eb3e-868e-4f88-97ac-c2a76c3c6ac4     --storage-size small     --user-reference WHH804     --user-tag WHH804     --output-parent-folder fol.ec79bbbe048542cca97f08dd076b3d42     --input ref_fasta:fil.b353222e04a44a69ad5308dc227c4360     --input input_cram:fil.11b96ef8e2a94fe0d50d08dce689ffeb     >> ica.log\n",
      "[376] WHH805 :0: icav2 -k $ICA_API_KEY projectpipelines start nextflow 9b0b0046-aea7-4927-ae6d-4b995de871a5     --project-id bf47eb3e-868e-4f88-97ac-c2a76c3c6ac4     --storage-size small     --user-reference WHH805     --user-tag WHH805     --output-parent-folder fol.ec79bbbe048542cca97f08dd076b3d42     --input ref_fasta:fil.b353222e04a44a69ad5308dc227c4360     --input input_cram:fil.759675045e434566c52a08dce7f6b5a4     >> ica.log\n",
      "[377] WHH806 :0: icav2 -k $ICA_API_KEY projectpipelines start nextflow 9b0b0046-aea7-4927-ae6d-4b995de871a5     --project-id bf47eb3e-868e-4f88-97ac-c2a76c3c6ac4     --storage-size small     --user-reference WHH806     --user-tag WHH806     --output-parent-folder fol.ec79bbbe048542cca97f08dd076b3d42     --input ref_fasta:fil.b353222e04a44a69ad5308dc227c4360     --input input_cram:fil.744e88ff90f14eead58008dce689ffeb     >> ica.log\n",
      "[378] WHH807 :0: icav2 -k $ICA_API_KEY projectpipelines start nextflow 9b0b0046-aea7-4927-ae6d-4b995de871a5     --project-id bf47eb3e-868e-4f88-97ac-c2a76c3c6ac4     --storage-size small     --user-reference WHH807     --user-tag WHH807     --output-parent-folder fol.ec79bbbe048542cca97f08dd076b3d42     --input ref_fasta:fil.b353222e04a44a69ad5308dc227c4360     --input input_cram:fil.ea5a6ba571e048afc5e608dce7f6b5a4     >> ica.log\n",
      "[379] WHH808 :0: icav2 -k $ICA_API_KEY projectpipelines start nextflow 9b0b0046-aea7-4927-ae6d-4b995de871a5     --project-id bf47eb3e-868e-4f88-97ac-c2a76c3c6ac4     --storage-size small     --user-reference WHH808     --user-tag WHH808     --output-parent-folder fol.ec79bbbe048542cca97f08dd076b3d42     --input ref_fasta:fil.b353222e04a44a69ad5308dc227c4360     --input input_cram:fil.f6b47675caf04413d5bc08dce689ffeb     >> ica.log\n",
      "[380] WHH809 :0: icav2 -k $ICA_API_KEY projectpipelines start nextflow 9b0b0046-aea7-4927-ae6d-4b995de871a5     --project-id bf47eb3e-868e-4f88-97ac-c2a76c3c6ac4     --storage-size small     --user-reference WHH809     --user-tag WHH809     --output-parent-folder fol.ec79bbbe048542cca97f08dd076b3d42     --input ref_fasta:fil.b353222e04a44a69ad5308dc227c4360     --input input_cram:fil.546cb326b66d4acfc5f508dce7f6b5a4     >> ica.log\n",
      "[381] WHH810 :0: icav2 -k $ICA_API_KEY projectpipelines start nextflow 9b0b0046-aea7-4927-ae6d-4b995de871a5     --project-id bf47eb3e-868e-4f88-97ac-c2a76c3c6ac4     --storage-size small     --user-reference WHH810     --user-tag WHH810     --output-parent-folder fol.ec79bbbe048542cca97f08dd076b3d42     --input ref_fasta:fil.b353222e04a44a69ad5308dc227c4360     --input input_cram:fil.614752ca5a1a4497d65408dce689ffeb     >> ica.log\n",
      "[382] WHH811 :0: icav2 -k $ICA_API_KEY projectpipelines start nextflow 9b0b0046-aea7-4927-ae6d-4b995de871a5     --project-id bf47eb3e-868e-4f88-97ac-c2a76c3c6ac4     --storage-size small     --user-reference WHH811     --user-tag WHH811     --output-parent-folder fol.ec79bbbe048542cca97f08dd076b3d42     --input ref_fasta:fil.b353222e04a44a69ad5308dc227c4360     --input input_cram:fil.6cba59ad01c3479ec68208dce7f6b5a4     >> ica.log\n",
      "[383] WHH812 :0: icav2 -k $ICA_API_KEY projectpipelines start nextflow 9b0b0046-aea7-4927-ae6d-4b995de871a5     --project-id bf47eb3e-868e-4f88-97ac-c2a76c3c6ac4     --storage-size small     --user-reference WHH812     --user-tag WHH812     --output-parent-folder fol.ec79bbbe048542cca97f08dd076b3d42     --input ref_fasta:fil.b353222e04a44a69ad5308dc227c4360     --input input_cram:fil.9141a055278c4f1ad67608dce689ffeb     >> ica.log\n",
      "[384] WHH813 :0: icav2 -k $ICA_API_KEY projectpipelines start nextflow 9b0b0046-aea7-4927-ae6d-4b995de871a5     --project-id bf47eb3e-868e-4f88-97ac-c2a76c3c6ac4     --storage-size small     --user-reference WHH813     --user-tag WHH813     --output-parent-folder fol.ec79bbbe048542cca97f08dd076b3d42     --input ref_fasta:fil.b353222e04a44a69ad5308dc227c4360     --input input_cram:fil.57768decfef742c8d6a008dce689ffeb     >> ica.log\n",
      "[385] WHH814 :0: icav2 -k $ICA_API_KEY projectpipelines start nextflow 9b0b0046-aea7-4927-ae6d-4b995de871a5     --project-id bf47eb3e-868e-4f88-97ac-c2a76c3c6ac4     --storage-size small     --user-reference WHH814     --user-tag WHH814     --output-parent-folder fol.ec79bbbe048542cca97f08dd076b3d42     --input ref_fasta:fil.b353222e04a44a69ad5308dc227c4360     --input input_cram:fil.a1f0156d3d934abfc72808dce7f6b5a4     >> ica.log\n"
     ]
    }
   ],
   "source": [
    "# For each sample\n",
    "for i, row in df_sample.iloc[600:900].iterrows():\n",
    "    # Get sample name\n",
    "    sample_name = row['NAME']\n",
    "    # Get CRAM file ID\n",
    "    cram_id = subprocess.check_output(f\"icav2 -k $ICA_API_KEY --project-id {project_id} projectdata list --file-name {sample_name}.bqsr.cram | grep {sample_name} | cut -f 4\", shell=True, text=True).strip()\n",
    "    # Launch analysis\n",
    "    cmd = f\"icav2 -k $ICA_API_KEY projectpipelines start nextflow {pipeline_id} \\\n",
    "    --project-id {project_id} \\\n",
    "    --storage-size small \\\n",
    "    --user-reference {sample_name} \\\n",
    "    --user-tag {sample_name} \\\n",
    "    --output-parent-folder {output_id} \\\n",
    "    --input ref_fasta:{fasta_id} \\\n",
    "    --input input_cram:{cram_id} \\\n",
    "    >> ica.log\"\n",
    "    # Launch analysis\n",
    "    exit = os.system(cmd)\n",
    "    # Log string\n",
    "    log = f\"[{i}] {sample_name} :{exit}: {cmd}\"\n",
    "    os.system(f\"echo {log} >> cram_to_fastq.log\")\n",
    "    print(log)"
   ]
  },
  {
   "cell_type": "code",
   "execution_count": null,
   "id": "64639b47-b461-4e28-a140-c997060186ed",
   "metadata": {},
   "outputs": [],
   "source": [
    "# Check if fastq exists\n",
    "\n",
    "# For each sample\n",
    "for i, row in df_sample.iterrows():\n",
    "    # Get R1.fastq\n",
    "    r1 = subprocess.check_output(f\"icav2 -k $ICA_API_KEY projectsamples listdata {row['ID']} --file-name 'R1.fastq' --match-mode FUZZY | grep {row['NAME']} | cut -f 1\", shell=True, text=True).strip()\n",
    "    # Log string\n",
    "    log = f\"[{i}] {row['NAME']}: {r1}\"\n",
    "    os.system(f\"echo {log} >> R1.fastq-list.log\")\n",
    "print('done')"
   ]
  },
  {
   "cell_type": "code",
   "execution_count": null,
   "id": "80a78afc-d7cf-45fc-b94f-781cd9b870ae",
   "metadata": {},
   "outputs": [],
   "source": []
  }
 ],
 "metadata": {
  "kernelspec": {
   "display_name": "Python 3 (ipykernel)",
   "language": "python",
   "name": "python3"
  },
  "language_info": {
   "codemirror_mode": {
    "name": "ipython",
    "version": 3
   },
   "file_extension": ".py",
   "mimetype": "text/x-python",
   "name": "python",
   "nbconvert_exporter": "python",
   "pygments_lexer": "ipython3",
   "version": "3.7.12"
  }
 },
 "nbformat": 4,
 "nbformat_minor": 5
}
