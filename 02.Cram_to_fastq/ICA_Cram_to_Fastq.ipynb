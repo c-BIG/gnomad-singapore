{
 "cells": [
  {
   "cell_type": "markdown",
   "id": "faadfa85-d801-4faf-bbf4-856dcf08ab34",
   "metadata": {},
   "source": [
    "# CRAM to FASTQ"
   ]
  },
  {
   "cell_type": "markdown",
   "id": "4c844f33-9a84-4126-8017-553a31411b21",
   "metadata": {},
   "source": [
    "## Prepare environment"
   ]
  },
  {
   "cell_type": "code",
   "execution_count": 2,
   "id": "66834ee8-8917-4a8e-9584-2be62cb0068f",
   "metadata": {
    "tags": []
   },
   "outputs": [
    {
     "name": "stdout",
     "output_type": "stream",
     "text": [
      "Defaulting to user installation because normal site-packages is not writeable\n",
      "Collecting python-dotenv\n",
      "  Downloading python_dotenv-0.21.1-py3-none-any.whl.metadata (21 kB)\n",
      "Downloading python_dotenv-0.21.1-py3-none-any.whl (19 kB)\n",
      "Installing collected packages: python-dotenv\n",
      "\u001b[33m  WARNING: The script dotenv is installed in '/data/.local/bin' which is not on PATH.\n",
      "  Consider adding this directory to PATH or, if you prefer to suppress this warning, use --no-warn-script-location.\u001b[0m\u001b[33m\n",
      "\u001b[0mSuccessfully installed python-dotenv-0.21.1\n"
     ]
    }
   ],
   "source": [
    "!pip install python-dotenv"
   ]
  },
  {
   "cell_type": "code",
   "execution_count": 3,
   "id": "827d39c6-a680-46de-b4e0-6a29d130c620",
   "metadata": {
    "tags": []
   },
   "outputs": [],
   "source": [
    "%load_ext dotenv"
   ]
  },
  {
   "cell_type": "code",
   "execution_count": 5,
   "id": "22c6ef59-cbcd-42f7-867c-4df4dc12f6f9",
   "metadata": {
    "tags": []
   },
   "outputs": [],
   "source": [
    "%dotenv"
   ]
  },
  {
   "cell_type": "code",
   "execution_count": 8,
   "id": "291d8fe8-b621-4796-8113-1c35947e960b",
   "metadata": {
    "tags": []
   },
   "outputs": [],
   "source": [
    "import os\n",
    "import pandas as pd\n",
    "import subprocess"
   ]
  },
  {
   "cell_type": "code",
   "execution_count": 28,
   "id": "eb943a0d-f9e3-4d77-9398-37b4d32a02aa",
   "metadata": {
    "tags": []
   },
   "outputs": [
    {
     "name": "stdout",
     "output_type": "stream",
     "text": [
      "ICA_API_KEY exists\n"
     ]
    }
   ],
   "source": [
    "# Check ICA_API_KEY\n",
    "print(f\"ICA_API_KEY {'exists' if 'ICA_API_KEY' in os.environ else 'missing'}\")"
   ]
  },
  {
   "cell_type": "code",
   "execution_count": 29,
   "id": "952954ba-317b-4841-b6e8-b3d79a8b614b",
   "metadata": {
    "tags": []
   },
   "outputs": [
    {
     "name": "stdout",
     "output_type": "stream",
     "text": [
      "project_id: bf47eb3e-868e-4f88-97ac-c2a76c3c6ac4\n"
     ]
    }
   ],
   "source": [
    "# Check ICA_PROJECT_ID\n",
    "project_id = subprocess.check_output(f\"icav2 -k $ICA_API_KEY projects list | grep 'sg10k-dragen-reanalysis' | cut -f 1 \", shell=True, text=True).strip()\n",
    "print(f\"project_id: {project_id}\")"
   ]
  },
  {
   "cell_type": "code",
   "execution_count": 30,
   "id": "5936d316-b08b-422b-88cb-9a0b357c15ce",
   "metadata": {
    "tags": []
   },
   "outputs": [
    {
     "name": "stdout",
     "output_type": "stream",
     "text": [
      "pipeline_id: 4a4b8bf2-f6b9-48a8-9e0c-a9b845fb6bc6\n"
     ]
    }
   ],
   "source": [
    "# Get pipeline ID\n",
    "pipeline_id = subprocess.check_output(f\"icav2 -k $ICA_API_KEY --project-id {project_id} projectpipelines list | grep 'cram_to_fastq' | cut -f 1 \", shell=True, text=True).strip()\n",
    "print(f\"pipeline_id: {pipeline_id}\")"
   ]
  },
  {
   "cell_type": "code",
   "execution_count": 31,
   "id": "391e8eb0-cc0d-403c-817d-8f608bc6ecd6",
   "metadata": {
    "tags": []
   },
   "outputs": [
    {
     "name": "stdout",
     "output_type": "stream",
     "text": [
      "output_id: fol.ad1f7f2373fa478514e808dcfde680bc\n"
     ]
    }
   ],
   "source": [
    "# Get OUTPUTFOLDERID\n",
    "output_id = subprocess.check_output(f\"icav2 -k $ICA_API_KEY --project-id {project_id} projectdata list --file-name 'cram_to_fastq_output' | grep 'cram_to_fastq_output' | cut -f 4 \", shell=True, text=True).strip()\n",
    "print(f\"output_id: {output_id}\")"
   ]
  },
  {
   "cell_type": "code",
   "execution_count": 32,
   "id": "4edb1d0f-f54d-4862-bd36-d19fb8c1d7a2",
   "metadata": {
    "tags": []
   },
   "outputs": [
    {
     "name": "stdout",
     "output_type": "stream",
     "text": [
      "fasta_id: fil.b353222e04a44a69ad5308dc227c4360\n"
     ]
    }
   ],
   "source": [
    "# Get OUTPUTFOLDERID\n",
    "fasta_id = subprocess.check_output(f\"icav2 -k $ICA_API_KEY --project-id {project_id} projectdata list --file-name 'hg38.fa' | grep 'hg38.fa' | cut -f 4  \", shell=True, text=True).strip()\n",
    "print(f\"fasta_id: {fasta_id}\")"
   ]
  },
  {
   "cell_type": "markdown",
   "id": "b8baa405-f7d1-4508-b0f4-dfa4d3496524",
   "metadata": {},
   "source": [
    "## Launch one sample"
   ]
  },
  {
   "cell_type": "code",
   "execution_count": 26,
   "id": "9e8579d4-d34d-4d74-8da6-62e1da045c68",
   "metadata": {
    "tags": []
   },
   "outputs": [
    {
     "name": "stdout",
     "output_type": "stream",
     "text": [
      "sample: WHB7277 - cram_id: fil.5476d4e5adb74ba357a908dce7f6b5a3\n"
     ]
    }
   ],
   "source": [
    "sample_name = 'WHB7277'\n",
    "# Get CRAM file ID\n",
    "cram_id = subprocess.check_output(f\"icav2 -k $ICA_API_KEY --project-id {project_id} projectdata list --file-name {sample_name}.bqsr.cram | grep {sample_name} | cut -f 4\", shell=True, text=True).strip()\n",
    "\n",
    "print(f\"sample: {sample_name} - cram_id: {cram_id}\")"
   ]
  },
  {
   "cell_type": "code",
   "execution_count": 36,
   "id": "3c007314-1571-4aff-9470-49f2a31f7ab3",
   "metadata": {
    "tags": []
   },
   "outputs": [
    {
     "name": "stdout",
     "output_type": "stream",
     "text": [
      "Launching analysis: \n",
      "icav2 -k $ICA_API_KEY projectpipelines start nextflow 4a4b8bf2-f6b9-48a8-9e0c-a9b845fb6bc6 --project-id bf47eb3e-868e-4f88-97ac-c2a76c3c6ac4 --storage-size small --user-reference WHB7277 --user-tag WHB7277 --output-parent-folder fol.ad1f7f2373fa478514e808dcfde680bc --input ref_fasta:fil.b353222e04a44a69ad5308dc227c4360 --input input_cram:fil.5476d4e5adb74ba357a908dce7f6b5a3 \n",
      "analysisPriority                      MEDIUM\n",
      "analysisStorage.description           1.2TB\n",
      "analysisStorage.id                    6e1b6c8f-f913-48b2-9bd0-7fc13eda0fd0\n",
      "analysisStorage.name                  Small\n",
      "analysisStorage.ownerId               8ec463f6-1acb-341b-b321-043c39d8716a\n",
      "analysisStorage.tenantId              f91bb1a0-c55f-4bce-8014-b2e60c0ec7d3\n",
      "analysisStorage.tenantName            ica-cp-admin\n",
      "analysisStorage.timeCreated           2021-11-05T10:28:20Z\n",
      "analysisStorage.timeModified          2023-05-31T16:38:26Z\n",
      "id                                    c5747094-6c06-4883-91ad-5d2dd6ff541d\n",
      "ownerId                               d91eba55-9149-3809-a559-bac3c0afbab9\n",
      "pipeline.analysisStorage.description  1.2TB\n",
      "pipeline.analysisStorage.id           6e1b6c8f-f913-48b2-9bd0-7fc13eda0fd0\n",
      "pipeline.analysisStorage.name         Small\n",
      "pipeline.analysisStorage.ownerId      8ec463f6-1acb-341b-b321-043c39d8716a\n",
      "pipeline.analysisStorage.tenantId     f91bb1a0-c55f-4bce-8014-b2e60c0ec7d3\n",
      "pipeline.analysisStorage.tenantName   ica-cp-admin\n",
      "pipeline.analysisStorage.timeCreated  2021-11-05T10:28:20Z\n",
      "pipeline.analysisStorage.timeModified 2023-05-31T16:38:26Z\n",
      "pipeline.code                         cram_to_fastq\n",
      "pipeline.description                  Read a CRAM & CRAI and a reference genome, output a 2 FASTQ files (R1 and R2), use OQ as quality string.\n",
      "pipeline.id                           4a4b8bf2-f6b9-48a8-9e0c-a9b845fb6bc6\n",
      "pipeline.language                     NEXTFLOW\n",
      "pipeline.languageVersion.id           b1585d18-f88c-4ca0-8d47-34f6c01eb6f3\n",
      "pipeline.languageVersion.language     NEXTFLOW\n",
      "pipeline.languageVersion.name         22.04.3\n",
      "pipeline.ownerId                      d91eba55-9149-3809-a559-bac3c0afbab9\n",
      "pipeline.tenantId                     3fc9478d-7732-4180-a5bf-88edd75838e8\n",
      "pipeline.tenantName                   precise\n",
      "pipeline.timeCreated                  2024-11-05T08:40:22Z\n",
      "pipeline.timeModified                 2024-11-05T09:23:20Z\n",
      "pipeline.urn                          urn:ilmn:ica:pipeline:4a4b8bf2-f6b9-48a8-9e0c-a9b845fb6bc6#cram_to_fastq\n",
      "reference                             WHB7277-c5747094-6c06-4883-91ad-5d2dd6ff541d\n",
      "status                                REQUESTED\n",
      "tags.userTags.0                       WHB7277\n",
      "tenantId                              3fc9478d-7732-4180-a5bf-88edd75838e8\n",
      "tenantName                            precise\n",
      "timeCreated                           2024-11-11T07:27:31Z\n",
      "timeModified                          2024-11-11T07:27:33Z\n",
      "userReference                         WHB7277\n"
     ]
    }
   ],
   "source": [
    "# Launch analysis\n",
    "print(f'Launching analysis: ')\n",
    "cmd = f\"icav2 -k $ICA_API_KEY projectpipelines start nextflow {pipeline_id} \\\n",
    "--project-id {project_id} \\\n",
    "--storage-size small \\\n",
    "--user-reference {sample_name} \\\n",
    "--user-tag {sample_name} \\\n",
    "--output-parent-folder {output_id} \\\n",
    "--input ref_fasta:{fasta_id} \\\n",
    "--input input_cram:{cram_id} \\\n",
    "\"\n",
    "print(cmd)\n",
    "cmd_out = subprocess.check_output(cmd, shell=True, text=True).strip()\n",
    "print(cmd_out)"
   ]
  },
  {
   "cell_type": "markdown",
   "id": "8ace8e43-b2a9-4a5f-b649-90768b478b2e",
   "metadata": {},
   "source": [
    "## Launch batch of samples"
   ]
  },
  {
   "cell_type": "code",
   "execution_count": 37,
   "id": "59851166-fe9c-4792-9db9-cbb11de96fa0",
   "metadata": {
    "tags": []
   },
   "outputs": [
    {
     "name": "stdout",
     "output_type": "stream",
     "text": [
      "n=1,543\n",
      "Index(['ID', 'NAME', 'STATUS', 'DESCRIPTION', 'USER TAGS', 'TECHNICAL TAGS'], dtype='object')\n"
     ]
    }
   ],
   "source": [
    "# List ICA sample objects\n",
    "os.system(f\"icav2 -k $ICA_API_KEY --project-id {project_id} projectsamples list > projectsamples-list.txt\")\n",
    "# Read projectsamples-list\n",
    "cols = ['ID', 'NAME', 'STATUS', 'DESCRIPTION', 'USER TAGS', 'TECHNICAL TAGS']\n",
    "df_sample = pd.read_csv('projectsamples-list.txt', sep='\\t', header=0, index_col=False, engine='python', skipfooter=1,\n",
    "                 names=cols, converters={col: str.strip for col in cols}\n",
    "                )\n",
    "print(f'n={len(df_sample):,}')\n",
    "print(df_sample.columns)"
   ]
  },
  {
   "cell_type": "code",
   "execution_count": null,
   "id": "43a07b54-c349-44a8-b1e3-4ef82e028ba4",
   "metadata": {},
   "outputs": [],
   "source": [
    "# df_sample.iloc[0]: done using Flow UI\n",
    "# df_sample.iloc[1]: done using Bench 1 sample\n",
    "# df_sample.iloc[2:500]: batch 1 ~14h ~35/h\n",
    "# df_sample.iloc[500:800]: batch 2 ~8h30 ~35/h\n",
    "# df_sample.iloc[800:1100]: batch 3 ~8h30 ~35/h\n",
    "# df_sample.iloc[1100:]: batch 4"
   ]
  },
  {
   "cell_type": "code",
   "execution_count": null,
   "id": "987f844e-3b0f-4edd-acca-51e3b38ba165",
   "metadata": {
    "tags": []
   },
   "outputs": [],
   "source": [
    "# For each sample\n",
    "for i, row in df_sample.iloc[1100:].iterrows():\n",
    "    # Get sample name\n",
    "    sample_name = row['NAME']\n",
    "    # Get CRAM file ID\n",
    "    cram_id = subprocess.check_output(f\"icav2 -k $ICA_API_KEY --project-id {project_id} projectdata list --file-name {sample_name}.bqsr.cram | grep {sample_name} | cut -f 4\", shell=True, text=True).strip()\n",
    "    # Launch analysis\n",
    "    cmd = f\"icav2 -k $ICA_API_KEY projectpipelines start nextflow {pipeline_id} \\\n",
    "    --project-id {project_id} \\\n",
    "    --storage-size small \\\n",
    "    --user-reference {sample_name} \\\n",
    "    --user-tag {sample_name} \\\n",
    "    --output-parent-folder {output_id} \\\n",
    "    --input ref_fasta:{fasta_id} \\\n",
    "    --input input_cram:{cram_id} \\\n",
    "    >> ica.log\"\n",
    "    # Launch analysis\n",
    "    exit = os.system(cmd)\n",
    "    # Log string\n",
    "    log = f\"[{i}] {sample_name} :{exit}: {cmd}\"\n",
    "    os.system(f\"echo {log} >> cram_to_fastq.log\")\n",
    "    print(log)"
   ]
  },
  {
   "cell_type": "code",
   "execution_count": null,
   "id": "64639b47-b461-4e28-a140-c997060186ed",
   "metadata": {},
   "outputs": [],
   "source": [
    "# Check if fastq exists\n",
    "\n",
    "# For each sample\n",
    "for i, row in df_sample.iterrows():\n",
    "    # Get R1.fastq\n",
    "    r1 = subprocess.check_output(f\"icav2 -k $ICA_API_KEY projectsamples listdata {row['ID']} --file-name 'R1.fastq' --match-mode FUZZY | grep {row['NAME']} | cut -f 1\", shell=True, text=True).strip()\n",
    "    # Log string\n",
    "    log = f\"[{i}] {row['NAME']}: {r1}\"\n",
    "    os.system(f\"echo {log} >> R1.fastq-list.log\")\n",
    "print('done')"
   ]
  },
  {
   "cell_type": "code",
   "execution_count": null,
   "id": "80a78afc-d7cf-45fc-b94f-781cd9b870ae",
   "metadata": {},
   "outputs": [],
   "source": []
  }
 ],
 "metadata": {
  "kernelspec": {
   "display_name": "Python 3 (ipykernel)",
   "language": "python",
   "name": "python3"
  },
  "language_info": {
   "codemirror_mode": {
    "name": "ipython",
    "version": 3
   },
   "file_extension": ".py",
   "mimetype": "text/x-python",
   "name": "python",
   "nbconvert_exporter": "python",
   "pygments_lexer": "ipython3",
   "version": "3.7.12"
  }
 },
 "nbformat": 4,
 "nbformat_minor": 5
}
