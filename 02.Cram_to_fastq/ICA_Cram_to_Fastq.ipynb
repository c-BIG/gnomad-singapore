{
 "cells": [
  {
   "cell_type": "markdown",
   "id": "faadfa85-d801-4faf-bbf4-856dcf08ab34",
   "metadata": {},
   "source": [
    "# CRAM to FASTQ"
   ]
  },
  {
   "cell_type": "markdown",
   "id": "4c844f33-9a84-4126-8017-553a31411b21",
   "metadata": {},
   "source": [
    "## Prepare environment"
   ]
  },
  {
   "cell_type": "code",
   "execution_count": 2,
   "id": "66834ee8-8917-4a8e-9584-2be62cb0068f",
   "metadata": {
    "tags": []
   },
   "outputs": [
    {
     "name": "stdout",
     "output_type": "stream",
     "text": [
      "Defaulting to user installation because normal site-packages is not writeable\n",
      "Collecting python-dotenv\n",
      "  Downloading python_dotenv-0.21.1-py3-none-any.whl.metadata (21 kB)\n",
      "Downloading python_dotenv-0.21.1-py3-none-any.whl (19 kB)\n",
      "Installing collected packages: python-dotenv\n",
      "\u001b[33m  WARNING: The script dotenv is installed in '/data/.local/bin' which is not on PATH.\n",
      "  Consider adding this directory to PATH or, if you prefer to suppress this warning, use --no-warn-script-location.\u001b[0m\u001b[33m\n",
      "\u001b[0mSuccessfully installed python-dotenv-0.21.1\n"
     ]
    }
   ],
   "source": [
    "!pip install python-dotenv"
   ]
  },
  {
   "cell_type": "code",
   "execution_count": 56,
   "id": "827d39c6-a680-46de-b4e0-6a29d130c620",
   "metadata": {
    "tags": []
   },
   "outputs": [
    {
     "name": "stdout",
     "output_type": "stream",
     "text": [
      "The dotenv extension is already loaded. To reload it, use:\n",
      "  %reload_ext dotenv\n"
     ]
    }
   ],
   "source": [
    "%load_ext dotenv"
   ]
  },
  {
   "cell_type": "code",
   "execution_count": 57,
   "id": "22c6ef59-cbcd-42f7-867c-4df4dc12f6f9",
   "metadata": {
    "tags": []
   },
   "outputs": [],
   "source": [
    "%dotenv"
   ]
  },
  {
   "cell_type": "code",
   "execution_count": 58,
   "id": "291d8fe8-b621-4796-8113-1c35947e960b",
   "metadata": {
    "tags": []
   },
   "outputs": [],
   "source": [
    "import os\n",
    "import pandas as pd\n",
    "import subprocess"
   ]
  },
  {
   "cell_type": "code",
   "execution_count": 59,
   "id": "eb943a0d-f9e3-4d77-9398-37b4d32a02aa",
   "metadata": {
    "tags": []
   },
   "outputs": [
    {
     "name": "stdout",
     "output_type": "stream",
     "text": [
      "ICA_API_KEY exists\n"
     ]
    }
   ],
   "source": [
    "# Check ICA_API_KEY\n",
    "print(f\"ICA_API_KEY {'exists' if 'ICA_API_KEY' in os.environ else 'missing'}\")"
   ]
  },
  {
   "cell_type": "code",
   "execution_count": 60,
   "id": "952954ba-317b-4841-b6e8-b3d79a8b614b",
   "metadata": {
    "tags": []
   },
   "outputs": [
    {
     "name": "stdout",
     "output_type": "stream",
     "text": [
      "project: sg10k-dragen-reanalysis [bf47eb3e-868e-4f88-97ac-c2a76c3c6ac4]\n"
     ]
    }
   ],
   "source": [
    "# Get project ID\n",
    "project_name = 'sg10k-dragen-reanalysis'\n",
    "project_id = subprocess.check_output(f\"icav2 -k $ICA_API_KEY projects list | grep {project_name} | cut -f 1 \", shell=True, text=True).strip()\n",
    "print(f\"project: {project_name} [{project_id}]\")"
   ]
  },
  {
   "cell_type": "code",
   "execution_count": 61,
   "id": "5936d316-b08b-422b-88cb-9a0b357c15ce",
   "metadata": {
    "tags": []
   },
   "outputs": [
    {
     "name": "stdout",
     "output_type": "stream",
     "text": [
      "pipeline: cram_to_fastq_v2 [9b0b0046-aea7-4927-ae6d-4b995de871a5]\n"
     ]
    }
   ],
   "source": [
    "# Get pipeline ID\n",
    "pipeline_name = 'cram_to_fastq_v2'\n",
    "pipeline_id = subprocess.check_output(f\"icav2 -k $ICA_API_KEY --project-id {project_id} projectpipelines list | grep {pipeline_name} | cut -f 1 \", shell=True, text=True).strip()\n",
    "print(f\"pipeline: {pipeline_name} [{pipeline_id}]\")"
   ]
  },
  {
   "cell_type": "code",
   "execution_count": 62,
   "id": "391e8eb0-cc0d-403c-817d-8f608bc6ecd6",
   "metadata": {
    "tags": []
   },
   "outputs": [
    {
     "name": "stdout",
     "output_type": "stream",
     "text": [
      "output folder: cram_to_fastq_output [fol.ad1f7f2373fa478514e808dcfde680bc]\n"
     ]
    }
   ],
   "source": [
    "# Get output folder ID\n",
    "output_name = 'cram_to_fastq_output'\n",
    "output_id = subprocess.check_output(f\"icav2 -k $ICA_API_KEY --project-id {project_id} projectdata list --file-name {output_name} | grep {output_name} | cut -f 4 \", shell=True, text=True).strip()\n",
    "print(f\"output folder: {output_name} [{output_id}]\")"
   ]
  },
  {
   "cell_type": "code",
   "execution_count": 63,
   "id": "4edb1d0f-f54d-4862-bd36-d19fb8c1d7a2",
   "metadata": {
    "tags": []
   },
   "outputs": [
    {
     "name": "stdout",
     "output_type": "stream",
     "text": [
      "ref: hg38.fa [fil.b353222e04a44a69ad5308dc227c4360]\n"
     ]
    }
   ],
   "source": [
    "# Get ref ID\n",
    "ref_name = 'hg38.fa'\n",
    "ref_id = subprocess.check_output(f\"icav2 -k $ICA_API_KEY --project-id {project_id} projectdata list --file-name {ref_name} | grep {ref_name} | cut -f 4 \", shell=True, text=True).strip()\n",
    "print(f\"ref: {ref_name} [{ref_id}]\")"
   ]
  },
  {
   "cell_type": "markdown",
   "id": "b8baa405-f7d1-4508-b0f4-dfa4d3496524",
   "metadata": {},
   "source": [
    "## Launch one sample"
   ]
  },
  {
   "cell_type": "code",
   "execution_count": 64,
   "id": "9e8579d4-d34d-4d74-8da6-62e1da045c68",
   "metadata": {
    "tags": []
   },
   "outputs": [
    {
     "name": "stdout",
     "output_type": "stream",
     "text": [
      "sample: WHH430 - cram_id: fil.1bd99f3c419640a1582808dce7f6b5a3\n"
     ]
    }
   ],
   "source": [
    "sample_name = 'WHH430'\n",
    "# Get CRAM file ID\n",
    "cram_id = subprocess.check_output(f\"icav2 -k $ICA_API_KEY --project-id {project_id} projectdata list --file-name {sample_name}.bqsr.cram | grep {sample_name} | cut -f 4\", shell=True, text=True).strip()\n",
    "\n",
    "print(f\"sample: {sample_name} - cram_id: {cram_id}\")"
   ]
  },
  {
   "cell_type": "code",
   "execution_count": 66,
   "id": "3c007314-1571-4aff-9470-49f2a31f7ab3",
   "metadata": {
    "tags": []
   },
   "outputs": [
    {
     "name": "stdout",
     "output_type": "stream",
     "text": [
      "cmd: icav2 -k $ICA_API_KEY projectpipelines start nextflow 9b0b0046-aea7-4927-ae6d-4b995de871a5 --project-id bf47eb3e-868e-4f88-97ac-c2a76c3c6ac4 --storage-size small --user-reference WHH430 --user-tag WHH430 --user-tag cram_to_fastq_v2 --output-parent-folder fol.ad1f7f2373fa478514e808dcfde680bc --input ref_fasta:fil.b353222e04a44a69ad5308dc227c4360 --input input_cram:fil.1bd99f3c419640a1582808dce7f6b5a3 \n",
      "Analysis cram_to_fastq_v2 launched on sample WHH430\n"
     ]
    }
   ],
   "source": [
    "# Launch analysis\n",
    "cmd = f\"icav2 -k $ICA_API_KEY projectpipelines start nextflow {pipeline_id} \\\n",
    "--project-id {project_id} \\\n",
    "--storage-size small \\\n",
    "--user-reference {sample_name} \\\n",
    "--user-tag {sample_name} \\\n",
    "--user-tag {pipeline_name} \\\n",
    "--output-parent-folder {output_id} \\\n",
    "--input ref_fasta:{ref_id} \\\n",
    "--input input_cram:{cram_id} \\\n",
    "\"\n",
    "print(f\"cmd: {cmd}\")\n",
    "cmd_out = subprocess.check_output(cmd, shell=True, text=True).strip()\n",
    "# print(cmd_out)\n",
    "print(f\"Analysis {pipeline_name} launched on sample {sample_name}\")"
   ]
  },
  {
   "cell_type": "markdown",
   "id": "8ace8e43-b2a9-4a5f-b649-90768b478b2e",
   "metadata": {},
   "source": [
    "## Launch batch of samples"
   ]
  },
  {
   "cell_type": "code",
   "execution_count": 37,
   "id": "59851166-fe9c-4792-9db9-cbb11de96fa0",
   "metadata": {
    "tags": []
   },
   "outputs": [
    {
     "name": "stdout",
     "output_type": "stream",
     "text": [
      "n=1,543\n",
      "Index(['ID', 'NAME', 'STATUS', 'DESCRIPTION', 'USER TAGS', 'TECHNICAL TAGS'], dtype='object')\n"
     ]
    }
   ],
   "source": [
    "# List ICA sample objects\n",
    "os.system(f\"icav2 -k $ICA_API_KEY --project-id {project_id} projectsamples list > projectsamples-list.txt\")\n",
    "# Read projectsamples-list\n",
    "cols = ['ID', 'NAME', 'STATUS', 'DESCRIPTION', 'USER TAGS', 'TECHNICAL TAGS']\n",
    "df_sample = pd.read_csv('projectsamples-list.txt', sep='\\t', header=0, index_col=False, engine='python', skipfooter=1,\n",
    "                 names=cols, converters={col: str.strip for col in cols}\n",
    "                )\n",
    "print(f'n={len(df_sample):,}')\n",
    "print(df_sample.columns)"
   ]
  },
  {
   "cell_type": "code",
   "execution_count": null,
   "id": "43a07b54-c349-44a8-b1e3-4ef82e028ba4",
   "metadata": {},
   "outputs": [],
   "source": [
    "# df_sample.iloc[0]: done using Flow UI\n",
    "# df_sample.iloc[1]: done using Bench 1 sample\n",
    "# df_sample.iloc[2:500]: batch 1 ~14h ~35/h\n",
    "# df_sample.iloc[500:800]: batch 2 ~8h30 ~35/h\n",
    "# df_sample.iloc[800:1100]: batch 3 ~8h30 ~35/h\n",
    "# df_sample.iloc[1100:]: batch 4"
   ]
  },
  {
   "cell_type": "code",
   "execution_count": null,
   "id": "987f844e-3b0f-4edd-acca-51e3b38ba165",
   "metadata": {
    "tags": []
   },
   "outputs": [],
   "source": [
    "# For each sample\n",
    "for i, row in df_sample.iloc[1100:].iterrows():\n",
    "    # Get sample name\n",
    "    sample_name = row['NAME']\n",
    "    # Get CRAM file ID\n",
    "    cram_id = subprocess.check_output(f\"icav2 -k $ICA_API_KEY --project-id {project_id} projectdata list --file-name {sample_name}.bqsr.cram | grep {sample_name} | cut -f 4\", shell=True, text=True).strip()\n",
    "    # Launch analysis\n",
    "    cmd = f\"icav2 -k $ICA_API_KEY projectpipelines start nextflow {pipeline_id} \\\n",
    "    --project-id {project_id} \\\n",
    "    --storage-size small \\\n",
    "    --user-reference {sample_name} \\\n",
    "    --user-tag {sample_name} \\\n",
    "    --output-parent-folder {output_id} \\\n",
    "    --input ref_fasta:{fasta_id} \\\n",
    "    --input input_cram:{cram_id} \\\n",
    "    >> ica.log\"\n",
    "    # Launch analysis\n",
    "    exit = os.system(cmd)\n",
    "    # Log string\n",
    "    log = f\"[{i}] {sample_name} :{exit}: {cmd}\"\n",
    "    os.system(f\"echo {log} >> cram_to_fastq.log\")\n",
    "    print(log)"
   ]
  },
  {
   "cell_type": "code",
   "execution_count": null,
   "id": "64639b47-b461-4e28-a140-c997060186ed",
   "metadata": {},
   "outputs": [],
   "source": [
    "# Check if fastq exists\n",
    "\n",
    "# For each sample\n",
    "for i, row in df_sample.iterrows():\n",
    "    # Get R1.fastq\n",
    "    r1 = subprocess.check_output(f\"icav2 -k $ICA_API_KEY projectsamples listdata {row['ID']} --file-name 'R1.fastq' --match-mode FUZZY | grep {row['NAME']} | cut -f 1\", shell=True, text=True).strip()\n",
    "    # Log string\n",
    "    log = f\"[{i}] {row['NAME']}: {r1}\"\n",
    "    os.system(f\"echo {log} >> R1.fastq-list.log\")\n",
    "print('done')"
   ]
  },
  {
   "cell_type": "code",
   "execution_count": null,
   "id": "80a78afc-d7cf-45fc-b94f-781cd9b870ae",
   "metadata": {},
   "outputs": [],
   "source": []
  }
 ],
 "metadata": {
  "kernelspec": {
   "display_name": "Python 3 (ipykernel)",
   "language": "python",
   "name": "python3"
  },
  "language_info": {
   "codemirror_mode": {
    "name": "ipython",
    "version": 3
   },
   "file_extension": ".py",
   "mimetype": "text/x-python",
   "name": "python",
   "nbconvert_exporter": "python",
   "pygments_lexer": "ipython3",
   "version": "3.7.12"
  }
 },
 "nbformat": 4,
 "nbformat_minor": 5
}
