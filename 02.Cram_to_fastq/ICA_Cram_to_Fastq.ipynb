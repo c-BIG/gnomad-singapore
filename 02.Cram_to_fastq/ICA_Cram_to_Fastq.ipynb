{
 "cells": [
  {
   "cell_type": "markdown",
   "id": "faadfa85-d801-4faf-bbf4-856dcf08ab34",
   "metadata": {},
   "source": [
    "# CRAM to FASTQ"
   ]
  },
  {
   "cell_type": "markdown",
   "id": "4c844f33-9a84-4126-8017-553a31411b21",
   "metadata": {},
   "source": [
    "## Prepare environment"
   ]
  },
  {
   "cell_type": "code",
   "execution_count": 2,
   "id": "66834ee8-8917-4a8e-9584-2be62cb0068f",
   "metadata": {
    "tags": []
   },
   "outputs": [
    {
     "name": "stdout",
     "output_type": "stream",
     "text": [
      "Defaulting to user installation because normal site-packages is not writeable\n",
      "Collecting python-dotenv\n",
      "  Downloading python_dotenv-0.21.1-py3-none-any.whl.metadata (21 kB)\n",
      "Downloading python_dotenv-0.21.1-py3-none-any.whl (19 kB)\n",
      "Installing collected packages: python-dotenv\n",
      "\u001b[33m  WARNING: The script dotenv is installed in '/data/.local/bin' which is not on PATH.\n",
      "  Consider adding this directory to PATH or, if you prefer to suppress this warning, use --no-warn-script-location.\u001b[0m\u001b[33m\n",
      "\u001b[0mSuccessfully installed python-dotenv-0.21.1\n"
     ]
    }
   ],
   "source": [
    "!pip install python-dotenv"
   ]
  },
  {
   "cell_type": "code",
   "execution_count": 56,
   "id": "827d39c6-a680-46de-b4e0-6a29d130c620",
   "metadata": {
    "tags": []
   },
   "outputs": [
    {
     "name": "stdout",
     "output_type": "stream",
     "text": [
      "The dotenv extension is already loaded. To reload it, use:\n",
      "  %reload_ext dotenv\n"
     ]
    }
   ],
   "source": [
    "%load_ext dotenv"
   ]
  },
  {
   "cell_type": "code",
   "execution_count": 71,
   "id": "22c6ef59-cbcd-42f7-867c-4df4dc12f6f9",
   "metadata": {
    "tags": []
   },
   "outputs": [],
   "source": [
    "%dotenv"
   ]
  },
  {
   "cell_type": "code",
   "execution_count": 72,
   "id": "291d8fe8-b621-4796-8113-1c35947e960b",
   "metadata": {
    "tags": []
   },
   "outputs": [],
   "source": [
    "import os\n",
    "import pandas as pd\n",
    "import subprocess"
   ]
  },
  {
   "cell_type": "code",
   "execution_count": 73,
   "id": "eb943a0d-f9e3-4d77-9398-37b4d32a02aa",
   "metadata": {
    "tags": []
   },
   "outputs": [
    {
     "name": "stdout",
     "output_type": "stream",
     "text": [
      "ICA_API_KEY exists\n"
     ]
    }
   ],
   "source": [
    "# Check ICA_API_KEY\n",
    "print(f\"ICA_API_KEY {'exists' if 'ICA_API_KEY' in os.environ else 'missing'}\")"
   ]
  },
  {
   "cell_type": "code",
   "execution_count": 74,
   "id": "952954ba-317b-4841-b6e8-b3d79a8b614b",
   "metadata": {
    "tags": []
   },
   "outputs": [
    {
     "name": "stdout",
     "output_type": "stream",
     "text": [
      "project: sg10k-dragen-reanalysis [bf47eb3e-868e-4f88-97ac-c2a76c3c6ac4]\n"
     ]
    }
   ],
   "source": [
    "# Get project ID\n",
    "project_name = 'sg10k-dragen-reanalysis'\n",
    "project_id = subprocess.check_output(f\"icav2 -k $ICA_API_KEY projects list | grep {project_name} | cut -f 1 \", shell=True, text=True).strip()\n",
    "print(f\"project: {project_name} [{project_id}]\")"
   ]
  },
  {
   "cell_type": "code",
   "execution_count": 75,
   "id": "5936d316-b08b-422b-88cb-9a0b357c15ce",
   "metadata": {
    "tags": []
   },
   "outputs": [
    {
     "name": "stdout",
     "output_type": "stream",
     "text": [
      "pipeline: cram_to_fastq_v2 [9b0b0046-aea7-4927-ae6d-4b995de871a5]\n"
     ]
    }
   ],
   "source": [
    "# Get pipeline ID\n",
    "pipeline_name = 'cram_to_fastq_v2'\n",
    "pipeline_id = subprocess.check_output(f\"icav2 -k $ICA_API_KEY --project-id {project_id} projectpipelines list | grep {pipeline_name} | cut -f 1 \", shell=True, text=True).strip()\n",
    "print(f\"pipeline: {pipeline_name} [{pipeline_id}]\")"
   ]
  },
  {
   "cell_type": "code",
   "execution_count": 76,
   "id": "391e8eb0-cc0d-403c-817d-8f608bc6ecd6",
   "metadata": {
    "tags": []
   },
   "outputs": [
    {
     "name": "stdout",
     "output_type": "stream",
     "text": [
      "output folder: fastq_output [fol.ec79bbbe048542cca97f08dd076b3d42]\n"
     ]
    }
   ],
   "source": [
    "# Get output folder ID\n",
    "output_name = 'fastq_output'\n",
    "output_id = subprocess.check_output(f\"icav2 -k $ICA_API_KEY --project-id {project_id} projectdata list --file-name {output_name} | grep {output_name} | cut -f 4 \", shell=True, text=True).strip()\n",
    "print(f\"output folder: {output_name} [{output_id}]\")"
   ]
  },
  {
   "cell_type": "code",
   "execution_count": 77,
   "id": "4edb1d0f-f54d-4862-bd36-d19fb8c1d7a2",
   "metadata": {
    "tags": []
   },
   "outputs": [
    {
     "name": "stdout",
     "output_type": "stream",
     "text": [
      "ref: hg38.fa [fil.b353222e04a44a69ad5308dc227c4360]\n"
     ]
    }
   ],
   "source": [
    "# Get ref ID\n",
    "ref_name = 'hg38.fa'\n",
    "ref_id = subprocess.check_output(f\"icav2 -k $ICA_API_KEY --project-id {project_id} projectdata list --file-name {ref_name} | grep {ref_name} | cut -f 4 \", shell=True, text=True).strip()\n",
    "print(f\"ref: {ref_name} [{ref_id}]\")"
   ]
  },
  {
   "cell_type": "markdown",
   "id": "b8baa405-f7d1-4508-b0f4-dfa4d3496524",
   "metadata": {},
   "source": [
    "## Launch one sample"
   ]
  },
  {
   "cell_type": "code",
   "execution_count": 69,
   "id": "9e8579d4-d34d-4d74-8da6-62e1da045c68",
   "metadata": {
    "tags": []
   },
   "outputs": [
    {
     "name": "stdout",
     "output_type": "stream",
     "text": [
      "sample: WHH430 - cram_id: fil.1bd99f3c419640a1582808dce7f6b5a3\n"
     ]
    }
   ],
   "source": [
    "sample_name = 'WHH430'\n",
    "# Get CRAM file ID\n",
    "cram_id = subprocess.check_output(f\"icav2 -k $ICA_API_KEY --project-id {project_id} projectdata list --file-name {sample_name}.bqsr.cram | grep {sample_name} | cut -f 4\", shell=True, text=True).strip()\n",
    "\n",
    "print(f\"sample: {sample_name} - cram_id: {cram_id}\")"
   ]
  },
  {
   "cell_type": "code",
   "execution_count": 70,
   "id": "3c007314-1571-4aff-9470-49f2a31f7ab3",
   "metadata": {
    "tags": []
   },
   "outputs": [
    {
     "name": "stdout",
     "output_type": "stream",
     "text": [
      "cmd: icav2 -k $ICA_API_KEY projectpipelines start nextflow 9b0b0046-aea7-4927-ae6d-4b995de871a5 --project-id bf47eb3e-868e-4f88-97ac-c2a76c3c6ac4 --storage-size small --user-reference WHH430 --user-tag WHH430 --output-parent-folder fol.ec79bbbe048542cca97f08dd076b3d42 --input ref_fasta:fil.b353222e04a44a69ad5308dc227c4360 --input input_cram:fil.1bd99f3c419640a1582808dce7f6b5a3 \n",
      "Analysis cram_to_fastq_v2 launched on sample WHH430\n"
     ]
    }
   ],
   "source": [
    "# Launch analysis\n",
    "cmd = f\"icav2 -k $ICA_API_KEY projectpipelines start nextflow {pipeline_id} \\\n",
    "--project-id {project_id} \\\n",
    "--storage-size small \\\n",
    "--user-reference {sample_name} \\\n",
    "--user-tag {sample_name} \\\n",
    "--output-parent-folder {output_id} \\\n",
    "--input ref_fasta:{ref_id} \\\n",
    "--input input_cram:{cram_id} \\\n",
    "\"\n",
    "print(f\"cmd: {cmd}\")\n",
    "cmd_out = subprocess.check_output(cmd, shell=True, text=True).strip()\n",
    "# print(cmd_out)\n",
    "print(f\"Analysis {pipeline_name} launched on sample {sample_name}\")"
   ]
  },
  {
   "cell_type": "markdown",
   "id": "8ace8e43-b2a9-4a5f-b649-90768b478b2e",
   "metadata": {},
   "source": [
    "## Launch batch of samples"
   ]
  },
  {
   "cell_type": "code",
   "execution_count": 78,
   "id": "59851166-fe9c-4792-9db9-cbb11de96fa0",
   "metadata": {
    "tags": []
   },
   "outputs": [
    {
     "name": "stdout",
     "output_type": "stream",
     "text": [
      "n=1,543\n",
      "Index(['ID', 'NAME', 'STATUS', 'DESCRIPTION', 'USER TAGS', 'TECHNICAL TAGS'], dtype='object')\n"
     ]
    }
   ],
   "source": [
    "# List ICA sample objects\n",
    "# os.system(f\"icav2 -k $ICA_API_KEY --project-id {project_id} projectsamples list > projectsamples-list.txt\")\n",
    "# Read projectsamples-list\n",
    "cols = ['ID', 'NAME', 'STATUS', 'DESCRIPTION', 'USER TAGS', 'TECHNICAL TAGS']\n",
    "df_sample = pd.read_csv('projectsamples-list.txt', sep='\\t', header=0, index_col=False, engine='python', skipfooter=1,\n",
    "                 names=cols, converters={col: str.strip for col in cols}\n",
    "                )\n",
    "print(f'n={len(df_sample):,}')\n",
    "print(df_sample.columns)"
   ]
  },
  {
   "cell_type": "code",
   "execution_count": null,
   "id": "43a07b54-c349-44a8-b1e3-4ef82e028ba4",
   "metadata": {},
   "outputs": [],
   "source": [
    "# df_sample.iloc[0]:\n",
    "# df_sample.iloc[1:300]:\n",
    "# df_sample.iloc[300:600]:\n",
    "# df_sample.iloc[600:900]:\n",
    "# df_sample.iloc[900:1200]:"
   ]
  },
  {
   "cell_type": "code",
   "execution_count": null,
   "id": "987f844e-3b0f-4edd-acca-51e3b38ba165",
   "metadata": {
    "tags": []
   },
   "outputs": [
    {
     "name": "stdout",
     "output_type": "stream",
     "text": [
      "[600] WHH1084 :0: icav2 -k $ICA_API_KEY projectpipelines start nextflow 9b0b0046-aea7-4927-ae6d-4b995de871a5     --project-id bf47eb3e-868e-4f88-97ac-c2a76c3c6ac4     --storage-size small     --user-reference WHH1084     --user-tag WHH1084     --output-parent-folder fol.ec79bbbe048542cca97f08dd076b3d42     --input ref_fasta:fil.b353222e04a44a69ad5308dc227c4360     --input input_cram:fil.7523c60183c84eaf007608dce689ffec     >> ica.log\n",
      "[601] WHH1085 :0: icav2 -k $ICA_API_KEY projectpipelines start nextflow 9b0b0046-aea7-4927-ae6d-4b995de871a5     --project-id bf47eb3e-868e-4f88-97ac-c2a76c3c6ac4     --storage-size small     --user-reference WHH1085     --user-tag WHH1085     --output-parent-folder fol.ec79bbbe048542cca97f08dd076b3d42     --input ref_fasta:fil.b353222e04a44a69ad5308dc227c4360     --input input_cram:fil.004457f0167b4c4eefd708dce7f6b5a4     >> ica.log\n",
      "[602] WHH1086 :0: icav2 -k $ICA_API_KEY projectpipelines start nextflow 9b0b0046-aea7-4927-ae6d-4b995de871a5     --project-id bf47eb3e-868e-4f88-97ac-c2a76c3c6ac4     --storage-size small     --user-reference WHH1086     --user-tag WHH1086     --output-parent-folder fol.ec79bbbe048542cca97f08dd076b3d42     --input ref_fasta:fil.b353222e04a44a69ad5308dc227c4360     --input input_cram:fil.59058a6c0024405c00b408dce689ffec     >> ica.log\n",
      "[603] WHH1087 :0: icav2 -k $ICA_API_KEY projectpipelines start nextflow 9b0b0046-aea7-4927-ae6d-4b995de871a5     --project-id bf47eb3e-868e-4f88-97ac-c2a76c3c6ac4     --storage-size small     --user-reference WHH1087     --user-tag WHH1087     --output-parent-folder fol.ec79bbbe048542cca97f08dd076b3d42     --input ref_fasta:fil.b353222e04a44a69ad5308dc227c4360     --input input_cram:fil.f4ebcbd820874df0011e08dce689ffec     >> ica.log\n",
      "[604] WHH1088 :0: icav2 -k $ICA_API_KEY projectpipelines start nextflow 9b0b0046-aea7-4927-ae6d-4b995de871a5     --project-id bf47eb3e-868e-4f88-97ac-c2a76c3c6ac4     --storage-size small     --user-reference WHH1088     --user-tag WHH1088     --output-parent-folder fol.ec79bbbe048542cca97f08dd076b3d42     --input ref_fasta:fil.b353222e04a44a69ad5308dc227c4360     --input input_cram:fil.d2897b9821c54ed1f08508dce7f6b5a4     >> ica.log\n",
      "[605] WHH1089 :0: icav2 -k $ICA_API_KEY projectpipelines start nextflow 9b0b0046-aea7-4927-ae6d-4b995de871a5     --project-id bf47eb3e-868e-4f88-97ac-c2a76c3c6ac4     --storage-size small     --user-reference WHH1089     --user-tag WHH1089     --output-parent-folder fol.ec79bbbe048542cca97f08dd076b3d42     --input ref_fasta:fil.b353222e04a44a69ad5308dc227c4360     --input input_cram:fil.93a87e87d66a4753f09a08dce7f6b5a4     >> ica.log\n",
      "[606] WHH1090 :0: icav2 -k $ICA_API_KEY projectpipelines start nextflow 9b0b0046-aea7-4927-ae6d-4b995de871a5     --project-id bf47eb3e-868e-4f88-97ac-c2a76c3c6ac4     --storage-size small     --user-reference WHH1090     --user-tag WHH1090     --output-parent-folder fol.ec79bbbe048542cca97f08dd076b3d42     --input ref_fasta:fil.b353222e04a44a69ad5308dc227c4360     --input input_cram:fil.ee73d89bda014e2101ec08dce689ffec     >> ica.log\n",
      "[607] WHH1091 :0: icav2 -k $ICA_API_KEY projectpipelines start nextflow 9b0b0046-aea7-4927-ae6d-4b995de871a5     --project-id bf47eb3e-868e-4f88-97ac-c2a76c3c6ac4     --storage-size small     --user-reference WHH1091     --user-tag WHH1091     --output-parent-folder fol.ec79bbbe048542cca97f08dd076b3d42     --input ref_fasta:fil.b353222e04a44a69ad5308dc227c4360     --input input_cram:fil.5bd6c50ae8d74a1f01ed08dce689ffec     >> ica.log\n",
      "[608] WHH1092 :0: icav2 -k $ICA_API_KEY projectpipelines start nextflow 9b0b0046-aea7-4927-ae6d-4b995de871a5     --project-id bf47eb3e-868e-4f88-97ac-c2a76c3c6ac4     --storage-size small     --user-reference WHH1092     --user-tag WHH1092     --output-parent-folder fol.ec79bbbe048542cca97f08dd076b3d42     --input ref_fasta:fil.b353222e04a44a69ad5308dc227c4360     --input input_cram:fil.5510c5c34986464801fc08dce689ffec     >> ica.log\n",
      "[609] WHH1093 :0: icav2 -k $ICA_API_KEY projectpipelines start nextflow 9b0b0046-aea7-4927-ae6d-4b995de871a5     --project-id bf47eb3e-868e-4f88-97ac-c2a76c3c6ac4     --storage-size small     --user-reference WHH1093     --user-tag WHH1093     --output-parent-folder fol.ec79bbbe048542cca97f08dd076b3d42     --input ref_fasta:fil.b353222e04a44a69ad5308dc227c4360     --input input_cram:fil.bc8543c78885422ef1c808dce7f6b5a4     >> ica.log\n",
      "[610] WHH1094 :0: icav2 -k $ICA_API_KEY projectpipelines start nextflow 9b0b0046-aea7-4927-ae6d-4b995de871a5     --project-id bf47eb3e-868e-4f88-97ac-c2a76c3c6ac4     --storage-size small     --user-reference WHH1094     --user-tag WHH1094     --output-parent-folder fol.ec79bbbe048542cca97f08dd076b3d42     --input ref_fasta:fil.b353222e04a44a69ad5308dc227c4360     --input input_cram:fil.be4d41152a6a4cf7f1d008dce7f6b5a4     >> ica.log\n",
      "[611] WHH1095 :0: icav2 -k $ICA_API_KEY projectpipelines start nextflow 9b0b0046-aea7-4927-ae6d-4b995de871a5     --project-id bf47eb3e-868e-4f88-97ac-c2a76c3c6ac4     --storage-size small     --user-reference WHH1095     --user-tag WHH1095     --output-parent-folder fol.ec79bbbe048542cca97f08dd076b3d42     --input ref_fasta:fil.b353222e04a44a69ad5308dc227c4360     --input input_cram:fil.13584b2f78ce42b6f1dd08dce7f6b5a4     >> ica.log\n",
      "[612] WHH1096 :0: icav2 -k $ICA_API_KEY projectpipelines start nextflow 9b0b0046-aea7-4927-ae6d-4b995de871a5     --project-id bf47eb3e-868e-4f88-97ac-c2a76c3c6ac4     --storage-size small     --user-reference WHH1096     --user-tag WHH1096     --output-parent-folder fol.ec79bbbe048542cca97f08dd076b3d42     --input ref_fasta:fil.b353222e04a44a69ad5308dc227c4360     --input input_cram:fil.3e2a58c1685a4f40033d08dce689ffec     >> ica.log\n",
      "[613] WHH1097 :0: icav2 -k $ICA_API_KEY projectpipelines start nextflow 9b0b0046-aea7-4927-ae6d-4b995de871a5     --project-id bf47eb3e-868e-4f88-97ac-c2a76c3c6ac4     --storage-size small     --user-reference WHH1097     --user-tag WHH1097     --output-parent-folder fol.ec79bbbe048542cca97f08dd076b3d42     --input ref_fasta:fil.b353222e04a44a69ad5308dc227c4360     --input input_cram:fil.3bcb23c62d574c4a034d08dce689ffec     >> ica.log\n",
      "[614] WHH1098 :0: icav2 -k $ICA_API_KEY projectpipelines start nextflow 9b0b0046-aea7-4927-ae6d-4b995de871a5     --project-id bf47eb3e-868e-4f88-97ac-c2a76c3c6ac4     --storage-size small     --user-reference WHH1098     --user-tag WHH1098     --output-parent-folder fol.ec79bbbe048542cca97f08dd076b3d42     --input ref_fasta:fil.b353222e04a44a69ad5308dc227c4360     --input input_cram:fil.8bb9c6c112a04f44034f08dce689ffec     >> ica.log\n",
      "[615] WHH1099 :0: icav2 -k $ICA_API_KEY projectpipelines start nextflow 9b0b0046-aea7-4927-ae6d-4b995de871a5     --project-id bf47eb3e-868e-4f88-97ac-c2a76c3c6ac4     --storage-size small     --user-reference WHH1099     --user-tag WHH1099     --output-parent-folder fol.ec79bbbe048542cca97f08dd076b3d42     --input ref_fasta:fil.b353222e04a44a69ad5308dc227c4360     --input input_cram:fil.287312e1162c43e7039a08dce689ffec     >> ica.log\n",
      "[616] WHH1100 :0: icav2 -k $ICA_API_KEY projectpipelines start nextflow 9b0b0046-aea7-4927-ae6d-4b995de871a5     --project-id bf47eb3e-868e-4f88-97ac-c2a76c3c6ac4     --storage-size small     --user-reference WHH1100     --user-tag WHH1100     --output-parent-folder fol.ec79bbbe048542cca97f08dd076b3d42     --input ref_fasta:fil.b353222e04a44a69ad5308dc227c4360     --input input_cram:fil.6bbc4f10410248ddf32108dce7f6b5a4     >> ica.log\n",
      "[617] WHH1101 :0: icav2 -k $ICA_API_KEY projectpipelines start nextflow 9b0b0046-aea7-4927-ae6d-4b995de871a5     --project-id bf47eb3e-868e-4f88-97ac-c2a76c3c6ac4     --storage-size small     --user-reference WHH1101     --user-tag WHH1101     --output-parent-folder fol.ec79bbbe048542cca97f08dd076b3d42     --input ref_fasta:fil.b353222e04a44a69ad5308dc227c4360     --input input_cram:fil.15f5d7fb049c4200f32208dce7f6b5a4     >> ica.log\n",
      "[618] WHH1102 :0: icav2 -k $ICA_API_KEY projectpipelines start nextflow 9b0b0046-aea7-4927-ae6d-4b995de871a5     --project-id bf47eb3e-868e-4f88-97ac-c2a76c3c6ac4     --storage-size small     --user-reference WHH1102     --user-tag WHH1102     --output-parent-folder fol.ec79bbbe048542cca97f08dd076b3d42     --input ref_fasta:fil.b353222e04a44a69ad5308dc227c4360     --input input_cram:fil.f7cf3db26fea4a2bf36508dce7f6b5a4     >> ica.log\n",
      "[619] WHH1103 :0: icav2 -k $ICA_API_KEY projectpipelines start nextflow 9b0b0046-aea7-4927-ae6d-4b995de871a5     --project-id bf47eb3e-868e-4f88-97ac-c2a76c3c6ac4     --storage-size small     --user-reference WHH1103     --user-tag WHH1103     --output-parent-folder fol.ec79bbbe048542cca97f08dd076b3d42     --input ref_fasta:fil.b353222e04a44a69ad5308dc227c4360     --input input_cram:fil.1a1565b23e51419104b308dce689ffec     >> ica.log\n",
      "[620] WHH1104 :0: icav2 -k $ICA_API_KEY projectpipelines start nextflow 9b0b0046-aea7-4927-ae6d-4b995de871a5     --project-id bf47eb3e-868e-4f88-97ac-c2a76c3c6ac4     --storage-size small     --user-reference WHH1104     --user-tag WHH1104     --output-parent-folder fol.ec79bbbe048542cca97f08dd076b3d42     --input ref_fasta:fil.b353222e04a44a69ad5308dc227c4360     --input input_cram:fil.632f94c70f5e46d7f3fc08dce7f6b5a4     >> ica.log\n",
      "[621] WHH1105 :0: icav2 -k $ICA_API_KEY projectpipelines start nextflow 9b0b0046-aea7-4927-ae6d-4b995de871a5     --project-id bf47eb3e-868e-4f88-97ac-c2a76c3c6ac4     --storage-size small     --user-reference WHH1105     --user-tag WHH1105     --output-parent-folder fol.ec79bbbe048542cca97f08dd076b3d42     --input ref_fasta:fil.b353222e04a44a69ad5308dc227c4360     --input input_cram:fil.2987cf63bf124104054b08dce689ffec     >> ica.log\n",
      "[622] WHH1106 :0: icav2 -k $ICA_API_KEY projectpipelines start nextflow 9b0b0046-aea7-4927-ae6d-4b995de871a5     --project-id bf47eb3e-868e-4f88-97ac-c2a76c3c6ac4     --storage-size small     --user-reference WHH1106     --user-tag WHH1106     --output-parent-folder fol.ec79bbbe048542cca97f08dd076b3d42     --input ref_fasta:fil.b353222e04a44a69ad5308dc227c4360     --input input_cram:fil.eed2c47ccb2a4538f4a708dce7f6b5a4     >> ica.log\n",
      "[623] WHH1107 :0: icav2 -k $ICA_API_KEY projectpipelines start nextflow 9b0b0046-aea7-4927-ae6d-4b995de871a5     --project-id bf47eb3e-868e-4f88-97ac-c2a76c3c6ac4     --storage-size small     --user-reference WHH1107     --user-tag WHH1107     --output-parent-folder fol.ec79bbbe048542cca97f08dd076b3d42     --input ref_fasta:fil.b353222e04a44a69ad5308dc227c4360     --input input_cram:fil.91c7f8eeee9b4d73f5cf08dce7f6b5a4     >> ica.log\n",
      "[624] WHH1108 :0: icav2 -k $ICA_API_KEY projectpipelines start nextflow 9b0b0046-aea7-4927-ae6d-4b995de871a5     --project-id bf47eb3e-868e-4f88-97ac-c2a76c3c6ac4     --storage-size small     --user-reference WHH1108     --user-tag WHH1108     --output-parent-folder fol.ec79bbbe048542cca97f08dd076b3d42     --input ref_fasta:fil.b353222e04a44a69ad5308dc227c4360     --input input_cram:fil.0a2041b4380f4b6e076108dce689ffec     >> ica.log\n",
      "[625] WHH1109 :0: icav2 -k $ICA_API_KEY projectpipelines start nextflow 9b0b0046-aea7-4927-ae6d-4b995de871a5     --project-id bf47eb3e-868e-4f88-97ac-c2a76c3c6ac4     --storage-size small     --user-reference WHH1109     --user-tag WHH1109     --output-parent-folder fol.ec79bbbe048542cca97f08dd076b3d42     --input ref_fasta:fil.b353222e04a44a69ad5308dc227c4360     --input input_cram:fil.263538e8557045fafcc208dce7f6b5a4     >> ica.log\n",
      "[626] WHH1110 :0: icav2 -k $ICA_API_KEY projectpipelines start nextflow 9b0b0046-aea7-4927-ae6d-4b995de871a5     --project-id bf47eb3e-868e-4f88-97ac-c2a76c3c6ac4     --storage-size small     --user-reference WHH1110     --user-tag WHH1110     --output-parent-folder fol.ec79bbbe048542cca97f08dd076b3d42     --input ref_fasta:fil.b353222e04a44a69ad5308dc227c4360     --input input_cram:fil.212fd6fce3814ea30e2d08dce689ffec     >> ica.log\n",
      "[627] WHH1111 :0: icav2 -k $ICA_API_KEY projectpipelines start nextflow 9b0b0046-aea7-4927-ae6d-4b995de871a5     --project-id bf47eb3e-868e-4f88-97ac-c2a76c3c6ac4     --storage-size small     --user-reference WHH1111     --user-tag WHH1111     --output-parent-folder fol.ec79bbbe048542cca97f08dd076b3d42     --input ref_fasta:fil.b353222e04a44a69ad5308dc227c4360     --input input_cram:fil.63605c2cbefb44330eb108dce689ffec     >> ica.log\n",
      "[628] WHH1112 :0: icav2 -k $ICA_API_KEY projectpipelines start nextflow 9b0b0046-aea7-4927-ae6d-4b995de871a5     --project-id bf47eb3e-868e-4f88-97ac-c2a76c3c6ac4     --storage-size small     --user-reference WHH1112     --user-tag WHH1112     --output-parent-folder fol.ec79bbbe048542cca97f08dd076b3d42     --input ref_fasta:fil.b353222e04a44a69ad5308dc227c4360     --input input_cram:fil.ee3e5f9f75d242dffea308dce7f6b5a4     >> ica.log\n",
      "[629] WHH1113 :0: icav2 -k $ICA_API_KEY projectpipelines start nextflow 9b0b0046-aea7-4927-ae6d-4b995de871a5     --project-id bf47eb3e-868e-4f88-97ac-c2a76c3c6ac4     --storage-size small     --user-reference WHH1113     --user-tag WHH1113     --output-parent-folder fol.ec79bbbe048542cca97f08dd076b3d42     --input ref_fasta:fil.b353222e04a44a69ad5308dc227c4360     --input input_cram:fil.37dbe53cf1a640eafed508dce7f6b5a4     >> ica.log\n",
      "[630] WHH1114 :0: icav2 -k $ICA_API_KEY projectpipelines start nextflow 9b0b0046-aea7-4927-ae6d-4b995de871a5     --project-id bf47eb3e-868e-4f88-97ac-c2a76c3c6ac4     --storage-size small     --user-reference WHH1114     --user-tag WHH1114     --output-parent-folder fol.ec79bbbe048542cca97f08dd076b3d42     --input ref_fasta:fil.b353222e04a44a69ad5308dc227c4360     --input input_cram:fil.f5bb0f5285004d1a119208dce689ffec     >> ica.log\n",
      "[631] WHH1115 :0: icav2 -k $ICA_API_KEY projectpipelines start nextflow 9b0b0046-aea7-4927-ae6d-4b995de871a5     --project-id bf47eb3e-868e-4f88-97ac-c2a76c3c6ac4     --storage-size small     --user-reference WHH1115     --user-tag WHH1115     --output-parent-folder fol.ec79bbbe048542cca97f08dd076b3d42     --input ref_fasta:fil.b353222e04a44a69ad5308dc227c4360     --input input_cram:fil.2ce37f064dcd4ff3120408dce689ffec     >> ica.log\n",
      "[632] WHH1116 :0: icav2 -k $ICA_API_KEY projectpipelines start nextflow 9b0b0046-aea7-4927-ae6d-4b995de871a5     --project-id bf47eb3e-868e-4f88-97ac-c2a76c3c6ac4     --storage-size small     --user-reference WHH1116     --user-tag WHH1116     --output-parent-folder fol.ec79bbbe048542cca97f08dd076b3d42     --input ref_fasta:fil.b353222e04a44a69ad5308dc227c4360     --input input_cram:fil.cad20ea90e6a4985007a08dce7f6b5a5     >> ica.log\n",
      "[633] WHH1117 :0: icav2 -k $ICA_API_KEY projectpipelines start nextflow 9b0b0046-aea7-4927-ae6d-4b995de871a5     --project-id bf47eb3e-868e-4f88-97ac-c2a76c3c6ac4     --storage-size small     --user-reference WHH1117     --user-tag WHH1117     --output-parent-folder fol.ec79bbbe048542cca97f08dd076b3d42     --input ref_fasta:fil.b353222e04a44a69ad5308dc227c4360     --input input_cram:fil.99dad12e7ec24bee00e108dce7f6b5a5     >> ica.log\n",
      "[634] WHH1118 :0: icav2 -k $ICA_API_KEY projectpipelines start nextflow 9b0b0046-aea7-4927-ae6d-4b995de871a5     --project-id bf47eb3e-868e-4f88-97ac-c2a76c3c6ac4     --storage-size small     --user-reference WHH1118     --user-tag WHH1118     --output-parent-folder fol.ec79bbbe048542cca97f08dd076b3d42     --input ref_fasta:fil.b353222e04a44a69ad5308dc227c4360     --input input_cram:fil.b848f0accc4b4e9a135008dce689ffec     >> ica.log\n"
     ]
    }
   ],
   "source": [
    "# For each sample\n",
    "for i, row in df_sample.iloc[900:1200].iterrows():\n",
    "    # Get sample name\n",
    "    sample_name = row['NAME']\n",
    "    # Get CRAM file ID\n",
    "    cram_id = subprocess.check_output(f\"icav2 -k $ICA_API_KEY --project-id {project_id} projectdata list --file-name {sample_name}.bqsr.cram | grep {sample_name} | cut -f 4\", shell=True, text=True).strip()\n",
    "    # Launch analysis\n",
    "    cmd = f\"icav2 -k $ICA_API_KEY projectpipelines start nextflow {pipeline_id} \\\n",
    "    --project-id {project_id} \\\n",
    "    --storage-size small \\\n",
    "    --user-reference {sample_name} \\\n",
    "    --user-tag {sample_name} \\\n",
    "    --output-parent-folder {output_id} \\\n",
    "    --input ref_fasta:{fasta_id} \\\n",
    "    --input input_cram:{cram_id} \\\n",
    "    >> ica.log\"\n",
    "    # Launch analysis\n",
    "    exit = os.system(cmd)\n",
    "    # Log string\n",
    "    log = f\"[{i}] {sample_name} :{exit}: {cmd}\"\n",
    "    os.system(f\"echo {log} >> cram_to_fastq.log\")\n",
    "    print(log)"
   ]
  },
  {
   "cell_type": "code",
   "execution_count": null,
   "id": "64639b47-b461-4e28-a140-c997060186ed",
   "metadata": {},
   "outputs": [],
   "source": [
    "# Check if fastq exists\n",
    "\n",
    "# For each sample\n",
    "for i, row in df_sample.iterrows():\n",
    "    # Get R1.fastq\n",
    "    r1 = subprocess.check_output(f\"icav2 -k $ICA_API_KEY projectsamples listdata {row['ID']} --file-name 'R1.fastq' --match-mode FUZZY | grep {row['NAME']} | cut -f 1\", shell=True, text=True).strip()\n",
    "    # Log string\n",
    "    log = f\"[{i}] {row['NAME']}: {r1}\"\n",
    "    os.system(f\"echo {log} >> R1.fastq-list.log\")\n",
    "print('done')"
   ]
  },
  {
   "cell_type": "code",
   "execution_count": null,
   "id": "80a78afc-d7cf-45fc-b94f-781cd9b870ae",
   "metadata": {},
   "outputs": [],
   "source": []
  }
 ],
 "metadata": {
  "kernelspec": {
   "display_name": "Python 3 (ipykernel)",
   "language": "python",
   "name": "python3"
  },
  "language_info": {
   "codemirror_mode": {
    "name": "ipython",
    "version": 3
   },
   "file_extension": ".py",
   "mimetype": "text/x-python",
   "name": "python",
   "nbconvert_exporter": "python",
   "pygments_lexer": "ipython3",
   "version": "3.7.12"
  }
 },
 "nbformat": 4,
 "nbformat_minor": 5
}
