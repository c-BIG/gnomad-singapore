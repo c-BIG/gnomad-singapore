{
 "cells": [
  {
   "cell_type": "markdown",
   "id": "5a7e97f6-62f8-414f-8081-8eee049ec430",
   "metadata": {},
   "source": [
    "# CRAM to FASTQ processing"
   ]
  },
  {
   "cell_type": "code",
   "execution_count": 1,
   "id": "53f8c29f-ed34-4fa2-a9ce-45bccf7c8791",
   "metadata": {},
   "outputs": [],
   "source": [
    "%load_ext dotenv"
   ]
  },
  {
   "cell_type": "code",
   "execution_count": 31,
   "id": "36b19bd3-78ad-4622-b11c-b814474a2875",
   "metadata": {},
   "outputs": [],
   "source": [
    "%dotenv"
   ]
  },
  {
   "cell_type": "code",
   "execution_count": 47,
   "id": "d8459ed5-cde2-4833-9185-56d1020e63da",
   "metadata": {},
   "outputs": [],
   "source": [
    "import os\n",
    "import pandas as pd\n",
    "import re\n",
    "import subprocess"
   ]
  },
  {
   "cell_type": "markdown",
   "id": "32a4089f-2bae-4551-94e8-7a2c4ad3c75b",
   "metadata": {
    "tags": []
   },
   "source": [
    "## Create sample objects"
   ]
  },
  {
   "cell_type": "code",
   "execution_count": 20,
   "id": "43a34778-8cda-42b0-8b87-f2642707f827",
   "metadata": {},
   "outputs": [
    {
     "data": {
      "text/plain": [
       "Index(['cram_bucket', 'cram', 'sample'], dtype='object')"
      ]
     },
     "execution_count": 20,
     "metadata": {},
     "output_type": "execute_result"
    }
   ],
   "source": [
    "# Read CRAM manifest\n",
    "df_cram = pd.read_csv(f\"../{os.environ['CRAM_MANIFEST']}\", header=None, names=['cram_bucket', 'cram'])\n",
    "# Extract sample name\n",
    "df_cram['sample'] = df_cram['cram'].apply(lambda x: re.search(r'([^/]+)\\.bqsr', x).group(1))\n",
    "\n",
    "df_cram.columns"
   ]
  },
  {
   "cell_type": "code",
   "execution_count": null,
   "id": "1255fa5b-694c-4a5c-a7e1-af38b9bf59b7",
   "metadata": {},
   "outputs": [],
   "source": [
    "# For each sample, create an ICA sample object\n",
    "for sample in df_cram['sample']:\n",
    "    # Create sample object\n",
    "    os.system(f\"icav2 -k $ICA_API_KEY --project-id $ICA_PROJECT_ID projectsamples create {sample}\")"
   ]
  },
  {
   "cell_type": "code",
   "execution_count": 55,
   "id": "075ab336-057e-4441-ad0c-00e6dfac90a2",
   "metadata": {
    "tags": []
   },
   "outputs": [
    {
     "name": "stdout",
     "output_type": "stream",
     "text": [
      "n=1,543\n",
      "Index(['ID', 'NAME', 'STATUS', 'DESCRIPTION', 'USER TAGS', 'TECHNICAL TAGS'], dtype='object')\n"
     ]
    }
   ],
   "source": [
    "# List ICA sample objects\n",
    "os.system(f\"icav2 -k $ICA_API_KEY --project-id $ICA_PROJECT_ID projectsamples list > projectsamples-list.txt\")\n",
    "# Read projectsamples-list\n",
    "cols = ['ID', 'NAME', 'STATUS', 'DESCRIPTION', 'USER TAGS', 'TECHNICAL TAGS']\n",
    "df_sample = pd.read_csv('projectsamples-list.txt', sep='\\t', header=0, index_col=False, engine='python', skipfooter=1,\n",
    "                 names=cols, converters={col: str.strip for col in cols}\n",
    "                )\n",
    "print(f'n={len(df_sample):,}')\n",
    "print(df_sample.columns)"
   ]
  },
  {
   "cell_type": "code",
   "execution_count": null,
   "id": "8862ab93-9f89-4ba8-a9f8-97c9bda770d1",
   "metadata": {
    "tags": []
   },
   "outputs": [],
   "source": [
    "# For each sample object that are not completed\n",
    "for i, row in df_sample.loc[df_sample['STATUS'].str.strip() == 'PARTIAL'].iterrows():\n",
    "    # Complete the sample\n",
    "    os.system(f\"icav2 -k $ICA_API_KEY --project-id $ICA_PROJECT_ID projectsamples complete {row['ID']}\")\n",
    "    # Tag the sample\n",
    "    os.system(f\"icav2 -k $ICA_API_KEY --project-id $ICA_PROJECT_ID projectsamples update {row['ID']} --add-user-tag {row['NAME']}\")\n"
   ]
  },
  {
   "cell_type": "markdown",
   "id": "18d6af44-c954-4b76-918e-ddc1c15aaeff",
   "metadata": {},
   "source": [
    "## Copy Cram files to ICA"
   ]
  },
  {
   "cell_type": "code",
   "execution_count": null,
   "id": "ddcd36d0-961c-46be-b40b-3d2a5e5a59ec",
   "metadata": {
    "tags": []
   },
   "outputs": [],
   "source": [
    "# For each row in CRAM manifest\n",
    "for i, row in df_cram.iterrows():\n",
    "    cram_exit = os.system(f\"aws s3 cp s3://{row['cram_bucket']}/{row['cram']} {os.environ['ICA_PREFIX']}cram/\")\n",
    "    crai_exit = os.system(f\"aws s3 cp s3://{row['cram_bucket']}/{row['cram']}.crai {os.environ['ICA_PREFIX']}cram/\")\n",
    "    log = f\"[{i}] {row['sample']} done - cram [{cram_exit}] - crai [{crai_exit}]\"\n",
    "    os.system(f\"echo {log} >> cram_copy.log\")\n",
    "    print(log)"
   ]
  },
  {
   "cell_type": "markdown",
   "id": "deeab030-fac9-496f-81e8-9035b8631bcd",
   "metadata": {},
   "source": [
    "## Link CRAM & CRI to the sample"
   ]
  },
  {
   "cell_type": "code",
   "execution_count": null,
   "id": "008c738f-06fa-4ce1-96ef-d88f37c71cc0",
   "metadata": {},
   "outputs": [
    {
     "name": "stdout",
     "output_type": "stream",
     "text": [
      "[0] WHH430 linked - [0]\n",
      "[1] WHB7277 linked - [0]\n",
      "[2] WHH429 linked - [0]\n",
      "[3] WHH431 linked - [0]\n",
      "[4] WHH432 linked - [0]\n",
      "[5] WHH433 linked - [0]\n",
      "[6] WHH434 linked - [0]\n",
      "[7] WHH435 linked - [0]\n",
      "[8] WHH436 linked - [0]\n",
      "[9] WHH437 linked - [0]\n",
      "[10] WHH438 linked - [0]\n",
      "[11] WHH439 linked - [0]\n",
      "[12] WHH440 linked - [0]\n",
      "[13] WHH441 linked - [0]\n",
      "[14] WHH442 linked - [0]\n",
      "[15] WHH443 linked - [0]\n",
      "[16] WHH444 linked - [0]\n",
      "[17] WHH445 linked - [0]\n",
      "[18] WHH446 linked - [0]\n",
      "[19] WHH447 linked - [0]\n",
      "[20] WHH448 linked - [0]\n",
      "[21] WHH449 linked - [0]\n",
      "[22] WHH450 linked - [0]\n",
      "[23] WHH451 linked - [0]\n"
     ]
    }
   ],
   "source": [
    "# For each sample\n",
    "for i, row in df_sample.iterrows():\n",
    "    # Get CRAM file ID\n",
    "    cram_id = subprocess.check_output(f\"icav2 -k $ICA_API_KEY --project-id $ICA_PROJECT_ID projectdata list --file-name {row['NAME']}.bqsr.cram | grep {row['NAME']} | cut -f 4\", shell=True, text=True).strip()\n",
    "    # Get CRAI file ID\n",
    "    crai_id = subprocess.check_output(f\"icav2 -k $ICA_API_KEY --project-id $ICA_PROJECT_ID projectdata list --file-name {row['NAME']}.bqsr.cram.crai | grep {row['NAME']} | cut -f 4\", shell=True, text=True).strip()\n",
    "    # Link the files to the sample object\n",
    "    exit = os.system(f\"icav2 -k $ICA_API_KEY --project-id $ICA_PROJECT_ID projectsamples link {row['ID']} --data-id {cram_id} --data-id {crai_id}\")\n",
    "    # log string\n",
    "    log = f\"[{i}] {row['NAME']} linked - [{exit}]\"\n",
    "    os.system(f\"echo {log} >> cram_link.log\")\n",
    "    print(log)"
   ]
  },
  {
   "cell_type": "code",
   "execution_count": null,
   "id": "932b3c18-d3ca-4837-9309-8d28735a0533",
   "metadata": {},
   "outputs": [],
   "source": []
  }
 ],
 "metadata": {
  "kernelspec": {
   "display_name": "Python 3 (ipykernel)",
   "language": "python",
   "name": "python3"
  },
  "language_info": {
   "codemirror_mode": {
    "name": "ipython",
    "version": 3
   },
   "file_extension": ".py",
   "mimetype": "text/x-python",
   "name": "python",
   "nbconvert_exporter": "python",
   "pygments_lexer": "ipython3",
   "version": "3.9.16"
  }
 },
 "nbformat": 4,
 "nbformat_minor": 5
}
