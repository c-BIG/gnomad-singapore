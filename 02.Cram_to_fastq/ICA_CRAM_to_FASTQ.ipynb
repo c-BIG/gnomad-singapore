{
 "cells": [
  {
   "cell_type": "markdown",
   "id": "5a7e97f6-62f8-414f-8081-8eee049ec430",
   "metadata": {},
   "source": [
    "# CRAM to FASTQ processing"
   ]
  },
  {
   "cell_type": "code",
   "execution_count": 1,
   "id": "53f8c29f-ed34-4fa2-a9ce-45bccf7c8791",
   "metadata": {},
   "outputs": [],
   "source": [
    "%load_ext dotenv"
   ]
  },
  {
   "cell_type": "code",
   "execution_count": 2,
   "id": "36b19bd3-78ad-4622-b11c-b814474a2875",
   "metadata": {},
   "outputs": [],
   "source": [
    "%dotenv"
   ]
  },
  {
   "cell_type": "code",
   "execution_count": 3,
   "id": "d8459ed5-cde2-4833-9185-56d1020e63da",
   "metadata": {},
   "outputs": [],
   "source": [
    "import os\n",
    "import pandas as pd\n",
    "import re"
   ]
  },
  {
   "cell_type": "markdown",
   "id": "32a4089f-2bae-4551-94e8-7a2c4ad3c75b",
   "metadata": {},
   "source": [
    "## Create sample objects"
   ]
  },
  {
   "cell_type": "code",
   "execution_count": 5,
   "id": "43a34778-8cda-42b0-8b87-f2642707f827",
   "metadata": {},
   "outputs": [
    {
     "data": {
      "text/plain": [
       "Index(['cram_bucket', 'cram', 'sample'], dtype='object')"
      ]
     },
     "execution_count": 5,
     "metadata": {},
     "output_type": "execute_result"
    }
   ],
   "source": [
    "# Read CRAM manifest\n",
    "df_cram = pd.read_csv(f\"../{os.environ['CRAM_MANIFEST']}\", header=None, names=['cram_bucket', 'cram'])\n",
    "# Extract sample name\n",
    "df_cram['sample'] = df_cram['cram'].apply(lambda x: re.search(r'([^/]+)\\.bqsr', x).group(1))\n",
    "\n",
    "df_cram.columns"
   ]
  },
  {
   "cell_type": "code",
   "execution_count": null,
   "id": "1255fa5b-694c-4a5c-a7e1-af38b9bf59b7",
   "metadata": {},
   "outputs": [],
   "source": [
    "# For each sample, create an ICA sample object\n",
    "for sample in df_cram['sample']:\n",
    "    # Create sample object\n",
    "    os.system(f\"icav2 -k $ICA_API_KEY --project-id $ICA_PROJECT_ID projectsamples create {sample}\")"
   ]
  },
  {
   "cell_type": "code",
   "execution_count": 10,
   "id": "075ab336-057e-4441-ad0c-00e6dfac90a2",
   "metadata": {
    "tags": []
   },
   "outputs": [
    {
     "data": {
      "text/plain": [
       "0"
      ]
     },
     "execution_count": 10,
     "metadata": {},
     "output_type": "execute_result"
    }
   ],
   "source": [
    "# List ICA sample objects\n",
    "os.system(f\"icav2 -k $ICA_API_KEY --project-id $ICA_PROJECT_ID projectsamples list > projectsamples-list.txt\")\n"
   ]
  },
  {
   "cell_type": "code",
   "execution_count": 11,
   "id": "64c56f6f-d6cf-4423-b6a6-c042c80690fd",
   "metadata": {
    "tags": []
   },
   "outputs": [
    {
     "name": "stdout",
     "output_type": "stream",
     "text": [
      "n=1,543\n",
      "Index(['ID', 'NAME', 'STATUS', 'DESCRIPTION', 'USER TAGS', 'TECHNICAL TAGS'], dtype='object')\n"
     ]
    }
   ],
   "source": [
    "# Read projectsamples-list\n",
    "df_sample = pd.read_csv('projectsamples-list.txt', sep='\\t', header=0, index_col=False, engine='python', skipfooter=1,\n",
    "                 names=['ID', 'NAME', 'STATUS', 'DESCRIPTION', 'USER TAGS', 'TECHNICAL TAGS']\n",
    "                )\n",
    "print(f'n={len(df_sample):,}')\n",
    "print(df_sample.columns)"
   ]
  },
  {
   "cell_type": "code",
   "execution_count": null,
   "id": "8862ab93-9f89-4ba8-a9f8-97c9bda770d1",
   "metadata": {
    "tags": []
   },
   "outputs": [],
   "source": [
    "# For each sample object that are not completed\n",
    "for i, row in df_sample.loc[df_sample['STATUS'].str.strip() == 'PARTIAL'].iterrows():\n",
    "    # Complete the sample\n",
    "    os.system(f\"icav2 -k $ICA_API_KEY --project-id $ICA_PROJECT_ID projectsamples complete {row['ID']}\")\n",
    "    # Tag the sample\n",
    "    os.system(f\"icav2 -k $ICA_API_KEY --project-id $ICA_PROJECT_ID projectsamples update {row['ID']} --add-user-tag {row['NAME']}\")\n"
   ]
  },
  {
   "cell_type": "code",
   "execution_count": null,
   "id": "ddcd36d0-961c-46be-b40b-3d2a5e5a59ec",
   "metadata": {},
   "outputs": [],
   "source": []
  }
 ],
 "metadata": {
  "kernelspec": {
   "display_name": "Python 3 (ipykernel)",
   "language": "python",
   "name": "python3"
  },
  "language_info": {
   "codemirror_mode": {
    "name": "ipython",
    "version": 3
   },
   "file_extension": ".py",
   "mimetype": "text/x-python",
   "name": "python",
   "nbconvert_exporter": "python",
   "pygments_lexer": "ipython3",
   "version": "3.9.16"
  }
 },
 "nbformat": 4,
 "nbformat_minor": 5
}
