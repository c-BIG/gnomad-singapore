{
 "cells": [
  {
   "cell_type": "markdown",
   "id": "f7d39862-4eca-412b-830f-c88d6bed2996",
   "metadata": {},
   "source": [
    "# SG10K_Health manifest\n",
    "\n",
    "SG10K_Health is composed of 10,323 individuals"
   ]
  },
  {
   "cell_type": "code",
   "execution_count": 1,
   "id": "e9af0be9-f3be-4abf-bfd2-25fa5ddfd71f",
   "metadata": {},
   "outputs": [],
   "source": [
    "%load_ext dotenv"
   ]
  },
  {
   "cell_type": "code",
   "execution_count": 2,
   "id": "e438d2e6-fc1b-4a5d-b424-5ff26be6c72b",
   "metadata": {},
   "outputs": [],
   "source": [
    "%dotenv"
   ]
  },
  {
   "cell_type": "code",
   "execution_count": 3,
   "id": "944a002c-af93-4b67-93c2-7ec3f39db067",
   "metadata": {},
   "outputs": [],
   "source": [
    "import os\n",
    "import pandas as pd\n",
    "import re"
   ]
  },
  {
   "cell_type": "markdown",
   "id": "13132990-65c2-4a9c-a505-d687b39537be",
   "metadata": {},
   "source": [
    "## Sample metadata\n",
    "\n",
    "Initially 10,714 samples were registered. A subset of 10,323 samples has been successfully sequenced and included in SG10K_Health dataset"
   ]
  },
  {
   "cell_type": "code",
   "execution_count": 5,
   "id": "e527b727-52d9-427c-92e0-82b325ed353e",
   "metadata": {},
   "outputs": [
    {
     "name": "stdout",
     "output_type": "stream",
     "text": [
      "n = 10,714\n"
     ]
    },
    {
     "name": "stderr",
     "output_type": "stream",
     "text": [
      "/var/folders/k4/d99n77vx7bb_1jk4m29h_y840000gp/T/ipykernel_19132/3763782448.py:2: DtypeWarning: Columns (74) have mixed types. Specify dtype option on import or set low_memory=False.\n",
      "  df_meta = pd.read_csv(f\"../{os.environ['DGO_META']}\", compression='gzip', sep='\\t')\n"
     ]
    }
   ],
   "source": [
    "# Load DGO meta\n",
    "df_meta = pd.read_csv(f\"../{os.environ['DGO_META']}\", compression='gzip', sep='\\t')\n",
    "# df_meta # 10,714\n",
    "print(f'n = {len(df_meta):,}')"
   ]
  },
  {
   "cell_type": "code",
   "execution_count": 6,
   "id": "3d586045-e63f-4ce5-a137-2b4757e2387e",
   "metadata": {},
   "outputs": [
    {
     "name": "stdout",
     "output_type": "stream",
     "text": [
      "['NPM Research ID', 'Multiplex Pool ID', 'Supplier ID', 'GIS Internal Sample ID', 'Site Supplying Sample', 'Year Of Birth', 'Supplied Gender', 'Self Reported Ethnicity', 'Extraction Kit', 'Date Of DNA Extraction', 'Plate Position', 'Plate Name', 'Version Of Consent Form Signed', 'Sequencing Depth', 'NPM Research ID Created By Username', 'NPM Research ID Creation Date', 'Comments Entered When NPM Research ID Created', 'Description Entered When NPM Research ID Created', 'ELM Project ID', 'ELM Project Title', 'ELM Project PI', 'Species Of Sample Sequenced', 'Tehcnique For Sequencing', 'Tissue Type Sequenced', 'Library Found In Sequencing Run ID', 'Library Found In Passed Sequencing Run ID', 'Vendor Sequencing Centre', 'DNA Sample Passed QC', 'Library Prep Kit', 'Run ID', 'Instrument ID', 'Instrument Serial Number', 'Hiseq XTM SBS Kit 300 Cycles V2 (box 1of 2) Lot', 'Hiseq XTM SBS Kit 300 Cycles V2 (box 2 Of 2) Lot', 'Hiseq XTM PE Cluster Kit Cbottm V2 (box 1 Of 2) Lot', 'Hiseq XTM PE Cluster Kit Cbottm V2 (box 2 Of 2) Lot', 'Hiseq XTM Flow Cell V2.5 Lot', 'Hiseq XTM Flow Cell V2.5 ID', 'Sequence-based Gender', 'CRAM Files Location', 'Estimate Of Sequence Coverage', 'Contamination Rate Of Chinese Genome', 'Contamination Rate Of Indian Genome', 'Contamination Rate Of Malaysian Genome', 'Average Coverage Depth', 'FB Variants', 'CRAM Filesize (mb)', 'Error Rate', 'FB-VCF Filesize (mb)', 'GVCF Filesize (mb)', 'Insert Size Average', 'Insert Size Standard Deviation', 'Raw Total Sequences', 'Reads Duplicated (%)', 'Reads Properly Paired (%)', 'Cohort JVCF Data Capacity', 'FASTQ File Size', 'JVCF Size', 'Data Timestamp For FASTQ File', 'Sequencing Analysis Pipeline', 'Cohorts Joint-called Together', 'Library Archived At NSCC', 'GVCF File Available', 'Sequencing Complete', 'Supplied And Computed Gender Match', 'Supplied And Computed Ethinicity Match', 'SOP Agreement For Coverage <14/<28 For 15x/30x', 'Sample Life Cycle', 'Current', 'Source Cohort', 'Original_supplier_ID', 'duplicate_info', 'duplicate', 'duplicate_pair', 'removal-requested-by-supplier']\n"
     ]
    }
   ],
   "source": [
    "print(df_meta.columns.tolist())"
   ]
  },
  {
   "cell_type": "code",
   "execution_count": 7,
   "id": "08c5b261-06d5-42a7-83a6-fc959c685c4c",
   "metadata": {},
   "outputs": [
    {
     "name": "stdout",
     "output_type": "stream",
     "text": [
      "n = 10,323\n"
     ]
    }
   ],
   "source": [
    "# Select available samples\n",
    "df_meta_sg = df_meta.loc[( df_meta['Sequencing Complete'] == 'Y' ) & (df_meta['Current'] == 'Y' )]\n",
    "# df_meta_sg # 10,323\n",
    "print(f'n = {len(df_meta_sg):,}')"
   ]
  },
  {
   "cell_type": "markdown",
   "id": "c204a3aa-d268-41f8-a51d-13303bd4778a",
   "metadata": {},
   "source": [
    "## GATK4 CRAM files available"
   ]
  },
  {
   "cell_type": "code",
   "execution_count": 9,
   "id": "064d42c2-ee66-4bcb-b76c-d4821e1d7583",
   "metadata": {},
   "outputs": [
    {
     "name": "stdout",
     "output_type": "stream",
     "text": [
      "n = 10,323\n"
     ]
    }
   ],
   "source": [
    "# Load CRAM manifest\n",
    "df_cram = pd.read_csv(f\"../{os.environ['CRAM_LIST']}\", header=None, names=['cram'])\n",
    "# Extract sample name\n",
    "df_cram['sample'] = df_cram['cram'].apply(lambda x: re.search(r'([^/]+)\\.bqsr', x).group(1))\n",
    "\n",
    "# df_cram\n",
    "print(f'n = {len(df_cram):,}')"
   ]
  },
  {
   "cell_type": "markdown",
   "id": "5304999f-a26d-4e07-b670-4d2c0059c9b5",
   "metadata": {},
   "source": [
    "## DRAGEN gVCF files available\n",
    "\n",
    "The DRAGEN reanalysis effort include SG10K_Health & SG10K_Disease. Therefore the manifest include more files than SG10K_Health alone.\n",
    "\n",
    "[2024-10-16] As of today 1,543 samples are missing from the DRAGEN re-analysis"
   ]
  },
  {
   "cell_type": "code",
   "execution_count": 10,
   "id": "e5b3f43f-b047-401a-b36d-aae0b51bd983",
   "metadata": {},
   "outputs": [
    {
     "name": "stdout",
     "output_type": "stream",
     "text": [
      "n = 11,064\n"
     ]
    }
   ],
   "source": [
    "# Load gvcf manifest\n",
    "df_gvcf = pd.read_csv(f\"../{os.environ['GVCF_LIST']}\", header=None, names=['gvcf'])\n",
    "\n",
    "# Note that for some samples the cram is named 1234-5678.bqsr.cram\n",
    "# while the gvcf is named 1234-5678-ABC-DEF.hard-filtered.gvcf.gz\n",
    "# Need to align the sample id\n",
    "\n",
    "# Get the sample name from the parent folder\n",
    "# If '-': split by - then take the 2 first item, then join with -\n",
    "# else : get full name\n",
    "\n",
    "df_gvcf['sample'] = df_gvcf['gvcf'].apply(lambda x: '-'.join(x.split('/')[2].split('-')[:2]) if '-' in x.split('/')[2] else x.split('/')[2])\n",
    "\n",
    "# df_gvcf\n",
    "print(f'n = {len(df_gvcf):,}')"
   ]
  },
  {
   "cell_type": "code",
   "execution_count": 11,
   "id": "3e3be825-4a85-4b84-98af-ac99663ee5b8",
   "metadata": {},
   "outputs": [
    {
     "name": "stdout",
     "output_type": "stream",
     "text": [
      "n = 10,323\n"
     ]
    }
   ],
   "source": [
    "# Merge Health & Dragen\n",
    "df_sg = df_cram.merge(df_gvcf, how='left', on='sample')\n",
    "# df_sg\n",
    "print(f'n = {len(df_sg):,}')"
   ]
  },
  {
   "cell_type": "code",
   "execution_count": 12,
   "id": "b2adb6ab-0ed4-4671-88de-d2d909a03261",
   "metadata": {},
   "outputs": [
    {
     "name": "stdout",
     "output_type": "stream",
     "text": [
      "samples with VCF: 8,780\n",
      "samples without VCF: 1,543\n"
     ]
    }
   ],
   "source": [
    "# Count number of samples with VCF\n",
    "print(f\"samples with VCF: {len(df_sg.loc[df_sg['gvcf'].notnull()]):,}\")\n",
    "print(f\"samples without VCF: {len(df_sg.loc[df_sg['gvcf'].isnull()]):,}\")"
   ]
  },
  {
   "cell_type": "markdown",
   "id": "8a1a4ea9-4dae-43fc-98ab-d2af56a61929",
   "metadata": {},
   "source": [
    "## Generate CRAM & CRAI manifest file\n",
    "\n",
    "In order to generate the missing DRAGEN gVCF we start from the GATK4 CRAM, re-create FASTQ files, and run DRAGEN from the FASTQ files.\n",
    "First step is to create a file manifest of CRAM & CRAI to restore the files from archive"
   ]
  },
  {
   "cell_type": "code",
   "execution_count": 13,
   "id": "ad516a99-8a8f-453c-929c-8bb1fcfee45d",
   "metadata": {},
   "outputs": [
    {
     "name": "stdout",
     "output_type": "stream",
     "text": [
      "n = 1,543\n"
     ]
    }
   ],
   "source": [
    "# Select sample with VCF missing\n",
    "df_f = df_sg.loc[df_sg['gvcf'].isnull()].copy()\n",
    "# Add bucket\n",
    "df_f['cram_bucket'] = f\"{os.environ['CRAM_BUCKET']}\"\n",
    "# Add crai path\n",
    "df_f['crai'] = df_f['cram'] + '.crai'\n",
    "\n",
    "print(f'n = {len(df_f):,}')\n",
    "\n",
    "# Create cram manifest\n",
    "df_f.to_csv(f\"../{os.environ['CRAM_MANIFEST']}\",columns=['cram_bucket', 'cram'], header=False, index=False)\n",
    "# Create crai manifest\n",
    "df_f.to_csv(f\"../{os.environ['CRAI_MANIFEST']}\",columns=['cram_bucket', 'crai'], header=False, index=False)"
   ]
  },
  {
   "cell_type": "code",
   "execution_count": null,
   "id": "55b82472-4fc5-4ef1-9309-a0ceaf5c7cc8",
   "metadata": {},
   "outputs": [],
   "source": []
  }
 ],
 "metadata": {
  "kernelspec": {
   "display_name": "Python 3 (ipykernel)",
   "language": "python",
   "name": "python3"
  },
  "language_info": {
   "codemirror_mode": {
    "name": "ipython",
    "version": 3
   },
   "file_extension": ".py",
   "mimetype": "text/x-python",
   "name": "python",
   "nbconvert_exporter": "python",
   "pygments_lexer": "ipython3",
   "version": "3.9.16"
  }
 },
 "nbformat": 4,
 "nbformat_minor": 5
}
